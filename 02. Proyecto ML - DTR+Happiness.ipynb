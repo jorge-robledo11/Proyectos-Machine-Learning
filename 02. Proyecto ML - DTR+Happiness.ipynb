{
 "cells": [
  {
   "cell_type": "markdown",
   "source": "# 1. Descargamos el dataset 📥💻 ",
   "metadata": {
    "cell_id": "00000-554b33fe-32d5-4bf1-9e6d-2cbd2d278d36",
    "is_collapsed": false,
    "tags": [],
    "deepnote_cell_type": "text-cell-h1"
   }
  },
  {
   "cell_type": "markdown",
   "source": "El **dataset** que utilizaremos es de **Kaggle**, un gran lugar para conseguir **datasets** para tus estudios en Ciencia de Datos e Inteligencia Artificial\n\nEl **dataset** es sobre la apreciación de ciertas variables que tienen incidencia en el **bienestar** de los países 🌎 para ser considerados _felices_ 😸 del año $2019$. Puedes descargarlo [aquí](https://www.kaggle.com/unsdsn/world-happiness) en **Kaggle**. El objetivo de este **dataset** es **estimar** qué tan cercano pueden llegar a esos resultados a ser acertados, nuestra **hipótesis** es que no sabemos apriori cómo se relacionan esas variables y de ser acertada la **hipótesis**, qué tan cierta puede llegar a ser esa **hipótesis**",
   "metadata": {
    "cell_id": "00000-4fc509cb-5f01-4404-8ab8-c13d9bdd18f5",
    "tags": [],
    "deepnote_cell_type": "markdown"
   }
  },
  {
   "cell_type": "markdown",
   "source": "# 2. Instalación de librerías y configuración inicial 👨🏻‍💻",
   "metadata": {
    "cell_id": "00002-5d296fb1-d1a1-49e4-ab93-47a03f263f74",
    "is_collapsed": false,
    "tags": [],
    "deepnote_cell_type": "text-cell-h1"
   }
  },
  {
   "cell_type": "code",
   "metadata": {
    "cell_id": "00000-a19ae440-d7fe-42cc-b0fd-8edae3e4cd9f",
    "deepnote_to_be_reexecuted": false,
    "execution_millis": 1468,
    "execution_start": 1636838807050,
    "source_hash": "c0fbd25b",
    "tags": [],
    "deepnote_cell_type": "code"
   },
   "source": "# Librerías y Dependencias\n\n# Core\nimport warnings\nfrom IPython.display import display\n\n# Data Analysis & Data Viz\nimport pandas as pd\nimport numpy as np\nimport seaborn as sns\nimport matplotlib.pyplot as plt\n%matplotlib inline\n\n# Machine Learning\nfrom sklearn.model_selection import cross_val_score, KFold\nfrom sklearn.tree import DecisionTreeRegressor\n\n# Parámetros y Métricas\nfrom sklearn.model_selection import GridSearchCV \nfrom sklearn.metrics import mean_squared_error, r2_score ",
   "execution_count": null,
   "outputs": []
  },
  {
   "cell_type": "code",
   "metadata": {
    "cell_id": "00001-56632b9c-77ef-46f7-b17f-8fe6a77db947",
    "deepnote_to_be_reexecuted": false,
    "execution_millis": 8,
    "execution_start": 1636838808530,
    "source_hash": "61aa0c72",
    "tags": [],
    "deepnote_cell_type": "code"
   },
   "source": "# Evitamos la notación científica y rendondeamos los valores a 2 dígitos después de la coma\npd.options.display.float_format = '{:.2f}'.format\n\n# Evitamos los molestos warnings\nwarnings.simplefilter(\"ignore\")",
   "execution_count": null,
   "outputs": []
  },
  {
   "cell_type": "markdown",
   "source": "# 3. Cargamos los datos 💿💻",
   "metadata": {
    "cell_id": "00005-2d71ed19-f47b-4b05-8271-15a773e17850",
    "is_collapsed": false,
    "tags": [],
    "deepnote_cell_type": "text-cell-h1"
   }
  },
  {
   "cell_type": "code",
   "metadata": {
    "cell_id": "00002-755b1d6e-710b-4891-9a82-29afb1a341f3",
    "deepnote_to_be_reexecuted": false,
    "execution_millis": 197,
    "execution_start": 1636838808541,
    "source_hash": "56975945",
    "tags": [],
    "deepnote_cell_type": "code"
   },
   "source": "# Cargamos nuestro dataset\nurl = 'https://raw.githubusercontent.com/jorge-robledo11/Datasets/main/Datasets/happiness.csv'\ndata = pd.read_csv(url, encoding='utf-8')\ndata",
   "execution_count": null,
   "outputs": [
    {
     "output_type": "execute_result",
     "execution_count": 3,
     "data": {
      "application/vnd.deepnote.dataframe.v2+json": {
       "row_count": 155,
       "column_count": 12,
       "columns": [
        {
         "name": "country",
         "dtype": "object",
         "stats": {
          "unique_count": 155,
          "nan_count": 0,
          "categories": [
           {
            "name": "Norway",
            "count": 1
           },
           {
            "name": "Denmark",
            "count": 1
           },
           {
            "name": "153 others",
            "count": 153
           }
          ]
         }
        },
        {
         "name": "rank",
         "dtype": "int64",
         "stats": {
          "unique_count": 155,
          "nan_count": 0,
          "min": "1",
          "max": "155",
          "histogram": [
           {
            "bin_start": 1,
            "bin_end": 16.4,
            "count": 16
           },
           {
            "bin_start": 16.4,
            "bin_end": 31.8,
            "count": 15
           },
           {
            "bin_start": 31.8,
            "bin_end": 47.2,
            "count": 16
           },
           {
            "bin_start": 47.2,
            "bin_end": 62.6,
            "count": 15
           },
           {
            "bin_start": 62.6,
            "bin_end": 78,
            "count": 15
           },
           {
            "bin_start": 78,
            "bin_end": 93.4,
            "count": 16
           },
           {
            "bin_start": 93.4,
            "bin_end": 108.8,
            "count": 15
           },
           {
            "bin_start": 108.8,
            "bin_end": 124.2,
            "count": 16
           },
           {
            "bin_start": 124.2,
            "bin_end": 139.6,
            "count": 15
           },
           {
            "bin_start": 139.6,
            "bin_end": 155,
            "count": 16
           }
          ]
         }
        },
        {
         "name": "score",
         "dtype": "float64",
         "stats": {
          "unique_count": 151,
          "nan_count": 0,
          "min": "2.693000078",
          "max": "7.537000179",
          "histogram": [
           {
            "bin_start": 2.693000078,
            "bin_end": 3.1774000880999997,
            "count": 2
           },
           {
            "bin_start": 3.1774000880999997,
            "bin_end": 3.6618000981999996,
            "count": 11
           },
           {
            "bin_start": 3.6618000981999996,
            "bin_end": 4.1462001083,
            "count": 13
           },
           {
            "bin_start": 4.1462001083,
            "bin_end": 4.6306001184,
            "count": 20
           },
           {
            "bin_start": 4.6306001184,
            "bin_end": 5.1150001285,
            "count": 16
           },
           {
            "bin_start": 5.1150001285,
            "bin_end": 5.5994001386,
            "count": 27
           },
           {
            "bin_start": 5.5994001386,
            "bin_end": 6.0838001487,
            "count": 24
           },
           {
            "bin_start": 6.0838001487,
            "bin_end": 6.5682001588,
            "count": 16
           },
           {
            "bin_start": 6.5682001588,
            "bin_end": 7.0526001689,
            "count": 14
           },
           {
            "bin_start": 7.0526001689,
            "bin_end": 7.537000179,
            "count": 12
           }
          ]
         }
        },
        {
         "name": "high",
         "dtype": "float64",
         "stats": {
          "unique_count": 155,
          "nan_count": 0,
          "min": "2.864884269",
          "max": "7.622030473",
          "histogram": [
           {
            "bin_start": 2.864884269,
            "bin_end": 3.3405988894,
            "count": 2
           },
           {
            "bin_start": 3.3405988894,
            "bin_end": 3.8163135098,
            "count": 11
           },
           {
            "bin_start": 3.8163135098,
            "bin_end": 4.2920281302,
            "count": 15
           },
           {
            "bin_start": 4.2920281302,
            "bin_end": 4.7677427506,
            "count": 17
           },
           {
            "bin_start": 4.7677427506,
            "bin_end": 5.243457371,
            "count": 18
           },
           {
            "bin_start": 5.243457371,
            "bin_end": 5.7191719914,
            "count": 28
           },
           {
            "bin_start": 5.7191719914,
            "bin_end": 6.194886611799999,
            "count": 25
           },
           {
            "bin_start": 6.194886611799999,
            "bin_end": 6.670601232199999,
            "count": 14
           },
           {
            "bin_start": 6.670601232199999,
            "bin_end": 7.1463158526,
            "count": 13
           },
           {
            "bin_start": 7.1463158526,
            "bin_end": 7.622030473,
            "count": 12
           }
          ]
         }
        },
        {
         "name": "low",
         "dtype": "float64",
         "stats": {
          "unique_count": 155,
          "nan_count": 0,
          "min": "2.521115887",
          "max": "7.479555538",
          "histogram": [
           {
            "bin_start": 2.521115887,
            "bin_end": 3.0169598521,
            "count": 2
           },
           {
            "bin_start": 3.0169598521,
            "bin_end": 3.5128038172,
            "count": 9
           },
           {
            "bin_start": 3.5128038172,
            "bin_end": 4.0086477823,
            "count": 14
           },
           {
            "bin_start": 4.0086477823,
            "bin_end": 4.5044917473999995,
            "count": 20
           },
           {
            "bin_start": 4.5044917473999995,
            "bin_end": 5.0003357125,
            "count": 16
           },
           {
            "bin_start": 5.0003357125,
            "bin_end": 5.496179677599999,
            "count": 28
           },
           {
            "bin_start": 5.496179677599999,
            "bin_end": 5.9920236426999995,
            "count": 26
           },
           {
            "bin_start": 5.9920236426999995,
            "bin_end": 6.487867607799999,
            "count": 15
           },
           {
            "bin_start": 6.487867607799999,
            "bin_end": 6.983711572899999,
            "count": 13
           },
           {
            "bin_start": 6.983711572899999,
            "bin_end": 7.479555538,
            "count": 12
           }
          ]
         }
        },
        {
         "name": "gdp",
         "dtype": "float64",
         "stats": {
          "unique_count": 155,
          "nan_count": 0,
          "min": "0.0",
          "max": "1.870765686",
          "histogram": [
           {
            "bin_start": 0,
            "bin_end": 0.1870765686,
            "count": 6
           },
           {
            "bin_start": 0.1870765686,
            "bin_end": 0.3741531372,
            "count": 11
           },
           {
            "bin_start": 0.3741531372,
            "bin_end": 0.5612297058,
            "count": 13
           },
           {
            "bin_start": 0.5612297058,
            "bin_end": 0.7483062744,
            "count": 15
           },
           {
            "bin_start": 0.7483062744,
            "bin_end": 0.935382843,
            "count": 18
           },
           {
            "bin_start": 0.935382843,
            "bin_end": 1.1224594116,
            "count": 27
           },
           {
            "bin_start": 1.1224594116,
            "bin_end": 1.3095359802,
            "count": 24
           },
           {
            "bin_start": 1.3095359802,
            "bin_end": 1.4966125488,
            "count": 29
           },
           {
            "bin_start": 1.4966125488,
            "bin_end": 1.6836891174,
            "count": 9
           },
           {
            "bin_start": 1.6836891174,
            "bin_end": 1.870765686,
            "count": 3
           }
          ]
         }
        },
        {
         "name": "family",
         "dtype": "float64",
         "stats": {
          "unique_count": 155,
          "nan_count": 0,
          "min": "0.0",
          "max": "1.610574007",
          "histogram": [
           {
            "bin_start": 0,
            "bin_end": 0.16105740070000002,
            "count": 1
           },
           {
            "bin_start": 0.16105740070000002,
            "bin_end": 0.32211480140000004,
            "count": 0
           },
           {
            "bin_start": 0.32211480140000004,
            "bin_end": 0.48317220210000006,
            "count": 3
           },
           {
            "bin_start": 0.48317220210000006,
            "bin_end": 0.6442296028000001,
            "count": 6
           },
           {
            "bin_start": 0.6442296028000001,
            "bin_end": 0.8052870035000002,
            "count": 8
           },
           {
            "bin_start": 0.8052870035000002,
            "bin_end": 0.9663444042000001,
            "count": 12
           },
           {
            "bin_start": 0.9663444042000001,
            "bin_end": 1.1274018049,
            "count": 17
           },
           {
            "bin_start": 1.1274018049,
            "bin_end": 1.2884592056000002,
            "count": 48
           },
           {
            "bin_start": 1.2884592056000002,
            "bin_end": 1.4495166063000002,
            "count": 34
           },
           {
            "bin_start": 1.4495166063000002,
            "bin_end": 1.610574007,
            "count": 26
           }
          ]
         }
        },
        {
         "name": "lifexp",
         "dtype": "float64",
         "stats": {
          "unique_count": 155,
          "nan_count": 0,
          "min": "0.0",
          "max": "0.949492395",
          "histogram": [
           {
            "bin_start": 0,
            "bin_end": 0.0949492395,
            "count": 7
           },
           {
            "bin_start": 0.0949492395,
            "bin_end": 0.189898479,
            "count": 8
           },
           {
            "bin_start": 0.189898479,
            "bin_end": 0.2848477185,
            "count": 11
           },
           {
            "bin_start": 0.2848477185,
            "bin_end": 0.379796958,
            "count": 14
           },
           {
            "bin_start": 0.379796958,
            "bin_end": 0.4747461975,
            "count": 9
           },
           {
            "bin_start": 0.4747461975,
            "bin_end": 0.569695437,
            "count": 18
           },
           {
            "bin_start": 0.569695437,
            "bin_end": 0.6646446765,
            "count": 34
           },
           {
            "bin_start": 0.6646446765,
            "bin_end": 0.759593916,
            "count": 21
           },
           {
            "bin_start": 0.759593916,
            "bin_end": 0.8545431555,
            "count": 27
           },
           {
            "bin_start": 0.8545431555,
            "bin_end": 0.949492395,
            "count": 6
           }
          ]
         }
        },
        {
         "name": "freedom",
         "dtype": "float64",
         "stats": {
          "unique_count": 155,
          "nan_count": 0,
          "min": "0.0",
          "max": "0.658248663",
          "histogram": [
           {
            "bin_start": 0,
            "bin_end": 0.06582486629999999,
            "count": 4
           },
           {
            "bin_start": 0.06582486629999999,
            "bin_end": 0.13164973259999999,
            "count": 5
           },
           {
            "bin_start": 0.13164973259999999,
            "bin_end": 0.19747459889999996,
            "count": 6
           },
           {
            "bin_start": 0.19747459889999996,
            "bin_end": 0.26329946519999997,
            "count": 15
           },
           {
            "bin_start": 0.26329946519999997,
            "bin_end": 0.3291243315,
            "count": 16
           },
           {
            "bin_start": 0.3291243315,
            "bin_end": 0.39494919779999993,
            "count": 15
           },
           {
            "bin_start": 0.39494919779999993,
            "bin_end": 0.46077406409999994,
            "count": 28
           },
           {
            "bin_start": 0.46077406409999994,
            "bin_end": 0.5265989303999999,
            "count": 30
           },
           {
            "bin_start": 0.5265989303999999,
            "bin_end": 0.5924237966999999,
            "count": 21
           },
           {
            "bin_start": 0.5924237966999999,
            "bin_end": 0.658248663,
            "count": 15
           }
          ]
         }
        },
        {
         "name": "generosity",
         "dtype": "float64",
         "stats": {
          "unique_count": 155,
          "nan_count": 0,
          "min": "0.0",
          "max": "0.838075161",
          "histogram": [
           {
            "bin_start": 0,
            "bin_end": 0.0838075161,
            "count": 16
           },
           {
            "bin_start": 0.0838075161,
            "bin_end": 0.1676150322,
            "count": 27
           },
           {
            "bin_start": 0.1676150322,
            "bin_end": 0.2514225483,
            "count": 48
           },
           {
            "bin_start": 0.2514225483,
            "bin_end": 0.3352300644,
            "count": 31
           },
           {
            "bin_start": 0.3352300644,
            "bin_end": 0.41903758050000006,
            "count": 16
           },
           {
            "bin_start": 0.41903758050000006,
            "bin_end": 0.5028450966,
            "count": 13
           },
           {
            "bin_start": 0.5028450966,
            "bin_end": 0.5866526127,
            "count": 2
           },
           {
            "bin_start": 0.5866526127,
            "bin_end": 0.6704601288,
            "count": 1
           },
           {
            "bin_start": 0.6704601288,
            "bin_end": 0.7542676449000001,
            "count": 0
           },
           {
            "bin_start": 0.7542676449000001,
            "bin_end": 0.838075161,
            "count": 1
           }
          ]
         }
        },
        {
         "name": "corruption",
         "dtype": "float64",
         "stats": {
          "unique_count": 155,
          "nan_count": 0,
          "min": "0.0",
          "max": "0.464307785",
          "histogram": [
           {
            "bin_start": 0,
            "bin_end": 0.0464307785,
            "count": 30
           },
           {
            "bin_start": 0.0464307785,
            "bin_end": 0.092861557,
            "count": 52
           },
           {
            "bin_start": 0.092861557,
            "bin_end": 0.1392923355,
            "count": 29
           },
           {
            "bin_start": 0.1392923355,
            "bin_end": 0.185723114,
            "count": 16
           },
           {
            "bin_start": 0.185723114,
            "bin_end": 0.2321538925,
            "count": 3
           },
           {
            "bin_start": 0.2321538925,
            "bin_end": 0.278584671,
            "count": 8
           },
           {
            "bin_start": 0.278584671,
            "bin_end": 0.3250154495,
            "count": 9
           },
           {
            "bin_start": 0.3250154495,
            "bin_end": 0.371446228,
            "count": 1
           },
           {
            "bin_start": 0.371446228,
            "bin_end": 0.4178770065,
            "count": 4
           },
           {
            "bin_start": 0.4178770065,
            "bin_end": 0.464307785,
            "count": 3
           }
          ]
         }
        },
        {
         "name": "dystopia",
         "dtype": "float64",
         "stats": {
          "unique_count": 155,
          "nan_count": 0,
          "min": "0.377913713",
          "max": "3.11748457",
          "histogram": [
           {
            "bin_start": 0.377913713,
            "bin_end": 0.6518707987,
            "count": 5
           },
           {
            "bin_start": 0.6518707987,
            "bin_end": 0.9258278844,
            "count": 1
           },
           {
            "bin_start": 0.9258278844,
            "bin_end": 1.1997849701,
            "count": 8
           },
           {
            "bin_start": 1.1997849701,
            "bin_end": 1.4737420557999998,
            "count": 11
           },
           {
            "bin_start": 1.4737420557999998,
            "bin_end": 1.7476991415,
            "count": 40
           },
           {
            "bin_start": 1.7476991415,
            "bin_end": 2.0216562272,
            "count": 37
           },
           {
            "bin_start": 2.0216562272,
            "bin_end": 2.2956133129,
            "count": 27
           },
           {
            "bin_start": 2.2956133129,
            "bin_end": 2.5695703986,
            "count": 13
           },
           {
            "bin_start": 2.5695703986,
            "bin_end": 2.8435274843,
            "count": 10
           },
           {
            "bin_start": 2.8435274843,
            "bin_end": 3.11748457,
            "count": 3
           }
          ]
         }
        },
        {
         "name": "_deepnote_index_column",
         "dtype": "int64"
        }
       ],
       "rows_top": [
        {
         "country": "Norway",
         "rank": 1,
         "score": 7.537000179,
         "high": 7.594444821,
         "low": 7.479555538,
         "gdp": 1.616463184,
         "family": 1.53352356,
         "lifexp": 0.796666503,
         "freedom": 0.635422587,
         "generosity": 0.362012237,
         "corruption": 0.315963835,
         "dystopia": 2.277026653,
         "_deepnote_index_column": 0
        },
        {
         "country": "Denmark",
         "rank": 2,
         "score": 7.521999836,
         "high": 7.581728065,
         "low": 7.462271607,
         "gdp": 1.482383013,
         "family": 1.551121593,
         "lifexp": 0.792565525,
         "freedom": 0.626006722,
         "generosity": 0.355280489,
         "corruption": 0.400770068,
         "dystopia": 2.313707352,
         "_deepnote_index_column": 1
        },
        {
         "country": "Iceland",
         "rank": 3,
         "score": 7.504000187,
         "high": 7.622030473,
         "low": 7.385969901,
         "gdp": 1.48063302,
         "family": 1.610574007,
         "lifexp": 0.833552122,
         "freedom": 0.627162635,
         "generosity": 0.475540221,
         "corruption": 0.153526559,
         "dystopia": 2.322715282,
         "_deepnote_index_column": 2
        },
        {
         "country": "Switzerland",
         "rank": 4,
         "score": 7.493999958,
         "high": 7.56177242,
         "low": 7.426227496,
         "gdp": 1.564979553,
         "family": 1.516911745,
         "lifexp": 0.858131289,
         "freedom": 0.620070577,
         "generosity": 0.290549278,
         "corruption": 0.367007285,
         "dystopia": 2.276716232,
         "_deepnote_index_column": 3
        },
        {
         "country": "Finland",
         "rank": 5,
         "score": 7.468999863,
         "high": 7.527542076,
         "low": 7.41045765,
         "gdp": 1.443571925,
         "family": 1.540246725,
         "lifexp": 0.80915767,
         "freedom": 0.617950857,
         "generosity": 0.245482773,
         "corruption": 0.382611543,
         "dystopia": 2.430181503,
         "_deepnote_index_column": 4
        },
        {
         "country": "Netherlands",
         "rank": 6,
         "score": 7.376999855,
         "high": 7.427425841,
         "low": 7.326573869,
         "gdp": 1.503944635,
         "family": 1.428939223,
         "lifexp": 0.810696125,
         "freedom": 0.585384488,
         "generosity": 0.47048983,
         "corruption": 0.282661825,
         "dystopia": 2.294804096,
         "_deepnote_index_column": 5
        },
        {
         "country": "Canada",
         "rank": 7,
         "score": 7.315999985,
         "high": 7.384402835,
         "low": 7.247597134,
         "gdp": 1.479204416,
         "family": 1.481348991,
         "lifexp": 0.834557652,
         "freedom": 0.611100912,
         "generosity": 0.435539722,
         "corruption": 0.287371516,
         "dystopia": 2.187264442,
         "_deepnote_index_column": 6
        },
        {
         "country": "New Zealand",
         "rank": 8,
         "score": 7.31400013,
         "high": 7.379510442,
         "low": 7.248489818,
         "gdp": 1.405706048,
         "family": 1.548195124,
         "lifexp": 0.816759706,
         "freedom": 0.61406213,
         "generosity": 0.500005126,
         "corruption": 0.382816702,
         "dystopia": 2.046456337,
         "_deepnote_index_column": 7
        },
        {
         "country": "Sweden",
         "rank": 9,
         "score": 7.28399992,
         "high": 7.344094877,
         "low": 7.223904962,
         "gdp": 1.494387269,
         "family": 1.478162169,
         "lifexp": 0.830875158,
         "freedom": 0.612924099,
         "generosity": 0.385399252,
         "corruption": 0.384398729,
         "dystopia": 2.097537994,
         "_deepnote_index_column": 8
        },
        {
         "country": "Australia",
         "rank": 10,
         "score": 7.28399992,
         "high": 7.356651225,
         "low": 7.211348615,
         "gdp": 1.484414935,
         "family": 1.510041952,
         "lifexp": 0.843886793,
         "freedom": 0.601607382,
         "generosity": 0.47769925,
         "corruption": 0.30118373,
         "dystopia": 2.065210819,
         "_deepnote_index_column": 9
        },
        {
         "country": "Israel",
         "rank": 11,
         "score": 7.212999821,
         "high": 7.279853256,
         "low": 7.146146385,
         "gdp": 1.375382423,
         "family": 1.376289964,
         "lifexp": 0.838404,
         "freedom": 0.405988604,
         "generosity": 0.330082655,
         "corruption": 0.0852421,
         "dystopia": 2.801757336,
         "_deepnote_index_column": 10
        },
        {
         "country": "Costa Rica",
         "rank": 12,
         "score": 7.078999996,
         "high": 7.168111666,
         "low": 6.989888326,
         "gdp": 1.109706283,
         "family": 1.416403651,
         "lifexp": 0.759509265,
         "freedom": 0.58013165,
         "generosity": 0.214613229,
         "corruption": 0.100106589,
         "dystopia": 2.898639202,
         "_deepnote_index_column": 11
        },
        {
         "country": "Austria",
         "rank": 13,
         "score": 7.006000042,
         "high": 7.070669812,
         "low": 6.941330272,
         "gdp": 1.487097263,
         "family": 1.459944963,
         "lifexp": 0.815328419,
         "freedom": 0.56776619,
         "generosity": 0.316472322,
         "corruption": 0.221060365,
         "dystopia": 2.138506413,
         "_deepnote_index_column": 12
        },
        {
         "country": "United States",
         "rank": 14,
         "score": 6.993000031,
         "high": 7.074656748,
         "low": 6.911343313,
         "gdp": 1.546259284,
         "family": 1.419920564,
         "lifexp": 0.774286628,
         "freedom": 0.505740523,
         "generosity": 0.392578781,
         "corruption": 0.135638788,
         "dystopia": 2.218113422,
         "_deepnote_index_column": 13
        },
        {
         "country": "Ireland",
         "rank": 15,
         "score": 6.977000237,
         "high": 7.043351668,
         "low": 6.910648805,
         "gdp": 1.535706639,
         "family": 1.558231115,
         "lifexp": 0.809782624,
         "freedom": 0.573110342,
         "generosity": 0.427858323,
         "corruption": 0.298388153,
         "dystopia": 1.773869038,
         "_deepnote_index_column": 14
        },
        {
         "country": "Germany",
         "rank": 16,
         "score": 6.951000214,
         "high": 7.005381569,
         "low": 6.896618858,
         "gdp": 1.487923384,
         "family": 1.472520351,
         "lifexp": 0.798950732,
         "freedom": 0.562511384,
         "generosity": 0.33626917,
         "corruption": 0.276731938,
         "dystopia": 2.015769958,
         "_deepnote_index_column": 15
        },
        {
         "country": "Belgium",
         "rank": 17,
         "score": 6.890999794,
         "high": 6.95582075,
         "low": 6.826178838,
         "gdp": 1.463780761,
         "family": 1.462312698,
         "lifexp": 0.818091869,
         "freedom": 0.539770722,
         "generosity": 0.231503338,
         "corruption": 0.251343131,
         "dystopia": 2.124210358,
         "_deepnote_index_column": 16
        },
        {
         "country": "Luxembourg",
         "rank": 18,
         "score": 6.862999916,
         "high": 6.9236861,
         "low": 6.802313732,
         "gdp": 1.741943598,
         "family": 1.457583666,
         "lifexp": 0.845089495,
         "freedom": 0.596627891,
         "generosity": 0.283180982,
         "corruption": 0.318834424,
         "dystopia": 1.619512081,
         "_deepnote_index_column": 17
        },
        {
         "country": "United Kingdom",
         "rank": 19,
         "score": 6.714000225,
         "high": 6.783791761,
         "low": 6.644208689,
         "gdp": 1.44163394,
         "family": 1.49646008,
         "lifexp": 0.805335939,
         "freedom": 0.508190036,
         "generosity": 0.492774159,
         "corruption": 0.265428066,
         "dystopia": 1.704143524,
         "_deepnote_index_column": 18
        },
        {
         "country": "Chile",
         "rank": 20,
         "score": 6.65199995,
         "high": 6.73925056,
         "low": 6.564749341,
         "gdp": 1.25278461,
         "family": 1.284024954,
         "lifexp": 0.819479704,
         "freedom": 0.376895279,
         "generosity": 0.326662421,
         "corruption": 0.082287982,
         "dystopia": 2.509585857,
         "_deepnote_index_column": 19
        },
        {
         "country": "United Arab Emirates",
         "rank": 21,
         "score": 6.647999763,
         "high": 6.722047304,
         "low": 6.573952223,
         "gdp": 1.626343369,
         "family": 1.266410232,
         "lifexp": 0.726798236,
         "freedom": 0.60834527,
         "generosity": 0.360941947,
         "corruption": 0.324489564,
         "dystopia": 1.734703541,
         "_deepnote_index_column": 20
        },
        {
         "country": "Brazil",
         "rank": 22,
         "score": 6.635000229,
         "high": 6.725469502,
         "low": 6.544530956,
         "gdp": 1.10735321,
         "family": 1.431306005,
         "lifexp": 0.616552353,
         "freedom": 0.437453747,
         "generosity": 0.162349895,
         "corruption": 0.111092761,
         "dystopia": 2.769267082,
         "_deepnote_index_column": 21
        },
        {
         "country": "Czech Republic",
         "rank": 23,
         "score": 6.609000206,
         "high": 6.683862463,
         "low": 6.534137949,
         "gdp": 1.352682352,
         "family": 1.433885217,
         "lifexp": 0.754444003,
         "freedom": 0.490946174,
         "generosity": 0.088106759,
         "corruption": 0.036872927,
         "dystopia": 2.451861858,
         "_deepnote_index_column": 22
        },
        {
         "country": "Argentina",
         "rank": 24,
         "score": 6.598999977,
         "high": 6.690085086,
         "low": 6.507914868,
         "gdp": 1.185295463,
         "family": 1.440451145,
         "lifexp": 0.695137084,
         "freedom": 0.494519204,
         "generosity": 0.109457061,
         "corruption": 0.059739888,
         "dystopia": 2.614005327,
         "_deepnote_index_column": 23
        },
        {
         "country": "Mexico",
         "rank": 25,
         "score": 6.578000069,
         "high": 6.671148908,
         "low": 6.48485123,
         "gdp": 1.153183818,
         "family": 1.21086216,
         "lifexp": 0.709978998,
         "freedom": 0.412730008,
         "generosity": 0.120990433,
         "corruption": 0.132774115,
         "dystopia": 2.837154865,
         "_deepnote_index_column": 24
        },
        {
         "country": "Singapore",
         "rank": 26,
         "score": 6.572000027,
         "high": 6.636723069,
         "low": 6.507276984,
         "gdp": 1.69227767,
         "family": 1.353814363,
         "lifexp": 0.949492395,
         "freedom": 0.549840569,
         "generosity": 0.345965981,
         "corruption": 0.464307785,
         "dystopia": 1.216362,
         "_deepnote_index_column": 25
        },
        {
         "country": "Malta",
         "rank": 27,
         "score": 6.52699995,
         "high": 6.598396773,
         "low": 6.455603128,
         "gdp": 1.343279839,
         "family": 1.488411665,
         "lifexp": 0.821944237,
         "freedom": 0.588767052,
         "generosity": 0.574730575,
         "corruption": 0.153066069,
         "dystopia": 1.556862831,
         "_deepnote_index_column": 26
        },
        {
         "country": "Uruguay",
         "rank": 28,
         "score": 6.453999996,
         "high": 6.545906218,
         "low": 6.362093775,
         "gdp": 1.217559695,
         "family": 1.412227869,
         "lifexp": 0.719216824,
         "freedom": 0.579392254,
         "generosity": 0.175096929,
         "corruption": 0.178061873,
         "dystopia": 2.172409534,
         "_deepnote_index_column": 27
        },
        {
         "country": "Guatemala",
         "rank": 29,
         "score": 6.453999996,
         "high": 6.566873973,
         "low": 6.34112602,
         "gdp": 0.872001946,
         "family": 1.255585194,
         "lifexp": 0.54023999,
         "freedom": 0.531310618,
         "generosity": 0.283488393,
         "corruption": 0.077223279,
         "dystopia": 2.893891096,
         "_deepnote_index_column": 28
        },
        {
         "country": "Panama",
         "rank": 30,
         "score": 6.452000141,
         "high": 6.557130716,
         "low": 6.346869566,
         "gdp": 1.233748436,
         "family": 1.373192549,
         "lifexp": 0.706156135,
         "freedom": 0.550026834,
         "generosity": 0.210556939,
         "corruption": 0.070983924,
         "dystopia": 2.307199955,
         "_deepnote_index_column": 29
        },
        {
         "country": "France",
         "rank": 31,
         "score": 6.441999912,
         "high": 6.515767802,
         "low": 6.368232022,
         "gdp": 1.430923462,
         "family": 1.387776852,
         "lifexp": 0.844465852,
         "freedom": 0.470222116,
         "generosity": 0.129762307,
         "corruption": 0.172502428,
         "dystopia": 2.005954742,
         "_deepnote_index_column": 30
        },
        {
         "country": "Thailand",
         "rank": 32,
         "score": 6.423999786,
         "high": 6.509116856,
         "low": 6.338882717,
         "gdp": 1.127868772,
         "family": 1.425792456,
         "lifexp": 0.647239029,
         "freedom": 0.580200732,
         "generosity": 0.57212311,
         "corruption": 0.031612735,
         "dystopia": 2.039508343,
         "_deepnote_index_column": 31
        },
        {
         "country": "Taiwan Province of China",
         "rank": 33,
         "score": 6.421999931,
         "high": 6.494596022,
         "low": 6.349403841,
         "gdp": 1.433626533,
         "family": 1.384565353,
         "lifexp": 0.793984234,
         "freedom": 0.361466587,
         "generosity": 0.258360475,
         "corruption": 0.063829236,
         "dystopia": 2.126607418,
         "_deepnote_index_column": 32
        },
        {
         "country": "Spain",
         "rank": 34,
         "score": 6.402999878,
         "high": 6.471054845,
         "low": 6.334944911,
         "gdp": 1.384397864,
         "family": 1.532090902,
         "lifexp": 0.8889606,
         "freedom": 0.40878123,
         "generosity": 0.190133572,
         "corruption": 0.070914097,
         "dystopia": 1.92775774,
         "_deepnote_index_column": 33
        },
        {
         "country": "Qatar",
         "rank": 35,
         "score": 6.375,
         "high": 6.568476814,
         "low": 6.181523186,
         "gdp": 1.870765686,
         "family": 1.27429688,
         "lifexp": 0.710098088,
         "freedom": 0.604130983,
         "generosity": 0.33047387,
         "corruption": 0.439299256,
         "dystopia": 1.14546442,
         "_deepnote_index_column": 34
        },
        {
         "country": "Colombia",
         "rank": 36,
         "score": 6.356999874,
         "high": 6.452020054,
         "low": 6.261979694,
         "gdp": 1.070622325,
         "family": 1.402182937,
         "lifexp": 0.595027924,
         "freedom": 0.477487415,
         "generosity": 0.149014473,
         "corruption": 0.046668742,
         "dystopia": 2.616068125,
         "_deepnote_index_column": 35
        },
        {
         "country": "Saudi Arabia",
         "rank": 37,
         "score": 6.343999863,
         "high": 6.444166612,
         "low": 6.243833113,
         "gdp": 1.530623555,
         "family": 1.286677599,
         "lifexp": 0.59014833,
         "freedom": 0.449750572,
         "generosity": 0.147616014,
         "corruption": 0.273432255,
         "dystopia": 2.065429688,
         "_deepnote_index_column": 36
        },
        {
         "country": "Trinidad and Tobago",
         "rank": 38,
         "score": 6.168000221,
         "high": 6.381533891,
         "low": 5.954466552,
         "gdp": 1.361355901,
         "family": 1.380228519,
         "lifexp": 0.519983292,
         "freedom": 0.518630743,
         "generosity": 0.325296462,
         "corruption": 0.008964816,
         "dystopia": 2.053247452,
         "_deepnote_index_column": 37
        },
        {
         "country": "Kuwait",
         "rank": 39,
         "score": 6.105000019,
         "high": 6.191956989,
         "low": 6.018043049,
         "gdp": 1.632952452,
         "family": 1.259698749,
         "lifexp": 0.632105708,
         "freedom": 0.496337593,
         "generosity": 0.228289798,
         "corruption": 0.21515955,
         "dystopia": 1.640425205,
         "_deepnote_index_column": 38
        },
        {
         "country": "Slovakia",
         "rank": 40,
         "score": 6.09800005,
         "high": 6.177348412,
         "low": 6.018651687,
         "gdp": 1.325393558,
         "family": 1.505059242,
         "lifexp": 0.712732911,
         "freedom": 0.295817465,
         "generosity": 0.136544481,
         "corruption": 0.024210852,
         "dystopia": 2.097776651,
         "_deepnote_index_column": 39
        },
        {
         "country": "Bahrain",
         "rank": 41,
         "score": 6.086999893,
         "high": 6.178989068,
         "low": 5.995010719,
         "gdp": 1.488412261,
         "family": 1.323110461,
         "lifexp": 0.653133035,
         "freedom": 0.536746919,
         "generosity": 0.172668487,
         "corruption": 0.25704217,
         "dystopia": 1.656149387,
         "_deepnote_index_column": 40
        }
       ],
       "rows_bottom": [
        {
         "country": "Myanmar",
         "rank": 114,
         "score": 4.545000076,
         "high": 4.614739946,
         "low": 4.475260206,
         "gdp": 0.36711055,
         "family": 1.123235941,
         "lifexp": 0.397522569,
         "freedom": 0.514492035,
         "generosity": 0.838075161,
         "corruption": 0.188816205,
         "dystopia": 1.115290403,
         "_deepnote_index_column": 113
        },
        {
         "country": "Senegal",
         "rank": 115,
         "score": 4.534999847,
         "high": 4.601603781,
         "low": 4.468395914,
         "gdp": 0.479309022,
         "family": 1.179691911,
         "lifexp": 0.409362853,
         "freedom": 0.377922267,
         "generosity": 0.183468893,
         "corruption": 0.115460448,
         "dystopia": 1.789646149,
         "_deepnote_index_column": 114
        },
        {
         "country": "Zambia",
         "rank": 116,
         "score": 4.513999939,
         "high": 4.644105501,
         "low": 4.383894376,
         "gdp": 0.636406779,
         "family": 1.003187299,
         "lifexp": 0.257835895,
         "freedom": 0.461603492,
         "generosity": 0.249580145,
         "corruption": 0.07821355,
         "dystopia": 1.826705456,
         "_deepnote_index_column": 115
        },
        {
         "country": "Iraq",
         "rank": 117,
         "score": 4.497000217,
         "high": 4.62259141,
         "low": 4.371409025,
         "gdp": 1.102710485,
         "family": 0.978613198,
         "lifexp": 0.50118047,
         "freedom": 0.288555533,
         "generosity": 0.199637264,
         "corruption": 0.107215755,
         "dystopia": 1.318907261,
         "_deepnote_index_column": 116
        },
        {
         "country": "Gabon",
         "rank": 118,
         "score": 4.465000153,
         "high": 4.557361766,
         "low": 4.37263854,
         "gdp": 1.198210239,
         "family": 1.155620217,
         "lifexp": 0.356578588,
         "freedom": 0.312328577,
         "generosity": 0.043785378,
         "corruption": 0.076046787,
         "dystopia": 1.322916269,
         "_deepnote_index_column": 117
        },
        {
         "country": "Ethiopia",
         "rank": 119,
         "score": 4.460000038,
         "high": 4.542728677,
         "low": 4.3772714,
         "gdp": 0.339233845,
         "family": 0.864669204,
         "lifexp": 0.353409708,
         "freedom": 0.408842742,
         "generosity": 0.31265074,
         "corruption": 0.165455714,
         "dystopia": 2.015743732,
         "_deepnote_index_column": 118
        },
        {
         "country": "Sri Lanka",
         "rank": 120,
         "score": 4.440000057,
         "high": 4.553447192,
         "low": 4.326552922,
         "gdp": 1.009850144,
         "family": 1.259976387,
         "lifexp": 0.625130832,
         "freedom": 0.561213255,
         "generosity": 0.490863562,
         "corruption": 0.073653966,
         "dystopia": 0.419389248,
         "_deepnote_index_column": 119
        },
        {
         "country": "Armenia",
         "rank": 121,
         "score": 4.375999928,
         "high": 4.466734612,
         "low": 4.285265243,
         "gdp": 0.900596738,
         "family": 1.007483721,
         "lifexp": 0.637524426,
         "freedom": 0.198303267,
         "generosity": 0.083488092,
         "corruption": 0.026674422,
         "dystopia": 1.521499157,
         "_deepnote_index_column": 120
        },
        {
         "country": "India",
         "rank": 122,
         "score": 4.315000057,
         "high": 4.371522017,
         "low": 4.258478097,
         "gdp": 0.792221248,
         "family": 0.754372597,
         "lifexp": 0.455427617,
         "freedom": 0.469987005,
         "generosity": 0.231538489,
         "corruption": 0.092226885,
         "dystopia": 1.519117117,
         "_deepnote_index_column": 121
        },
        {
         "country": "Mauritania",
         "rank": 123,
         "score": 4.291999817,
         "high": 4.377163616,
         "low": 4.206836018,
         "gdp": 0.648457289,
         "family": 1.27203083,
         "lifexp": 0.28534928,
         "freedom": 0.096098043,
         "generosity": 0.201870024,
         "corruption": 0.136957005,
         "dystopia": 1.651637316,
         "_deepnote_index_column": 122
        },
        {
         "country": "Congo (Brazzaville)",
         "rank": 124,
         "score": 4.290999889,
         "high": 4.410053505,
         "low": 4.171946274,
         "gdp": 0.808964252,
         "family": 0.832044363,
         "lifexp": 0.289957434,
         "freedom": 0.435025871,
         "generosity": 0.120852128,
         "corruption": 0.079618134,
         "dystopia": 1.724135637,
         "_deepnote_index_column": 123
        },
        {
         "country": "Georgia",
         "rank": 125,
         "score": 4.285999775,
         "high": 4.374933966,
         "low": 4.197065584,
         "gdp": 0.950612664,
         "family": 0.570614934,
         "lifexp": 0.649546981,
         "freedom": 0.309410036,
         "generosity": 0.054008815,
         "corruption": 0.251666635,
         "dystopia": 1.500137806,
         "_deepnote_index_column": 124
        },
        {
         "country": "Congo (Kinshasa)",
         "rank": 126,
         "score": 4.28000021,
         "high": 4.357810833,
         "low": 4.202189587,
         "gdp": 0.092102349,
         "family": 1.229023457,
         "lifexp": 0.191407025,
         "freedom": 0.235961348,
         "generosity": 0.246455833,
         "corruption": 0.060241356,
         "dystopia": 2.224958658,
         "_deepnote_index_column": 125
        },
        {
         "country": "Mali",
         "rank": 127,
         "score": 4.190000057,
         "high": 4.269670711,
         "low": 4.110329403,
         "gdp": 0.476180494,
         "family": 1.281473398,
         "lifexp": 0.169365674,
         "freedom": 0.306613743,
         "generosity": 0.183354199,
         "corruption": 0.104970247,
         "dystopia": 1.668190956,
         "_deepnote_index_column": 126
        },
        {
         "country": "Ivory Coast",
         "rank": 128,
         "score": 4.179999828,
         "high": 4.275182563,
         "low": 4.084817093,
         "gdp": 0.603048921,
         "family": 0.90478003,
         "lifexp": 0.04864217,
         "freedom": 0.447706193,
         "generosity": 0.20123747,
         "corruption": 0.130061775,
         "dystopia": 1.844964266,
         "_deepnote_index_column": 127
        },
        {
         "country": "Cambodia",
         "rank": 129,
         "score": 4.168000221,
         "high": 4.278517814,
         "low": 4.057482629,
         "gdp": 0.601765096,
         "family": 1.006238341,
         "lifexp": 0.429783404,
         "freedom": 0.633375823,
         "generosity": 0.385922968,
         "corruption": 0.068105951,
         "dystopia": 1.042941093,
         "_deepnote_index_column": 128
        },
        {
         "country": "Sudan",
         "rank": 130,
         "score": 4.138999939,
         "high": 4.345747165,
         "low": 3.932252713,
         "gdp": 0.659516692,
         "family": 1.21400857,
         "lifexp": 0.290920824,
         "freedom": 0.014995855,
         "generosity": 0.182317451,
         "corruption": 0.08984752,
         "dystopia": 1.68706584,
         "_deepnote_index_column": 129
        },
        {
         "country": "Ghana",
         "rank": 131,
         "score": 4.119999886,
         "high": 4.222707209,
         "low": 4.017292563,
         "gdp": 0.667224824,
         "family": 0.873664737,
         "lifexp": 0.295637727,
         "freedom": 0.423026294,
         "generosity": 0.256923944,
         "corruption": 0.02533637,
         "dystopia": 1.577867508,
         "_deepnote_index_column": 130
        },
        {
         "country": "Ukraine",
         "rank": 132,
         "score": 4.096000195,
         "high": 4.185410105,
         "low": 4.006590285,
         "gdp": 0.894651949,
         "family": 1.394537568,
         "lifexp": 0.575903952,
         "freedom": 0.122974776,
         "generosity": 0.270061463,
         "corruption": 0.023029471,
         "dystopia": 0.814382315,
         "_deepnote_index_column": 131
        },
        {
         "country": "Uganda",
         "rank": 133,
         "score": 4.080999851,
         "high": 4.195799967,
         "low": 3.966199735,
         "gdp": 0.381430715,
         "family": 1.129827738,
         "lifexp": 0.217632607,
         "freedom": 0.443185955,
         "generosity": 0.325766057,
         "corruption": 0.057069719,
         "dystopia": 1.526362658,
         "_deepnote_index_column": 132
        },
        {
         "country": "Burkina Faso",
         "rank": 134,
         "score": 4.032000065,
         "high": 4.124059064,
         "low": 3.939941065,
         "gdp": 0.350227714,
         "family": 1.043280005,
         "lifexp": 0.215844259,
         "freedom": 0.324367851,
         "generosity": 0.250864685,
         "corruption": 0.120328106,
         "dystopia": 1.727212906,
         "_deepnote_index_column": 133
        },
        {
         "country": "Niger",
         "rank": 135,
         "score": 4.027999878,
         "high": 4.11194682,
         "low": 3.944052936,
         "gdp": 0.161925331,
         "family": 0.993025005,
         "lifexp": 0.268505007,
         "freedom": 0.363658696,
         "generosity": 0.228673846,
         "corruption": 0.138572946,
         "dystopia": 1.873983383,
         "_deepnote_index_column": 134
        },
        {
         "country": "Malawi",
         "rank": 136,
         "score": 3.970000029,
         "high": 4.077478817,
         "low": 3.86252124,
         "gdp": 0.233442038,
         "family": 0.512568831,
         "lifexp": 0.315089583,
         "freedom": 0.466914654,
         "generosity": 0.28717047,
         "corruption": 0.072711654,
         "dystopia": 2.081786156,
         "_deepnote_index_column": 135
        },
        {
         "country": "Chad",
         "rank": 137,
         "score": 3.936000109,
         "high": 4.034711524,
         "low": 3.837288693,
         "gdp": 0.438012987,
         "family": 0.953855872,
         "lifexp": 0.041134715,
         "freedom": 0.162342027,
         "generosity": 0.21611385,
         "corruption": 0.053581882,
         "dystopia": 2.071238041,
         "_deepnote_index_column": 136
        },
        {
         "country": "Zimbabwe",
         "rank": 138,
         "score": 3.875,
         "high": 3.978699643,
         "low": 3.771300357,
         "gdp": 0.375846535,
         "family": 1.083095908,
         "lifexp": 0.196763754,
         "freedom": 0.336384207,
         "generosity": 0.189143494,
         "corruption": 0.095375381,
         "dystopia": 1.597970247,
         "_deepnote_index_column": 137
        },
        {
         "country": "Lesotho",
         "rank": 139,
         "score": 3.808000088,
         "high": 4.044343975,
         "low": 3.5716562,
         "gdp": 0.521021247,
         "family": 1.190095186,
         "lifexp": 0,
         "freedom": 0.390661299,
         "generosity": 0.157497272,
         "corruption": 0.11909464,
         "dystopia": 1.42983532,
         "_deepnote_index_column": 138
        },
        {
         "country": "Angola",
         "rank": 140,
         "score": 3.795000076,
         "high": 3.951641935,
         "low": 3.638358217,
         "gdp": 0.85842818,
         "family": 1.10441196,
         "lifexp": 0.049868666,
         "freedom": 0,
         "generosity": 0.09792649,
         "corruption": 0.069720335,
         "dystopia": 1.614482403,
         "_deepnote_index_column": 139
        },
        {
         "country": "Afghanistan",
         "rank": 141,
         "score": 3.79399991,
         "high": 3.873661415,
         "low": 3.714338405,
         "gdp": 0.401477218,
         "family": 0.581543326,
         "lifexp": 0.180746779,
         "freedom": 0.10617952,
         "generosity": 0.311870933,
         "corruption": 0.06115783,
         "dystopia": 2.150801182,
         "_deepnote_index_column": 140
        },
        {
         "country": "Botswana",
         "rank": 142,
         "score": 3.766000032,
         "high": 3.874122666,
         "low": 3.657877399,
         "gdp": 1.122094154,
         "family": 1.221554995,
         "lifexp": 0.341755509,
         "freedom": 0.505196333,
         "generosity": 0.099348448,
         "corruption": 0.098583199,
         "dystopia": 0.377913713,
         "_deepnote_index_column": 141
        },
        {
         "country": "Benin",
         "rank": 143,
         "score": 3.657000065,
         "high": 3.745783551,
         "low": 3.568216578,
         "gdp": 0.431085408,
         "family": 0.435299844,
         "lifexp": 0.209930211,
         "freedom": 0.425962776,
         "generosity": 0.207948461,
         "corruption": 0.060929015,
         "dystopia": 1.885630965,
         "_deepnote_index_column": 142
        },
        {
         "country": "Madagascar",
         "rank": 144,
         "score": 3.644000053,
         "high": 3.714319106,
         "low": 3.573681001,
         "gdp": 0.305808693,
         "family": 0.913020372,
         "lifexp": 0.375223309,
         "freedom": 0.189196765,
         "generosity": 0.20873253,
         "corruption": 0.067231975,
         "dystopia": 1.584612608,
         "_deepnote_index_column": 143
        },
        {
         "country": "Haiti",
         "rank": 145,
         "score": 3.602999926,
         "high": 3.734714798,
         "low": 3.471285053,
         "gdp": 0.368610263,
         "family": 0.640449822,
         "lifexp": 0.27732113,
         "freedom": 0.030369857,
         "generosity": 0.489203781,
         "corruption": 0.09987215,
         "dystopia": 1.697167635,
         "_deepnote_index_column": 144
        },
        {
         "country": "Yemen",
         "rank": 146,
         "score": 3.592999935,
         "high": 3.69275032,
         "low": 3.49324955,
         "gdp": 0.591683447,
         "family": 0.935382247,
         "lifexp": 0.310080916,
         "freedom": 0.249463722,
         "generosity": 0.104125209,
         "corruption": 0.056767423,
         "dystopia": 1.345600605,
         "_deepnote_index_column": 145
        },
        {
         "country": "South Sudan",
         "rank": 147,
         "score": 3.59100008,
         "high": 3.725538586,
         "low": 3.456461574,
         "gdp": 0.397248626,
         "family": 0.601323128,
         "lifexp": 0.163486004,
         "freedom": 0.147062436,
         "generosity": 0.285670817,
         "corruption": 0.116793513,
         "dystopia": 1.879567385,
         "_deepnote_index_column": 146
        },
        {
         "country": "Liberia",
         "rank": 148,
         "score": 3.532999992,
         "high": 3.653756261,
         "low": 3.412243724,
         "gdp": 0.119041793,
         "family": 0.872117937,
         "lifexp": 0.229918197,
         "freedom": 0.332881182,
         "generosity": 0.266549885,
         "corruption": 0.038948249,
         "dystopia": 1.673285961,
         "_deepnote_index_column": 147
        },
        {
         "country": "Guinea",
         "rank": 149,
         "score": 3.506999969,
         "high": 3.584428129,
         "low": 3.42957181,
         "gdp": 0.24454993,
         "family": 0.791244686,
         "lifexp": 0.194129139,
         "freedom": 0.348587513,
         "generosity": 0.264815092,
         "corruption": 0.110937618,
         "dystopia": 1.552311897,
         "_deepnote_index_column": 148
        },
        {
         "country": "Togo",
         "rank": 150,
         "score": 3.494999886,
         "high": 3.594038112,
         "low": 3.395961659,
         "gdp": 0.305444717,
         "family": 0.43188253,
         "lifexp": 0.247105569,
         "freedom": 0.380426139,
         "generosity": 0.196896151,
         "corruption": 0.095665015,
         "dystopia": 1.837229252,
         "_deepnote_index_column": 149
        },
        {
         "country": "Rwanda",
         "rank": 151,
         "score": 3.470999956,
         "high": 3.543030234,
         "low": 3.398969679,
         "gdp": 0.368745893,
         "family": 0.945707023,
         "lifexp": 0.326424807,
         "freedom": 0.581843853,
         "generosity": 0.252756029,
         "corruption": 0.455220014,
         "dystopia": 0.540061235,
         "_deepnote_index_column": 150
        },
        {
         "country": "Syria",
         "rank": 152,
         "score": 3.461999893,
         "high": 3.663668557,
         "low": 3.26033123,
         "gdp": 0.777153134,
         "family": 0.396102607,
         "lifexp": 0.500533342,
         "freedom": 0.081539445,
         "generosity": 0.493663728,
         "corruption": 0.151347131,
         "dystopia": 1.061573505,
         "_deepnote_index_column": 151
        },
        {
         "country": "Tanzania",
         "rank": 153,
         "score": 3.348999977,
         "high": 3.461429755,
         "low": 3.236570199,
         "gdp": 0.511135876,
         "family": 1.041989803,
         "lifexp": 0.364509284,
         "freedom": 0.390017778,
         "generosity": 0.354256362,
         "corruption": 0.066035107,
         "dystopia": 0.621130466,
         "_deepnote_index_column": 152
        },
        {
         "country": "Burundi",
         "rank": 154,
         "score": 2.904999971,
         "high": 3.074690333,
         "low": 2.73530961,
         "gdp": 0.091622569,
         "family": 0.629793584,
         "lifexp": 0.151610792,
         "freedom": 0.059900753,
         "generosity": 0.204435185,
         "corruption": 0.084147945,
         "dystopia": 1.683024168,
         "_deepnote_index_column": 153
        },
        {
         "country": "Central African Republic",
         "rank": 155,
         "score": 2.693000078,
         "high": 2.864884269,
         "low": 2.521115887,
         "gdp": 0,
         "family": 0,
         "lifexp": 0.018772686,
         "freedom": 0.270842046,
         "generosity": 0.280876487,
         "corruption": 0.056565076,
         "dystopia": 2.066004753,
         "_deepnote_index_column": 154
        }
       ]
      },
      "text/plain": "                      country  rank  score  high  low  gdp  family  lifexp  \\\n0                      Norway     1   7.54  7.59 7.48 1.62    1.53    0.80   \n1                     Denmark     2   7.52  7.58 7.46 1.48    1.55    0.79   \n2                     Iceland     3   7.50  7.62 7.39 1.48    1.61    0.83   \n3                 Switzerland     4   7.49  7.56 7.43 1.56    1.52    0.86   \n4                     Finland     5   7.47  7.53 7.41 1.44    1.54    0.81   \n..                        ...   ...    ...   ...  ...  ...     ...     ...   \n150                    Rwanda   151   3.47  3.54 3.40 0.37    0.95    0.33   \n151                     Syria   152   3.46  3.66 3.26 0.78    0.40    0.50   \n152                  Tanzania   153   3.35  3.46 3.24 0.51    1.04    0.36   \n153                   Burundi   154   2.90  3.07 2.74 0.09    0.63    0.15   \n154  Central African Republic   155   2.69  2.86 2.52 0.00    0.00    0.02   \n\n     freedom  generosity  corruption  dystopia  \n0       0.64        0.36        0.32      2.28  \n1       0.63        0.36        0.40      2.31  \n2       0.63        0.48        0.15      2.32  \n3       0.62        0.29        0.37      2.28  \n4       0.62        0.25        0.38      2.43  \n..       ...         ...         ...       ...  \n150     0.58        0.25        0.46      0.54  \n151     0.08        0.49        0.15      1.06  \n152     0.39        0.35        0.07      0.62  \n153     0.06        0.20        0.08      1.68  \n154     0.27        0.28        0.06      2.07  \n\n[155 rows x 12 columns]",
      "text/html": "<div>\n<style scoped>\n    .dataframe tbody tr th:only-of-type {\n        vertical-align: middle;\n    }\n\n    .dataframe tbody tr th {\n        vertical-align: top;\n    }\n\n    .dataframe thead th {\n        text-align: right;\n    }\n</style>\n<table border=\"1\" class=\"dataframe\">\n  <thead>\n    <tr style=\"text-align: right;\">\n      <th></th>\n      <th>country</th>\n      <th>rank</th>\n      <th>score</th>\n      <th>high</th>\n      <th>low</th>\n      <th>gdp</th>\n      <th>family</th>\n      <th>lifexp</th>\n      <th>freedom</th>\n      <th>generosity</th>\n      <th>corruption</th>\n      <th>dystopia</th>\n    </tr>\n  </thead>\n  <tbody>\n    <tr>\n      <th>0</th>\n      <td>Norway</td>\n      <td>1</td>\n      <td>7.54</td>\n      <td>7.59</td>\n      <td>7.48</td>\n      <td>1.62</td>\n      <td>1.53</td>\n      <td>0.80</td>\n      <td>0.64</td>\n      <td>0.36</td>\n      <td>0.32</td>\n      <td>2.28</td>\n    </tr>\n    <tr>\n      <th>1</th>\n      <td>Denmark</td>\n      <td>2</td>\n      <td>7.52</td>\n      <td>7.58</td>\n      <td>7.46</td>\n      <td>1.48</td>\n      <td>1.55</td>\n      <td>0.79</td>\n      <td>0.63</td>\n      <td>0.36</td>\n      <td>0.40</td>\n      <td>2.31</td>\n    </tr>\n    <tr>\n      <th>2</th>\n      <td>Iceland</td>\n      <td>3</td>\n      <td>7.50</td>\n      <td>7.62</td>\n      <td>7.39</td>\n      <td>1.48</td>\n      <td>1.61</td>\n      <td>0.83</td>\n      <td>0.63</td>\n      <td>0.48</td>\n      <td>0.15</td>\n      <td>2.32</td>\n    </tr>\n    <tr>\n      <th>3</th>\n      <td>Switzerland</td>\n      <td>4</td>\n      <td>7.49</td>\n      <td>7.56</td>\n      <td>7.43</td>\n      <td>1.56</td>\n      <td>1.52</td>\n      <td>0.86</td>\n      <td>0.62</td>\n      <td>0.29</td>\n      <td>0.37</td>\n      <td>2.28</td>\n    </tr>\n    <tr>\n      <th>4</th>\n      <td>Finland</td>\n      <td>5</td>\n      <td>7.47</td>\n      <td>7.53</td>\n      <td>7.41</td>\n      <td>1.44</td>\n      <td>1.54</td>\n      <td>0.81</td>\n      <td>0.62</td>\n      <td>0.25</td>\n      <td>0.38</td>\n      <td>2.43</td>\n    </tr>\n    <tr>\n      <th>...</th>\n      <td>...</td>\n      <td>...</td>\n      <td>...</td>\n      <td>...</td>\n      <td>...</td>\n      <td>...</td>\n      <td>...</td>\n      <td>...</td>\n      <td>...</td>\n      <td>...</td>\n      <td>...</td>\n      <td>...</td>\n    </tr>\n    <tr>\n      <th>150</th>\n      <td>Rwanda</td>\n      <td>151</td>\n      <td>3.47</td>\n      <td>3.54</td>\n      <td>3.40</td>\n      <td>0.37</td>\n      <td>0.95</td>\n      <td>0.33</td>\n      <td>0.58</td>\n      <td>0.25</td>\n      <td>0.46</td>\n      <td>0.54</td>\n    </tr>\n    <tr>\n      <th>151</th>\n      <td>Syria</td>\n      <td>152</td>\n      <td>3.46</td>\n      <td>3.66</td>\n      <td>3.26</td>\n      <td>0.78</td>\n      <td>0.40</td>\n      <td>0.50</td>\n      <td>0.08</td>\n      <td>0.49</td>\n      <td>0.15</td>\n      <td>1.06</td>\n    </tr>\n    <tr>\n      <th>152</th>\n      <td>Tanzania</td>\n      <td>153</td>\n      <td>3.35</td>\n      <td>3.46</td>\n      <td>3.24</td>\n      <td>0.51</td>\n      <td>1.04</td>\n      <td>0.36</td>\n      <td>0.39</td>\n      <td>0.35</td>\n      <td>0.07</td>\n      <td>0.62</td>\n    </tr>\n    <tr>\n      <th>153</th>\n      <td>Burundi</td>\n      <td>154</td>\n      <td>2.90</td>\n      <td>3.07</td>\n      <td>2.74</td>\n      <td>0.09</td>\n      <td>0.63</td>\n      <td>0.15</td>\n      <td>0.06</td>\n      <td>0.20</td>\n      <td>0.08</td>\n      <td>1.68</td>\n    </tr>\n    <tr>\n      <th>154</th>\n      <td>Central African Republic</td>\n      <td>155</td>\n      <td>2.69</td>\n      <td>2.86</td>\n      <td>2.52</td>\n      <td>0.00</td>\n      <td>0.00</td>\n      <td>0.02</td>\n      <td>0.27</td>\n      <td>0.28</td>\n      <td>0.06</td>\n      <td>2.07</td>\n    </tr>\n  </tbody>\n</table>\n<p>155 rows × 12 columns</p>\n</div>"
     },
     "metadata": {}
    }
   ]
  },
  {
   "cell_type": "code",
   "metadata": {
    "cell_id": "00003-ba27a0ac-94b5-423a-93c8-879547eae6c0",
    "deepnote_to_be_reexecuted": false,
    "execution_millis": 2,
    "execution_start": 1636838808757,
    "source_hash": "76ab6a3f",
    "tags": [],
    "deepnote_output_heights": [
     251.60000610351562
    ],
    "deepnote_cell_type": "code"
   },
   "source": "# Transformamos los datos a lo que mejor convenga y analizaremos los features del dataset\ndata.convert_dtypes().dtypes",
   "execution_count": null,
   "outputs": [
    {
     "output_type": "execute_result",
     "execution_count": 4,
     "data": {
      "text/plain": "country        string\nrank            Int64\nscore         Float64\nhigh          Float64\nlow           Float64\ngdp           Float64\nfamily        Float64\nlifexp        Float64\nfreedom       Float64\ngenerosity    Float64\ncorruption    Float64\ndystopia      Float64\ndtype: object"
     },
     "metadata": {}
    }
   ]
  },
  {
   "cell_type": "code",
   "metadata": {
    "cell_id": "00003-0ef14513-50ef-432f-b53a-2250e7f50c5b",
    "deepnote_to_be_reexecuted": false,
    "execution_millis": 256970802,
    "execution_start": 1636838808805,
    "source_hash": "c15d8b7d",
    "tags": [],
    "deepnote_output_heights": [
     21.199996948242188
    ],
    "deepnote_cell_type": "code"
   },
   "source": "# Dimensiones del dataset\ndata.shape",
   "execution_count": null,
   "outputs": [
    {
     "output_type": "execute_result",
     "execution_count": 5,
     "data": {
      "text/plain": "(155, 12)"
     },
     "metadata": {}
    }
   ]
  },
  {
   "cell_type": "code",
   "metadata": {
    "cell_id": "00005-3be9fa00-4b98-470a-a0ef-8f246f95e9f2",
    "deepnote_to_be_reexecuted": false,
    "execution_millis": 3,
    "execution_start": 1636838808805,
    "source_hash": "ac6cbae8",
    "tags": [],
    "deepnote_output_heights": [
     251.60000610351562
    ],
    "deepnote_cell_type": "code"
   },
   "source": "# Observamos si hay datos nulos en alguno de nuestros features\ndata.isnull().sum()",
   "execution_count": null,
   "outputs": [
    {
     "output_type": "execute_result",
     "execution_count": 6,
     "data": {
      "text/plain": "country       0\nrank          0\nscore         0\nhigh          0\nlow           0\ngdp           0\nfamily        0\nlifexp        0\nfreedom       0\ngenerosity    0\ncorruption    0\ndystopia      0\ndtype: int64"
     },
     "metadata": {}
    }
   ]
  },
  {
   "cell_type": "code",
   "metadata": {
    "cell_id": "00004-0188f694-2ea0-4932-8494-e4fdb6ac5fd6",
    "deepnote_to_be_reexecuted": false,
    "execution_millis": 77,
    "execution_start": 1636838808806,
    "source_hash": "2cb52ae",
    "tags": [],
    "deepnote_cell_type": "code"
   },
   "source": "# Resumen de nuestro dataset\ndata.describe()",
   "execution_count": null,
   "outputs": [
    {
     "output_type": "execute_result",
     "execution_count": 7,
     "data": {
      "application/vnd.deepnote.dataframe.v2+json": {
       "row_count": 8,
       "column_count": 11,
       "columns": [
        {
         "name": "rank",
         "dtype": "float64",
         "stats": {
          "unique_count": 6,
          "nan_count": 0,
          "min": "1.0",
          "max": "155.0",
          "histogram": [
           {
            "bin_start": 1,
            "bin_end": 16.4,
            "count": 1
           },
           {
            "bin_start": 16.4,
            "bin_end": 31.8,
            "count": 0
           },
           {
            "bin_start": 31.8,
            "bin_end": 47.2,
            "count": 2
           },
           {
            "bin_start": 47.2,
            "bin_end": 62.6,
            "count": 0
           },
           {
            "bin_start": 62.6,
            "bin_end": 78,
            "count": 0
           },
           {
            "bin_start": 78,
            "bin_end": 93.4,
            "count": 2
           },
           {
            "bin_start": 93.4,
            "bin_end": 108.8,
            "count": 0
           },
           {
            "bin_start": 108.8,
            "bin_end": 124.2,
            "count": 1
           },
           {
            "bin_start": 124.2,
            "bin_end": 139.6,
            "count": 0
           },
           {
            "bin_start": 139.6,
            "bin_end": 155,
            "count": 2
           }
          ]
         }
        },
        {
         "name": "score",
         "dtype": "float64",
         "stats": {
          "unique_count": 8,
          "nan_count": 0,
          "min": "1.131230089949566",
          "max": "155.0",
          "histogram": [
           {
            "bin_start": 1.131230089949566,
            "bin_end": 16.51810708095461,
            "count": 7
           },
           {
            "bin_start": 16.51810708095461,
            "bin_end": 31.904984071959653,
            "count": 0
           },
           {
            "bin_start": 31.904984071959653,
            "bin_end": 47.2918610629647,
            "count": 0
           },
           {
            "bin_start": 47.2918610629647,
            "bin_end": 62.678738053969745,
            "count": 0
           },
           {
            "bin_start": 62.678738053969745,
            "bin_end": 78.06561504497479,
            "count": 0
           },
           {
            "bin_start": 78.06561504497479,
            "bin_end": 93.45249203597983,
            "count": 0
           },
           {
            "bin_start": 93.45249203597983,
            "bin_end": 108.83936902698488,
            "count": 0
           },
           {
            "bin_start": 108.83936902698488,
            "bin_end": 124.22624601798992,
            "count": 0
           },
           {
            "bin_start": 124.22624601798992,
            "bin_end": 139.61312300899496,
            "count": 0
           },
           {
            "bin_start": 139.61312300899496,
            "bin_end": 155,
            "count": 1
           }
          ]
         }
        },
        {
         "name": "high",
         "dtype": "float64",
         "stats": {
          "unique_count": 8,
          "nan_count": 0,
          "min": "1.1185417144893446",
          "max": "155.0",
          "histogram": [
           {
            "bin_start": 1.1185417144893446,
            "bin_end": 16.50668754304041,
            "count": 7
           },
           {
            "bin_start": 16.50668754304041,
            "bin_end": 31.894833371591474,
            "count": 0
           },
           {
            "bin_start": 31.894833371591474,
            "bin_end": 47.28297920014254,
            "count": 0
           },
           {
            "bin_start": 47.28297920014254,
            "bin_end": 62.67112502869361,
            "count": 0
           },
           {
            "bin_start": 62.67112502869361,
            "bin_end": 78.05927085724467,
            "count": 0
           },
           {
            "bin_start": 78.05927085724467,
            "bin_end": 93.44741668579573,
            "count": 0
           },
           {
            "bin_start": 93.44741668579573,
            "bin_end": 108.8355625143468,
            "count": 0
           },
           {
            "bin_start": 108.8355625143468,
            "bin_end": 124.22370834289787,
            "count": 0
           },
           {
            "bin_start": 124.22370834289787,
            "bin_end": 139.61185417144893,
            "count": 0
           },
           {
            "bin_start": 139.61185417144893,
            "bin_end": 155,
            "count": 1
           }
          ]
         }
        },
        {
         "name": "low",
         "dtype": "float64",
         "stats": {
          "unique_count": 8,
          "nan_count": 0,
          "min": "1.1450297696656409",
          "max": "155.0",
          "histogram": [
           {
            "bin_start": 1.1450297696656409,
            "bin_end": 16.530526792699074,
            "count": 7
           },
           {
            "bin_start": 16.530526792699074,
            "bin_end": 31.91602381573251,
            "count": 0
           },
           {
            "bin_start": 31.91602381573251,
            "bin_end": 47.30152083876594,
            "count": 0
           },
           {
            "bin_start": 47.30152083876594,
            "bin_end": 62.687017861799376,
            "count": 0
           },
           {
            "bin_start": 62.687017861799376,
            "bin_end": 78.07251488483281,
            "count": 0
           },
           {
            "bin_start": 78.07251488483281,
            "bin_end": 93.45801190786624,
            "count": 0
           },
           {
            "bin_start": 93.45801190786624,
            "bin_end": 108.84350893089967,
            "count": 0
           },
           {
            "bin_start": 108.84350893089967,
            "bin_end": 124.22900595393311,
            "count": 0
           },
           {
            "bin_start": 124.22900595393311,
            "bin_end": 139.61450297696655,
            "count": 0
           },
           {
            "bin_start": 139.61450297696655,
            "bin_end": 155,
            "count": 1
           }
          ]
         }
        },
        {
         "name": "gdp",
         "dtype": "float64",
         "stats": {
          "unique_count": 8,
          "nan_count": 0,
          "min": "0.0",
          "max": "155.0",
          "histogram": [
           {
            "bin_start": 0,
            "bin_end": 15.5,
            "count": 7
           },
           {
            "bin_start": 15.5,
            "bin_end": 31,
            "count": 0
           },
           {
            "bin_start": 31,
            "bin_end": 46.5,
            "count": 0
           },
           {
            "bin_start": 46.5,
            "bin_end": 62,
            "count": 0
           },
           {
            "bin_start": 62,
            "bin_end": 77.5,
            "count": 0
           },
           {
            "bin_start": 77.5,
            "bin_end": 93,
            "count": 0
           },
           {
            "bin_start": 93,
            "bin_end": 108.5,
            "count": 0
           },
           {
            "bin_start": 108.5,
            "bin_end": 124,
            "count": 0
           },
           {
            "bin_start": 124,
            "bin_end": 139.5,
            "count": 0
           },
           {
            "bin_start": 139.5,
            "bin_end": 155,
            "count": 1
           }
          ]
         }
        },
        {
         "name": "family",
         "dtype": "float64",
         "stats": {
          "unique_count": 8,
          "nan_count": 0,
          "min": "0.0",
          "max": "155.0",
          "histogram": [
           {
            "bin_start": 0,
            "bin_end": 15.5,
            "count": 7
           },
           {
            "bin_start": 15.5,
            "bin_end": 31,
            "count": 0
           },
           {
            "bin_start": 31,
            "bin_end": 46.5,
            "count": 0
           },
           {
            "bin_start": 46.5,
            "bin_end": 62,
            "count": 0
           },
           {
            "bin_start": 62,
            "bin_end": 77.5,
            "count": 0
           },
           {
            "bin_start": 77.5,
            "bin_end": 93,
            "count": 0
           },
           {
            "bin_start": 93,
            "bin_end": 108.5,
            "count": 0
           },
           {
            "bin_start": 108.5,
            "bin_end": 124,
            "count": 0
           },
           {
            "bin_start": 124,
            "bin_end": 139.5,
            "count": 0
           },
           {
            "bin_start": 139.5,
            "bin_end": 155,
            "count": 1
           }
          ]
         }
        },
        {
         "name": "lifexp",
         "dtype": "float64",
         "stats": {
          "unique_count": 8,
          "nan_count": 0,
          "min": "0.0",
          "max": "155.0",
          "histogram": [
           {
            "bin_start": 0,
            "bin_end": 15.5,
            "count": 7
           },
           {
            "bin_start": 15.5,
            "bin_end": 31,
            "count": 0
           },
           {
            "bin_start": 31,
            "bin_end": 46.5,
            "count": 0
           },
           {
            "bin_start": 46.5,
            "bin_end": 62,
            "count": 0
           },
           {
            "bin_start": 62,
            "bin_end": 77.5,
            "count": 0
           },
           {
            "bin_start": 77.5,
            "bin_end": 93,
            "count": 0
           },
           {
            "bin_start": 93,
            "bin_end": 108.5,
            "count": 0
           },
           {
            "bin_start": 108.5,
            "bin_end": 124,
            "count": 0
           },
           {
            "bin_start": 124,
            "bin_end": 139.5,
            "count": 0
           },
           {
            "bin_start": 139.5,
            "bin_end": 155,
            "count": 1
           }
          ]
         }
        },
        {
         "name": "freedom",
         "dtype": "float64",
         "stats": {
          "unique_count": 8,
          "nan_count": 0,
          "min": "0.0",
          "max": "155.0",
          "histogram": [
           {
            "bin_start": 0,
            "bin_end": 15.5,
            "count": 7
           },
           {
            "bin_start": 15.5,
            "bin_end": 31,
            "count": 0
           },
           {
            "bin_start": 31,
            "bin_end": 46.5,
            "count": 0
           },
           {
            "bin_start": 46.5,
            "bin_end": 62,
            "count": 0
           },
           {
            "bin_start": 62,
            "bin_end": 77.5,
            "count": 0
           },
           {
            "bin_start": 77.5,
            "bin_end": 93,
            "count": 0
           },
           {
            "bin_start": 93,
            "bin_end": 108.5,
            "count": 0
           },
           {
            "bin_start": 108.5,
            "bin_end": 124,
            "count": 0
           },
           {
            "bin_start": 124,
            "bin_end": 139.5,
            "count": 0
           },
           {
            "bin_start": 139.5,
            "bin_end": 155,
            "count": 1
           }
          ]
         }
        },
        {
         "name": "generosity",
         "dtype": "float64",
         "stats": {
          "unique_count": 8,
          "nan_count": 0,
          "min": "0.0",
          "max": "155.0",
          "histogram": [
           {
            "bin_start": 0,
            "bin_end": 15.5,
            "count": 7
           },
           {
            "bin_start": 15.5,
            "bin_end": 31,
            "count": 0
           },
           {
            "bin_start": 31,
            "bin_end": 46.5,
            "count": 0
           },
           {
            "bin_start": 46.5,
            "bin_end": 62,
            "count": 0
           },
           {
            "bin_start": 62,
            "bin_end": 77.5,
            "count": 0
           },
           {
            "bin_start": 77.5,
            "bin_end": 93,
            "count": 0
           },
           {
            "bin_start": 93,
            "bin_end": 108.5,
            "count": 0
           },
           {
            "bin_start": 108.5,
            "bin_end": 124,
            "count": 0
           },
           {
            "bin_start": 124,
            "bin_end": 139.5,
            "count": 0
           },
           {
            "bin_start": 139.5,
            "bin_end": 155,
            "count": 1
           }
          ]
         }
        },
        {
         "name": "corruption",
         "dtype": "float64",
         "stats": {
          "unique_count": 8,
          "nan_count": 0,
          "min": "0.0",
          "max": "155.0",
          "histogram": [
           {
            "bin_start": 0,
            "bin_end": 15.5,
            "count": 7
           },
           {
            "bin_start": 15.5,
            "bin_end": 31,
            "count": 0
           },
           {
            "bin_start": 31,
            "bin_end": 46.5,
            "count": 0
           },
           {
            "bin_start": 46.5,
            "bin_end": 62,
            "count": 0
           },
           {
            "bin_start": 62,
            "bin_end": 77.5,
            "count": 0
           },
           {
            "bin_start": 77.5,
            "bin_end": 93,
            "count": 0
           },
           {
            "bin_start": 93,
            "bin_end": 108.5,
            "count": 0
           },
           {
            "bin_start": 108.5,
            "bin_end": 124,
            "count": 0
           },
           {
            "bin_start": 124,
            "bin_end": 139.5,
            "count": 0
           },
           {
            "bin_start": 139.5,
            "bin_end": 155,
            "count": 1
           }
          ]
         }
        },
        {
         "name": "dystopia",
         "dtype": "float64",
         "stats": {
          "unique_count": 8,
          "nan_count": 0,
          "min": "0.377913713",
          "max": "155.0",
          "histogram": [
           {
            "bin_start": 0.377913713,
            "bin_end": 15.8401223417,
            "count": 7
           },
           {
            "bin_start": 15.8401223417,
            "bin_end": 31.302330970400003,
            "count": 0
           },
           {
            "bin_start": 31.302330970400003,
            "bin_end": 46.764539599100004,
            "count": 0
           },
           {
            "bin_start": 46.764539599100004,
            "bin_end": 62.2267482278,
            "count": 0
           },
           {
            "bin_start": 62.2267482278,
            "bin_end": 77.6889568565,
            "count": 0
           },
           {
            "bin_start": 77.6889568565,
            "bin_end": 93.15116548520001,
            "count": 0
           },
           {
            "bin_start": 93.15116548520001,
            "bin_end": 108.61337411390001,
            "count": 0
           },
           {
            "bin_start": 108.61337411390001,
            "bin_end": 124.0755827426,
            "count": 0
           },
           {
            "bin_start": 124.0755827426,
            "bin_end": 139.53779137130002,
            "count": 0
           },
           {
            "bin_start": 139.53779137130002,
            "bin_end": 155,
            "count": 1
           }
          ]
         }
        },
        {
         "name": "_deepnote_index_column",
         "dtype": "object"
        }
       ],
       "rows_top": [
        {
         "rank": 155,
         "score": 155,
         "high": 155,
         "low": 155,
         "gdp": 155,
         "family": 155,
         "lifexp": 155,
         "freedom": 155,
         "generosity": 155,
         "corruption": 155,
         "dystopia": 155,
         "_deepnote_index_column": "count"
        },
        {
         "rank": 78,
         "score": 5.354019355774194,
         "high": 5.452325717464516,
         "low": 5.255712994090322,
         "gdp": 0.9847182019096775,
         "family": 1.1888977504645162,
         "lifexp": 0.5513407826580645,
         "freedom": 0.4087859728645162,
         "generosity": 0.24688347161935484,
         "corruption": 0.12312022062580644,
         "dystopia": 1.8502378055935487,
         "_deepnote_index_column": "mean"
        },
        {
         "rank": 44.88875137492688,
         "score": 1.131230089949566,
         "high": 1.1185417144893446,
         "low": 1.1450297696656409,
         "gdp": 0.42079270946386094,
         "family": 0.28726291226969536,
         "lifexp": 0.23707270325491503,
         "freedom": 0.1499973015857622,
         "generosity": 0.1347803580977807,
         "corruption": 0.10166060899510118,
         "dystopia": 0.500028361803277,
         "_deepnote_index_column": "std"
        },
        {
         "rank": 1,
         "score": 2.693000078,
         "high": 2.864884269,
         "low": 2.521115887,
         "gdp": 0,
         "family": 0,
         "lifexp": 0,
         "freedom": 0,
         "generosity": 0,
         "corruption": 0,
         "dystopia": 0.377913713,
         "_deepnote_index_column": "min"
        },
        {
         "rank": 39.5,
         "score": 4.505500078,
         "high": 4.6081718635,
         "low": 4.374954969999999,
         "gdp": 0.663370758,
         "family": 1.042634904,
         "lifexp": 0.3698662965,
         "freedom": 0.3036771715,
         "generosity": 0.1541061475,
         "corruption": 0.0572706685,
         "dystopia": 1.5912914274999999,
         "_deepnote_index_column": "25%"
        },
        {
         "rank": 78,
         "score": 5.278999805,
         "high": 5.370031946,
         "low": 5.193151615,
         "gdp": 1.064577937,
         "family": 1.253917575,
         "lifexp": 0.606041551,
         "freedom": 0.437454283,
         "generosity": 0.231538489,
         "corruption": 0.08984752,
         "dystopia": 1.832909822,
         "_deepnote_index_column": "50%"
        },
        {
         "rank": 116.5,
         "score": 6.1015000345,
         "high": 6.1945996535,
         "low": 6.0065268839999995,
         "gdp": 1.3180273175,
         "family": 1.41431576,
         "lifexp": 0.7230075300000001,
         "freedom": 0.516561389,
         "generosity": 0.323762283,
         "corruption": 0.153296314,
         "dystopia": 2.1446537975,
         "_deepnote_index_column": "75%"
        },
        {
         "rank": 155,
         "score": 7.537000179,
         "high": 7.622030473,
         "low": 7.479555538,
         "gdp": 1.870765686,
         "family": 1.610574007,
         "lifexp": 0.949492395,
         "freedom": 0.658248663,
         "generosity": 0.838075161,
         "corruption": 0.464307785,
         "dystopia": 3.11748457,
         "_deepnote_index_column": "max"
        }
       ],
       "rows_bottom": null
      },
      "text/plain": "        rank  score   high    low    gdp  family  lifexp  freedom  generosity  \\\ncount 155.00 155.00 155.00 155.00 155.00  155.00  155.00   155.00      155.00   \nmean   78.00   5.35   5.45   5.26   0.98    1.19    0.55     0.41        0.25   \nstd    44.89   1.13   1.12   1.15   0.42    0.29    0.24     0.15        0.13   \nmin     1.00   2.69   2.86   2.52   0.00    0.00    0.00     0.00        0.00   \n25%    39.50   4.51   4.61   4.37   0.66    1.04    0.37     0.30        0.15   \n50%    78.00   5.28   5.37   5.19   1.06    1.25    0.61     0.44        0.23   \n75%   116.50   6.10   6.19   6.01   1.32    1.41    0.72     0.52        0.32   \nmax   155.00   7.54   7.62   7.48   1.87    1.61    0.95     0.66        0.84   \n\n       corruption  dystopia  \ncount      155.00    155.00  \nmean         0.12      1.85  \nstd          0.10      0.50  \nmin          0.00      0.38  \n25%          0.06      1.59  \n50%          0.09      1.83  \n75%          0.15      2.14  \nmax          0.46      3.12  ",
      "text/html": "<div>\n<style scoped>\n    .dataframe tbody tr th:only-of-type {\n        vertical-align: middle;\n    }\n\n    .dataframe tbody tr th {\n        vertical-align: top;\n    }\n\n    .dataframe thead th {\n        text-align: right;\n    }\n</style>\n<table border=\"1\" class=\"dataframe\">\n  <thead>\n    <tr style=\"text-align: right;\">\n      <th></th>\n      <th>rank</th>\n      <th>score</th>\n      <th>high</th>\n      <th>low</th>\n      <th>gdp</th>\n      <th>family</th>\n      <th>lifexp</th>\n      <th>freedom</th>\n      <th>generosity</th>\n      <th>corruption</th>\n      <th>dystopia</th>\n    </tr>\n  </thead>\n  <tbody>\n    <tr>\n      <th>count</th>\n      <td>155.00</td>\n      <td>155.00</td>\n      <td>155.00</td>\n      <td>155.00</td>\n      <td>155.00</td>\n      <td>155.00</td>\n      <td>155.00</td>\n      <td>155.00</td>\n      <td>155.00</td>\n      <td>155.00</td>\n      <td>155.00</td>\n    </tr>\n    <tr>\n      <th>mean</th>\n      <td>78.00</td>\n      <td>5.35</td>\n      <td>5.45</td>\n      <td>5.26</td>\n      <td>0.98</td>\n      <td>1.19</td>\n      <td>0.55</td>\n      <td>0.41</td>\n      <td>0.25</td>\n      <td>0.12</td>\n      <td>1.85</td>\n    </tr>\n    <tr>\n      <th>std</th>\n      <td>44.89</td>\n      <td>1.13</td>\n      <td>1.12</td>\n      <td>1.15</td>\n      <td>0.42</td>\n      <td>0.29</td>\n      <td>0.24</td>\n      <td>0.15</td>\n      <td>0.13</td>\n      <td>0.10</td>\n      <td>0.50</td>\n    </tr>\n    <tr>\n      <th>min</th>\n      <td>1.00</td>\n      <td>2.69</td>\n      <td>2.86</td>\n      <td>2.52</td>\n      <td>0.00</td>\n      <td>0.00</td>\n      <td>0.00</td>\n      <td>0.00</td>\n      <td>0.00</td>\n      <td>0.00</td>\n      <td>0.38</td>\n    </tr>\n    <tr>\n      <th>25%</th>\n      <td>39.50</td>\n      <td>4.51</td>\n      <td>4.61</td>\n      <td>4.37</td>\n      <td>0.66</td>\n      <td>1.04</td>\n      <td>0.37</td>\n      <td>0.30</td>\n      <td>0.15</td>\n      <td>0.06</td>\n      <td>1.59</td>\n    </tr>\n    <tr>\n      <th>50%</th>\n      <td>78.00</td>\n      <td>5.28</td>\n      <td>5.37</td>\n      <td>5.19</td>\n      <td>1.06</td>\n      <td>1.25</td>\n      <td>0.61</td>\n      <td>0.44</td>\n      <td>0.23</td>\n      <td>0.09</td>\n      <td>1.83</td>\n    </tr>\n    <tr>\n      <th>75%</th>\n      <td>116.50</td>\n      <td>6.10</td>\n      <td>6.19</td>\n      <td>6.01</td>\n      <td>1.32</td>\n      <td>1.41</td>\n      <td>0.72</td>\n      <td>0.52</td>\n      <td>0.32</td>\n      <td>0.15</td>\n      <td>2.14</td>\n    </tr>\n    <tr>\n      <th>max</th>\n      <td>155.00</td>\n      <td>7.54</td>\n      <td>7.62</td>\n      <td>7.48</td>\n      <td>1.87</td>\n      <td>1.61</td>\n      <td>0.95</td>\n      <td>0.66</td>\n      <td>0.84</td>\n      <td>0.46</td>\n      <td>3.12</td>\n    </tr>\n  </tbody>\n</table>\n</div>"
     },
     "metadata": {}
    }
   ]
  },
  {
   "cell_type": "markdown",
   "source": "### Análisis del Resumen\n\n- **count** ➜ **cantidades** de registros/observaciones de cada una de las columnas.\n- **mean** ➜ la **media aritmética** total de cada una de las columnas.\n- **std** ➜ la **desviación estándar** de cada una de las columnas.\n- **min** ➜ el **valor mínimo** encontrado de cada una de las columnas.\n- **max** ➜ el **valor máximo** encontrado de cada una de las columnas.\n- Y los porcentajes corresponden a cada uno de los **quintiles** del total de cada una de las columnas.",
   "metadata": {
    "cell_id": "00011-e950db0f-f1d2-4c34-b72b-e23ede9e44d3",
    "tags": [],
    "deepnote_cell_type": "markdown"
   }
  },
  {
   "cell_type": "markdown",
   "source": "# 4. Patrones en los datos 🔎👾",
   "metadata": {
    "cell_id": "00012-7a39920c-773f-4e54-b99a-28d4651febe7",
    "is_collapsed": false,
    "tags": [],
    "deepnote_cell_type": "text-cell-h1"
   }
  },
  {
   "cell_type": "markdown",
   "source": "Podemos tomar como **muestra** el caso de **Colombia** 🇨🇴 para conocer cómo a través de la incidencia de algunas variables puede posicionarlo en el **ranking mundial**",
   "metadata": {
    "cell_id": "00012-c394f543-a7fa-41fc-86ca-b5df2721155e",
    "tags": [],
    "deepnote_cell_type": "markdown"
   }
  },
  {
   "cell_type": "code",
   "metadata": {
    "cell_id": "00008-65339c5a-41b4-4ea0-b013-c4185057f38b",
    "deepnote_to_be_reexecuted": false,
    "execution_millis": 8,
    "execution_start": 1636838808929,
    "source_hash": "7f332368",
    "tags": [],
    "deepnote_cell_type": "code"
   },
   "source": "# Queremos conocer cómo se encuentra Colombia según la información del dataset\ndata[data.country == 'Colombia']",
   "execution_count": null,
   "outputs": [
    {
     "output_type": "execute_result",
     "execution_count": 8,
     "data": {
      "application/vnd.deepnote.dataframe.v2+json": {
       "row_count": 1,
       "column_count": 12,
       "columns": [
        {
         "name": "country",
         "dtype": "object",
         "stats": {
          "unique_count": 1,
          "nan_count": 0,
          "categories": [
           {
            "name": "Colombia",
            "count": 1
           }
          ]
         }
        },
        {
         "name": "rank",
         "dtype": "int64",
         "stats": {
          "unique_count": 1,
          "nan_count": 0,
          "min": "36",
          "max": "36",
          "histogram": [
           {
            "bin_start": 35.5,
            "bin_end": 35.6,
            "count": 0
           },
           {
            "bin_start": 35.6,
            "bin_end": 35.7,
            "count": 0
           },
           {
            "bin_start": 35.7,
            "bin_end": 35.8,
            "count": 0
           },
           {
            "bin_start": 35.8,
            "bin_end": 35.9,
            "count": 0
           },
           {
            "bin_start": 35.9,
            "bin_end": 36,
            "count": 0
           },
           {
            "bin_start": 36,
            "bin_end": 36.1,
            "count": 1
           },
           {
            "bin_start": 36.1,
            "bin_end": 36.2,
            "count": 0
           },
           {
            "bin_start": 36.2,
            "bin_end": 36.3,
            "count": 0
           },
           {
            "bin_start": 36.3,
            "bin_end": 36.4,
            "count": 0
           },
           {
            "bin_start": 36.4,
            "bin_end": 36.5,
            "count": 0
           }
          ]
         }
        },
        {
         "name": "score",
         "dtype": "float64",
         "stats": {
          "unique_count": 1,
          "nan_count": 0,
          "min": "6.356999874",
          "max": "6.356999874",
          "histogram": [
           {
            "bin_start": 5.856999874,
            "bin_end": 5.956999874,
            "count": 0
           },
           {
            "bin_start": 5.956999874,
            "bin_end": 6.056999874000001,
            "count": 0
           },
           {
            "bin_start": 6.056999874000001,
            "bin_end": 6.156999874,
            "count": 0
           },
           {
            "bin_start": 6.156999874,
            "bin_end": 6.256999874000001,
            "count": 0
           },
           {
            "bin_start": 6.256999874000001,
            "bin_end": 6.356999874,
            "count": 0
           },
           {
            "bin_start": 6.356999874,
            "bin_end": 6.456999874000001,
            "count": 1
           },
           {
            "bin_start": 6.456999874000001,
            "bin_end": 6.556999874000001,
            "count": 0
           },
           {
            "bin_start": 6.556999874000001,
            "bin_end": 6.656999874,
            "count": 0
           },
           {
            "bin_start": 6.656999874,
            "bin_end": 6.756999874000001,
            "count": 0
           },
           {
            "bin_start": 6.756999874000001,
            "bin_end": 6.856999874,
            "count": 0
           }
          ]
         }
        },
        {
         "name": "high",
         "dtype": "float64",
         "stats": {
          "unique_count": 1,
          "nan_count": 0,
          "min": "6.452020054",
          "max": "6.452020054",
          "histogram": [
           {
            "bin_start": 5.952020054,
            "bin_end": 6.052020054,
            "count": 0
           },
           {
            "bin_start": 6.052020054,
            "bin_end": 6.152020054,
            "count": 0
           },
           {
            "bin_start": 6.152020054,
            "bin_end": 6.252020054,
            "count": 0
           },
           {
            "bin_start": 6.252020054,
            "bin_end": 6.3520200540000005,
            "count": 0
           },
           {
            "bin_start": 6.3520200540000005,
            "bin_end": 6.452020054,
            "count": 0
           },
           {
            "bin_start": 6.452020054,
            "bin_end": 6.552020054,
            "count": 1
           },
           {
            "bin_start": 6.552020054,
            "bin_end": 6.652020054,
            "count": 0
           },
           {
            "bin_start": 6.652020054,
            "bin_end": 6.752020054,
            "count": 0
           },
           {
            "bin_start": 6.752020054,
            "bin_end": 6.8520200540000005,
            "count": 0
           },
           {
            "bin_start": 6.8520200540000005,
            "bin_end": 6.952020054,
            "count": 0
           }
          ]
         }
        },
        {
         "name": "low",
         "dtype": "float64",
         "stats": {
          "unique_count": 1,
          "nan_count": 0,
          "min": "6.261979694",
          "max": "6.261979694",
          "histogram": [
           {
            "bin_start": 5.761979694,
            "bin_end": 5.8619796939999995,
            "count": 0
           },
           {
            "bin_start": 5.8619796939999995,
            "bin_end": 5.961979694,
            "count": 0
           },
           {
            "bin_start": 5.961979694,
            "bin_end": 6.061979694,
            "count": 0
           },
           {
            "bin_start": 6.061979694,
            "bin_end": 6.161979694,
            "count": 0
           },
           {
            "bin_start": 6.161979694,
            "bin_end": 6.261979694,
            "count": 0
           },
           {
            "bin_start": 6.261979694,
            "bin_end": 6.361979694,
            "count": 1
           },
           {
            "bin_start": 6.361979694,
            "bin_end": 6.461979694,
            "count": 0
           },
           {
            "bin_start": 6.461979694,
            "bin_end": 6.561979694,
            "count": 0
           },
           {
            "bin_start": 6.561979694,
            "bin_end": 6.661979694,
            "count": 0
           },
           {
            "bin_start": 6.661979694,
            "bin_end": 6.761979694,
            "count": 0
           }
          ]
         }
        },
        {
         "name": "gdp",
         "dtype": "float64",
         "stats": {
          "unique_count": 1,
          "nan_count": 0,
          "min": "1.070622325",
          "max": "1.070622325",
          "histogram": [
           {
            "bin_start": 0.570622325,
            "bin_end": 0.670622325,
            "count": 0
           },
           {
            "bin_start": 0.670622325,
            "bin_end": 0.7706223249999999,
            "count": 0
           },
           {
            "bin_start": 0.7706223249999999,
            "bin_end": 0.870622325,
            "count": 0
           },
           {
            "bin_start": 0.870622325,
            "bin_end": 0.970622325,
            "count": 0
           },
           {
            "bin_start": 0.970622325,
            "bin_end": 1.070622325,
            "count": 0
           },
           {
            "bin_start": 1.070622325,
            "bin_end": 1.170622325,
            "count": 1
           },
           {
            "bin_start": 1.170622325,
            "bin_end": 1.2706223250000002,
            "count": 0
           },
           {
            "bin_start": 1.2706223250000002,
            "bin_end": 1.370622325,
            "count": 0
           },
           {
            "bin_start": 1.370622325,
            "bin_end": 1.470622325,
            "count": 0
           },
           {
            "bin_start": 1.470622325,
            "bin_end": 1.570622325,
            "count": 0
           }
          ]
         }
        },
        {
         "name": "family",
         "dtype": "float64",
         "stats": {
          "unique_count": 1,
          "nan_count": 0,
          "min": "1.402182937",
          "max": "1.402182937",
          "histogram": [
           {
            "bin_start": 0.9021829370000001,
            "bin_end": 1.0021829370000002,
            "count": 0
           },
           {
            "bin_start": 1.0021829370000002,
            "bin_end": 1.102182937,
            "count": 0
           },
           {
            "bin_start": 1.102182937,
            "bin_end": 1.2021829370000001,
            "count": 0
           },
           {
            "bin_start": 1.2021829370000001,
            "bin_end": 1.302182937,
            "count": 0
           },
           {
            "bin_start": 1.302182937,
            "bin_end": 1.402182937,
            "count": 0
           },
           {
            "bin_start": 1.402182937,
            "bin_end": 1.5021829370000002,
            "count": 1
           },
           {
            "bin_start": 1.5021829370000002,
            "bin_end": 1.6021829370000003,
            "count": 0
           },
           {
            "bin_start": 1.6021829370000003,
            "bin_end": 1.7021829370000001,
            "count": 0
           },
           {
            "bin_start": 1.7021829370000001,
            "bin_end": 1.802182937,
            "count": 0
           },
           {
            "bin_start": 1.802182937,
            "bin_end": 1.902182937,
            "count": 0
           }
          ]
         }
        },
        {
         "name": "lifexp",
         "dtype": "float64",
         "stats": {
          "unique_count": 1,
          "nan_count": 0,
          "min": "0.595027924",
          "max": "0.595027924",
          "histogram": [
           {
            "bin_start": 0.09502792400000004,
            "bin_end": 0.19502792400000005,
            "count": 0
           },
           {
            "bin_start": 0.19502792400000005,
            "bin_end": 0.29502792400000005,
            "count": 0
           },
           {
            "bin_start": 0.29502792400000005,
            "bin_end": 0.3950279240000001,
            "count": 0
           },
           {
            "bin_start": 0.3950279240000001,
            "bin_end": 0.49502792400000006,
            "count": 0
           },
           {
            "bin_start": 0.49502792400000006,
            "bin_end": 0.595027924,
            "count": 0
           },
           {
            "bin_start": 0.595027924,
            "bin_end": 0.6950279240000001,
            "count": 1
           },
           {
            "bin_start": 0.6950279240000001,
            "bin_end": 0.7950279240000001,
            "count": 0
           },
           {
            "bin_start": 0.7950279240000001,
            "bin_end": 0.8950279240000001,
            "count": 0
           },
           {
            "bin_start": 0.8950279240000001,
            "bin_end": 0.9950279240000001,
            "count": 0
           },
           {
            "bin_start": 0.9950279240000001,
            "bin_end": 1.095027924,
            "count": 0
           }
          ]
         }
        },
        {
         "name": "freedom",
         "dtype": "float64",
         "stats": {
          "unique_count": 1,
          "nan_count": 0,
          "min": "0.477487415",
          "max": "0.477487415",
          "histogram": [
           {
            "bin_start": -0.022512584999999974,
            "bin_end": 0.07748741500000003,
            "count": 0
           },
           {
            "bin_start": 0.07748741500000003,
            "bin_end": 0.17748741500000004,
            "count": 0
           },
           {
            "bin_start": 0.17748741500000004,
            "bin_end": 0.27748741500000007,
            "count": 0
           },
           {
            "bin_start": 0.27748741500000007,
            "bin_end": 0.37748741500000005,
            "count": 0
           },
           {
            "bin_start": 0.37748741500000005,
            "bin_end": 0.477487415,
            "count": 0
           },
           {
            "bin_start": 0.477487415,
            "bin_end": 0.5774874150000001,
            "count": 1
           },
           {
            "bin_start": 0.5774874150000001,
            "bin_end": 0.6774874150000001,
            "count": 0
           },
           {
            "bin_start": 0.6774874150000001,
            "bin_end": 0.7774874150000001,
            "count": 0
           },
           {
            "bin_start": 0.7774874150000001,
            "bin_end": 0.877487415,
            "count": 0
           },
           {
            "bin_start": 0.877487415,
            "bin_end": 0.977487415,
            "count": 0
           }
          ]
         }
        },
        {
         "name": "generosity",
         "dtype": "float64",
         "stats": {
          "unique_count": 1,
          "nan_count": 0,
          "min": "0.149014473",
          "max": "0.149014473",
          "histogram": [
           {
            "bin_start": -0.35098552699999996,
            "bin_end": -0.250985527,
            "count": 0
           },
           {
            "bin_start": -0.250985527,
            "bin_end": -0.15098552699999995,
            "count": 0
           },
           {
            "bin_start": -0.15098552699999995,
            "bin_end": -0.05098552699999992,
            "count": 0
           },
           {
            "bin_start": -0.05098552699999992,
            "bin_end": 0.04901447300000006,
            "count": 0
           },
           {
            "bin_start": 0.04901447300000006,
            "bin_end": 0.14901447300000004,
            "count": 1
           },
           {
            "bin_start": 0.14901447300000004,
            "bin_end": 0.24901447300000012,
            "count": 0
           },
           {
            "bin_start": 0.24901447300000012,
            "bin_end": 0.3490144730000001,
            "count": 0
           },
           {
            "bin_start": 0.3490144730000001,
            "bin_end": 0.4490144730000001,
            "count": 0
           },
           {
            "bin_start": 0.4490144730000001,
            "bin_end": 0.5490144730000001,
            "count": 0
           },
           {
            "bin_start": 0.5490144730000001,
            "bin_end": 0.649014473,
            "count": 0
           }
          ]
         }
        },
        {
         "name": "corruption",
         "dtype": "float64",
         "stats": {
          "unique_count": 1,
          "nan_count": 0,
          "min": "0.046668742",
          "max": "0.046668742",
          "histogram": [
           {
            "bin_start": -0.453331258,
            "bin_end": -0.353331258,
            "count": 0
           },
           {
            "bin_start": -0.353331258,
            "bin_end": -0.253331258,
            "count": 0
           },
           {
            "bin_start": -0.253331258,
            "bin_end": -0.15333125799999997,
            "count": 0
           },
           {
            "bin_start": -0.15333125799999997,
            "bin_end": -0.05333125799999999,
            "count": 0
           },
           {
            "bin_start": -0.05333125799999999,
            "bin_end": 0.046668741999999985,
            "count": 0
           },
           {
            "bin_start": 0.046668741999999985,
            "bin_end": 0.14666874200000007,
            "count": 1
           },
           {
            "bin_start": 0.14666874200000007,
            "bin_end": 0.24666874200000005,
            "count": 0
           },
           {
            "bin_start": 0.24666874200000005,
            "bin_end": 0.34666874200000003,
            "count": 0
           },
           {
            "bin_start": 0.34666874200000003,
            "bin_end": 0.446668742,
            "count": 0
           },
           {
            "bin_start": 0.446668742,
            "bin_end": 0.546668742,
            "count": 0
           }
          ]
         }
        },
        {
         "name": "dystopia",
         "dtype": "float64",
         "stats": {
          "unique_count": 1,
          "nan_count": 0,
          "min": "2.616068125",
          "max": "2.616068125",
          "histogram": [
           {
            "bin_start": 2.116068125,
            "bin_end": 2.216068125,
            "count": 0
           },
           {
            "bin_start": 2.216068125,
            "bin_end": 2.316068125,
            "count": 0
           },
           {
            "bin_start": 2.316068125,
            "bin_end": 2.416068125,
            "count": 0
           },
           {
            "bin_start": 2.416068125,
            "bin_end": 2.516068125,
            "count": 0
           },
           {
            "bin_start": 2.516068125,
            "bin_end": 2.616068125,
            "count": 0
           },
           {
            "bin_start": 2.616068125,
            "bin_end": 2.716068125,
            "count": 1
           },
           {
            "bin_start": 2.716068125,
            "bin_end": 2.816068125,
            "count": 0
           },
           {
            "bin_start": 2.816068125,
            "bin_end": 2.916068125,
            "count": 0
           },
           {
            "bin_start": 2.916068125,
            "bin_end": 3.016068125,
            "count": 0
           },
           {
            "bin_start": 3.016068125,
            "bin_end": 3.116068125,
            "count": 0
           }
          ]
         }
        },
        {
         "name": "_deepnote_index_column",
         "dtype": "int64"
        }
       ],
       "rows_top": [
        {
         "country": "Colombia",
         "rank": 36,
         "score": 6.356999874,
         "high": 6.452020054,
         "low": 6.261979694,
         "gdp": 1.070622325,
         "family": 1.402182937,
         "lifexp": 0.595027924,
         "freedom": 0.477487415,
         "generosity": 0.149014473,
         "corruption": 0.046668742,
         "dystopia": 2.616068125,
         "_deepnote_index_column": 35
        }
       ],
       "rows_bottom": null
      },
      "text/plain": "     country  rank  score  high  low  gdp  family  lifexp  freedom  \\\n35  Colombia    36   6.36  6.45 6.26 1.07    1.40    0.60     0.48   \n\n    generosity  corruption  dystopia  \n35        0.15        0.05      2.62  ",
      "text/html": "<div>\n<style scoped>\n    .dataframe tbody tr th:only-of-type {\n        vertical-align: middle;\n    }\n\n    .dataframe tbody tr th {\n        vertical-align: top;\n    }\n\n    .dataframe thead th {\n        text-align: right;\n    }\n</style>\n<table border=\"1\" class=\"dataframe\">\n  <thead>\n    <tr style=\"text-align: right;\">\n      <th></th>\n      <th>country</th>\n      <th>rank</th>\n      <th>score</th>\n      <th>high</th>\n      <th>low</th>\n      <th>gdp</th>\n      <th>family</th>\n      <th>lifexp</th>\n      <th>freedom</th>\n      <th>generosity</th>\n      <th>corruption</th>\n      <th>dystopia</th>\n    </tr>\n  </thead>\n  <tbody>\n    <tr>\n      <th>35</th>\n      <td>Colombia</td>\n      <td>36</td>\n      <td>6.36</td>\n      <td>6.45</td>\n      <td>6.26</td>\n      <td>1.07</td>\n      <td>1.40</td>\n      <td>0.60</td>\n      <td>0.48</td>\n      <td>0.15</td>\n      <td>0.05</td>\n      <td>2.62</td>\n    </tr>\n  </tbody>\n</table>\n</div>"
     },
     "metadata": {}
    }
   ]
  },
  {
   "cell_type": "markdown",
   "source": "De acuerdo con los **resultados** se encuentra posicionado en el **rank** $36$ 😮, veamos más a fondo a qué se debe...",
   "metadata": {
    "cell_id": "00014-0b3ef437-4101-45c2-b997-822054ab38d5",
    "tags": [],
    "deepnote_cell_type": "markdown"
   }
  },
  {
   "cell_type": "code",
   "metadata": {
    "cell_id": "00010-663c43c7-8ad6-4801-a199-bc20be0251ba",
    "deepnote_to_be_reexecuted": false,
    "execution_millis": 432,
    "execution_start": 1636838809016,
    "source_hash": "4caa0bb5",
    "tags": [],
    "deepnote_output_heights": [
     300
    ],
    "deepnote_cell_type": "code"
   },
   "source": "# Relación entre los países con respecto al Rank y el Score\nsns.set_theme(style='whitegrid')\nplt.scatter(data['rank'], data['score'], linestyle='-', s=0.5, c ='r')\nplt.title('Rank vs Score\\n', fontsize=14)\nplt.xlabel('Rank', fontsize=10)\nplt.ylabel('Score', fontsize=10)\nplt.text(min(data['rank']), max(data['score']), 'Noruega')\nplt.text(max(data['rank']), min(data['score']), 'Republica Central de Africa')\nplt.text(36, 6.36, 'Colombia');",
   "execution_count": null,
   "outputs": [
    {
     "data": {
      "text/plain": "<Figure size 432x288 with 1 Axes>",
      "image/png": "[encoded data removed]"
     },
     "metadata": {
      "image/png": {
       "width": 528,
       "height": 298
      }
     },
     "output_type": "display_data"
    }
   ]
  },
  {
   "cell_type": "markdown",
   "source": "### Análisis del Scatterplot 🔎📊\n\nPodemos observar una relación inversamente proporcional, es decir, una alta **correlación** negativa entre el **Rank** vs el **Score**, sin embargo no es muy amplia esta información, tendremos que profundizar más a detalle",
   "metadata": {
    "cell_id": "00017-8fa1f454-c634-4ad6-8f5e-df605ad411af",
    "tags": [],
    "deepnote_cell_type": "markdown"
   }
  },
  {
   "cell_type": "code",
   "metadata": {
    "cell_id": "00010-2910febf-ce8f-487e-ba2b-45d4c80817c9",
    "deepnote_to_be_reexecuted": false,
    "execution_millis": 475,
    "execution_start": 1636838809508,
    "source_hash": "213c5153",
    "tags": [],
    "deepnote_output_heights": [
     278
    ],
    "deepnote_cell_type": "code"
   },
   "source": "# Hisplot\nsns.set_theme(style=\"whitegrid\")\nsns.histplot(data=data, x='gdp', color='green', edgecolor='black', linewidth=1, kde=True, bins=12)\nplt.subplot(1,1,1)\nplt.title('GDP vs Count\\n', fontsize=14)\nplt.xlabel('GDP',fontsize=12)\nplt.ylabel('Count',fontsize=12)\nplt.tight_layout();",
   "execution_count": null,
   "outputs": [
    {
     "data": {
      "text/plain": "<Figure size 432x288 with 1 Axes>",
      "image/png": "[encoded data removed]"
     },
     "metadata": {
      "image/png": {
       "width": 420,
       "height": 276
      }
     },
     "output_type": "display_data"
    }
   ]
  },
  {
   "cell_type": "markdown",
   "source": "### Análisis del Histplot 🔎📊\n\nPodemos observar que existe una **distribución normal** dentro de lo que cabe con respecto al aumento del **PIB** en la mayoría de países entre el $0.8$ y el $1.5$, además son realmente pocos los que crecen al $1.75$, podemos concluir que mientras las **economías** de sus naciones se mantengan _\"saludables\"_ las personas estarán _felices_ con ello, pero tendremos que buscar más información al respecto.",
   "metadata": {
    "cell_id": "00019-77ba8798-f8c3-40bd-b4f6-2f888474a8e4",
    "tags": [],
    "deepnote_cell_type": "markdown"
   }
  },
  {
   "cell_type": "code",
   "metadata": {
    "cell_id": "00011-025b60cb-d514-40be-a60b-a2e549f41d0b",
    "deepnote_to_be_reexecuted": false,
    "execution_millis": 447,
    "execution_start": 1636838810023,
    "source_hash": "d00e0491",
    "tags": [],
    "deepnote_output_heights": [
     278
    ],
    "deepnote_cell_type": "code"
   },
   "source": "# Hisplot\nsns.set_theme(style=\"whitegrid\")\nsns.histplot(data=data, x='corruption', color='gray', edgecolor='black', linewidth=1, kde=True, bins=5)\nplt.subplot(1,1,1)\nplt.title('Corruption vs Count\\n', fontsize=14)\nplt.xlabel('Corruption',fontsize=12)\nplt.ylabel('Count',fontsize=12)\nplt.tight_layout();",
   "execution_count": null,
   "outputs": [
    {
     "data": {
      "text/plain": "<Figure size 432x288 with 1 Axes>",
      "image/png": "[encoded data removed]"
     },
     "metadata": {
      "image/png": {
       "width": 420,
       "height": 276
      }
     },
     "output_type": "display_data"
    }
   ]
  },
  {
   "cell_type": "markdown",
   "source": "### Análisis del Histplot 🔎📊\n\nPodemos observar que con respecto a la **corrupción** existen más países alrededor del mundo en los que sus niveles de **corrupción** se encuentran muy cercanos a $0$, sin embargo esto lleva a varias preguntas y es ¿Qué tan cierto son estas estimaciones obtenidas? ¿Es más fácil de medir los niveles de **corrupción** de forma tan exacta, o serán resultados **sesgados**?",
   "metadata": {
    "cell_id": "00021-82463735-b64b-4e5a-9294-c9243d0a5dcd",
    "tags": [],
    "deepnote_cell_type": "markdown"
   }
  },
  {
   "cell_type": "code",
   "metadata": {
    "cell_id": "00011-2f3625eb-2d57-4314-a5b6-00217b61d60d",
    "deepnote_to_be_reexecuted": false,
    "execution_millis": 5,
    "execution_start": 1636838810475,
    "source_hash": "fc934a90",
    "tags": [],
    "deepnote_cell_type": "code"
   },
   "source": "# Correlation Matrix\nmatriz_corr = data.corr(method='spearman')",
   "execution_count": null,
   "outputs": []
  },
  {
   "cell_type": "code",
   "metadata": {
    "cell_id": "00012-882376b6-04d7-4779-b75f-ca5205e0224f",
    "deepnote_to_be_reexecuted": false,
    "execution_millis": 1839,
    "execution_start": 1636838810488,
    "source_hash": "901625d9",
    "tags": [],
    "deepnote_output_heights": [
     523
    ],
    "deepnote_cell_type": "code"
   },
   "source": "# Heatmap\nplt.subplots(figsize=(12,8))\nsns.heatmap(matriz_corr, annot=True, linewidths=0.5, cmap=sns.color_palette(\"flare\", as_cmap=True));",
   "execution_count": null,
   "outputs": [
    {
     "data": {
      "text/plain": "<Figure size 864x576 with 2 Axes>",
      "image/png": "[encoded data removed]"
     },
     "metadata": {
      "image/png": {
       "width": 716,
       "height": 521
      }
     },
     "output_type": "display_data"
    }
   ]
  },
  {
   "cell_type": "markdown",
   "source": "### Análisis de la Matriz de Correlación 🔢😳\n\nComo pudimos notar algunas cosas interesantes en nuestros **features** hay **altas correlaciones** entre algunas variables, lo cuál hace más fácil de determinar algunas cosas, como por ejemplo `gdp` con respecto a `score`, tienen un estrecho vínculo, también `lifexp` con respecto `gdp`, podemos presumir que nuestros **datos** _\"cumplen con las expectativas\"_ de ser **datos de calidad** hasta el momento, porque hay un buen comportamiento explicativo entre los **features**",
   "metadata": {
    "cell_id": "00024-b459d1f6-00cc-4f02-bfb9-e3adff281d4b",
    "tags": [],
    "deepnote_cell_type": "markdown"
   }
  },
  {
   "cell_type": "code",
   "metadata": {
    "cell_id": "00013-83b2558d-a4b9-47fc-8d5c-e342b00f6389",
    "deepnote_to_be_reexecuted": false,
    "execution_millis": 656,
    "execution_start": 1636838812364,
    "source_hash": "3875c38f",
    "tags": [],
    "deepnote_output_heights": [
     278
    ],
    "deepnote_cell_type": "code"
   },
   "source": "# Scatterplot\nsns.set_theme(style=\"darkgrid\")\nplt.subplot(1,1,1)\nsns.scatterplot(data=data, x='gdp', y='lifexp', palette='Spectral', alpha=1, hue='score')\nplt.title('GDP vs Lifexp\\n', fontsize=14)\nplt.xlabel('GDP',fontsize=10)\nplt.ylabel('Lifexp',fontsize=10)\nplt.tight_layout();",
   "execution_count": null,
   "outputs": [
    {
     "data": {
      "text/plain": "<Figure size 432x288 with 1 Axes>",
      "image/png": "[encoded data removed]"
     },
     "metadata": {
      "image/png": {
       "width": 420,
       "height": 276
      }
     },
     "output_type": "display_data"
    }
   ]
  },
  {
   "cell_type": "markdown",
   "source": "### Análisis del Scatterplot 📈🔍\n\nEsto luce bastante interesante, dependiendo del crecimiento del **PIB** de la mayoría de países la **calidad de vida** es mucho mayor y esto está bien fundamentado como una **buena medida** desde el **punto de vista económico**, a mayores rentas pércapita mejor **calidad de vida** en su población y esto se puede traducir en que su población se encontrará más feliz, puesto que no tienen tantas **necesidades de primer orden**, sin embargo ¿Será qué solo esto puede ser tomado como un referente para suponer que la **renta** es el determinante qué las personas se encuentren felices? Sigamos investigando...",
   "metadata": {
    "cell_id": "00026-27639c22-daa7-4b52-a1c4-b9f27474a2e3",
    "tags": [],
    "deepnote_cell_type": "markdown"
   }
  },
  {
   "cell_type": "markdown",
   "source": "# 5. Procesamiento de los datos 🧑‍💻",
   "metadata": {
    "cell_id": "00028-edd22f4c-1a4a-49ae-8f45-02c90b0c9f73",
    "is_collapsed": false,
    "tags": [],
    "deepnote_cell_type": "text-cell-h1"
   }
  },
  {
   "cell_type": "code",
   "metadata": {
    "cell_id": "00015-c3271174-dac5-4e86-8df9-5b2af183ec1f",
    "deepnote_to_be_reexecuted": false,
    "execution_millis": 4,
    "execution_start": 1636838813030,
    "source_hash": "3f807299",
    "tags": [],
    "deepnote_output_heights": [
     59.600006103515625
    ],
    "deepnote_cell_type": "code"
   },
   "source": "# Analizamos la columnas que queremos en nuestros features\ndata.columns",
   "execution_count": null,
   "outputs": [
    {
     "output_type": "execute_result",
     "execution_count": 15,
     "data": {
      "text/plain": "Index(['country', 'rank', 'score', 'high', 'low', 'gdp', 'family', 'lifexp',\n       'freedom', 'generosity', 'corruption', 'dystopia'],\n      dtype='object')"
     },
     "metadata": {}
    }
   ]
  },
  {
   "cell_type": "code",
   "metadata": {
    "cell_id": "00018-a76bada8-9615-4c52-99ee-c954884a206f",
    "deepnote_to_be_reexecuted": false,
    "execution_millis": 1,
    "execution_start": 1636838813042,
    "source_hash": "194a199e",
    "tags": [],
    "deepnote_cell_type": "code"
   },
   "source": "# Definimos nuestros features y nuestro target\nX = data.drop(['country','score','rank'], axis=1)\ny = data['score']",
   "execution_count": null,
   "outputs": []
  },
  {
   "cell_type": "markdown",
   "source": "Definimos nuestros **features** dejando de lado a aquellas variables que no encontramos **determinantes** para saber qué tan preciso es el estudio y como **target** el `score` que es lo que deseamos **predecir** como **output**",
   "metadata": {
    "cell_id": "00029-135ab718-6b48-43ca-9ee7-b942e9b7776f",
    "tags": [],
    "deepnote_cell_type": "markdown"
   }
  },
  {
   "cell_type": "code",
   "metadata": {
    "cell_id": "00017-495218e5-2336-4ada-9705-fe796bf99748",
    "deepnote_to_be_reexecuted": false,
    "execution_millis": 2,
    "execution_start": 1636838813052,
    "source_hash": "9dcddd51",
    "tags": [],
    "deepnote_output_heights": [
     21.199996948242188,
     21.199996948242188
    ],
    "deepnote_cell_type": "code"
   },
   "source": "# Dimensionamos nuestros features y target\ndisplay(X.shape)\ndisplay(y.shape)",
   "execution_count": null,
   "outputs": [
    {
     "data": {
      "text/plain": "(155, 9)"
     },
     "metadata": {},
     "output_type": "display_data"
    },
    {
     "data": {
      "text/plain": "(155,)"
     },
     "metadata": {},
     "output_type": "display_data"
    }
   ]
  },
  {
   "cell_type": "markdown",
   "source": "Cómo podemos observar debe haber una concordancia entre las **dimensiones** de nuestras variables, para que no ocurran problemas más adelante, donde tenemos $155$ **registros/observaciones** y $9$ **features** contenidas en `X` y solo $155$ registros en nuestra `y`",
   "metadata": {
    "cell_id": "00031-4ef8bea0-6089-42a0-b823-d9bced8dad14",
    "tags": [],
    "deepnote_cell_type": "markdown"
   }
  },
  {
   "cell_type": "code",
   "metadata": {
    "cell_id": "00016-4bde86c1-fc26-4bbb-8ed0-a3e466b4569e",
    "deepnote_to_be_reexecuted": false,
    "execution_millis": 591,
    "execution_start": 1636838813067,
    "source_hash": "ae9d626b",
    "tags": [],
    "deepnote_output_heights": [
     422
    ],
    "deepnote_cell_type": "code"
   },
   "source": "# Boxplot\nsns.set_theme(style=\"whitegrid\")\nplt.subplots(figsize=(10,6))\nX.boxplot()\nplt.tight_layout();",
   "execution_count": null,
   "outputs": [
    {
     "data": {
      "text/plain": "<Figure size 720x432 with 1 Axes>",
      "image/png": "[encoded data removed]"
     },
     "metadata": {
      "image/png": {
       "width": 708,
       "height": 420
      }
     },
     "output_type": "display_data"
    }
   ]
  },
  {
   "cell_type": "markdown",
   "source": "Podemos notar que estamos en presencia de **outliers** en algunos de nuestros **features**, sin embargo por la naturaleza de nuestro modelo tratándose de un **regresor** no es conveniente **estandarizar** o **escalar** nuestros datos. Así que haremos caso omiso por el momento, si nuestros resultados no son los _esperados_",
   "metadata": {
    "cell_id": "00033-8fedbece-6881-4043-9b10-3dd0a6167f89",
    "tags": [],
    "deepnote_cell_type": "markdown"
   }
  },
  {
   "cell_type": "markdown",
   "source": "# 6. Creamos nuestro modelo 🧠🤖",
   "metadata": {
    "cell_id": "00035-3c75e009-8f4f-4efc-8a19-497fa7041880",
    "is_collapsed": false,
    "tags": [],
    "deepnote_cell_type": "text-cell-h1"
   }
  },
  {
   "cell_type": "code",
   "metadata": {
    "cell_id": "00018-bb7905ab-5bdb-4d17-88d4-8a5ebb2571f2",
    "deepnote_to_be_reexecuted": false,
    "execution_millis": 2,
    "execution_start": 1636838813667,
    "source_hash": "e339eb7e",
    "tags": [],
    "deepnote_cell_type": "code"
   },
   "source": "# Definimos nuestro estimador\nregressor = DecisionTreeRegressor()",
   "execution_count": null,
   "outputs": []
  },
  {
   "cell_type": "markdown",
   "source": "Como bien mencionamos deseamos **estimar** unos datos y queremos saber qué tan **precisos** pueden serlo, por tal motivo usaremos un **regresor**",
   "metadata": {
    "cell_id": "00035-baed0c82-7a68-4921-8a1b-67842778b945",
    "tags": [],
    "deepnote_cell_type": "markdown"
   }
  },
  {
   "cell_type": "code",
   "metadata": {
    "cell_id": "00019-25e560af-2056-4b37-80ae-def1af935318",
    "deepnote_to_be_reexecuted": false,
    "execution_millis": 256970341,
    "execution_start": 1636838813680,
    "source_hash": "cd2f8cba",
    "tags": [],
    "deepnote_cell_type": "code"
   },
   "source": "# Grilla de Parámetros del estimador\ngrilla_parametros = {\n        'criterion': ['squared_error', 'friedman_mse', 'absolute_error', 'poisson'],\n        'max_depth': range(2,11),\n        'max_leaf_nodes': range(2,20)\n}",
   "execution_count": null,
   "outputs": []
  },
  {
   "cell_type": "markdown",
   "source": "Deseamos **optimizar nuestros parámetros** así que usaremos una **grilla** con los **parámetros** que deseamos obtener **optimizados**",
   "metadata": {
    "cell_id": "00037-c59d7e4c-2224-4249-b97d-193fa2e70319",
    "tags": [],
    "deepnote_cell_type": "markdown"
   }
  },
  {
   "cell_type": "code",
   "metadata": {
    "cell_id": "00019-48df8f5e-7be2-4a85-ad76-1447e9fc8b04",
    "deepnote_to_be_reexecuted": false,
    "execution_millis": 29263,
    "execution_start": 1636838813689,
    "source_hash": "c7a2f9ed",
    "tags": [],
    "deepnote_cell_type": "code"
   },
   "source": "# Definimos nuestra Grilla de búsqueda de parámetros y la entrenamos con nuestros features\ngrid_search = GridSearchCV(regressor, grilla_parametros, cv=3, n_jobs=10, scoring='neg_mean_squared_error').fit(X,y)",
   "execution_count": null,
   "outputs": []
  },
  {
   "cell_type": "markdown",
   "source": "Veamos cuáles fueron esos **parámetros** que encontró más **óptimos** por medio de nuestra **grilla** y con **Cross Validation** haciendo validaciones más **exhaustivas**",
   "metadata": {
    "cell_id": "00039-644fa2b7-5e4a-4590-9954-d86d10d4199a",
    "tags": [],
    "deepnote_cell_type": "markdown"
   }
  },
  {
   "cell_type": "code",
   "metadata": {
    "cell_id": "00020-0b6fcfd2-f1b6-4a2a-9efa-b760bc3d4aac",
    "deepnote_to_be_reexecuted": false,
    "execution_millis": 1,
    "execution_start": 1636838842993,
    "source_hash": "6ef0117e",
    "tags": [],
    "deepnote_output_heights": [
     21.199996948242188,
     21.199996948242188
    ],
    "deepnote_cell_type": "code"
   },
   "source": "# Mejores estimadores, parámetros y predicción\ndisplay(grid_search.best_estimator_)\ndisplay(grid_search.best_params_)",
   "execution_count": null,
   "outputs": [
    {
     "data": {
      "text/plain": "DecisionTreeRegressor(max_depth=4, max_leaf_nodes=16)"
     },
     "metadata": {},
     "output_type": "display_data"
    },
    {
     "data": {
      "text/plain": "{'criterion': 'squared_error', 'max_depth': 4, 'max_leaf_nodes': 16}"
     },
     "metadata": {},
     "output_type": "display_data"
    }
   ]
  },
  {
   "cell_type": "markdown",
   "source": "Utilizaremos los **parámetros** obtenidos de nuestra **grilla** para intentar **optimizar** nuestro **regresor**",
   "metadata": {
    "cell_id": "00043-900b3776-441a-4e5f-a3ba-6bc76f0688d0",
    "tags": [],
    "deepnote_cell_type": "markdown"
   }
  },
  {
   "cell_type": "markdown",
   "source": "# 7. Predicciones 📈📉",
   "metadata": {
    "cell_id": "00042-4582b896-91e8-4784-a8f4-e723382c35a9",
    "is_collapsed": false,
    "tags": [],
    "deepnote_cell_type": "text-cell-h1"
   }
  },
  {
   "cell_type": "code",
   "metadata": {
    "cell_id": "00041-d63d11e9-48ad-4b63-b033-1bf02661716f",
    "deepnote_to_be_reexecuted": false,
    "execution_millis": 45,
    "execution_start": 1636838843012,
    "source_hash": "7edc4096",
    "tags": [],
    "deepnote_cell_type": "code"
   },
   "source": "data[(data['country'] == 'Norway') | (data['country'] == 'Colombia') | (data['country'] == 'Central African Republic')]",
   "execution_count": null,
   "outputs": [
    {
     "output_type": "execute_result",
     "execution_count": 23,
     "data": {
      "application/vnd.deepnote.dataframe.v2+json": {
       "row_count": 3,
       "column_count": 12,
       "columns": [
        {
         "name": "country",
         "dtype": "object",
         "stats": {
          "unique_count": 3,
          "nan_count": 0,
          "categories": [
           {
            "name": "Norway",
            "count": 1
           },
           {
            "name": "Colombia",
            "count": 1
           },
           {
            "name": "Central African Republic",
            "count": 1
           }
          ]
         }
        },
        {
         "name": "rank",
         "dtype": "int64",
         "stats": {
          "unique_count": 3,
          "nan_count": 0,
          "min": "1",
          "max": "155",
          "histogram": [
           {
            "bin_start": 1,
            "bin_end": 16.4,
            "count": 1
           },
           {
            "bin_start": 16.4,
            "bin_end": 31.8,
            "count": 0
           },
           {
            "bin_start": 31.8,
            "bin_end": 47.2,
            "count": 1
           },
           {
            "bin_start": 47.2,
            "bin_end": 62.6,
            "count": 0
           },
           {
            "bin_start": 62.6,
            "bin_end": 78,
            "count": 0
           },
           {
            "bin_start": 78,
            "bin_end": 93.4,
            "count": 0
           },
           {
            "bin_start": 93.4,
            "bin_end": 108.8,
            "count": 0
           },
           {
            "bin_start": 108.8,
            "bin_end": 124.2,
            "count": 0
           },
           {
            "bin_start": 124.2,
            "bin_end": 139.6,
            "count": 0
           },
           {
            "bin_start": 139.6,
            "bin_end": 155,
            "count": 1
           }
          ]
         }
        },
        {
         "name": "score",
         "dtype": "float64",
         "stats": {
          "unique_count": 3,
          "nan_count": 0,
          "min": "2.693000078",
          "max": "7.537000179",
          "histogram": [
           {
            "bin_start": 2.693000078,
            "bin_end": 3.1774000880999997,
            "count": 1
           },
           {
            "bin_start": 3.1774000880999997,
            "bin_end": 3.6618000981999996,
            "count": 0
           },
           {
            "bin_start": 3.6618000981999996,
            "bin_end": 4.1462001083,
            "count": 0
           },
           {
            "bin_start": 4.1462001083,
            "bin_end": 4.6306001184,
            "count": 0
           },
           {
            "bin_start": 4.6306001184,
            "bin_end": 5.1150001285,
            "count": 0
           },
           {
            "bin_start": 5.1150001285,
            "bin_end": 5.5994001386,
            "count": 0
           },
           {
            "bin_start": 5.5994001386,
            "bin_end": 6.0838001487,
            "count": 0
           },
           {
            "bin_start": 6.0838001487,
            "bin_end": 6.5682001588,
            "count": 1
           },
           {
            "bin_start": 6.5682001588,
            "bin_end": 7.0526001689,
            "count": 0
           },
           {
            "bin_start": 7.0526001689,
            "bin_end": 7.537000179,
            "count": 1
           }
          ]
         }
        },
        {
         "name": "high",
         "dtype": "float64",
         "stats": {
          "unique_count": 3,
          "nan_count": 0,
          "min": "2.864884269",
          "max": "7.594444821",
          "histogram": [
           {
            "bin_start": 2.864884269,
            "bin_end": 3.3378403242,
            "count": 1
           },
           {
            "bin_start": 3.3378403242,
            "bin_end": 3.8107963794,
            "count": 0
           },
           {
            "bin_start": 3.8107963794,
            "bin_end": 4.2837524346,
            "count": 0
           },
           {
            "bin_start": 4.2837524346,
            "bin_end": 4.756708489799999,
            "count": 0
           },
           {
            "bin_start": 4.756708489799999,
            "bin_end": 5.229664545,
            "count": 0
           },
           {
            "bin_start": 5.229664545,
            "bin_end": 5.7026206001999995,
            "count": 0
           },
           {
            "bin_start": 5.7026206001999995,
            "bin_end": 6.1755766554,
            "count": 0
           },
           {
            "bin_start": 6.1755766554,
            "bin_end": 6.6485327106,
            "count": 1
           },
           {
            "bin_start": 6.6485327106,
            "bin_end": 7.1214887658,
            "count": 0
           },
           {
            "bin_start": 7.1214887658,
            "bin_end": 7.594444821,
            "count": 1
           }
          ]
         }
        },
        {
         "name": "low",
         "dtype": "float64",
         "stats": {
          "unique_count": 3,
          "nan_count": 0,
          "min": "2.521115887",
          "max": "7.479555538",
          "histogram": [
           {
            "bin_start": 2.521115887,
            "bin_end": 3.0169598521,
            "count": 1
           },
           {
            "bin_start": 3.0169598521,
            "bin_end": 3.5128038172,
            "count": 0
           },
           {
            "bin_start": 3.5128038172,
            "bin_end": 4.0086477823,
            "count": 0
           },
           {
            "bin_start": 4.0086477823,
            "bin_end": 4.5044917473999995,
            "count": 0
           },
           {
            "bin_start": 4.5044917473999995,
            "bin_end": 5.0003357125,
            "count": 0
           },
           {
            "bin_start": 5.0003357125,
            "bin_end": 5.496179677599999,
            "count": 0
           },
           {
            "bin_start": 5.496179677599999,
            "bin_end": 5.9920236426999995,
            "count": 0
           },
           {
            "bin_start": 5.9920236426999995,
            "bin_end": 6.487867607799999,
            "count": 1
           },
           {
            "bin_start": 6.487867607799999,
            "bin_end": 6.983711572899999,
            "count": 0
           },
           {
            "bin_start": 6.983711572899999,
            "bin_end": 7.479555538,
            "count": 1
           }
          ]
         }
        },
        {
         "name": "gdp",
         "dtype": "float64",
         "stats": {
          "unique_count": 3,
          "nan_count": 0,
          "min": "0.0",
          "max": "1.616463184",
          "histogram": [
           {
            "bin_start": 0,
            "bin_end": 0.16164631840000002,
            "count": 1
           },
           {
            "bin_start": 0.16164631840000002,
            "bin_end": 0.32329263680000003,
            "count": 0
           },
           {
            "bin_start": 0.32329263680000003,
            "bin_end": 0.4849389552000001,
            "count": 0
           },
           {
            "bin_start": 0.4849389552000001,
            "bin_end": 0.6465852736000001,
            "count": 0
           },
           {
            "bin_start": 0.6465852736000001,
            "bin_end": 0.808231592,
            "count": 0
           },
           {
            "bin_start": 0.808231592,
            "bin_end": 0.9698779104000002,
            "count": 0
           },
           {
            "bin_start": 0.9698779104000002,
            "bin_end": 1.1315242288,
            "count": 1
           },
           {
            "bin_start": 1.1315242288,
            "bin_end": 1.2931705472000001,
            "count": 0
           },
           {
            "bin_start": 1.2931705472000001,
            "bin_end": 1.4548168656000002,
            "count": 0
           },
           {
            "bin_start": 1.4548168656000002,
            "bin_end": 1.616463184,
            "count": 1
           }
          ]
         }
        },
        {
         "name": "family",
         "dtype": "float64",
         "stats": {
          "unique_count": 3,
          "nan_count": 0,
          "min": "0.0",
          "max": "1.53352356",
          "histogram": [
           {
            "bin_start": 0,
            "bin_end": 0.153352356,
            "count": 1
           },
           {
            "bin_start": 0.153352356,
            "bin_end": 0.306704712,
            "count": 0
           },
           {
            "bin_start": 0.306704712,
            "bin_end": 0.460057068,
            "count": 0
           },
           {
            "bin_start": 0.460057068,
            "bin_end": 0.613409424,
            "count": 0
           },
           {
            "bin_start": 0.613409424,
            "bin_end": 0.76676178,
            "count": 0
           },
           {
            "bin_start": 0.76676178,
            "bin_end": 0.920114136,
            "count": 0
           },
           {
            "bin_start": 0.920114136,
            "bin_end": 1.0734664919999999,
            "count": 0
           },
           {
            "bin_start": 1.0734664919999999,
            "bin_end": 1.226818848,
            "count": 0
           },
           {
            "bin_start": 1.226818848,
            "bin_end": 1.380171204,
            "count": 0
           },
           {
            "bin_start": 1.380171204,
            "bin_end": 1.53352356,
            "count": 2
           }
          ]
         }
        },
        {
         "name": "lifexp",
         "dtype": "float64",
         "stats": {
          "unique_count": 3,
          "nan_count": 0,
          "min": "0.018772686",
          "max": "0.796666503",
          "histogram": [
           {
            "bin_start": 0.018772686,
            "bin_end": 0.09656206769999999,
            "count": 1
           },
           {
            "bin_start": 0.09656206769999999,
            "bin_end": 0.1743514494,
            "count": 0
           },
           {
            "bin_start": 0.1743514494,
            "bin_end": 0.25214083109999996,
            "count": 0
           },
           {
            "bin_start": 0.25214083109999996,
            "bin_end": 0.32993021279999996,
            "count": 0
           },
           {
            "bin_start": 0.32993021279999996,
            "bin_end": 0.40771959449999995,
            "count": 0
           },
           {
            "bin_start": 0.40771959449999995,
            "bin_end": 0.48550897619999994,
            "count": 0
           },
           {
            "bin_start": 0.48550897619999994,
            "bin_end": 0.5632983579,
            "count": 0
           },
           {
            "bin_start": 0.5632983579,
            "bin_end": 0.6410877396,
            "count": 1
           },
           {
            "bin_start": 0.6410877396,
            "bin_end": 0.7188771212999999,
            "count": 0
           },
           {
            "bin_start": 0.7188771212999999,
            "bin_end": 0.796666503,
            "count": 1
           }
          ]
         }
        },
        {
         "name": "freedom",
         "dtype": "float64",
         "stats": {
          "unique_count": 3,
          "nan_count": 0,
          "min": "0.270842046",
          "max": "0.635422587",
          "histogram": [
           {
            "bin_start": 0.270842046,
            "bin_end": 0.3073001001,
            "count": 1
           },
           {
            "bin_start": 0.3073001001,
            "bin_end": 0.3437581542,
            "count": 0
           },
           {
            "bin_start": 0.3437581542,
            "bin_end": 0.3802162083,
            "count": 0
           },
           {
            "bin_start": 0.3802162083,
            "bin_end": 0.4166742624,
            "count": 0
           },
           {
            "bin_start": 0.4166742624,
            "bin_end": 0.45313231649999997,
            "count": 0
           },
           {
            "bin_start": 0.45313231649999997,
            "bin_end": 0.4895903706,
            "count": 1
           },
           {
            "bin_start": 0.4895903706,
            "bin_end": 0.5260484246999999,
            "count": 0
           },
           {
            "bin_start": 0.5260484246999999,
            "bin_end": 0.5625064788,
            "count": 0
           },
           {
            "bin_start": 0.5625064788,
            "bin_end": 0.5989645329,
            "count": 0
           },
           {
            "bin_start": 0.5989645329,
            "bin_end": 0.635422587,
            "count": 1
           }
          ]
         }
        },
        {
         "name": "generosity",
         "dtype": "float64",
         "stats": {
          "unique_count": 3,
          "nan_count": 0,
          "min": "0.149014473",
          "max": "0.362012237",
          "histogram": [
           {
            "bin_start": 0.149014473,
            "bin_end": 0.1703142494,
            "count": 1
           },
           {
            "bin_start": 0.1703142494,
            "bin_end": 0.1916140258,
            "count": 0
           },
           {
            "bin_start": 0.1916140258,
            "bin_end": 0.2129138022,
            "count": 0
           },
           {
            "bin_start": 0.2129138022,
            "bin_end": 0.23421357860000003,
            "count": 0
           },
           {
            "bin_start": 0.23421357860000003,
            "bin_end": 0.255513355,
            "count": 0
           },
           {
            "bin_start": 0.255513355,
            "bin_end": 0.2768131314,
            "count": 0
           },
           {
            "bin_start": 0.2768131314,
            "bin_end": 0.2981129078,
            "count": 1
           },
           {
            "bin_start": 0.2981129078,
            "bin_end": 0.3194126842,
            "count": 0
           },
           {
            "bin_start": 0.3194126842,
            "bin_end": 0.34071246060000004,
            "count": 0
           },
           {
            "bin_start": 0.34071246060000004,
            "bin_end": 0.362012237,
            "count": 1
           }
          ]
         }
        },
        {
         "name": "corruption",
         "dtype": "float64",
         "stats": {
          "unique_count": 3,
          "nan_count": 0,
          "min": "0.046668742",
          "max": "0.315963835",
          "histogram": [
           {
            "bin_start": 0.046668742,
            "bin_end": 0.0735982513,
            "count": 2
           },
           {
            "bin_start": 0.0735982513,
            "bin_end": 0.10052776060000002,
            "count": 0
           },
           {
            "bin_start": 0.10052776060000002,
            "bin_end": 0.1274572699,
            "count": 0
           },
           {
            "bin_start": 0.1274572699,
            "bin_end": 0.15438677920000002,
            "count": 0
           },
           {
            "bin_start": 0.15438677920000002,
            "bin_end": 0.18131628850000003,
            "count": 0
           },
           {
            "bin_start": 0.18131628850000003,
            "bin_end": 0.20824579780000002,
            "count": 0
           },
           {
            "bin_start": 0.20824579780000002,
            "bin_end": 0.2351753071,
            "count": 0
           },
           {
            "bin_start": 0.2351753071,
            "bin_end": 0.26210481640000005,
            "count": 0
           },
           {
            "bin_start": 0.26210481640000005,
            "bin_end": 0.28903432570000004,
            "count": 0
           },
           {
            "bin_start": 0.28903432570000004,
            "bin_end": 0.315963835,
            "count": 1
           }
          ]
         }
        },
        {
         "name": "dystopia",
         "dtype": "float64",
         "stats": {
          "unique_count": 3,
          "nan_count": 0,
          "min": "2.066004753",
          "max": "2.616068125",
          "histogram": [
           {
            "bin_start": 2.066004753,
            "bin_end": 2.1210110902,
            "count": 1
           },
           {
            "bin_start": 2.1210110902,
            "bin_end": 2.1760174274,
            "count": 0
           },
           {
            "bin_start": 2.1760174274,
            "bin_end": 2.2310237646,
            "count": 0
           },
           {
            "bin_start": 2.2310237646,
            "bin_end": 2.2860301018,
            "count": 1
           },
           {
            "bin_start": 2.2860301018,
            "bin_end": 2.341036439,
            "count": 0
           },
           {
            "bin_start": 2.341036439,
            "bin_end": 2.3960427762,
            "count": 0
           },
           {
            "bin_start": 2.3960427762,
            "bin_end": 2.4510491134,
            "count": 0
           },
           {
            "bin_start": 2.4510491134,
            "bin_end": 2.5060554506,
            "count": 0
           },
           {
            "bin_start": 2.5060554506,
            "bin_end": 2.5610617878,
            "count": 0
           },
           {
            "bin_start": 2.5610617878,
            "bin_end": 2.616068125,
            "count": 1
           }
          ]
         }
        },
        {
         "name": "_deepnote_index_column",
         "dtype": "int64"
        }
       ],
       "rows_top": [
        {
         "country": "Norway",
         "rank": 1,
         "score": 7.537000179,
         "high": 7.594444821,
         "low": 7.479555538,
         "gdp": 1.616463184,
         "family": 1.53352356,
         "lifexp": 0.796666503,
         "freedom": 0.635422587,
         "generosity": 0.362012237,
         "corruption": 0.315963835,
         "dystopia": 2.277026653,
         "_deepnote_index_column": 0
        },
        {
         "country": "Colombia",
         "rank": 36,
         "score": 6.356999874,
         "high": 6.452020054,
         "low": 6.261979694,
         "gdp": 1.070622325,
         "family": 1.402182937,
         "lifexp": 0.595027924,
         "freedom": 0.477487415,
         "generosity": 0.149014473,
         "corruption": 0.046668742,
         "dystopia": 2.616068125,
         "_deepnote_index_column": 35
        },
        {
         "country": "Central African Republic",
         "rank": 155,
         "score": 2.693000078,
         "high": 2.864884269,
         "low": 2.521115887,
         "gdp": 0,
         "family": 0,
         "lifexp": 0.018772686,
         "freedom": 0.270842046,
         "generosity": 0.280876487,
         "corruption": 0.056565076,
         "dystopia": 2.066004753,
         "_deepnote_index_column": 154
        }
       ],
       "rows_bottom": null
      },
      "text/plain": "                      country  rank  score  high  low  gdp  family  lifexp  \\\n0                      Norway     1   7.54  7.59 7.48 1.62    1.53    0.80   \n35                   Colombia    36   6.36  6.45 6.26 1.07    1.40    0.60   \n154  Central African Republic   155   2.69  2.86 2.52 0.00    0.00    0.02   \n\n     freedom  generosity  corruption  dystopia  \n0       0.64        0.36        0.32      2.28  \n35      0.48        0.15        0.05      2.62  \n154     0.27        0.28        0.06      2.07  ",
      "text/html": "<div>\n<style scoped>\n    .dataframe tbody tr th:only-of-type {\n        vertical-align: middle;\n    }\n\n    .dataframe tbody tr th {\n        vertical-align: top;\n    }\n\n    .dataframe thead th {\n        text-align: right;\n    }\n</style>\n<table border=\"1\" class=\"dataframe\">\n  <thead>\n    <tr style=\"text-align: right;\">\n      <th></th>\n      <th>country</th>\n      <th>rank</th>\n      <th>score</th>\n      <th>high</th>\n      <th>low</th>\n      <th>gdp</th>\n      <th>family</th>\n      <th>lifexp</th>\n      <th>freedom</th>\n      <th>generosity</th>\n      <th>corruption</th>\n      <th>dystopia</th>\n    </tr>\n  </thead>\n  <tbody>\n    <tr>\n      <th>0</th>\n      <td>Norway</td>\n      <td>1</td>\n      <td>7.54</td>\n      <td>7.59</td>\n      <td>7.48</td>\n      <td>1.62</td>\n      <td>1.53</td>\n      <td>0.80</td>\n      <td>0.64</td>\n      <td>0.36</td>\n      <td>0.32</td>\n      <td>2.28</td>\n    </tr>\n    <tr>\n      <th>35</th>\n      <td>Colombia</td>\n      <td>36</td>\n      <td>6.36</td>\n      <td>6.45</td>\n      <td>6.26</td>\n      <td>1.07</td>\n      <td>1.40</td>\n      <td>0.60</td>\n      <td>0.48</td>\n      <td>0.15</td>\n      <td>0.05</td>\n      <td>2.62</td>\n    </tr>\n    <tr>\n      <th>154</th>\n      <td>Central African Republic</td>\n      <td>155</td>\n      <td>2.69</td>\n      <td>2.86</td>\n      <td>2.52</td>\n      <td>0.00</td>\n      <td>0.00</td>\n      <td>0.02</td>\n      <td>0.27</td>\n      <td>0.28</td>\n      <td>0.06</td>\n      <td>2.07</td>\n    </tr>\n  </tbody>\n</table>\n</div>"
     },
     "metadata": {}
    }
   ]
  },
  {
   "cell_type": "markdown",
   "source": "Utilizaremos estos países como **muestra** para analizar las **predicciones**",
   "metadata": {
    "cell_id": "00046-e4156341-40a0-4b61-96b0-2638f6f3930d",
    "tags": [],
    "deepnote_cell_type": "markdown"
   }
  },
  {
   "cell_type": "code",
   "metadata": {
    "cell_id": "00022-30617807-09d1-4846-9f47-60a14f0b7e80",
    "deepnote_to_be_reexecuted": false,
    "execution_millis": 17,
    "execution_start": 1636838843055,
    "source_hash": "85a2ff4b",
    "tags": [],
    "deepnote_output_heights": [
     21.199996948242188,
     21.199996948242188,
     21.199996948242188
    ],
    "deepnote_cell_type": "code"
   },
   "source": "# Los Scores obtenidos del dataset\n\n# Norway\nnorway_real = y.loc[[0]].tolist()\nnorway_real = round(norway_real[0],3)\ndisplay(f'Score de Noruega: {norway_real}')\n\n# Colombia\ncolombia_real = y.loc[[35]].tolist()\ncolombia_real = round(colombia_real[0],3)\ndisplay(f'Score de Colombia: {colombia_real}')\n\n# República de África Central\nrep_af_cen_real = y.loc[[154]].tolist()\nrep_af_cen_real = round(rep_af_cen_real[0],3)\ndisplay(f'Score de República Centroafricana: {rep_af_cen_real}')",
   "execution_count": null,
   "outputs": [
    {
     "data": {
      "text/plain": "'Score de Noruega: 7.537'"
     },
     "metadata": {},
     "output_type": "display_data"
    },
    {
     "data": {
      "text/plain": "'Score de Colombia: 6.357'"
     },
     "metadata": {},
     "output_type": "display_data"
    },
    {
     "data": {
      "text/plain": "'Score de República Centroafricana: 2.693'"
     },
     "metadata": {},
     "output_type": "display_data"
    }
   ]
  },
  {
   "cell_type": "code",
   "metadata": {
    "cell_id": "00041-6a9c6e11-afdd-4931-b480-084faf8f1776",
    "deepnote_to_be_reexecuted": false,
    "execution_millis": 26,
    "execution_start": 1636838843073,
    "source_hash": "34755e54",
    "tags": [],
    "deepnote_output_heights": [
     21.199996948242188,
     21.199996948242188,
     21.199996948242188
    ],
    "deepnote_cell_type": "code"
   },
   "source": "# La predicción que encontró nuestro regresor con parámetros optmizados\n\n# Norway\nnorway = grid_search.predict(X.loc[[0]]).tolist()\nnorway = round(norway[0],3)\ndisplay(f'Score estimado de Noruega: {norway}')\n\n# Colombia\ncolombia = grid_search.predict(X.loc[[35]]).tolist()\ncolombia = round(colombia[0],3)\ndisplay(f'Score estimado de Colombia: {colombia}')\n\n# República de África Central\nrep_af_cen = grid_search.predict(X.loc[[154]]).tolist()\nrep_af_cen = round(rep_af_cen[0],3)\ndisplay(f'Score estimado de República Centroafricana: {rep_af_cen}')",
   "execution_count": null,
   "outputs": [
    {
     "data": {
      "text/plain": "'Score estimado de Noruega: 7.484'"
     },
     "metadata": {},
     "output_type": "display_data"
    },
    {
     "data": {
      "text/plain": "'Score estimado de Colombia: 6.413'"
     },
     "metadata": {},
     "output_type": "display_data"
    },
    {
     "data": {
      "text/plain": "'Score estimado de República Centroafricana: 2.799'"
     },
     "metadata": {},
     "output_type": "display_data"
    }
   ]
  },
  {
   "cell_type": "markdown",
   "source": "### Análisis de las predicciones\n\nNuestros **resultados** fueron muy buenos, tienen realmente poca **variación** entre los valores **reales** y **predecidos**",
   "metadata": {
    "cell_id": "00049-f1758336-1ab2-4a64-a0c1-d59ecccf66d0",
    "tags": [],
    "deepnote_cell_type": "markdown"
   }
  },
  {
   "cell_type": "markdown",
   "source": "Veámoslo con mayor claridad en un **dataframe** ",
   "metadata": {
    "cell_id": "00050-0faa0bca-08d6-4e99-8fa1-8bb249d7f3a6",
    "tags": [],
    "deepnote_cell_type": "markdown"
   }
  },
  {
   "cell_type": "code",
   "metadata": {
    "cell_id": "00044-af2c2f87-e8b8-4411-b786-d726c989a938",
    "deepnote_to_be_reexecuted": false,
    "execution_millis": 48,
    "execution_start": 1636838843130,
    "source_hash": "8adebc39",
    "tags": [],
    "deepnote_cell_type": "code"
   },
   "source": "# Pivot Table\npaises = ['Norway','Colombia','Central African Republic']\nresultados_reales = [norway_real, colombia_real, rep_af_cen_real]\nresultados_est = [norway, colombia, rep_af_cen]\n\npaquete = list(zip(paises, resultados_reales, resultados_est))\n\ndf = pd.DataFrame(paquete)\nheader = ['Países','Score Real','Score Estimado']\ndf.columns = header\ndf",
   "execution_count": null,
   "outputs": [
    {
     "output_type": "execute_result",
     "execution_count": 26,
     "data": {
      "application/vnd.deepnote.dataframe.v2+json": {
       "row_count": 3,
       "column_count": 3,
       "columns": [
        {
         "name": "Países",
         "dtype": "object",
         "stats": {
          "unique_count": 3,
          "nan_count": 0,
          "categories": [
           {
            "name": "Norway",
            "count": 1
           },
           {
            "name": "Colombia",
            "count": 1
           },
           {
            "name": "Central African Republic",
            "count": 1
           }
          ]
         }
        },
        {
         "name": "Score Real",
         "dtype": "float64",
         "stats": {
          "unique_count": 3,
          "nan_count": 0,
          "min": "2.693",
          "max": "7.537",
          "histogram": [
           {
            "bin_start": 2.693,
            "bin_end": 3.1774,
            "count": 1
           },
           {
            "bin_start": 3.1774,
            "bin_end": 3.6618,
            "count": 0
           },
           {
            "bin_start": 3.6618,
            "bin_end": 4.1462,
            "count": 0
           },
           {
            "bin_start": 4.1462,
            "bin_end": 4.630599999999999,
            "count": 0
           },
           {
            "bin_start": 4.630599999999999,
            "bin_end": 5.115,
            "count": 0
           },
           {
            "bin_start": 5.115,
            "bin_end": 5.599399999999999,
            "count": 0
           },
           {
            "bin_start": 5.599399999999999,
            "bin_end": 6.0838,
            "count": 0
           },
           {
            "bin_start": 6.0838,
            "bin_end": 6.568199999999999,
            "count": 1
           },
           {
            "bin_start": 6.568199999999999,
            "bin_end": 7.0526,
            "count": 0
           },
           {
            "bin_start": 7.0526,
            "bin_end": 7.537,
            "count": 1
           }
          ]
         }
        },
        {
         "name": "Score Estimado",
         "dtype": "float64",
         "stats": {
          "unique_count": 3,
          "nan_count": 0,
          "min": "2.799",
          "max": "7.484",
          "histogram": [
           {
            "bin_start": 2.799,
            "bin_end": 3.2675,
            "count": 1
           },
           {
            "bin_start": 3.2675,
            "bin_end": 3.7359999999999998,
            "count": 0
           },
           {
            "bin_start": 3.7359999999999998,
            "bin_end": 4.2044999999999995,
            "count": 0
           },
           {
            "bin_start": 4.2044999999999995,
            "bin_end": 4.673,
            "count": 0
           },
           {
            "bin_start": 4.673,
            "bin_end": 5.141500000000001,
            "count": 0
           },
           {
            "bin_start": 5.141500000000001,
            "bin_end": 5.609999999999999,
            "count": 0
           },
           {
            "bin_start": 5.609999999999999,
            "bin_end": 6.0785,
            "count": 0
           },
           {
            "bin_start": 6.0785,
            "bin_end": 6.547000000000001,
            "count": 1
           },
           {
            "bin_start": 6.547000000000001,
            "bin_end": 7.015499999999999,
            "count": 0
           },
           {
            "bin_start": 7.015499999999999,
            "bin_end": 7.484,
            "count": 1
           }
          ]
         }
        },
        {
         "name": "_deepnote_index_column",
         "dtype": "int64"
        }
       ],
       "rows_top": [
        {
         "Países": "Norway",
         "Score Real": 7.537,
         "Score Estimado": 7.484,
         "_deepnote_index_column": 0
        },
        {
         "Países": "Colombia",
         "Score Real": 6.357,
         "Score Estimado": 6.413,
         "_deepnote_index_column": 1
        },
        {
         "Países": "Central African Republic",
         "Score Real": 2.693,
         "Score Estimado": 2.799,
         "_deepnote_index_column": 2
        }
       ],
       "rows_bottom": null
      },
      "text/plain": "                     Países  Score Real  Score Estimado\n0                    Norway        7.54            7.48\n1                  Colombia        6.36            6.41\n2  Central African Republic        2.69            2.80",
      "text/html": "<div>\n<style scoped>\n    .dataframe tbody tr th:only-of-type {\n        vertical-align: middle;\n    }\n\n    .dataframe tbody tr th {\n        vertical-align: top;\n    }\n\n    .dataframe thead th {\n        text-align: right;\n    }\n</style>\n<table border=\"1\" class=\"dataframe\">\n  <thead>\n    <tr style=\"text-align: right;\">\n      <th></th>\n      <th>Países</th>\n      <th>Score Real</th>\n      <th>Score Estimado</th>\n    </tr>\n  </thead>\n  <tbody>\n    <tr>\n      <th>0</th>\n      <td>Norway</td>\n      <td>7.54</td>\n      <td>7.48</td>\n    </tr>\n    <tr>\n      <th>1</th>\n      <td>Colombia</td>\n      <td>6.36</td>\n      <td>6.41</td>\n    </tr>\n    <tr>\n      <th>2</th>\n      <td>Central African Republic</td>\n      <td>2.69</td>\n      <td>2.80</td>\n    </tr>\n  </tbody>\n</table>\n</div>"
     },
     "metadata": {}
    }
   ]
  },
  {
   "cell_type": "markdown",
   "source": "# 8. Validamos nuestro modelo 🦾🤖",
   "metadata": {
    "cell_id": "00048-9aba00fd-74bd-45e0-bfeb-ee048c3e228f",
    "is_collapsed": false,
    "tags": [],
    "deepnote_cell_type": "text-cell-h1"
   }
  },
  {
   "cell_type": "code",
   "metadata": {
    "cell_id": "00022-cb3bb162-be76-4bda-9215-c2800be559b2",
    "deepnote_to_be_reexecuted": false,
    "execution_millis": 0,
    "execution_start": 1636838843179,
    "source_hash": "9e1b14de",
    "tags": [],
    "deepnote_cell_type": "code"
   },
   "source": "# Definimos nuestro estimador optimizado\nregressor_op = DecisionTreeRegressor(criterion='friedman_mse', max_depth=4, max_leaf_nodes=18)",
   "execution_count": null,
   "outputs": []
  },
  {
   "cell_type": "markdown",
   "source": "**Parámetros** obtenidos por medio de nuestra **grilla**",
   "metadata": {
    "cell_id": "00054-ca05c294-6899-4128-8d86-ba46f01a37d3",
    "tags": [],
    "deepnote_cell_type": "markdown"
   }
  },
  {
   "cell_type": "code",
   "metadata": {
    "cell_id": "00010-711d49f9-d3a5-4c5c-ad05-7a662c2542b7",
    "deepnote_to_be_reexecuted": false,
    "execution_millis": 42,
    "execution_start": 1636838843180,
    "source_hash": "c98aa1ca",
    "tags": [],
    "deepnote_output_heights": [
     21.199996948242188,
     21.199996948242188
    ],
    "deepnote_cell_type": "code"
   },
   "source": "# Cross Validation sin ajustar\ncross_val = cross_val_score(regressor_op, X, y, scoring='neg_mean_squared_error')\ndisplay(f'Resultado de los K-Folds sin ajustar: {cross_val}')\n\ncross_val_abs = f'K-Folds en valor absoluto: {np.abs(np.mean(cross_val))}'\ndisplay(cross_val_abs)",
   "execution_count": null,
   "outputs": [
    {
     "data": {
      "text/plain": "'Resultado de los K-Folds sin ajustar: [-0.45531418 -0.10783508 -0.07354231 -0.11085131 -0.43323043]'"
     },
     "metadata": {},
     "output_type": "display_data"
    },
    {
     "data": {
      "text/plain": "'K-Folds en valor absoluto: 0.23615466344749572'"
     },
     "metadata": {},
     "output_type": "display_data"
    }
   ]
  },
  {
   "cell_type": "markdown",
   "source": "Por la naturaleza del **dataset** y la cantidad de **datos** un buen `cv` estaría bien en $3$, porque no tenemos tantos datos para hacer **pliegues**",
   "metadata": {
    "cell_id": "00056-61eb6cef-c99a-466e-be97-6d4269a4db92",
    "tags": [],
    "deepnote_cell_type": "markdown"
   }
  },
  {
   "cell_type": "code",
   "metadata": {
    "cell_id": "00011-3463fd6b-c561-457e-aa86-4b7ea1dc4fa6",
    "deepnote_to_be_reexecuted": false,
    "execution_millis": 24,
    "execution_start": 1636838843221,
    "source_hash": "ecec0af3",
    "tags": [],
    "deepnote_output_heights": [
     21.199996948242188,
     21.199996948242188
    ],
    "deepnote_cell_type": "code"
   },
   "source": "# Si Ajustamos a 3 nuestro Cross Validation y hayamos la media en valor absoluto\ncross_val = cross_val_score(regressor_op, X, y, cv=3, scoring='neg_mean_squared_error')\ndisplay(f'Resultado de los K-Folds ajustado: {cross_val}')\n\ncross_val_abs = f'K-Folds en valor absoluto: {np.abs(np.mean(cross_val))}'\ndisplay(cross_val_abs)",
   "execution_count": null,
   "outputs": [
    {
     "data": {
      "text/plain": "'Resultado de los K-Folds ajustado: [-0.87290374 -0.18376376 -0.7384274 ]'"
     },
     "metadata": {},
     "output_type": "display_data"
    },
    {
     "data": {
      "text/plain": "'K-Folds en valor absoluto: 0.5983649654888349'"
     },
     "metadata": {},
     "output_type": "display_data"
    }
   ]
  },
  {
   "cell_type": "markdown",
   "source": "Nuestro **K-Fold promediado** mejora con nuestra cantidad de $k$ ",
   "metadata": {
    "cell_id": "00058-08e984e6-d25d-4d3e-9251-a1e67d75d0aa",
    "tags": [],
    "deepnote_cell_type": "markdown"
   }
  },
  {
   "cell_type": "code",
   "metadata": {
    "cell_id": "00012-35f0af87-9353-4b47-b112-7d3e6683d6f8",
    "deepnote_to_be_reexecuted": false,
    "execution_millis": 71,
    "execution_start": 1636838843251,
    "source_hash": "b2ac1854",
    "tags": [],
    "deepnote_output_heights": [
     null,
     155.60000610351562,
     78.80000305175781,
     null,
     155.60000610351562,
     78.80000305175781,
     null,
     155.60000610351562,
     78.80000305175781
    ],
    "deepnote_cell_type": "code"
   },
   "source": "# Cross Validation & K-Fold\n\nkf = KFold(n_splits=3, shuffle=True, random_state=25)\n\nlosses = []\n\nfor train, test in kf.split(data):\n  \n    print('Cada una de las iteraciones')\n    display(train,test)\n\n    X_train = X.iloc[train]\n    y_train = y.iloc[train]\n    X_test = X.iloc[test]\n    y_test = y.iloc[test]\n\n    # Entrenamos el modelo con nuestros datos de entrenamiento \n    regressor_op.fit(X_train, y_train)\n\n    # Hacemos la predicción con nuestros features de prueba\n    y_pred = regressor_op.predict(X_test)\n\n    # Obtenemos cada una de las pérdidas y las almacenamos en una lista\n    loss = mean_squared_error(y_test, y_pred)\n    losses.append(loss)",
   "execution_count": null,
   "outputs": [
    {
     "name": "stdout",
     "text": "Cada una de las iteraciones\n",
     "output_type": "stream"
    },
    {
     "data": {
      "text/plain": "array([  1,   2,   3,   5,   7,   9,  11,  12,  13,  14,  15,  17,  18,\n        19,  22,  24,  27,  29,  30,  32,  33,  36,  37,  38,  39,  43,\n        44,  45,  46,  47,  48,  50,  51,  53,  55,  56,  57,  59,  60,\n        61,  62,  63,  65,  67,  68,  71,  73,  74,  76,  80,  82,  83,\n        84,  85,  87,  88,  89,  90,  92,  95,  96,  98,  99, 101, 102,\n       104, 105, 106, 107, 109, 110, 112, 113, 114, 115, 116, 118, 119,\n       122, 123, 124, 125, 127, 128, 129, 131, 132, 134, 135, 136, 137,\n       139, 141, 142, 143, 144, 145, 146, 147, 150, 151, 153, 154])"
     },
     "metadata": {},
     "output_type": "display_data"
    },
    {
     "data": {
      "text/plain": "array([  0,   4,   6,   8,  10,  16,  20,  21,  23,  25,  26,  28,  31,\n        34,  35,  40,  41,  42,  49,  52,  54,  58,  64,  66,  69,  70,\n        72,  75,  77,  78,  79,  81,  86,  91,  93,  94,  97, 100, 103,\n       108, 111, 117, 120, 121, 126, 130, 133, 138, 140, 148, 149, 152])"
     },
     "metadata": {},
     "output_type": "display_data"
    },
    {
     "name": "stdout",
     "text": "Cada una de las iteraciones\n",
     "output_type": "stream"
    },
    {
     "data": {
      "text/plain": "array([  0,   1,   2,   3,   4,   5,   6,   8,  10,  11,  14,  16,  17,\n        20,  21,  22,  23,  25,  26,  28,  30,  31,  34,  35,  36,  38,\n        40,  41,  42,  43,  45,  47,  48,  49,  50,  52,  54,  57,  58,\n        60,  61,  62,  64,  66,  69,  70,  72,  73,  74,  75,  77,  78,\n        79,  81,  83,  84,  86,  88,  89,  90,  91,  92,  93,  94,  97,\n        98, 100, 101, 103, 104, 106, 107, 108, 109, 111, 112, 116, 117,\n       118, 119, 120, 121, 122, 126, 129, 130, 131, 132, 133, 134, 136,\n       137, 138, 139, 140, 142, 143, 145, 148, 149, 151, 152, 154])"
     },
     "metadata": {},
     "output_type": "display_data"
    },
    {
     "data": {
      "text/plain": "array([  7,   9,  12,  13,  15,  18,  19,  24,  27,  29,  32,  33,  37,\n        39,  44,  46,  51,  53,  55,  56,  59,  63,  65,  67,  68,  71,\n        76,  80,  82,  85,  87,  95,  96,  99, 102, 105, 110, 113, 114,\n       115, 123, 124, 125, 127, 128, 135, 141, 144, 146, 147, 150, 153])"
     },
     "metadata": {},
     "output_type": "display_data"
    },
    {
     "name": "stdout",
     "text": "Cada una de las iteraciones\n",
     "output_type": "stream"
    },
    {
     "data": {
      "text/plain": "array([  0,   4,   6,   7,   8,   9,  10,  12,  13,  15,  16,  18,  19,\n        20,  21,  23,  24,  25,  26,  27,  28,  29,  31,  32,  33,  34,\n        35,  37,  39,  40,  41,  42,  44,  46,  49,  51,  52,  53,  54,\n        55,  56,  58,  59,  63,  64,  65,  66,  67,  68,  69,  70,  71,\n        72,  75,  76,  77,  78,  79,  80,  81,  82,  85,  86,  87,  91,\n        93,  94,  95,  96,  97,  99, 100, 102, 103, 105, 108, 110, 111,\n       113, 114, 115, 117, 120, 121, 123, 124, 125, 126, 127, 128, 130,\n       133, 135, 138, 140, 141, 144, 146, 147, 148, 149, 150, 152, 153])"
     },
     "metadata": {},
     "output_type": "display_data"
    },
    {
     "data": {
      "text/plain": "array([  1,   2,   3,   5,  11,  14,  17,  22,  30,  36,  38,  43,  45,\n        47,  48,  50,  57,  60,  61,  62,  73,  74,  83,  84,  88,  89,\n        90,  92,  98, 101, 104, 106, 107, 109, 112, 116, 118, 119, 122,\n       129, 131, 132, 134, 136, 137, 139, 142, 143, 145, 151, 154])"
     },
     "metadata": {},
     "output_type": "display_data"
    }
   ]
  },
  {
   "cell_type": "markdown",
   "source": "Veamos las **predicciones** de nuestro **regresor** pero ahora con los **datos de prueba** del **dataset**",
   "metadata": {
    "cell_id": "00060-16c42dcb-bd0c-4730-a11e-a5f10886afe7",
    "tags": [],
    "deepnote_cell_type": "markdown"
   }
  },
  {
   "cell_type": "code",
   "metadata": {
    "cell_id": "00023-6347195b-b5bd-4bb2-9328-93bdfa950a9e",
    "deepnote_to_be_reexecuted": false,
    "execution_millis": 8,
    "execution_start": 1636838843361,
    "source_hash": "2fec017c",
    "tags": [],
    "deepnote_output_heights": [
     null,
     213.1999969482422
    ],
    "deepnote_cell_type": "code"
   },
   "source": "# Realizamos la predicción con nuestros features de prueba\nprint('\\t\\t\\tValores Predecidos')\ndisplay(y_pred)",
   "execution_count": null,
   "outputs": [
    {
     "name": "stdout",
     "text": "\t\t\tValores Predecidos\n",
     "output_type": "stream"
    },
    {
     "data": {
      "text/plain": "array([7.34528569, 7.34528569, 7.34528569, 7.34528569, 6.96025002,\n       6.96025002, 6.96025002, 6.61562502, 6.41762495, 6.41762495,\n       6.06885719, 6.06885719, 6.06885719, 6.06885719, 6.06885719,\n       6.06885719, 5.85799991, 5.85799991, 5.85799991, 5.60749996,\n       5.26353847, 5.26353847, 5.26353847, 5.26353847, 5.26353847,\n       5.26353847, 5.26353847, 5.26353847, 5.02649999, 4.76200008,\n       4.76200008, 4.54714285, 4.76200008, 4.54714285, 4.30959997,\n       4.54714285, 4.54714285, 4.30959997, 4.30959997, 4.11000001,\n       4.11000001, 4.11000001, 4.11000001, 4.11000001, 3.59169998,\n       3.59169998, 3.59169998, 3.59169998, 3.59169998, 3.59169998,\n       2.90499997])"
     },
     "metadata": {},
     "output_type": "display_data"
    }
   ]
  },
  {
   "cell_type": "code",
   "metadata": {
    "cell_id": "00062-94c14bc1-4c41-490b-98a6-e2ef76207e2f",
    "deepnote_to_be_reexecuted": false,
    "execution_millis": 10,
    "execution_start": 1636838843361,
    "source_hash": "423c8aa9",
    "tags": [],
    "deepnote_cell_type": "code"
   },
   "source": "data[['country','score']][:3]",
   "execution_count": null,
   "outputs": [
    {
     "output_type": "execute_result",
     "execution_count": 32,
     "data": {
      "application/vnd.deepnote.dataframe.v2+json": {
       "row_count": 3,
       "column_count": 2,
       "columns": [
        {
         "name": "country",
         "dtype": "object",
         "stats": {
          "unique_count": 3,
          "nan_count": 0,
          "categories": [
           {
            "name": "Norway",
            "count": 1
           },
           {
            "name": "Denmark",
            "count": 1
           },
           {
            "name": "Iceland",
            "count": 1
           }
          ]
         }
        },
        {
         "name": "score",
         "dtype": "float64",
         "stats": {
          "unique_count": 3,
          "nan_count": 0,
          "min": "7.504000187",
          "max": "7.537000179",
          "histogram": [
           {
            "bin_start": 7.504000187,
            "bin_end": 7.5073001862,
            "count": 1
           },
           {
            "bin_start": 7.5073001862,
            "bin_end": 7.5106001853999995,
            "count": 0
           },
           {
            "bin_start": 7.5106001853999995,
            "bin_end": 7.5139001846,
            "count": 0
           },
           {
            "bin_start": 7.5139001846,
            "bin_end": 7.5172001838,
            "count": 0
           },
           {
            "bin_start": 7.5172001838,
            "bin_end": 7.520500182999999,
            "count": 0
           },
           {
            "bin_start": 7.520500182999999,
            "bin_end": 7.5238001822,
            "count": 1
           },
           {
            "bin_start": 7.5238001822,
            "bin_end": 7.5271001814,
            "count": 0
           },
           {
            "bin_start": 7.5271001814,
            "bin_end": 7.5304001806,
            "count": 0
           },
           {
            "bin_start": 7.5304001806,
            "bin_end": 7.533700179799999,
            "count": 0
           },
           {
            "bin_start": 7.533700179799999,
            "bin_end": 7.537000179,
            "count": 1
           }
          ]
         }
        },
        {
         "name": "_deepnote_index_column",
         "dtype": "int64"
        }
       ],
       "rows_top": [
        {
         "country": "Norway",
         "score": 7.537000179,
         "_deepnote_index_column": 0
        },
        {
         "country": "Denmark",
         "score": 7.521999836,
         "_deepnote_index_column": 1
        },
        {
         "country": "Iceland",
         "score": 7.504000187,
         "_deepnote_index_column": 2
        }
       ],
       "rows_bottom": null
      },
      "text/plain": "   country  score\n0   Norway   7.54\n1  Denmark   7.52\n2  Iceland   7.50",
      "text/html": "<div>\n<style scoped>\n    .dataframe tbody tr th:only-of-type {\n        vertical-align: middle;\n    }\n\n    .dataframe tbody tr th {\n        vertical-align: top;\n    }\n\n    .dataframe thead th {\n        text-align: right;\n    }\n</style>\n<table border=\"1\" class=\"dataframe\">\n  <thead>\n    <tr style=\"text-align: right;\">\n      <th></th>\n      <th>country</th>\n      <th>score</th>\n    </tr>\n  </thead>\n  <tbody>\n    <tr>\n      <th>0</th>\n      <td>Norway</td>\n      <td>7.54</td>\n    </tr>\n    <tr>\n      <th>1</th>\n      <td>Denmark</td>\n      <td>7.52</td>\n    </tr>\n    <tr>\n      <th>2</th>\n      <td>Iceland</td>\n      <td>7.50</td>\n    </tr>\n  </tbody>\n</table>\n</div>"
     },
     "metadata": {}
    }
   ]
  },
  {
   "cell_type": "markdown",
   "source": "### Análisis de las predicciones\n\nComparando los $3$ primeros **resultados** parecen buenos a simple vista, porque la variación no es mucha, podemos concluir que con ciertos ajustes parametrizados el **regresor** fue bastante preciso con los resultados",
   "metadata": {
    "cell_id": "00062-7d3dbd8b-ca6e-449b-aef4-2aca0b6b3b2b",
    "tags": [],
    "deepnote_cell_type": "markdown"
   }
  },
  {
   "cell_type": "markdown",
   "source": "# 9. Evaluamos nuestro modelo 💻🤖",
   "metadata": {
    "cell_id": "00053-483ff6d8-1739-4e7c-bda6-f831ee578708",
    "is_collapsed": false,
    "tags": [],
    "deepnote_cell_type": "text-cell-h1"
   }
  },
  {
   "cell_type": "code",
   "metadata": {
    "cell_id": "00022-ac0a7780-df41-4306-98a8-25b21b5a8caa",
    "deepnote_to_be_reexecuted": false,
    "execution_millis": 9,
    "execution_start": 1636838843368,
    "source_hash": "c4d92292",
    "tags": [],
    "deepnote_output_heights": [
     21.199996948242188,
     21.199996948242188
    ],
    "deepnote_cell_type": "code"
   },
   "source": "# MSE\ndisplay(f'Los errores cuadráticos medios son: {losses}')\ndisplay(f'La media de los errores cuadráticos medio es de {np.mean(losses)}')",
   "execution_count": null,
   "outputs": [
    {
     "data": {
      "text/plain": "'Los errores cuadráticos medios son: [0.00723210322051414, 0.015633940600108174, 0.011524037215358277]'"
     },
     "metadata": {},
     "output_type": "display_data"
    },
    {
     "data": {
      "text/plain": "'La media de los errores cuadráticos medio es de 0.011463360345326865'"
     },
     "metadata": {},
     "output_type": "display_data"
    }
   ]
  },
  {
   "cell_type": "code",
   "metadata": {
    "cell_id": "00023-27c4a178-5a38-4d44-ab6d-92c4479ca7db",
    "deepnote_to_be_reexecuted": false,
    "execution_millis": 10,
    "execution_start": 1636838843379,
    "source_hash": "4c10bd16",
    "tags": [],
    "deepnote_output_heights": [
     21.199996948242188
    ],
    "deepnote_cell_type": "code"
   },
   "source": "# R2\nr2 = r2_score(y_test, y_pred)\ndisplay(f'R2 es igual a {r2}')",
   "execution_count": null,
   "outputs": [
    {
     "data": {
      "text/plain": "'R2 es igual a 0.9917498808092311'"
     },
     "metadata": {},
     "output_type": "display_data"
    }
   ]
  },
  {
   "cell_type": "markdown",
   "source": "### Análisis de Resultados\nComo podemos observar para nuestro estudio conseguimos unas **métricas** realmente buenas un **Error cuadrático medio** muy cercano a $0$ lo cuál es lo ideal y un $R^2$ muy cercano a $1$, lo cual también es un escenario muy bueno",
   "metadata": {
    "cell_id": "00067-778ead71-e8aa-4038-9c82-3a88cc4b659a",
    "tags": [],
    "deepnote_cell_type": "markdown"
   }
  },
  {
   "cell_type": "markdown",
   "source": "# 10. Conclusiones 📋🖊",
   "metadata": {
    "cell_id": "00056-d28b8d24-18d3-41d7-b9f3-7d6a6ad4e625",
    "is_collapsed": false,
    "tags": [],
    "deepnote_cell_type": "text-cell-h1"
   }
  },
  {
   "cell_type": "markdown",
   "source": "- Llevamos a cabo un estudio con la **técnica de EDA (Exploratory Data Analysis)**.\n- Las **visualizaciones** mostradas en los gráficos dijeron muchas cosas interesantes que más adelante podríamos contrastar con el **modelamiento**. \n- La **Matriz de Correlaciones** mostrada en el inicio, fueron un buen preámbulo igualmente que las **visualizaciones**, para pensar que nuestros **datos** eran lo bastante buenos.\n- Nuestro **regresor parametrizado** resultó ser más útil que sin ajustarlo y nos llevó a un mejor escenario.\n- **Validamos** por medio del enfoque **Cross Validation** lo cuál nos ayudó en **perfomance** y **precisión**.\n- Obtuvimos excelentes **métricas** un **MSE** igual a $0.011$ y un $R^2$ $0.991$ respectivamente.",
   "metadata": {
    "cell_id": "00069-7af7ec93-ed0a-48a1-b4f5-437da4c26eba",
    "tags": [],
    "deepnote_cell_type": "markdown"
   }
  },
  {
   "cell_type": "markdown",
   "source": "# 11. Trabajo finalizado 📄✔",
   "metadata": {
    "cell_id": "00070-1da1c1da-35ff-4860-a36b-8d5ffaabe639",
    "is_collapsed": false,
    "tags": [],
    "deepnote_cell_type": "text-cell-h1"
   }
  },
  {
   "cell_type": "markdown",
   "source": "![link text](https://media.giphy.com/media/fDzM81OYrNjJC/source.gif?cid=ecf05e471mkgebs0ci5cquqshmfeg7fbpcbmws5rspjgh31e&rid=source.gif&ct=g)",
   "metadata": {
    "cell_id": "00071-3abd77ab-3d15-49a5-9d1c-b1a5e3e8cd0b",
    "tags": [],
    "deepnote_cell_type": "markdown"
   }
  },
  {
   "cell_type": "markdown",
   "source": "<a style='text-decoration:none;line-height:16px;display:flex;color:#5B5B62;padding:10px;justify-content:end;' href='https://deepnote.com?utm_source=created-in-deepnote-cell&projectId=4ec84517-f553-446b-9032-1da3132bd62a' target=\"_blank\">\n<img alt='Created in deepnote.com' style='display:inline;max-height:16px;margin:0px;margin-right:7.5px;' src='data:image/svg+xml;base64,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' > </img>\nCreated in <span style='font-weight:600;margin-left:4px;'>Deepnote</span></a>",
   "metadata": {
    "tags": [],
    "created_in_deepnote_cell": true,
    "deepnote_cell_type": "markdown"
   }
  }
 ],
 "nbformat": 4,
 "nbformat_minor": 2,
 "metadata": {
  "deepnote": {
   "is_reactive": false
  },
  "deepnote_execution_queue": [],
  "deepnote_notebook_id": "7290edb3-e292-42a9-951d-5c4eeeb62715",
  "kernelspec": {
   "display_name": "Python 3 (ipykernel)",
   "language": "python",
   "name": "python3"
  },
  "language_info": {
   "codemirror_mode": {
    "name": "ipython",
    "version": 3
   },
   "file_extension": ".py",
   "mimetype": "text/x-python",
   "name": "python",
   "nbconvert_exporter": "python",
   "pygments_lexer": "ipython3",
   "version": "3.9.7"
  }
 }
}