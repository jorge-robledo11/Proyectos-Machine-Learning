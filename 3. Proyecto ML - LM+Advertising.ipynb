{
 "cells": [
  {
   "cell_type": "markdown",
   "source": "# 1. Defininición del problema",
   "metadata": {
    "tags": [],
    "is_collapsed": false,
    "cell_id": "00000-3284c46f-9ff8-40ad-a70e-682e6ec59415",
    "deepnote_cell_type": "text-cell-h1"
   }
  },
  {
   "cell_type": "markdown",
   "source": "#### Contexto\n\nNos encontramos en una situación económica muy recurrente en una empresa, y es ¿Hasta qué punto vale la pena hacer una **inversión** en alguna campaña publictaria en diferentes canales para **incrementar** el volumen de **ventas**? Tenemos unos registros históricos de los **resultados** obtenidos y queremos hacer una **predicción** lo más acercada posible, de acuerdo a las ventas nos basaremos en diferentes modelos en los que comparamos los resultados de dichas predicciones y al final elegiremos el **modelo** que tenga mejor **performance**",
   "metadata": {
    "tags": [],
    "cell_id": "00001-37cf45fd-f18b-4bec-b686-aea3071c1e95",
    "deepnote_cell_type": "markdown"
   }
  },
  {
   "cell_type": "markdown",
   "source": "# 2. Instalación de librerías y configuración inicial 👨🏻‍💻",
   "metadata": {
    "tags": [],
    "is_collapsed": false,
    "cell_id": "00002-63cdd9df-f0fc-46b6-b872-186f50439feb",
    "deepnote_cell_type": "text-cell-h1"
   }
  },
  {
   "cell_type": "code",
   "metadata": {
    "tags": [],
    "cell_id": "00001-bfe1b323-8991-473b-9d12-c9334fc925ff",
    "deepnote_to_be_reexecuted": false,
    "source_hash": "a221d905",
    "execution_start": 1636587331090,
    "execution_millis": 1794,
    "deepnote_cell_type": "code"
   },
   "source": "# Importamos librerías y dependencias\n\nimport pandas as pd\nimport numpy as np\nimport statsmodels.formula.api as smf\nimport matplotlib.pyplot as plt\nimport seaborn as sns\nimport warnings",
   "execution_count": null,
   "outputs": []
  },
  {
   "cell_type": "code",
   "metadata": {
    "tags": [],
    "cell_id": "00002-0ddbee97-ee6a-4aad-8a2a-ea83b9a89c38",
    "deepnote_to_be_reexecuted": false,
    "source_hash": "4075a82b",
    "execution_start": 1636587332893,
    "execution_millis": 42,
    "deepnote_cell_type": "code"
   },
   "source": "# Evitamos los molestos warnings\nwarnings.simplefilter(\"ignore\")",
   "execution_count": null,
   "outputs": []
  },
  {
   "cell_type": "markdown",
   "source": "# 3. Cargamos los datos 💿💻",
   "metadata": {
    "tags": [],
    "is_collapsed": false,
    "cell_id": "00005-1d1a07e1-44f5-4bcd-90d7-0765bec3843b",
    "deepnote_cell_type": "text-cell-h1"
   }
  },
  {
   "cell_type": "code",
   "metadata": {
    "tags": [],
    "cell_id": "00002-c4a93be7-891f-4874-a25c-630b38153aac",
    "deepnote_to_be_reexecuted": false,
    "source_hash": "50c930eb",
    "execution_start": 1636587332936,
    "execution_millis": 180,
    "deepnote_cell_type": "code"
   },
   "source": "# Cargamos nuestro dataset\n\ndata = pd.read_csv('https://raw.githubusercontent.com/jorge-robledo11/Datasets/main/Datasets/ads/Advertising.csv')\ndata.head()",
   "execution_count": null,
   "outputs": [
    {
     "output_type": "execute_result",
     "execution_count": 3,
     "data": {
      "application/vnd.deepnote.dataframe.v2+json": {
       "row_count": 5,
       "column_count": 4,
       "columns": [
        {
         "name": "TV",
         "dtype": "float64",
         "stats": {
          "unique_count": 5,
          "nan_count": 0,
          "min": "17.2",
          "max": "230.1",
          "histogram": [
           {
            "bin_start": 17.2,
            "bin_end": 38.489999999999995,
            "count": 1
           },
           {
            "bin_start": 38.489999999999995,
            "bin_end": 59.78,
            "count": 1
           },
           {
            "bin_start": 59.78,
            "bin_end": 81.07,
            "count": 0
           },
           {
            "bin_start": 81.07,
            "bin_end": 102.36,
            "count": 0
           },
           {
            "bin_start": 102.36,
            "bin_end": 123.64999999999999,
            "count": 0
           },
           {
            "bin_start": 123.64999999999999,
            "bin_end": 144.94,
            "count": 0
           },
           {
            "bin_start": 144.94,
            "bin_end": 166.23,
            "count": 1
           },
           {
            "bin_start": 166.23,
            "bin_end": 187.51999999999998,
            "count": 1
           },
           {
            "bin_start": 187.51999999999998,
            "bin_end": 208.80999999999997,
            "count": 0
           },
           {
            "bin_start": 208.80999999999997,
            "bin_end": 230.1,
            "count": 1
           }
          ]
         }
        },
        {
         "name": "Radio",
         "dtype": "float64",
         "stats": {
          "unique_count": 5,
          "nan_count": 0,
          "min": "10.8",
          "max": "45.9",
          "histogram": [
           {
            "bin_start": 10.8,
            "bin_end": 14.31,
            "count": 1
           },
           {
            "bin_start": 14.31,
            "bin_end": 17.82,
            "count": 0
           },
           {
            "bin_start": 17.82,
            "bin_end": 21.33,
            "count": 0
           },
           {
            "bin_start": 21.33,
            "bin_end": 24.839999999999996,
            "count": 0
           },
           {
            "bin_start": 24.839999999999996,
            "bin_end": 28.349999999999998,
            "count": 0
           },
           {
            "bin_start": 28.349999999999998,
            "bin_end": 31.859999999999996,
            "count": 0
           },
           {
            "bin_start": 31.859999999999996,
            "bin_end": 35.37,
            "count": 0
           },
           {
            "bin_start": 35.37,
            "bin_end": 38.879999999999995,
            "count": 1
           },
           {
            "bin_start": 38.879999999999995,
            "bin_end": 42.38999999999999,
            "count": 2
           },
           {
            "bin_start": 42.38999999999999,
            "bin_end": 45.9,
            "count": 1
           }
          ]
         }
        },
        {
         "name": "Newspaper",
         "dtype": "float64",
         "stats": {
          "unique_count": 5,
          "nan_count": 0,
          "min": "45.1",
          "max": "69.3",
          "histogram": [
           {
            "bin_start": 45.1,
            "bin_end": 47.52,
            "count": 1
           },
           {
            "bin_start": 47.52,
            "bin_end": 49.94,
            "count": 0
           },
           {
            "bin_start": 49.94,
            "bin_end": 52.36,
            "count": 0
           },
           {
            "bin_start": 52.36,
            "bin_end": 54.78,
            "count": 0
           },
           {
            "bin_start": 54.78,
            "bin_end": 57.2,
            "count": 0
           },
           {
            "bin_start": 57.2,
            "bin_end": 59.62,
            "count": 2
           },
           {
            "bin_start": 59.62,
            "bin_end": 62.04,
            "count": 0
           },
           {
            "bin_start": 62.04,
            "bin_end": 64.46,
            "count": 0
           },
           {
            "bin_start": 64.46,
            "bin_end": 66.88,
            "count": 0
           },
           {
            "bin_start": 66.88,
            "bin_end": 69.3,
            "count": 2
           }
          ]
         }
        },
        {
         "name": "Sales",
         "dtype": "float64",
         "stats": {
          "unique_count": 5,
          "nan_count": 0,
          "min": "9.3",
          "max": "22.1",
          "histogram": [
           {
            "bin_start": 9.3,
            "bin_end": 10.58,
            "count": 2
           },
           {
            "bin_start": 10.58,
            "bin_end": 11.860000000000001,
            "count": 0
           },
           {
            "bin_start": 11.860000000000001,
            "bin_end": 13.14,
            "count": 1
           },
           {
            "bin_start": 13.14,
            "bin_end": 14.420000000000002,
            "count": 0
           },
           {
            "bin_start": 14.420000000000002,
            "bin_end": 15.700000000000001,
            "count": 0
           },
           {
            "bin_start": 15.700000000000001,
            "bin_end": 16.98,
            "count": 0
           },
           {
            "bin_start": 16.98,
            "bin_end": 18.26,
            "count": 0
           },
           {
            "bin_start": 18.26,
            "bin_end": 19.54,
            "count": 1
           },
           {
            "bin_start": 19.54,
            "bin_end": 20.82,
            "count": 0
           },
           {
            "bin_start": 20.82,
            "bin_end": 22.1,
            "count": 1
           }
          ]
         }
        },
        {
         "name": "_deepnote_index_column",
         "dtype": "int64"
        }
       ],
       "rows_top": [
        {
         "TV": 230.1,
         "Radio": 37.8,
         "Newspaper": 69.2,
         "Sales": 22.1,
         "_deepnote_index_column": 0
        },
        {
         "TV": 44.5,
         "Radio": 39.3,
         "Newspaper": 45.1,
         "Sales": 10.4,
         "_deepnote_index_column": 1
        },
        {
         "TV": 17.2,
         "Radio": 45.9,
         "Newspaper": 69.3,
         "Sales": 9.3,
         "_deepnote_index_column": 2
        },
        {
         "TV": 151.5,
         "Radio": 41.3,
         "Newspaper": 58.5,
         "Sales": 18.5,
         "_deepnote_index_column": 3
        },
        {
         "TV": 180.8,
         "Radio": 10.8,
         "Newspaper": 58.4,
         "Sales": 12.9,
         "_deepnote_index_column": 4
        }
       ],
       "rows_bottom": null
      },
      "text/plain": "      TV  Radio  Newspaper  Sales\n0  230.1   37.8       69.2   22.1\n1   44.5   39.3       45.1   10.4\n2   17.2   45.9       69.3    9.3\n3  151.5   41.3       58.5   18.5\n4  180.8   10.8       58.4   12.9",
      "text/html": "<div>\n<style scoped>\n    .dataframe tbody tr th:only-of-type {\n        vertical-align: middle;\n    }\n\n    .dataframe tbody tr th {\n        vertical-align: top;\n    }\n\n    .dataframe thead th {\n        text-align: right;\n    }\n</style>\n<table border=\"1\" class=\"dataframe\">\n  <thead>\n    <tr style=\"text-align: right;\">\n      <th></th>\n      <th>TV</th>\n      <th>Radio</th>\n      <th>Newspaper</th>\n      <th>Sales</th>\n    </tr>\n  </thead>\n  <tbody>\n    <tr>\n      <th>0</th>\n      <td>230.1</td>\n      <td>37.8</td>\n      <td>69.2</td>\n      <td>22.1</td>\n    </tr>\n    <tr>\n      <th>1</th>\n      <td>44.5</td>\n      <td>39.3</td>\n      <td>45.1</td>\n      <td>10.4</td>\n    </tr>\n    <tr>\n      <th>2</th>\n      <td>17.2</td>\n      <td>45.9</td>\n      <td>69.3</td>\n      <td>9.3</td>\n    </tr>\n    <tr>\n      <th>3</th>\n      <td>151.5</td>\n      <td>41.3</td>\n      <td>58.5</td>\n      <td>18.5</td>\n    </tr>\n    <tr>\n      <th>4</th>\n      <td>180.8</td>\n      <td>10.8</td>\n      <td>58.4</td>\n      <td>12.9</td>\n    </tr>\n  </tbody>\n</table>\n</div>"
     },
     "metadata": {}
    }
   ]
  },
  {
   "cell_type": "code",
   "metadata": {
    "tags": [],
    "cell_id": "00005-fa875768-be96-4ca6-86d4-4768b69326c5",
    "deepnote_to_be_reexecuted": false,
    "source_hash": "b44c71b5",
    "execution_start": 1636587333116,
    "execution_millis": 1,
    "deepnote_output_heights": [
     98
    ],
    "deepnote_cell_type": "code"
   },
   "source": "# Transformamos los datos a lo que mejor convenga y analizaremos los features del dataset\n\ndata.convert_dtypes().dtypes",
   "execution_count": null,
   "outputs": [
    {
     "output_type": "execute_result",
     "execution_count": 4,
     "data": {
      "text/plain": "TV           Float64\nRadio        Float64\nNewspaper    Float64\nSales        Float64\ndtype: object"
     },
     "metadata": {}
    }
   ]
  },
  {
   "cell_type": "code",
   "metadata": {
    "tags": [],
    "cell_id": "00006-67179052-bbb4-4d97-811f-666ef51c36a0",
    "deepnote_to_be_reexecuted": false,
    "source_hash": "15923529",
    "execution_start": 1636587333172,
    "execution_millis": 6072564,
    "deepnote_output_heights": [
     21.199996948242188
    ],
    "deepnote_cell_type": "code"
   },
   "source": "# Dimensiones del dataset\n\ndata.shape",
   "execution_count": null,
   "outputs": [
    {
     "output_type": "execute_result",
     "execution_count": 5,
     "data": {
      "text/plain": "(200, 4)"
     },
     "metadata": {}
    }
   ]
  },
  {
   "cell_type": "code",
   "metadata": {
    "tags": [],
    "cell_id": "00005-ae2a7fab-301a-4801-a5ff-a379d25190fb",
    "deepnote_to_be_reexecuted": false,
    "source_hash": "2aa12ab0",
    "execution_start": 1636587333173,
    "execution_millis": 6072608,
    "deepnote_output_heights": [
     98
    ],
    "deepnote_cell_type": "code"
   },
   "source": "# Observamos si hay datos faltantes\n\ndata.isnull().sum()",
   "execution_count": null,
   "outputs": [
    {
     "output_type": "execute_result",
     "execution_count": 6,
     "data": {
      "text/plain": "TV           0\nRadio        0\nNewspaper    0\nSales        0\ndtype: int64"
     },
     "metadata": {}
    }
   ]
  },
  {
   "cell_type": "code",
   "metadata": {
    "tags": [],
    "cell_id": "00008-e73c690f-e38e-4d1d-ba75-242fd5f06b19",
    "deepnote_to_be_reexecuted": false,
    "source_hash": "3c3c95ea",
    "execution_start": 1636587333173,
    "execution_millis": 32,
    "deepnote_cell_type": "code"
   },
   "source": "# Resumen de nuestro dataset\n\ndata.describe()",
   "execution_count": null,
   "outputs": [
    {
     "output_type": "execute_result",
     "execution_count": 7,
     "data": {
      "application/vnd.deepnote.dataframe.v2+json": {
       "row_count": 8,
       "column_count": 4,
       "columns": [
        {
         "name": "TV",
         "dtype": "float64",
         "stats": {
          "unique_count": 8,
          "nan_count": 0,
          "min": "0.7",
          "max": "296.4",
          "histogram": [
           {
            "bin_start": 0.7,
            "bin_end": 30.27,
            "count": 1
           },
           {
            "bin_start": 30.27,
            "bin_end": 59.84,
            "count": 0
           },
           {
            "bin_start": 59.84,
            "bin_end": 89.41000000000001,
            "count": 2
           },
           {
            "bin_start": 89.41000000000001,
            "bin_end": 118.98,
            "count": 0
           },
           {
            "bin_start": 118.98,
            "bin_end": 148.54999999999998,
            "count": 1
           },
           {
            "bin_start": 148.54999999999998,
            "bin_end": 178.12,
            "count": 1
           },
           {
            "bin_start": 178.12,
            "bin_end": 207.69,
            "count": 1
           },
           {
            "bin_start": 207.69,
            "bin_end": 237.26,
            "count": 1
           },
           {
            "bin_start": 237.26,
            "bin_end": 266.83,
            "count": 0
           },
           {
            "bin_start": 266.83,
            "bin_end": 296.4,
            "count": 1
           }
          ]
         }
        },
        {
         "name": "Radio",
         "dtype": "float64",
         "stats": {
          "unique_count": 8,
          "nan_count": 0,
          "min": "0.0",
          "max": "200.0",
          "histogram": [
           {
            "bin_start": 0,
            "bin_end": 20,
            "count": 3
           },
           {
            "bin_start": 20,
            "bin_end": 40,
            "count": 3
           },
           {
            "bin_start": 40,
            "bin_end": 60,
            "count": 1
           },
           {
            "bin_start": 60,
            "bin_end": 80,
            "count": 0
           },
           {
            "bin_start": 80,
            "bin_end": 100,
            "count": 0
           },
           {
            "bin_start": 100,
            "bin_end": 120,
            "count": 0
           },
           {
            "bin_start": 120,
            "bin_end": 140,
            "count": 0
           },
           {
            "bin_start": 140,
            "bin_end": 160,
            "count": 0
           },
           {
            "bin_start": 160,
            "bin_end": 180,
            "count": 0
           },
           {
            "bin_start": 180,
            "bin_end": 200,
            "count": 1
           }
          ]
         }
        },
        {
         "name": "Newspaper",
         "dtype": "float64",
         "stats": {
          "unique_count": 8,
          "nan_count": 0,
          "min": "0.3",
          "max": "200.0",
          "histogram": [
           {
            "bin_start": 0.3,
            "bin_end": 20.27,
            "count": 2
           },
           {
            "bin_start": 20.27,
            "bin_end": 40.239999999999995,
            "count": 3
           },
           {
            "bin_start": 40.239999999999995,
            "bin_end": 60.209999999999994,
            "count": 1
           },
           {
            "bin_start": 60.209999999999994,
            "bin_end": 80.17999999999999,
            "count": 0
           },
           {
            "bin_start": 80.17999999999999,
            "bin_end": 100.14999999999999,
            "count": 0
           },
           {
            "bin_start": 100.14999999999999,
            "bin_end": 120.11999999999999,
            "count": 1
           },
           {
            "bin_start": 120.11999999999999,
            "bin_end": 140.09,
            "count": 0
           },
           {
            "bin_start": 140.09,
            "bin_end": 160.06,
            "count": 0
           },
           {
            "bin_start": 160.06,
            "bin_end": 180.03,
            "count": 0
           },
           {
            "bin_start": 180.03,
            "bin_end": 200,
            "count": 1
           }
          ]
         }
        },
        {
         "name": "Sales",
         "dtype": "float64",
         "stats": {
          "unique_count": 8,
          "nan_count": 0,
          "min": "1.6",
          "max": "200.0",
          "histogram": [
           {
            "bin_start": 1.6,
            "bin_end": 21.44,
            "count": 6
           },
           {
            "bin_start": 21.44,
            "bin_end": 41.28,
            "count": 1
           },
           {
            "bin_start": 41.28,
            "bin_end": 61.12,
            "count": 0
           },
           {
            "bin_start": 61.12,
            "bin_end": 80.96,
            "count": 0
           },
           {
            "bin_start": 80.96,
            "bin_end": 100.8,
            "count": 0
           },
           {
            "bin_start": 100.8,
            "bin_end": 120.63999999999999,
            "count": 0
           },
           {
            "bin_start": 120.63999999999999,
            "bin_end": 140.48,
            "count": 0
           },
           {
            "bin_start": 140.48,
            "bin_end": 160.32,
            "count": 0
           },
           {
            "bin_start": 160.32,
            "bin_end": 180.16,
            "count": 0
           },
           {
            "bin_start": 180.16,
            "bin_end": 200,
            "count": 1
           }
          ]
         }
        },
        {
         "name": "_deepnote_index_column",
         "dtype": "object"
        }
       ],
       "rows_top": [
        {
         "TV": 200,
         "Radio": 200,
         "Newspaper": 200,
         "Sales": 200,
         "_deepnote_index_column": "count"
        },
        {
         "TV": 147.0425,
         "Radio": 23.264000000000006,
         "Newspaper": 30.553999999999995,
         "Sales": 14.0225,
         "_deepnote_index_column": "mean"
        },
        {
         "TV": 85.85423631490808,
         "Radio": 14.846809176168724,
         "Newspaper": 21.778620838522826,
         "Sales": 5.217456565710478,
         "_deepnote_index_column": "std"
        },
        {
         "TV": 0.7,
         "Radio": 0,
         "Newspaper": 0.3,
         "Sales": 1.6,
         "_deepnote_index_column": "min"
        },
        {
         "TV": 74.375,
         "Radio": 9.975,
         "Newspaper": 12.75,
         "Sales": 10.375,
         "_deepnote_index_column": "25%"
        },
        {
         "TV": 149.75,
         "Radio": 22.9,
         "Newspaper": 25.75,
         "Sales": 12.9,
         "_deepnote_index_column": "50%"
        },
        {
         "TV": 218.825,
         "Radio": 36.525,
         "Newspaper": 45.1,
         "Sales": 17.4,
         "_deepnote_index_column": "75%"
        },
        {
         "TV": 296.4,
         "Radio": 49.6,
         "Newspaper": 114,
         "Sales": 27,
         "_deepnote_index_column": "max"
        }
       ],
       "rows_bottom": null
      },
      "text/plain": "               TV       Radio   Newspaper       Sales\ncount  200.000000  200.000000  200.000000  200.000000\nmean   147.042500   23.264000   30.554000   14.022500\nstd     85.854236   14.846809   21.778621    5.217457\nmin      0.700000    0.000000    0.300000    1.600000\n25%     74.375000    9.975000   12.750000   10.375000\n50%    149.750000   22.900000   25.750000   12.900000\n75%    218.825000   36.525000   45.100000   17.400000\nmax    296.400000   49.600000  114.000000   27.000000",
      "text/html": "<div>\n<style scoped>\n    .dataframe tbody tr th:only-of-type {\n        vertical-align: middle;\n    }\n\n    .dataframe tbody tr th {\n        vertical-align: top;\n    }\n\n    .dataframe thead th {\n        text-align: right;\n    }\n</style>\n<table border=\"1\" class=\"dataframe\">\n  <thead>\n    <tr style=\"text-align: right;\">\n      <th></th>\n      <th>TV</th>\n      <th>Radio</th>\n      <th>Newspaper</th>\n      <th>Sales</th>\n    </tr>\n  </thead>\n  <tbody>\n    <tr>\n      <th>count</th>\n      <td>200.000000</td>\n      <td>200.000000</td>\n      <td>200.000000</td>\n      <td>200.000000</td>\n    </tr>\n    <tr>\n      <th>mean</th>\n      <td>147.042500</td>\n      <td>23.264000</td>\n      <td>30.554000</td>\n      <td>14.022500</td>\n    </tr>\n    <tr>\n      <th>std</th>\n      <td>85.854236</td>\n      <td>14.846809</td>\n      <td>21.778621</td>\n      <td>5.217457</td>\n    </tr>\n    <tr>\n      <th>min</th>\n      <td>0.700000</td>\n      <td>0.000000</td>\n      <td>0.300000</td>\n      <td>1.600000</td>\n    </tr>\n    <tr>\n      <th>25%</th>\n      <td>74.375000</td>\n      <td>9.975000</td>\n      <td>12.750000</td>\n      <td>10.375000</td>\n    </tr>\n    <tr>\n      <th>50%</th>\n      <td>149.750000</td>\n      <td>22.900000</td>\n      <td>25.750000</td>\n      <td>12.900000</td>\n    </tr>\n    <tr>\n      <th>75%</th>\n      <td>218.825000</td>\n      <td>36.525000</td>\n      <td>45.100000</td>\n      <td>17.400000</td>\n    </tr>\n    <tr>\n      <th>max</th>\n      <td>296.400000</td>\n      <td>49.600000</td>\n      <td>114.000000</td>\n      <td>27.000000</td>\n    </tr>\n  </tbody>\n</table>\n</div>"
     },
     "metadata": {}
    }
   ]
  },
  {
   "cell_type": "markdown",
   "source": "# Simple Linear Regression",
   "metadata": {
    "tags": [],
    "is_collapsed": false,
    "cell_id": "00006-984c2ba7-0a3f-43f4-964d-1e1f3dd1ddc3",
    "deepnote_cell_type": "text-cell-h1"
   }
  },
  {
   "cell_type": "markdown",
   "source": "## Statsmodel",
   "metadata": {
    "tags": [],
    "is_collapsed": false,
    "cell_id": "00004-d0b5c1ba-2dfd-40d6-8458-eee60b73a344",
    "deepnote_cell_type": "text-cell-h2"
   }
  },
  {
   "cell_type": "code",
   "metadata": {
    "tags": [],
    "cell_id": "00003-658be9b7-6606-4879-b4b5-fc9ad67ab359",
    "deepnote_to_be_reexecuted": false,
    "source_hash": "fe3d6607",
    "execution_start": 1636587333204,
    "execution_millis": 21,
    "deepnote_output_heights": [
     21.199996948242188
    ],
    "deepnote_cell_type": "code"
   },
   "source": "# Definimos nuestra Regresión lineal\n\nlinear_model = smf.ols(formula='Sales~TV', data=data).fit()\ndisplay(linear_model)",
   "execution_count": null,
   "outputs": [
    {
     "data": {
      "text/plain": "<statsmodels.regression.linear_model.RegressionResultsWrapper at 0x7f56e4859fa0>"
     },
     "metadata": {},
     "output_type": "display_data"
    }
   ]
  },
  {
   "cell_type": "code",
   "metadata": {
    "tags": [],
    "cell_id": "00004-435fd306-bc4c-44ca-9fc5-008d020d2ee8",
    "deepnote_to_be_reexecuted": false,
    "source_hash": "5d5d877a",
    "execution_start": 1636587333248,
    "execution_millis": 6072560,
    "deepnote_output_heights": [
     59.600006103515625
    ],
    "deepnote_cell_type": "code"
   },
   "source": "# Parámetros\n\ndisplay(linear_model.params)",
   "execution_count": null,
   "outputs": [
    {
     "data": {
      "text/plain": "Intercept    7.032594\nTV           0.047537\ndtype: float64"
     },
     "metadata": {},
     "output_type": "display_data"
    }
   ]
  },
  {
   "cell_type": "markdown",
   "source": "El **Modelo Predictivo** sería $Sales = 7.032594 + (0.047537)TV$\n\n**Razonamiento**: Por cada $0.047537$ unidades monetarias **invertidas** en **publicidad televisiva** reportará $7.032594$ unidades monetarias en **ventas**",
   "metadata": {
    "tags": [],
    "cell_id": "00005-fce401d9-f72b-4148-8f63-3143c983a8a5",
    "deepnote_cell_type": "markdown"
   }
  },
  {
   "cell_type": "code",
   "metadata": {
    "tags": [],
    "cell_id": "00005-1a9fab34-db0a-4360-9627-18210a8e7a25",
    "deepnote_to_be_reexecuted": false,
    "source_hash": "7f5335a9",
    "execution_start": 1636587333276,
    "execution_millis": 6072587,
    "deepnote_output_heights": [
     59.600006103515625
    ],
    "deepnote_cell_type": "code"
   },
   "source": "# P-Values\n\ndisplay(linear_model.pvalues)",
   "execution_count": null,
   "outputs": [
    {
     "data": {
      "text/plain": "Intercept    1.406300e-35\nTV           1.467390e-42\ndtype: float64"
     },
     "metadata": {},
     "output_type": "display_data"
    }
   ]
  },
  {
   "cell_type": "markdown",
   "source": "Nuestros $p-values$ son realmente bajos lo cual es muy bueno, de ese modo no tendremos que rechazar nuestra **hipótesis nula**",
   "metadata": {
    "tags": [],
    "cell_id": "00009-3a82f0b9-3430-4e4f-9f02-1c13b304d171",
    "deepnote_cell_type": "markdown"
   }
  },
  {
   "cell_type": "code",
   "metadata": {
    "tags": [],
    "cell_id": "00008-c28399f9-0aea-4918-bfbe-a2e0fa30eb16",
    "deepnote_to_be_reexecuted": false,
    "source_hash": "106e5f9a",
    "execution_start": 1636587333332,
    "execution_millis": 20,
    "deepnote_output_heights": [
     21.199996948242188,
     21.199996948242188
    ],
    "deepnote_cell_type": "code"
   },
   "source": "# Estimadores estadísticos\n\n# R2\nr2_mod1 = (round(linear_model.rsquared,4))\ndisplay(f'R2: {r2_mod1}')\n\n# R2 Ajustado\nr2_adj_mod1 = round(linear_model.rsquared_adj,4)\ndisplay(f'R2 ajustado: {r2_adj_mod1}')",
   "execution_count": null,
   "outputs": [
    {
     "data": {
      "text/plain": "'R2: 0.6119'"
     },
     "metadata": {},
     "output_type": "display_data"
    },
    {
     "data": {
      "text/plain": "'R2 ajustado: 0.6099'"
     },
     "metadata": {},
     "output_type": "display_data"
    }
   ]
  },
  {
   "cell_type": "code",
   "metadata": {
    "tags": [],
    "cell_id": "00010-74a4b244-4a0a-4a02-835c-bb3d58a0d6af",
    "deepnote_to_be_reexecuted": false,
    "source_hash": "2e61faf0",
    "execution_start": 1636587333333,
    "execution_millis": 20,
    "deepnote_output_heights": [
     585.2666625976562
    ],
    "deepnote_cell_type": "code"
   },
   "source": "# Summary\n\nlinear_model.summary()",
   "execution_count": null,
   "outputs": [
    {
     "output_type": "execute_result",
     "execution_count": 12,
     "data": {
      "text/plain": "<class 'statsmodels.iolib.summary.Summary'>\n\"\"\"\n                            OLS Regression Results                            \n==============================================================================\nDep. Variable:                  Sales   R-squared:                       0.612\nModel:                            OLS   Adj. R-squared:                  0.610\nMethod:                 Least Squares   F-statistic:                     312.1\nDate:                Wed, 10 Nov 2021   Prob (F-statistic):           1.47e-42\nTime:                        23:35:33   Log-Likelihood:                -519.05\nNo. Observations:                 200   AIC:                             1042.\nDf Residuals:                     198   BIC:                             1049.\nDf Model:                           1                                         \nCovariance Type:            nonrobust                                         \n==============================================================================\n                 coef    std err          t      P>|t|      [0.025      0.975]\n------------------------------------------------------------------------------\nIntercept      7.0326      0.458     15.360      0.000       6.130       7.935\nTV             0.0475      0.003     17.668      0.000       0.042       0.053\n==============================================================================\nOmnibus:                        0.531   Durbin-Watson:                   1.935\nProb(Omnibus):                  0.767   Jarque-Bera (JB):                0.669\nSkew:                          -0.089   Prob(JB):                        0.716\nKurtosis:                       2.779   Cond. No.                         338.\n==============================================================================\n\nNotes:\n[1] Standard Errors assume that the covariance matrix of the errors is correctly specified.\n\"\"\"",
      "text/html": "<table class=\"simpletable\">\n<caption>OLS Regression Results</caption>\n<tr>\n  <th>Dep. Variable:</th>          <td>Sales</td>      <th>  R-squared:         </th> <td>   0.612</td>\n</tr>\n<tr>\n  <th>Model:</th>                   <td>OLS</td>       <th>  Adj. R-squared:    </th> <td>   0.610</td>\n</tr>\n<tr>\n  <th>Method:</th>             <td>Least Squares</td>  <th>  F-statistic:       </th> <td>   312.1</td>\n</tr>\n<tr>\n  <th>Date:</th>             <td>Wed, 10 Nov 2021</td> <th>  Prob (F-statistic):</th> <td>1.47e-42</td>\n</tr>\n<tr>\n  <th>Time:</th>                 <td>23:35:33</td>     <th>  Log-Likelihood:    </th> <td> -519.05</td>\n</tr>\n<tr>\n  <th>No. Observations:</th>      <td>   200</td>      <th>  AIC:               </th> <td>   1042.</td>\n</tr>\n<tr>\n  <th>Df Residuals:</th>          <td>   198</td>      <th>  BIC:               </th> <td>   1049.</td>\n</tr>\n<tr>\n  <th>Df Model:</th>              <td>     1</td>      <th>                     </th>     <td> </td>   \n</tr>\n<tr>\n  <th>Covariance Type:</th>      <td>nonrobust</td>    <th>                     </th>     <td> </td>   \n</tr>\n</table>\n<table class=\"simpletable\">\n<tr>\n      <td></td>         <th>coef</th>     <th>std err</th>      <th>t</th>      <th>P>|t|</th>  <th>[0.025</th>    <th>0.975]</th>  \n</tr>\n<tr>\n  <th>Intercept</th> <td>    7.0326</td> <td>    0.458</td> <td>   15.360</td> <td> 0.000</td> <td>    6.130</td> <td>    7.935</td>\n</tr>\n<tr>\n  <th>TV</th>        <td>    0.0475</td> <td>    0.003</td> <td>   17.668</td> <td> 0.000</td> <td>    0.042</td> <td>    0.053</td>\n</tr>\n</table>\n<table class=\"simpletable\">\n<tr>\n  <th>Omnibus:</th>       <td> 0.531</td> <th>  Durbin-Watson:     </th> <td>   1.935</td>\n</tr>\n<tr>\n  <th>Prob(Omnibus):</th> <td> 0.767</td> <th>  Jarque-Bera (JB):  </th> <td>   0.669</td>\n</tr>\n<tr>\n  <th>Skew:</th>          <td>-0.089</td> <th>  Prob(JB):          </th> <td>   0.716</td>\n</tr>\n<tr>\n  <th>Kurtosis:</th>      <td> 2.779</td> <th>  Cond. No.          </th> <td>    338.</td>\n</tr>\n</table><br/><br/>Notes:<br/>[1] Standard Errors assume that the covariance matrix of the errors is correctly specified."
     },
     "metadata": {}
    }
   ]
  },
  {
   "cell_type": "markdown",
   "source": "Como queremos intentar **predecir las ventas** con respecto al **gasto en publicidad de TV**, lo definiremos de la siguiente manera:",
   "metadata": {
    "tags": [],
    "cell_id": "00011-00feea93-aafd-42ce-ae70-f5b23d2adbdb",
    "deepnote_cell_type": "markdown"
   }
  },
  {
   "cell_type": "code",
   "metadata": {
    "tags": [],
    "cell_id": "00011-25e68a1e-0506-41de-86a5-0ce315c91b87",
    "deepnote_to_be_reexecuted": false,
    "source_hash": "27488440",
    "execution_start": 1636587333368,
    "execution_millis": 13,
    "deepnote_output_heights": [
     117.19999694824219
    ],
    "deepnote_cell_type": "code"
   },
   "source": "# Predicción de ventas\n\nsales_pred = linear_model.predict(pd.DataFrame(data['TV']))\nsales_pred.head()",
   "execution_count": null,
   "outputs": [
    {
     "output_type": "execute_result",
     "execution_count": 13,
     "data": {
      "text/plain": "0    17.970775\n1     9.147974\n2     7.850224\n3    14.234395\n4    15.627218\ndtype: float64"
     },
     "metadata": {}
    }
   ]
  },
  {
   "cell_type": "markdown",
   "source": "# 4. Patrones en los datos 🔎👾",
   "metadata": {
    "tags": [],
    "is_collapsed": false,
    "cell_id": "00022-c5b83b36-d54a-4352-9644-697cc1c024c2",
    "deepnote_cell_type": "text-cell-h1"
   }
  },
  {
   "cell_type": "code",
   "metadata": {
    "tags": [],
    "cell_id": "00013-500917f5-003e-4f86-8068-aa9d88ce9bdb",
    "deepnote_to_be_reexecuted": false,
    "source_hash": "3e00e148",
    "execution_start": 1636587333370,
    "execution_millis": 553,
    "deepnote_output_heights": [
     278
    ],
    "deepnote_cell_type": "code"
   },
   "source": "# Scatterplot\n\n%matplotlib inline\nsns.set_theme(style='darkgrid')\nsns.scatterplot(data=data, x='TV', y='Sales', color='blue', palette='deep')\nplt.plot(pd.DataFrame(data['TV']), sales_pred, c='orange', linewidth=3)\nplt.title('Sales vs TV\\n')\nplt.tight_layout();",
   "execution_count": null,
   "outputs": [
    {
     "data": {
      "text/plain": "<Figure size 432x288 with 1 Axes>",
      "image/png": "[encoded data removed]"
     },
     "metadata": {
      "image/png": {
       "width": 420,
       "height": 276
      }
     },
     "output_type": "display_data"
    }
   ]
  },
  {
   "cell_type": "markdown",
   "source": "### Análisis del Scatterplot 🔎📊\n\n- **TV** y **Sales** no guardan mucha **correlación**\n- Los datos están muy dispersos y alejados de nuestras **predicciones** en **Sales**",
   "metadata": {
    "tags": [],
    "cell_id": "00021-bd75629f-86ea-4a9f-aeaf-a4aacf6a37a1",
    "deepnote_cell_type": "markdown"
   }
  },
  {
   "cell_type": "markdown",
   "source": "Añadimos una nueva columna con el valor de las **ventas predecidas** y el $RSE$",
   "metadata": {
    "tags": [],
    "cell_id": "00014-86e88ff9-4cd2-4d38-942a-85664cb36a21",
    "deepnote_cell_type": "markdown"
   }
  },
  {
   "cell_type": "code",
   "metadata": {
    "tags": [],
    "cell_id": "00014-fbd9bb25-7a61-4e7b-83d0-f2c14fe81c8b",
    "deepnote_to_be_reexecuted": false,
    "source_hash": "abf79e87",
    "execution_start": 1636587333929,
    "execution_millis": 20,
    "deepnote_cell_type": "code"
   },
   "source": "# Columnas Ventas predecidas y RSE\n\ndata['Sales Pred'] = 7.032594 + 0.047537 * data['TV']\ndata['RSE'] = (data['Sales'] - data['Sales Pred'])**2",
   "execution_count": null,
   "outputs": []
  },
  {
   "cell_type": "code",
   "metadata": {
    "tags": [],
    "cell_id": "00015-677d211c-173f-4e09-ba7b-051b6e45d69c",
    "deepnote_to_be_reexecuted": false,
    "source_hash": "f78e16ed",
    "execution_start": 1636587333950,
    "execution_millis": 18,
    "deepnote_output_heights": [
     21.199996948242188,
     21.199996948242188
    ],
    "deepnote_cell_type": "code"
   },
   "source": "# Calculamos nuestros estimadores ANOVA\n\nSSD = sum(data['RSE'])\nRSE = np.sqrt(SSD/(len(data)-2))\n\n# Display\ndisplay(f'SSD: {SSD}')\ndisplay(f'RSE: {RSE}')",
   "execution_count": null,
   "outputs": [
    {
     "data": {
      "text/plain": "'SSD: 2102.5305838896525'"
     },
     "metadata": {},
     "output_type": "display_data"
    },
    {
     "data": {
      "text/plain": "'RSE: 3.258656369238098'"
     },
     "metadata": {},
     "output_type": "display_data"
    }
   ]
  },
  {
   "cell_type": "code",
   "metadata": {
    "tags": [],
    "cell_id": "00017-bdb36c49-a964-4806-9cd0-aa52a2cbed4b",
    "deepnote_to_be_reexecuted": false,
    "source_hash": "ebd34e93",
    "execution_start": 1636587333963,
    "execution_millis": 11,
    "deepnote_output_heights": [
     21.199996948242188,
     21.199996948242188
    ],
    "deepnote_cell_type": "code"
   },
   "source": "# Calculamos la media de las ventas y el error\n\nsales_promedio = np.mean(data['Sales'])\nerror = RSE/sales_promedio\n\n# Display\ndisplay(f'Ventas promedio: {sales_promedio}')\ndisplay(f'Error promedio: {error}')",
   "execution_count": null,
   "outputs": [
    {
     "data": {
      "text/plain": "'Ventas promedio: 14.0225'"
     },
     "metadata": {},
     "output_type": "display_data"
    },
    {
     "data": {
      "text/plain": "'Error promedio: 0.23238768901680143'"
     },
     "metadata": {},
     "output_type": "display_data"
    }
   ]
  },
  {
   "cell_type": "markdown",
   "source": "El **error promedio** lo podemos interpretar como un $23,23$% del **modelo** que **no logra explicar correctamente**",
   "metadata": {
    "tags": [],
    "cell_id": "00019-44d316e5-b998-467d-afdd-8145bfab993a",
    "deepnote_cell_type": "markdown"
   }
  },
  {
   "cell_type": "code",
   "metadata": {
    "tags": [],
    "cell_id": "00017-79707ae2-abf6-49d2-8e81-9a32f3cbe1f9",
    "deepnote_to_be_reexecuted": false,
    "source_hash": "38487d8",
    "execution_start": 1636587334023,
    "execution_millis": 458,
    "deepnote_output_heights": [
     278
    ],
    "deepnote_cell_type": "code"
   },
   "source": "# Histplot\n\n%matplotlib inline\nsns.set_theme(style='whitegrid')\nsns.histplot(data['Sales'] - data['Sales Pred'], kde=True, bins=12, edgecolor='black', linewidth=0.8, color='red')\nplt.title('Error promedio\\n')\nplt.tight_layout();",
   "execution_count": null,
   "outputs": [
    {
     "data": {
      "text/plain": "<Figure size 432x288 with 1 Axes>",
      "image/png": "[encoded data removed]"
     },
     "metadata": {
      "image/png": {
       "width": 420,
       "height": 276
      }
     },
     "output_type": "display_data"
    }
   ]
  },
  {
   "cell_type": "markdown",
   "source": "### Análisis del Histplot 🔎📊\n\n- Podemos observar que existe una **distribución normal** en el **error promedio** entre **las ventas y las ventas predecidas**",
   "metadata": {
    "tags": [],
    "cell_id": "00028-be8a2ab4-fc46-4d22-883c-00acc6aba870",
    "deepnote_cell_type": "markdown"
   }
  },
  {
   "cell_type": "markdown",
   "source": "#### Conclusión parcial \n\nHasta el momento podemos decir que nuestro **modelo** es poco **confiable**, tiene una **tasa de error** alta del $23,23$%, lo cual no genera muchas expectativas, sin embargo, hasta el momento solo hemos utilizado **una variable explicativa** con respecto a otra, podríamos intentar testear con otros **features** para saber cómo responde el **modelo**",
   "metadata": {
    "tags": [],
    "cell_id": "00020-51b0a26c-8aff-4daa-9e00-9f460e6ee4ea",
    "deepnote_cell_type": "markdown"
   }
  },
  {
   "cell_type": "markdown",
   "source": "# Multiple Linear Regression",
   "metadata": {
    "tags": [],
    "is_collapsed": false,
    "cell_id": "00022-377f23a8-a599-4188-820e-9557a3461083",
    "deepnote_cell_type": "text-cell-h1"
   }
  },
  {
   "cell_type": "markdown",
   "source": "## Statsmodel",
   "metadata": {
    "tags": [],
    "is_collapsed": false,
    "cell_id": "00023-83984685-a505-4307-882d-4e0d71ee0fbc",
    "deepnote_cell_type": "text-cell-h2"
   }
  },
  {
   "cell_type": "markdown",
   "source": "Buscamos entre todas las **combinaciones posibles de modelos**, uno que tenga el menor $p-value$ con un íntervalo de confianza de $0.05$\n\nAgregamos como nuevo **feature** al **modelo** _Newspaper_ para ver cómo se comporta el modelo",
   "metadata": {
    "tags": [],
    "cell_id": "00024-901108b9-9a95-4c9f-ae9b-b04582ad52c5",
    "deepnote_cell_type": "markdown"
   }
  },
  {
   "cell_type": "code",
   "metadata": {
    "tags": [],
    "cell_id": "00017-3599cad0-e95d-4721-a383-0155ecc288d4",
    "deepnote_to_be_reexecuted": false,
    "source_hash": "312ff654",
    "execution_start": 1636587334536,
    "execution_millis": 0,
    "deepnote_cell_type": "code"
   },
   "source": "# Definimos nuestro segundo modelo\n\nlinear_model_2 = smf.ols(formula='Sales~TV+Newspaper', data=data).fit()",
   "execution_count": null,
   "outputs": []
  },
  {
   "cell_type": "code",
   "metadata": {
    "tags": [],
    "cell_id": "00017-101e0bd5-b589-48e9-a504-55ef94325518",
    "deepnote_to_be_reexecuted": false,
    "source_hash": "faa30b36",
    "execution_start": 1636587334537,
    "execution_millis": 41,
    "deepnote_output_heights": [
     78.80000305175781
    ],
    "deepnote_cell_type": "code"
   },
   "source": "# Parámetros\n\ndisplay(linear_model_2.params)",
   "execution_count": null,
   "outputs": [
    {
     "data": {
      "text/plain": "Intercept    5.774948\nTV           0.046901\nNewspaper    0.044219\ndtype: float64"
     },
     "metadata": {},
     "output_type": "display_data"
    }
   ]
  },
  {
   "cell_type": "code",
   "metadata": {
    "tags": [],
    "cell_id": "00016-eb86e22b-eb0b-49ef-ac5d-e43a507568ad",
    "deepnote_to_be_reexecuted": false,
    "source_hash": "c49d5190",
    "execution_start": 1636587334576,
    "execution_millis": 0,
    "deepnote_output_heights": [
     78.80000305175781
    ],
    "deepnote_cell_type": "code"
   },
   "source": "# P-Values\n\ndisplay(linear_model_2.pvalues)",
   "execution_count": null,
   "outputs": [
    {
     "data": {
      "text/plain": "Intercept    3.145860e-22\nTV           5.507584e-44\nNewspaper    2.217084e-05\ndtype: float64"
     },
     "metadata": {},
     "output_type": "display_data"
    }
   ]
  },
  {
   "cell_type": "markdown",
   "source": "Nuestros $p-values$ son un poco más bajos lo cual es mucho mejor, hasta el momento podríamos rechazar nuestra **hipótesis nula**, pero falta mucho por observar y analizar para llegar a mejores conclusiones",
   "metadata": {
    "tags": [],
    "cell_id": "00029-8b16bc60-5545-4b55-8d56-1d9187bf8892",
    "deepnote_cell_type": "markdown"
   }
  },
  {
   "cell_type": "markdown",
   "source": "El **Modelo Predictivo** ahora sería $Sales = 5.774948 + (0.046901)TV + (0.044219)Newspaper$\n\n**Razonamiento**: Por cada $0.046901$ y $0.044219$ unidades monetarias **invertidas** en **publicidad televisiva** y en **periódico** respectivamente reportará $5.774948$ unidades monetarias en **ventas**",
   "metadata": {
    "tags": [],
    "cell_id": "00029-530c927f-975c-4164-8b1f-f6a7f189375a",
    "deepnote_cell_type": "markdown"
   }
  },
  {
   "cell_type": "code",
   "metadata": {
    "tags": [],
    "cell_id": "00029-7d475979-9427-42ab-982e-776b08802bbd",
    "deepnote_to_be_reexecuted": false,
    "source_hash": "7e822320",
    "execution_start": 1636587334577,
    "execution_millis": 2,
    "deepnote_output_heights": [
     21.199996948242188,
     21.199996948242188
    ],
    "deepnote_cell_type": "code"
   },
   "source": "# Estimadores estadísticos\n\n# R2\nr2_mod2 = (round(linear_model_2.rsquared,4))\ndisplay(f'R2: {r2_mod2}')\n\n# R2 Ajustado\nr2_adj_mod2 = round(linear_model_2.rsquared_adj,4)\ndisplay(f'R2 ajustado: {r2_adj_mod2}')",
   "execution_count": null,
   "outputs": [
    {
     "data": {
      "text/plain": "'R2: 0.6458'"
     },
     "metadata": {},
     "output_type": "display_data"
    },
    {
     "data": {
      "text/plain": "'R2 ajustado: 0.6422'"
     },
     "metadata": {},
     "output_type": "display_data"
    }
   ]
  },
  {
   "cell_type": "markdown",
   "source": "La mejora con respecto al primer modelo fue insignificativa según los estimadores de $R^2$ y $R^2$ ajustado",
   "metadata": {
    "tags": [],
    "cell_id": "00030-d7e3402e-4eb4-4180-a762-c1cf95552eee",
    "deepnote_cell_type": "markdown"
   }
  },
  {
   "cell_type": "code",
   "metadata": {
    "tags": [],
    "cell_id": "00030-8c536737-9926-40ab-81aa-7ba0230c614a",
    "deepnote_to_be_reexecuted": false,
    "source_hash": "e263e3ce",
    "execution_start": 1636587334588,
    "execution_millis": 19,
    "deepnote_output_heights": [
     611
    ],
    "deepnote_cell_type": "code"
   },
   "source": "# Summary\n\nlinear_model_2.summary()",
   "execution_count": null,
   "outputs": [
    {
     "output_type": "execute_result",
     "execution_count": 23,
     "data": {
      "text/plain": "<class 'statsmodels.iolib.summary.Summary'>\n\"\"\"\n                            OLS Regression Results                            \n==============================================================================\nDep. Variable:                  Sales   R-squared:                       0.646\nModel:                            OLS   Adj. R-squared:                  0.642\nMethod:                 Least Squares   F-statistic:                     179.6\nDate:                Wed, 10 Nov 2021   Prob (F-statistic):           3.95e-45\nTime:                        23:35:34   Log-Likelihood:                -509.89\nNo. Observations:                 200   AIC:                             1026.\nDf Residuals:                     197   BIC:                             1036.\nDf Model:                           2                                         \nCovariance Type:            nonrobust                                         \n==============================================================================\n                 coef    std err          t      P>|t|      [0.025      0.975]\n------------------------------------------------------------------------------\nIntercept      5.7749      0.525     10.993      0.000       4.739       6.811\nTV             0.0469      0.003     18.173      0.000       0.042       0.052\nNewspaper      0.0442      0.010      4.346      0.000       0.024       0.064\n==============================================================================\nOmnibus:                        0.658   Durbin-Watson:                   1.969\nProb(Omnibus):                  0.720   Jarque-Bera (JB):                0.415\nSkew:                          -0.093   Prob(JB):                        0.813\nKurtosis:                       3.122   Cond. No.                         410.\n==============================================================================\n\nNotes:\n[1] Standard Errors assume that the covariance matrix of the errors is correctly specified.\n\"\"\"",
      "text/html": "<table class=\"simpletable\">\n<caption>OLS Regression Results</caption>\n<tr>\n  <th>Dep. Variable:</th>          <td>Sales</td>      <th>  R-squared:         </th> <td>   0.646</td>\n</tr>\n<tr>\n  <th>Model:</th>                   <td>OLS</td>       <th>  Adj. R-squared:    </th> <td>   0.642</td>\n</tr>\n<tr>\n  <th>Method:</th>             <td>Least Squares</td>  <th>  F-statistic:       </th> <td>   179.6</td>\n</tr>\n<tr>\n  <th>Date:</th>             <td>Wed, 10 Nov 2021</td> <th>  Prob (F-statistic):</th> <td>3.95e-45</td>\n</tr>\n<tr>\n  <th>Time:</th>                 <td>23:35:34</td>     <th>  Log-Likelihood:    </th> <td> -509.89</td>\n</tr>\n<tr>\n  <th>No. Observations:</th>      <td>   200</td>      <th>  AIC:               </th> <td>   1026.</td>\n</tr>\n<tr>\n  <th>Df Residuals:</th>          <td>   197</td>      <th>  BIC:               </th> <td>   1036.</td>\n</tr>\n<tr>\n  <th>Df Model:</th>              <td>     2</td>      <th>                     </th>     <td> </td>   \n</tr>\n<tr>\n  <th>Covariance Type:</th>      <td>nonrobust</td>    <th>                     </th>     <td> </td>   \n</tr>\n</table>\n<table class=\"simpletable\">\n<tr>\n      <td></td>         <th>coef</th>     <th>std err</th>      <th>t</th>      <th>P>|t|</th>  <th>[0.025</th>    <th>0.975]</th>  \n</tr>\n<tr>\n  <th>Intercept</th> <td>    5.7749</td> <td>    0.525</td> <td>   10.993</td> <td> 0.000</td> <td>    4.739</td> <td>    6.811</td>\n</tr>\n<tr>\n  <th>TV</th>        <td>    0.0469</td> <td>    0.003</td> <td>   18.173</td> <td> 0.000</td> <td>    0.042</td> <td>    0.052</td>\n</tr>\n<tr>\n  <th>Newspaper</th> <td>    0.0442</td> <td>    0.010</td> <td>    4.346</td> <td> 0.000</td> <td>    0.024</td> <td>    0.064</td>\n</tr>\n</table>\n<table class=\"simpletable\">\n<tr>\n  <th>Omnibus:</th>       <td> 0.658</td> <th>  Durbin-Watson:     </th> <td>   1.969</td>\n</tr>\n<tr>\n  <th>Prob(Omnibus):</th> <td> 0.720</td> <th>  Jarque-Bera (JB):  </th> <td>   0.415</td>\n</tr>\n<tr>\n  <th>Skew:</th>          <td>-0.093</td> <th>  Prob(JB):          </th> <td>   0.813</td>\n</tr>\n<tr>\n  <th>Kurtosis:</th>      <td> 3.122</td> <th>  Cond. No.          </th> <td>    410.</td>\n</tr>\n</table><br/><br/>Notes:<br/>[1] Standard Errors assume that the covariance matrix of the errors is correctly specified."
     },
     "metadata": {}
    }
   ]
  },
  {
   "cell_type": "markdown",
   "source": "Ahora queremos intentar **predecir** las **ventas** con respecto al **gasto** en **publicidad de TV** y en **Newspaper**, lo definiremos de la siguiente manera:",
   "metadata": {
    "tags": [],
    "cell_id": "00032-659be134-5580-4fd5-8af0-3b4f9d82b59e",
    "deepnote_cell_type": "markdown"
   }
  },
  {
   "cell_type": "code",
   "metadata": {
    "tags": [],
    "cell_id": "00033-796abae0-b259-4f67-9cd3-8f84186b01a1",
    "deepnote_to_be_reexecuted": false,
    "source_hash": "bad80905",
    "execution_start": 1636587334626,
    "execution_millis": 16,
    "deepnote_output_heights": [
     117.19999694824219
    ],
    "deepnote_cell_type": "code"
   },
   "source": "# Predicción de ventas del segundo modelo\n\nsales_pred2 = linear_model_2.predict(pd.DataFrame(data[['TV', 'Newspaper']]))\nsales_pred2.head()",
   "execution_count": null,
   "outputs": [
    {
     "output_type": "execute_result",
     "execution_count": 24,
     "data": {
      "text/plain": "0    19.626901\n1     9.856348\n2     9.646055\n3    15.467318\n4    16.837102\ndtype: float64"
     },
     "metadata": {}
    }
   ]
  },
  {
   "cell_type": "markdown",
   "source": "Añadimos una nueva columna con el valor de las **ventas predecidas** y el $RSE$",
   "metadata": {
    "tags": [],
    "cell_id": "00036-fcd19d12-2194-47bb-afec-6a81fd12ce7e",
    "deepnote_cell_type": "markdown"
   }
  },
  {
   "cell_type": "code",
   "metadata": {
    "tags": [],
    "cell_id": "00034-e4611d6d-4393-4ece-963e-fe17b50c4fa1",
    "deepnote_to_be_reexecuted": false,
    "source_hash": "248c22a5",
    "execution_start": 1636587334685,
    "execution_millis": 0,
    "deepnote_cell_type": "code"
   },
   "source": "# Columnas Ventas predecidas y RSE del segundo modelo\n\ndata['Sales Pred_2'] = 5.774948 + 0.046901 * data['TV'] + 0.044219 * data['Newspaper']\ndata['RSE2'] = (data['Sales'] - data['Sales Pred_2'])**2",
   "execution_count": null,
   "outputs": []
  },
  {
   "cell_type": "code",
   "metadata": {
    "tags": [],
    "cell_id": "00034-81e4bb8e-8543-4da6-98cc-85ebe12af98a",
    "deepnote_to_be_reexecuted": false,
    "source_hash": "15f3c24c",
    "execution_start": 1636587334686,
    "execution_millis": 1,
    "deepnote_output_heights": [
     21.199996948242188,
     21.199996948242188
    ],
    "deepnote_cell_type": "code"
   },
   "source": "# Calculamos nuestros estimadores ANOVA\n\nSSD2 = sum((data['Sales'] - sales_pred2)**2)\nRSE2 = np.sqrt(SSD2/(len(data)-2-1))\n\n# Display\ndisplay(f'SSD del segundo modelo: {SSD2}')\ndisplay(f'RSE del segundo modelo: {RSE2}')",
   "execution_count": null,
   "outputs": [
    {
     "data": {
      "text/plain": "'SSD del segundo modelo: 1918.561811896827'"
     },
     "metadata": {},
     "output_type": "display_data"
    },
    {
     "data": {
      "text/plain": "'RSE del segundo modelo: 3.120719860252885'"
     },
     "metadata": {},
     "output_type": "display_data"
    }
   ]
  },
  {
   "cell_type": "code",
   "metadata": {
    "tags": [],
    "cell_id": "00035-2b1594fe-f6f8-4619-8039-3e24c6fac11d",
    "deepnote_to_be_reexecuted": false,
    "source_hash": "323bf5ab",
    "execution_start": 1636587334688,
    "execution_millis": 10,
    "deepnote_output_heights": [
     21.199996948242188,
     21.199996948242188
    ],
    "deepnote_cell_type": "code"
   },
   "source": "# Calculamos la media de las ventas y el error\n\nsales_promedio = np.mean(data['Sales'])\nerror2 = RSE2/sales_promedio\n\n# Display\ndisplay(f'Ventas promedio: {sales_promedio}')\ndisplay(f'Error promedio del segundo modelo: {error2}')",
   "execution_count": null,
   "outputs": [
    {
     "data": {
      "text/plain": "'Ventas promedio: 14.0225'"
     },
     "metadata": {},
     "output_type": "display_data"
    },
    {
     "data": {
      "text/plain": "'Error promedio del segundo modelo: 0.2225508903728212'"
     },
     "metadata": {},
     "output_type": "display_data"
    }
   ]
  },
  {
   "cell_type": "markdown",
   "source": "Ahora el **error promedio** es de $22,25$% en el **segundo modelo** que **no logra explicar correctamente**",
   "metadata": {
    "tags": [],
    "cell_id": "00036-73dcecaa-c5c4-4290-9ad8-d0ee6579c8cb",
    "deepnote_cell_type": "markdown"
   }
  },
  {
   "cell_type": "code",
   "metadata": {
    "tags": [],
    "cell_id": "00036-9ece7b51-d174-4161-b105-70905dd16270",
    "deepnote_to_be_reexecuted": false,
    "source_hash": "2a9b496a",
    "execution_start": 1636587334767,
    "execution_millis": 500,
    "deepnote_output_heights": [
     278
    ],
    "deepnote_cell_type": "code"
   },
   "source": "# Posee una Distribución normal más ajustada\n\nsns.set_theme(style='whitegrid')\nsns.histplot(data['Sales'] - sales_pred2, kde=True, bins=10, edgecolor='black', linewidth=0.8, color='red')\nplt.title('Error promedio del segundo modelo\\n')\nplt.tight_layout();",
   "execution_count": null,
   "outputs": [
    {
     "data": {
      "text/plain": "<Figure size 432x288 with 1 Axes>",
      "image/png": "[encoded data removed]"
     },
     "metadata": {
      "image/png": {
       "width": 420,
       "height": 276
      }
     },
     "output_type": "display_data"
    }
   ]
  },
  {
   "cell_type": "markdown",
   "source": "### Análisis del Histplot 🔎📊\n\n- Podemos observar que existe una **distribución normal** pero más ajustada a una **Campana Gaussiana**",
   "metadata": {
    "tags": [],
    "cell_id": "00049-278be226-b313-4286-8bc1-257ecc0ed8e8",
    "deepnote_cell_type": "markdown"
   }
  },
  {
   "cell_type": "markdown",
   "source": "#### Conclusión parcial \n\nHasta el momento podemos decir que nuestro **modelo** es insignificativamente mejor que el primero, sigue teniendo una **tasa de error** alta de $22,25$%, lo cual no genera mucha confianza por la variación, aunque hemos utilizado más **features** para el modelo, podríamos intentar con otra combinación de **features** para saber cómo responde el **modelo**",
   "metadata": {
    "tags": [],
    "cell_id": "00050-3e526feb-0baa-49c3-b74d-f4e5e1061cb9",
    "deepnote_cell_type": "markdown"
   }
  },
  {
   "cell_type": "markdown",
   "source": "## Statsmodel",
   "metadata": {
    "tags": [],
    "is_collapsed": false,
    "cell_id": "00039-25c98c05-f5d9-4e20-a1e7-b9b6b8c0bf5a",
    "deepnote_cell_type": "text-cell-h2"
   }
  },
  {
   "cell_type": "markdown",
   "source": "Buscamos entre todas las **combinaciones posibles de modelos**, uno que tenga el menor $p-value$ con un íntervalo de confianza de $0.05$\n\nAgregamos otro nuevo **feature** al **primer modelo** _Radio_ para ver cómo se comporta el modelo, ya que _Newspaper_ no cumplió las expectativas",
   "metadata": {
    "tags": [],
    "cell_id": "00040-55d00a5c-7d76-49f9-8b26-2242cbb52057",
    "deepnote_cell_type": "markdown"
   }
  },
  {
   "cell_type": "code",
   "metadata": {
    "tags": [],
    "cell_id": "00040-df52a53b-32e8-466a-a8d2-49297e03b58d",
    "deepnote_to_be_reexecuted": false,
    "source_hash": "41313cfa",
    "execution_start": 1636587335309,
    "execution_millis": 50,
    "deepnote_cell_type": "code"
   },
   "source": "data.head()",
   "execution_count": null,
   "outputs": [
    {
     "output_type": "execute_result",
     "execution_count": 29,
     "data": {
      "application/vnd.deepnote.dataframe.v2+json": {
       "row_count": 5,
       "column_count": 8,
       "columns": [
        {
         "name": "TV",
         "dtype": "float64",
         "stats": {
          "unique_count": 5,
          "nan_count": 0,
          "min": "17.2",
          "max": "230.1",
          "histogram": [
           {
            "bin_start": 17.2,
            "bin_end": 38.489999999999995,
            "count": 1
           },
           {
            "bin_start": 38.489999999999995,
            "bin_end": 59.78,
            "count": 1
           },
           {
            "bin_start": 59.78,
            "bin_end": 81.07,
            "count": 0
           },
           {
            "bin_start": 81.07,
            "bin_end": 102.36,
            "count": 0
           },
           {
            "bin_start": 102.36,
            "bin_end": 123.64999999999999,
            "count": 0
           },
           {
            "bin_start": 123.64999999999999,
            "bin_end": 144.94,
            "count": 0
           },
           {
            "bin_start": 144.94,
            "bin_end": 166.23,
            "count": 1
           },
           {
            "bin_start": 166.23,
            "bin_end": 187.51999999999998,
            "count": 1
           },
           {
            "bin_start": 187.51999999999998,
            "bin_end": 208.80999999999997,
            "count": 0
           },
           {
            "bin_start": 208.80999999999997,
            "bin_end": 230.1,
            "count": 1
           }
          ]
         }
        },
        {
         "name": "Radio",
         "dtype": "float64",
         "stats": {
          "unique_count": 5,
          "nan_count": 0,
          "min": "10.8",
          "max": "45.9",
          "histogram": [
           {
            "bin_start": 10.8,
            "bin_end": 14.31,
            "count": 1
           },
           {
            "bin_start": 14.31,
            "bin_end": 17.82,
            "count": 0
           },
           {
            "bin_start": 17.82,
            "bin_end": 21.33,
            "count": 0
           },
           {
            "bin_start": 21.33,
            "bin_end": 24.839999999999996,
            "count": 0
           },
           {
            "bin_start": 24.839999999999996,
            "bin_end": 28.349999999999998,
            "count": 0
           },
           {
            "bin_start": 28.349999999999998,
            "bin_end": 31.859999999999996,
            "count": 0
           },
           {
            "bin_start": 31.859999999999996,
            "bin_end": 35.37,
            "count": 0
           },
           {
            "bin_start": 35.37,
            "bin_end": 38.879999999999995,
            "count": 1
           },
           {
            "bin_start": 38.879999999999995,
            "bin_end": 42.38999999999999,
            "count": 2
           },
           {
            "bin_start": 42.38999999999999,
            "bin_end": 45.9,
            "count": 1
           }
          ]
         }
        },
        {
         "name": "Newspaper",
         "dtype": "float64",
         "stats": {
          "unique_count": 5,
          "nan_count": 0,
          "min": "45.1",
          "max": "69.3",
          "histogram": [
           {
            "bin_start": 45.1,
            "bin_end": 47.52,
            "count": 1
           },
           {
            "bin_start": 47.52,
            "bin_end": 49.94,
            "count": 0
           },
           {
            "bin_start": 49.94,
            "bin_end": 52.36,
            "count": 0
           },
           {
            "bin_start": 52.36,
            "bin_end": 54.78,
            "count": 0
           },
           {
            "bin_start": 54.78,
            "bin_end": 57.2,
            "count": 0
           },
           {
            "bin_start": 57.2,
            "bin_end": 59.62,
            "count": 2
           },
           {
            "bin_start": 59.62,
            "bin_end": 62.04,
            "count": 0
           },
           {
            "bin_start": 62.04,
            "bin_end": 64.46,
            "count": 0
           },
           {
            "bin_start": 64.46,
            "bin_end": 66.88,
            "count": 0
           },
           {
            "bin_start": 66.88,
            "bin_end": 69.3,
            "count": 2
           }
          ]
         }
        },
        {
         "name": "Sales",
         "dtype": "float64",
         "stats": {
          "unique_count": 5,
          "nan_count": 0,
          "min": "9.3",
          "max": "22.1",
          "histogram": [
           {
            "bin_start": 9.3,
            "bin_end": 10.58,
            "count": 2
           },
           {
            "bin_start": 10.58,
            "bin_end": 11.860000000000001,
            "count": 0
           },
           {
            "bin_start": 11.860000000000001,
            "bin_end": 13.14,
            "count": 1
           },
           {
            "bin_start": 13.14,
            "bin_end": 14.420000000000002,
            "count": 0
           },
           {
            "bin_start": 14.420000000000002,
            "bin_end": 15.700000000000001,
            "count": 0
           },
           {
            "bin_start": 15.700000000000001,
            "bin_end": 16.98,
            "count": 0
           },
           {
            "bin_start": 16.98,
            "bin_end": 18.26,
            "count": 0
           },
           {
            "bin_start": 18.26,
            "bin_end": 19.54,
            "count": 1
           },
           {
            "bin_start": 19.54,
            "bin_end": 20.82,
            "count": 0
           },
           {
            "bin_start": 20.82,
            "bin_end": 22.1,
            "count": 1
           }
          ]
         }
        },
        {
         "name": "Sales Pred",
         "dtype": "float64",
         "stats": {
          "unique_count": 5,
          "nan_count": 0,
          "min": "7.850230399999999",
          "max": "17.9708577",
          "histogram": [
           {
            "bin_start": 7.850230399999999,
            "bin_end": 8.86229313,
            "count": 1
           },
           {
            "bin_start": 8.86229313,
            "bin_end": 9.87435586,
            "count": 1
           },
           {
            "bin_start": 9.87435586,
            "bin_end": 10.886418589999998,
            "count": 0
           },
           {
            "bin_start": 10.886418589999998,
            "bin_end": 11.898481319999998,
            "count": 0
           },
           {
            "bin_start": 11.898481319999998,
            "bin_end": 12.910544049999999,
            "count": 0
           },
           {
            "bin_start": 12.910544049999999,
            "bin_end": 13.922606779999999,
            "count": 0
           },
           {
            "bin_start": 13.922606779999999,
            "bin_end": 14.934669509999999,
            "count": 1
           },
           {
            "bin_start": 14.934669509999999,
            "bin_end": 15.94673224,
            "count": 1
           },
           {
            "bin_start": 15.94673224,
            "bin_end": 16.95879497,
            "count": 0
           },
           {
            "bin_start": 16.95879497,
            "bin_end": 17.9708577,
            "count": 1
           }
          ]
         }
        },
        {
         "name": "RSE",
         "dtype": "float64",
         "stats": {
          "unique_count": 5,
          "nan_count": 0,
          "min": "1.5675277880902538",
          "max": "18.19492106805025",
          "histogram": [
           {
            "bin_start": 1.5675277880902538,
            "bin_end": 3.2302671160862535,
            "count": 2
           },
           {
            "bin_start": 3.2302671160862535,
            "bin_end": 4.893006444082253,
            "count": 0
           },
           {
            "bin_start": 4.893006444082253,
            "bin_end": 6.555745772078253,
            "count": 0
           },
           {
            "bin_start": 6.555745772078253,
            "bin_end": 8.218485100074252,
            "count": 1
           },
           {
            "bin_start": 8.218485100074252,
            "bin_end": 9.881224428070253,
            "count": 0
           },
           {
            "bin_start": 9.881224428070253,
            "bin_end": 11.543963756066253,
            "count": 0
           },
           {
            "bin_start": 11.543963756066253,
            "bin_end": 13.206703084062251,
            "count": 0
           },
           {
            "bin_start": 13.206703084062251,
            "bin_end": 14.869442412058252,
            "count": 0
           },
           {
            "bin_start": 14.869442412058252,
            "bin_end": 16.532181740054252,
            "count": 0
           },
           {
            "bin_start": 16.532181740054252,
            "bin_end": 18.19492106805025,
            "count": 2
           }
          ]
         }
        },
        {
         "name": "Sales Pred_2",
         "dtype": "float64",
         "stats": {
          "unique_count": 5,
          "nan_count": 0,
          "min": "9.646021900000001",
          "max": "19.6268229",
          "histogram": [
           {
            "bin_start": 9.646021900000001,
            "bin_end": 10.644102,
            "count": 2
           },
           {
            "bin_start": 10.644102,
            "bin_end": 11.642182100000001,
            "count": 0
           },
           {
            "bin_start": 11.642182100000001,
            "bin_end": 12.6402622,
            "count": 0
           },
           {
            "bin_start": 12.6402622,
            "bin_end": 13.638342300000001,
            "count": 0
           },
           {
            "bin_start": 13.638342300000001,
            "bin_end": 14.6364224,
            "count": 0
           },
           {
            "bin_start": 14.6364224,
            "bin_end": 15.6345025,
            "count": 1
           },
           {
            "bin_start": 15.6345025,
            "bin_end": 16.6325826,
            "count": 0
           },
           {
            "bin_start": 16.6325826,
            "bin_end": 17.630662700000002,
            "count": 1
           },
           {
            "bin_start": 17.630662700000002,
            "bin_end": 18.628742799999998,
            "count": 0
           },
           {
            "bin_start": 18.628742799999998,
            "bin_end": 19.6268229,
            "count": 1
           }
          ]
         }
        },
        {
         "name": "RSE2",
         "dtype": "float64",
         "stats": {
          "unique_count": 5,
          "nan_count": 0,
          "min": "0.11973115527961015",
          "max": "15.500271363074564",
          "histogram": [
           {
            "bin_start": 0.11973115527961015,
            "bin_end": 1.6577851760591056,
            "count": 2
           },
           {
            "bin_start": 1.6577851760591056,
            "bin_end": 3.1958391968386013,
            "count": 0
           },
           {
            "bin_start": 3.1958391968386013,
            "bin_end": 4.733893217618097,
            "count": 0
           },
           {
            "bin_start": 4.733893217618097,
            "bin_end": 6.271947238397592,
            "count": 1
           },
           {
            "bin_start": 6.271947238397592,
            "bin_end": 7.8100012591770875,
            "count": 0
           },
           {
            "bin_start": 7.8100012591770875,
            "bin_end": 9.348055279956583,
            "count": 1
           },
           {
            "bin_start": 9.348055279956583,
            "bin_end": 10.886109300736077,
            "count": 0
           },
           {
            "bin_start": 10.886109300736077,
            "bin_end": 12.424163321515573,
            "count": 0
           },
           {
            "bin_start": 12.424163321515573,
            "bin_end": 13.96221734229507,
            "count": 0
           },
           {
            "bin_start": 13.96221734229507,
            "bin_end": 15.500271363074564,
            "count": 1
           }
          ]
         }
        },
        {
         "name": "_deepnote_index_column",
         "dtype": "int64"
        }
       ],
       "rows_top": [
        {
         "TV": 230.1,
         "Radio": 37.8,
         "Newspaper": 69.2,
         "Sales": 22.1,
         "Sales Pred": 17.9708577,
         "RSE": 17.049816133649305,
         "Sales Pred_2": 19.6268229,
         "RSE2": 6.116604967964414,
         "_deepnote_index_column": 0
        },
        {
         "TV": 44.5,
         "Radio": 39.3,
         "Newspaper": 45.1,
         "Sales": 10.4,
         "Sales Pred": 9.147990499999999,
         "RSE": 1.5675277880902538,
         "Sales Pred_2": 9.8563194,
         "RSE2": 0.2955885948163601,
         "_deepnote_index_column": 1
        },
        {
         "TV": 17.2,
         "Radio": 45.9,
         "Newspaper": 69.3,
         "Sales": 9.3,
         "Sales Pred": 7.850230399999999,
         "RSE": 2.1018318930841646,
         "Sales Pred_2": 9.646021900000001,
         "RSE2": 0.11973115527961015,
         "_deepnote_index_column": 2
        },
        {
         "TV": 151.5,
         "Radio": 41.3,
         "Newspaper": 58.5,
         "Sales": 18.5,
         "Sales Pred": 14.2344495,
         "RSE": 18.19492106805025,
         "Sales Pred_2": 15.467261,
         "RSE2": 9.197505842120997,
         "_deepnote_index_column": 3
        },
        {
         "TV": 180.8,
         "Radio": 10.8,
         "Newspaper": 58.4,
         "Sales": 12.9,
         "Sales Pred": 15.6272836,
         "RSE": 7.438075834828959,
         "Sales Pred_2": 16.8370384,
         "RSE2": 15.500271363074564,
         "_deepnote_index_column": 4
        }
       ],
       "rows_bottom": null
      },
      "text/plain": "      TV  Radio  Newspaper  Sales  Sales Pred        RSE  Sales Pred_2  \\\n0  230.1   37.8       69.2   22.1   17.970858  17.049816     19.626823   \n1   44.5   39.3       45.1   10.4    9.147990   1.567528      9.856319   \n2   17.2   45.9       69.3    9.3    7.850230   2.101832      9.646022   \n3  151.5   41.3       58.5   18.5   14.234450  18.194921     15.467261   \n4  180.8   10.8       58.4   12.9   15.627284   7.438076     16.837038   \n\n        RSE2  \n0   6.116605  \n1   0.295589  \n2   0.119731  \n3   9.197506  \n4  15.500271  ",
      "text/html": "<div>\n<style scoped>\n    .dataframe tbody tr th:only-of-type {\n        vertical-align: middle;\n    }\n\n    .dataframe tbody tr th {\n        vertical-align: top;\n    }\n\n    .dataframe thead th {\n        text-align: right;\n    }\n</style>\n<table border=\"1\" class=\"dataframe\">\n  <thead>\n    <tr style=\"text-align: right;\">\n      <th></th>\n      <th>TV</th>\n      <th>Radio</th>\n      <th>Newspaper</th>\n      <th>Sales</th>\n      <th>Sales Pred</th>\n      <th>RSE</th>\n      <th>Sales Pred_2</th>\n      <th>RSE2</th>\n    </tr>\n  </thead>\n  <tbody>\n    <tr>\n      <th>0</th>\n      <td>230.1</td>\n      <td>37.8</td>\n      <td>69.2</td>\n      <td>22.1</td>\n      <td>17.970858</td>\n      <td>17.049816</td>\n      <td>19.626823</td>\n      <td>6.116605</td>\n    </tr>\n    <tr>\n      <th>1</th>\n      <td>44.5</td>\n      <td>39.3</td>\n      <td>45.1</td>\n      <td>10.4</td>\n      <td>9.147990</td>\n      <td>1.567528</td>\n      <td>9.856319</td>\n      <td>0.295589</td>\n    </tr>\n    <tr>\n      <th>2</th>\n      <td>17.2</td>\n      <td>45.9</td>\n      <td>69.3</td>\n      <td>9.3</td>\n      <td>7.850230</td>\n      <td>2.101832</td>\n      <td>9.646022</td>\n      <td>0.119731</td>\n    </tr>\n    <tr>\n      <th>3</th>\n      <td>151.5</td>\n      <td>41.3</td>\n      <td>58.5</td>\n      <td>18.5</td>\n      <td>14.234450</td>\n      <td>18.194921</td>\n      <td>15.467261</td>\n      <td>9.197506</td>\n    </tr>\n    <tr>\n      <th>4</th>\n      <td>180.8</td>\n      <td>10.8</td>\n      <td>58.4</td>\n      <td>12.9</td>\n      <td>15.627284</td>\n      <td>7.438076</td>\n      <td>16.837038</td>\n      <td>15.500271</td>\n    </tr>\n  </tbody>\n</table>\n</div>"
     },
     "metadata": {}
    }
   ]
  },
  {
   "cell_type": "code",
   "metadata": {
    "tags": [],
    "cell_id": "00042-63d0ddd5-b425-4056-9bc8-8840857798df",
    "deepnote_to_be_reexecuted": false,
    "source_hash": "52644a60",
    "execution_start": 1636587335320,
    "execution_millis": 39,
    "deepnote_cell_type": "code"
   },
   "source": "# Definimos nuestro tercer modelo\n\nlinear_model_3 = smf.ols(formula='Sales~TV+Radio', data=data).fit()",
   "execution_count": null,
   "outputs": []
  },
  {
   "cell_type": "code",
   "metadata": {
    "tags": [],
    "cell_id": "00043-8a8bf095-1c94-4679-8cb3-f16204f607e1",
    "deepnote_to_be_reexecuted": false,
    "source_hash": "51d9cb2d",
    "execution_start": 1636587335360,
    "execution_millis": 0,
    "deepnote_output_heights": [
     78.80000305175781
    ],
    "deepnote_cell_type": "code"
   },
   "source": "# Parámetros\n\ndisplay(linear_model_3.params)",
   "execution_count": null,
   "outputs": [
    {
     "data": {
      "text/plain": "Intercept    2.921100\nTV           0.045755\nRadio        0.187994\ndtype: float64"
     },
     "metadata": {},
     "output_type": "display_data"
    }
   ]
  },
  {
   "cell_type": "code",
   "metadata": {
    "tags": [],
    "cell_id": "00044-240e0524-5dfe-426a-ae87-1bc89d736d26",
    "deepnote_to_be_reexecuted": false,
    "source_hash": "fbefb5bb",
    "execution_start": 1636587335361,
    "execution_millis": 47,
    "deepnote_output_heights": [
     78.80000305175781
    ],
    "deepnote_cell_type": "code"
   },
   "source": "# P-Values\n\ndisplay(linear_model_3.pvalues)",
   "execution_count": null,
   "outputs": [
    {
     "data": {
      "text/plain": "Intercept    4.565557e-19\nTV           5.436980e-82\nRadio        9.776972e-59\ndtype: float64"
     },
     "metadata": {},
     "output_type": "display_data"
    }
   ]
  },
  {
   "cell_type": "markdown",
   "source": "Nuestros $p-values$ son todavía aún muchísimos más bajos lo cual es todavía mejor, probablemente tendremos que rechazar ambas **hipótesis** del inicio en este momento, pero sigamos analizando más a fondo",
   "metadata": {
    "tags": [],
    "cell_id": "00048-3c8ba1ab-95ff-4042-aaad-2eefdce146a7",
    "deepnote_cell_type": "markdown"
   }
  },
  {
   "cell_type": "markdown",
   "source": "El **Modelo Predictivo** sería $Sales = 2.921100 + (0.04575)TV + (0.187994)Radio$\n\n**Razonamiento**: Por cada $0.04575$ y $0.187994$ unidades monetarias **invertidas** en **publicidad televisiva** y **radial** respectivamente reportará $2.9211$ unidades monetarias en **ventas**",
   "metadata": {
    "tags": [],
    "cell_id": "00045-5ca2a7b3-fb2c-4800-a760-6a24dac4d288",
    "deepnote_cell_type": "markdown"
   }
  },
  {
   "cell_type": "code",
   "metadata": {
    "tags": [],
    "cell_id": "00046-610f342e-d639-4998-9477-bbc0c17e503c",
    "deepnote_to_be_reexecuted": false,
    "source_hash": "30008aa5",
    "execution_start": 1636587335362,
    "execution_millis": 73,
    "deepnote_output_heights": [
     21.199996948242188,
     21.199996948242188
    ],
    "deepnote_cell_type": "code"
   },
   "source": "# Estimadores estadísticos\n\n# R2\nr2_mod3 = (round(linear_model_3.rsquared,4))\ndisplay(f'R2: {r2_mod3}')\n\n# R2 Ajustado\nr2_adj_mod3 = round(linear_model_3.rsquared_adj,4)\ndisplay(f'R2 ajustado: {r2_adj_mod3}')",
   "execution_count": null,
   "outputs": [
    {
     "data": {
      "text/plain": "'R2: 0.8972'"
     },
     "metadata": {},
     "output_type": "display_data"
    },
    {
     "data": {
      "text/plain": "'R2 ajustado: 0.8962'"
     },
     "metadata": {},
     "output_type": "display_data"
    }
   ]
  },
  {
   "cell_type": "code",
   "metadata": {
    "tags": [],
    "cell_id": "00047-23502092-f38c-49b3-ae6a-ffebb70da0b4",
    "deepnote_to_be_reexecuted": false,
    "source_hash": "5f394d72",
    "execution_start": 1636587335409,
    "execution_millis": 26,
    "deepnote_output_heights": [
     611
    ],
    "deepnote_cell_type": "code"
   },
   "source": "# Summary\n\nlinear_model_3.summary()",
   "execution_count": null,
   "outputs": [
    {
     "output_type": "execute_result",
     "execution_count": 34,
     "data": {
      "text/plain": "<class 'statsmodels.iolib.summary.Summary'>\n\"\"\"\n                            OLS Regression Results                            \n==============================================================================\nDep. Variable:                  Sales   R-squared:                       0.897\nModel:                            OLS   Adj. R-squared:                  0.896\nMethod:                 Least Squares   F-statistic:                     859.6\nDate:                Wed, 10 Nov 2021   Prob (F-statistic):           4.83e-98\nTime:                        23:35:35   Log-Likelihood:                -386.20\nNo. Observations:                 200   AIC:                             778.4\nDf Residuals:                     197   BIC:                             788.3\nDf Model:                           2                                         \nCovariance Type:            nonrobust                                         \n==============================================================================\n                 coef    std err          t      P>|t|      [0.025      0.975]\n------------------------------------------------------------------------------\nIntercept      2.9211      0.294      9.919      0.000       2.340       3.502\nTV             0.0458      0.001     32.909      0.000       0.043       0.048\nRadio          0.1880      0.008     23.382      0.000       0.172       0.204\n==============================================================================\nOmnibus:                       60.022   Durbin-Watson:                   2.081\nProb(Omnibus):                  0.000   Jarque-Bera (JB):              148.679\nSkew:                          -1.323   Prob(JB):                     5.19e-33\nKurtosis:                       6.292   Cond. No.                         425.\n==============================================================================\n\nNotes:\n[1] Standard Errors assume that the covariance matrix of the errors is correctly specified.\n\"\"\"",
      "text/html": "<table class=\"simpletable\">\n<caption>OLS Regression Results</caption>\n<tr>\n  <th>Dep. Variable:</th>          <td>Sales</td>      <th>  R-squared:         </th> <td>   0.897</td>\n</tr>\n<tr>\n  <th>Model:</th>                   <td>OLS</td>       <th>  Adj. R-squared:    </th> <td>   0.896</td>\n</tr>\n<tr>\n  <th>Method:</th>             <td>Least Squares</td>  <th>  F-statistic:       </th> <td>   859.6</td>\n</tr>\n<tr>\n  <th>Date:</th>             <td>Wed, 10 Nov 2021</td> <th>  Prob (F-statistic):</th> <td>4.83e-98</td>\n</tr>\n<tr>\n  <th>Time:</th>                 <td>23:35:35</td>     <th>  Log-Likelihood:    </th> <td> -386.20</td>\n</tr>\n<tr>\n  <th>No. Observations:</th>      <td>   200</td>      <th>  AIC:               </th> <td>   778.4</td>\n</tr>\n<tr>\n  <th>Df Residuals:</th>          <td>   197</td>      <th>  BIC:               </th> <td>   788.3</td>\n</tr>\n<tr>\n  <th>Df Model:</th>              <td>     2</td>      <th>                     </th>     <td> </td>   \n</tr>\n<tr>\n  <th>Covariance Type:</th>      <td>nonrobust</td>    <th>                     </th>     <td> </td>   \n</tr>\n</table>\n<table class=\"simpletable\">\n<tr>\n      <td></td>         <th>coef</th>     <th>std err</th>      <th>t</th>      <th>P>|t|</th>  <th>[0.025</th>    <th>0.975]</th>  \n</tr>\n<tr>\n  <th>Intercept</th> <td>    2.9211</td> <td>    0.294</td> <td>    9.919</td> <td> 0.000</td> <td>    2.340</td> <td>    3.502</td>\n</tr>\n<tr>\n  <th>TV</th>        <td>    0.0458</td> <td>    0.001</td> <td>   32.909</td> <td> 0.000</td> <td>    0.043</td> <td>    0.048</td>\n</tr>\n<tr>\n  <th>Radio</th>     <td>    0.1880</td> <td>    0.008</td> <td>   23.382</td> <td> 0.000</td> <td>    0.172</td> <td>    0.204</td>\n</tr>\n</table>\n<table class=\"simpletable\">\n<tr>\n  <th>Omnibus:</th>       <td>60.022</td> <th>  Durbin-Watson:     </th> <td>   2.081</td>\n</tr>\n<tr>\n  <th>Prob(Omnibus):</th> <td> 0.000</td> <th>  Jarque-Bera (JB):  </th> <td> 148.679</td>\n</tr>\n<tr>\n  <th>Skew:</th>          <td>-1.323</td> <th>  Prob(JB):          </th> <td>5.19e-33</td>\n</tr>\n<tr>\n  <th>Kurtosis:</th>      <td> 6.292</td> <th>  Cond. No.          </th> <td>    425.</td>\n</tr>\n</table><br/><br/>Notes:<br/>[1] Standard Errors assume that the covariance matrix of the errors is correctly specified."
     },
     "metadata": {}
    }
   ]
  },
  {
   "cell_type": "markdown",
   "source": "Ahora queremos intentar **predecir** las **ventas** con respecto al **gasto** en **publicidad de TV** y **radial**, lo definiremos de la siguiente manera:",
   "metadata": {
    "tags": [],
    "cell_id": "00048-3f07f947-a413-40e2-b7d3-87dfd0d310a9",
    "deepnote_cell_type": "markdown"
   }
  },
  {
   "cell_type": "code",
   "metadata": {
    "tags": [],
    "cell_id": "00047-4f7e2c40-405a-4320-93ce-8871abdffd2b",
    "deepnote_to_be_reexecuted": false,
    "source_hash": "82b5ad31",
    "execution_start": 1636587335410,
    "execution_millis": 59,
    "deepnote_output_heights": [
     117.19999694824219
    ],
    "deepnote_cell_type": "code"
   },
   "source": "# Predicción de ventas del segundo modelo\n\nsales_pred3 = linear_model_3.predict(pd.DataFrame(data[['TV', 'Radio']]))\nsales_pred3.head()",
   "execution_count": null,
   "outputs": [
    {
     "output_type": "execute_result",
     "execution_count": 35,
     "data": {
      "text/plain": "0    20.555465\n1    12.345362\n2    12.337018\n3    17.617116\n4    13.223908\ndtype: float64"
     },
     "metadata": {}
    }
   ]
  },
  {
   "cell_type": "markdown",
   "source": "Añadimos una nueva columna con el valor de las **ventas predecidas** y el $RSE$",
   "metadata": {
    "tags": [],
    "cell_id": "00053-a1738838-c824-4d38-8ee9-4a9b89847f70",
    "deepnote_cell_type": "markdown"
   }
  },
  {
   "cell_type": "code",
   "metadata": {
    "tags": [],
    "cell_id": "00049-98c59e41-bf09-472f-a39e-3e314ae9d092",
    "deepnote_to_be_reexecuted": false,
    "source_hash": "a3c67d20",
    "execution_start": 1636587335436,
    "execution_millis": 1,
    "deepnote_cell_type": "code"
   },
   "source": "# Columnas Ventas predecidas y RSE del tercer modelo\n\ndata['Sales Pred_3'] = 2.921100 + 0.04575 * data['TV'] + 0.187994 * data['Radio']\ndata['RSE3'] = (data['Sales'] - data['Sales Pred_3'])**2",
   "execution_count": null,
   "outputs": []
  },
  {
   "cell_type": "code",
   "metadata": {
    "tags": [],
    "cell_id": "00050-910209e5-4f8c-4944-871d-4e82867a499f",
    "deepnote_to_be_reexecuted": false,
    "source_hash": "251d1e6f",
    "execution_start": 1636587335470,
    "execution_millis": 62,
    "deepnote_output_heights": [
     21.199996948242188,
     21.199996948242188
    ],
    "deepnote_cell_type": "code"
   },
   "source": "# Calculamos nuestros estimadores ANOVA\n\nSSD3 = sum((data['Sales'] - sales_pred3)**2)\nRSE3 = np.sqrt(SSD3/(len(data)-2-1))\n\n# Display\ndisplay(f'SSD del tercer modelo: {SSD3}')\ndisplay(f'RSE del tercer modelo: {RSE3}')",
   "execution_count": null,
   "outputs": [
    {
     "data": {
      "text/plain": "'SSD del tercer modelo: 556.9139800676185'"
     },
     "metadata": {},
     "output_type": "display_data"
    },
    {
     "data": {
      "text/plain": "'RSE del tercer modelo: 1.6813609125080011'"
     },
     "metadata": {},
     "output_type": "display_data"
    }
   ]
  },
  {
   "cell_type": "code",
   "metadata": {
    "tags": [],
    "cell_id": "00052-53451aa1-1a29-4ae8-b1bf-168a9e1b5859",
    "deepnote_to_be_reexecuted": false,
    "source_hash": "47ce634e",
    "execution_start": 1636587335512,
    "execution_millis": 20,
    "deepnote_output_heights": [
     21.199996948242188,
     21.199996948242188
    ],
    "deepnote_cell_type": "code"
   },
   "source": "# Calculamos la media de las ventas y el error\n\nsales_promedio = np.mean(data['Sales'])\nerror3 = RSE3/sales_promedio\n\n# Display\ndisplay(f'Ventas promedio: {sales_promedio}')\ndisplay(f'Error promedio del tercer modelo: {error3}')",
   "execution_count": null,
   "outputs": [
    {
     "data": {
      "text/plain": "'Ventas promedio: 14.0225'"
     },
     "metadata": {},
     "output_type": "display_data"
    },
    {
     "data": {
      "text/plain": "'Error promedio del tercer modelo: 0.11990450436855062'"
     },
     "metadata": {},
     "output_type": "display_data"
    }
   ]
  },
  {
   "cell_type": "markdown",
   "source": "Ahora el **error promedio** es de $11,99$% en el **tercer modelo** que **no logra explicar correctamente**, lo cual es muchísimo que los dos primeros considerablemente",
   "metadata": {
    "tags": [],
    "cell_id": "00053-2d116ac5-52e0-4683-945e-6d077a8d9b49",
    "deepnote_cell_type": "markdown"
   }
  },
  {
   "cell_type": "code",
   "metadata": {
    "tags": [],
    "cell_id": "00054-91505aca-8ab3-4114-a1c6-3290b36997d2",
    "deepnote_to_be_reexecuted": false,
    "source_hash": "56b5fedb",
    "execution_start": 1636587335533,
    "execution_millis": 412,
    "deepnote_output_heights": [
     278
    ],
    "deepnote_cell_type": "code"
   },
   "source": "# Histplot\n\nsns.set_theme(style='whitegrid')\nsns.histplot(data['Sales'] - sales_pred3, kde=True, bins=10, edgecolor='black', linewidth=0.8, color='red')\nplt.title('Error promedio del tercer modelo\\n')\nplt.tight_layout();",
   "execution_count": null,
   "outputs": [
    {
     "data": {
      "text/plain": "<Figure size 432x288 with 1 Axes>",
      "image/png": "[encoded data removed]"
     },
     "metadata": {
      "image/png": {
       "width": 420,
       "height": 276
      }
     },
     "output_type": "display_data"
    }
   ]
  },
  {
   "cell_type": "markdown",
   "source": "### Análisis del Histplot 🔎📊\n\n- Podemos observar que existe una **distribución sesgada hacia la derecha** en el **error promedio** entre **las ventas y las ventas predecidas del tercer modelo**",
   "metadata": {
    "tags": [],
    "cell_id": "00069-568f030a-0597-4507-9830-1f04cf8f410b",
    "deepnote_cell_type": "markdown"
   }
  },
  {
   "cell_type": "code",
   "metadata": {
    "tags": [],
    "cell_id": "00055-07870553-ab9c-4b7c-8f26-e974c5fa7cdd",
    "deepnote_to_be_reexecuted": false,
    "source_hash": "41313cfa",
    "execution_start": 1636587335995,
    "execution_millis": 18,
    "deepnote_cell_type": "code"
   },
   "source": "data.head()",
   "execution_count": null,
   "outputs": [
    {
     "output_type": "execute_result",
     "execution_count": 40,
     "data": {
      "application/vnd.deepnote.dataframe.v2+json": {
       "row_count": 5,
       "column_count": 10,
       "columns": [
        {
         "name": "TV",
         "dtype": "float64",
         "stats": {
          "unique_count": 5,
          "nan_count": 0,
          "min": "17.2",
          "max": "230.1",
          "histogram": [
           {
            "bin_start": 17.2,
            "bin_end": 38.489999999999995,
            "count": 1
           },
           {
            "bin_start": 38.489999999999995,
            "bin_end": 59.78,
            "count": 1
           },
           {
            "bin_start": 59.78,
            "bin_end": 81.07,
            "count": 0
           },
           {
            "bin_start": 81.07,
            "bin_end": 102.36,
            "count": 0
           },
           {
            "bin_start": 102.36,
            "bin_end": 123.64999999999999,
            "count": 0
           },
           {
            "bin_start": 123.64999999999999,
            "bin_end": 144.94,
            "count": 0
           },
           {
            "bin_start": 144.94,
            "bin_end": 166.23,
            "count": 1
           },
           {
            "bin_start": 166.23,
            "bin_end": 187.51999999999998,
            "count": 1
           },
           {
            "bin_start": 187.51999999999998,
            "bin_end": 208.80999999999997,
            "count": 0
           },
           {
            "bin_start": 208.80999999999997,
            "bin_end": 230.1,
            "count": 1
           }
          ]
         }
        },
        {
         "name": "Radio",
         "dtype": "float64",
         "stats": {
          "unique_count": 5,
          "nan_count": 0,
          "min": "10.8",
          "max": "45.9",
          "histogram": [
           {
            "bin_start": 10.8,
            "bin_end": 14.31,
            "count": 1
           },
           {
            "bin_start": 14.31,
            "bin_end": 17.82,
            "count": 0
           },
           {
            "bin_start": 17.82,
            "bin_end": 21.33,
            "count": 0
           },
           {
            "bin_start": 21.33,
            "bin_end": 24.839999999999996,
            "count": 0
           },
           {
            "bin_start": 24.839999999999996,
            "bin_end": 28.349999999999998,
            "count": 0
           },
           {
            "bin_start": 28.349999999999998,
            "bin_end": 31.859999999999996,
            "count": 0
           },
           {
            "bin_start": 31.859999999999996,
            "bin_end": 35.37,
            "count": 0
           },
           {
            "bin_start": 35.37,
            "bin_end": 38.879999999999995,
            "count": 1
           },
           {
            "bin_start": 38.879999999999995,
            "bin_end": 42.38999999999999,
            "count": 2
           },
           {
            "bin_start": 42.38999999999999,
            "bin_end": 45.9,
            "count": 1
           }
          ]
         }
        },
        {
         "name": "Newspaper",
         "dtype": "float64",
         "stats": {
          "unique_count": 5,
          "nan_count": 0,
          "min": "45.1",
          "max": "69.3",
          "histogram": [
           {
            "bin_start": 45.1,
            "bin_end": 47.52,
            "count": 1
           },
           {
            "bin_start": 47.52,
            "bin_end": 49.94,
            "count": 0
           },
           {
            "bin_start": 49.94,
            "bin_end": 52.36,
            "count": 0
           },
           {
            "bin_start": 52.36,
            "bin_end": 54.78,
            "count": 0
           },
           {
            "bin_start": 54.78,
            "bin_end": 57.2,
            "count": 0
           },
           {
            "bin_start": 57.2,
            "bin_end": 59.62,
            "count": 2
           },
           {
            "bin_start": 59.62,
            "bin_end": 62.04,
            "count": 0
           },
           {
            "bin_start": 62.04,
            "bin_end": 64.46,
            "count": 0
           },
           {
            "bin_start": 64.46,
            "bin_end": 66.88,
            "count": 0
           },
           {
            "bin_start": 66.88,
            "bin_end": 69.3,
            "count": 2
           }
          ]
         }
        },
        {
         "name": "Sales",
         "dtype": "float64",
         "stats": {
          "unique_count": 5,
          "nan_count": 0,
          "min": "9.3",
          "max": "22.1",
          "histogram": [
           {
            "bin_start": 9.3,
            "bin_end": 10.58,
            "count": 2
           },
           {
            "bin_start": 10.58,
            "bin_end": 11.860000000000001,
            "count": 0
           },
           {
            "bin_start": 11.860000000000001,
            "bin_end": 13.14,
            "count": 1
           },
           {
            "bin_start": 13.14,
            "bin_end": 14.420000000000002,
            "count": 0
           },
           {
            "bin_start": 14.420000000000002,
            "bin_end": 15.700000000000001,
            "count": 0
           },
           {
            "bin_start": 15.700000000000001,
            "bin_end": 16.98,
            "count": 0
           },
           {
            "bin_start": 16.98,
            "bin_end": 18.26,
            "count": 0
           },
           {
            "bin_start": 18.26,
            "bin_end": 19.54,
            "count": 1
           },
           {
            "bin_start": 19.54,
            "bin_end": 20.82,
            "count": 0
           },
           {
            "bin_start": 20.82,
            "bin_end": 22.1,
            "count": 1
           }
          ]
         }
        },
        {
         "name": "Sales Pred",
         "dtype": "float64",
         "stats": {
          "unique_count": 5,
          "nan_count": 0,
          "min": "7.850230399999999",
          "max": "17.9708577",
          "histogram": [
           {
            "bin_start": 7.850230399999999,
            "bin_end": 8.86229313,
            "count": 1
           },
           {
            "bin_start": 8.86229313,
            "bin_end": 9.87435586,
            "count": 1
           },
           {
            "bin_start": 9.87435586,
            "bin_end": 10.886418589999998,
            "count": 0
           },
           {
            "bin_start": 10.886418589999998,
            "bin_end": 11.898481319999998,
            "count": 0
           },
           {
            "bin_start": 11.898481319999998,
            "bin_end": 12.910544049999999,
            "count": 0
           },
           {
            "bin_start": 12.910544049999999,
            "bin_end": 13.922606779999999,
            "count": 0
           },
           {
            "bin_start": 13.922606779999999,
            "bin_end": 14.934669509999999,
            "count": 1
           },
           {
            "bin_start": 14.934669509999999,
            "bin_end": 15.94673224,
            "count": 1
           },
           {
            "bin_start": 15.94673224,
            "bin_end": 16.95879497,
            "count": 0
           },
           {
            "bin_start": 16.95879497,
            "bin_end": 17.9708577,
            "count": 1
           }
          ]
         }
        },
        {
         "name": "RSE",
         "dtype": "float64",
         "stats": {
          "unique_count": 5,
          "nan_count": 0,
          "min": "1.5675277880902538",
          "max": "18.19492106805025",
          "histogram": [
           {
            "bin_start": 1.5675277880902538,
            "bin_end": 3.2302671160862535,
            "count": 2
           },
           {
            "bin_start": 3.2302671160862535,
            "bin_end": 4.893006444082253,
            "count": 0
           },
           {
            "bin_start": 4.893006444082253,
            "bin_end": 6.555745772078253,
            "count": 0
           },
           {
            "bin_start": 6.555745772078253,
            "bin_end": 8.218485100074252,
            "count": 1
           },
           {
            "bin_start": 8.218485100074252,
            "bin_end": 9.881224428070253,
            "count": 0
           },
           {
            "bin_start": 9.881224428070253,
            "bin_end": 11.543963756066253,
            "count": 0
           },
           {
            "bin_start": 11.543963756066253,
            "bin_end": 13.206703084062251,
            "count": 0
           },
           {
            "bin_start": 13.206703084062251,
            "bin_end": 14.869442412058252,
            "count": 0
           },
           {
            "bin_start": 14.869442412058252,
            "bin_end": 16.532181740054252,
            "count": 0
           },
           {
            "bin_start": 16.532181740054252,
            "bin_end": 18.19492106805025,
            "count": 2
           }
          ]
         }
        },
        {
         "name": "Sales Pred_2",
         "dtype": "float64",
         "stats": {
          "unique_count": 5,
          "nan_count": 0,
          "min": "9.646021900000001",
          "max": "19.6268229",
          "histogram": [
           {
            "bin_start": 9.646021900000001,
            "bin_end": 10.644102,
            "count": 2
           },
           {
            "bin_start": 10.644102,
            "bin_end": 11.642182100000001,
            "count": 0
           },
           {
            "bin_start": 11.642182100000001,
            "bin_end": 12.6402622,
            "count": 0
           },
           {
            "bin_start": 12.6402622,
            "bin_end": 13.638342300000001,
            "count": 0
           },
           {
            "bin_start": 13.638342300000001,
            "bin_end": 14.6364224,
            "count": 0
           },
           {
            "bin_start": 14.6364224,
            "bin_end": 15.6345025,
            "count": 1
           },
           {
            "bin_start": 15.6345025,
            "bin_end": 16.6325826,
            "count": 0
           },
           {
            "bin_start": 16.6325826,
            "bin_end": 17.630662700000002,
            "count": 1
           },
           {
            "bin_start": 17.630662700000002,
            "bin_end": 18.628742799999998,
            "count": 0
           },
           {
            "bin_start": 18.628742799999998,
            "bin_end": 19.6268229,
            "count": 1
           }
          ]
         }
        },
        {
         "name": "RSE2",
         "dtype": "float64",
         "stats": {
          "unique_count": 5,
          "nan_count": 0,
          "min": "0.11973115527961015",
          "max": "15.500271363074564",
          "histogram": [
           {
            "bin_start": 0.11973115527961015,
            "bin_end": 1.6577851760591056,
            "count": 2
           },
           {
            "bin_start": 1.6577851760591056,
            "bin_end": 3.1958391968386013,
            "count": 0
           },
           {
            "bin_start": 3.1958391968386013,
            "bin_end": 4.733893217618097,
            "count": 0
           },
           {
            "bin_start": 4.733893217618097,
            "bin_end": 6.271947238397592,
            "count": 1
           },
           {
            "bin_start": 6.271947238397592,
            "bin_end": 7.8100012591770875,
            "count": 0
           },
           {
            "bin_start": 7.8100012591770875,
            "bin_end": 9.348055279956583,
            "count": 1
           },
           {
            "bin_start": 9.348055279956583,
            "bin_end": 10.886109300736077,
            "count": 0
           },
           {
            "bin_start": 10.886109300736077,
            "bin_end": 12.424163321515573,
            "count": 0
           },
           {
            "bin_start": 12.424163321515573,
            "bin_end": 13.96221734229507,
            "count": 0
           },
           {
            "bin_start": 13.96221734229507,
            "bin_end": 15.500271363074564,
            "count": 1
           }
          ]
         }
        },
        {
         "name": "Sales Pred_3",
         "dtype": "float64",
         "stats": {
          "unique_count": 5,
          "nan_count": 0,
          "min": "12.3369246",
          "max": "20.5543482",
          "histogram": [
           {
            "bin_start": 12.3369246,
            "bin_end": 13.15866696,
            "count": 2
           },
           {
            "bin_start": 13.15866696,
            "bin_end": 13.98040932,
            "count": 1
           },
           {
            "bin_start": 13.98040932,
            "bin_end": 14.80215168,
            "count": 0
           },
           {
            "bin_start": 14.80215168,
            "bin_end": 15.62389404,
            "count": 0
           },
           {
            "bin_start": 15.62389404,
            "bin_end": 16.445636399999998,
            "count": 0
           },
           {
            "bin_start": 16.445636399999998,
            "bin_end": 17.26737876,
            "count": 0
           },
           {
            "bin_start": 17.26737876,
            "bin_end": 18.08912112,
            "count": 1
           },
           {
            "bin_start": 18.08912112,
            "bin_end": 18.91086348,
            "count": 0
           },
           {
            "bin_start": 18.91086348,
            "bin_end": 19.732605839999998,
            "count": 0
           },
           {
            "bin_start": 19.732605839999998,
            "bin_end": 20.5543482,
            "count": 1
           }
          ]
         }
        },
        {
         "name": "RSE3",
         "dtype": "float64",
         "stats": {
          "unique_count": 5,
          "nan_count": 0,
          "min": "0.10435174043904091",
          "max": "9.222911026085153",
          "histogram": [
           {
            "bin_start": 0.10435174043904091,
            "bin_end": 1.0162076690036521,
            "count": 2
           },
           {
            "bin_start": 1.0162076690036521,
            "bin_end": 1.9280635975682634,
            "count": 0
           },
           {
            "bin_start": 1.9280635975682634,
            "bin_end": 2.839919526132875,
            "count": 1
           },
           {
            "bin_start": 2.839919526132875,
            "bin_end": 3.751775454697486,
            "count": 0
           },
           {
            "bin_start": 3.751775454697486,
            "bin_end": 4.663631383262097,
            "count": 1
           },
           {
            "bin_start": 4.663631383262097,
            "bin_end": 5.575487311826709,
            "count": 0
           },
           {
            "bin_start": 5.575487311826709,
            "bin_end": 6.48734324039132,
            "count": 0
           },
           {
            "bin_start": 6.48734324039132,
            "bin_end": 7.399199168955931,
            "count": 0
           },
           {
            "bin_start": 7.399199168955931,
            "bin_end": 8.311055097520542,
            "count": 0
           },
           {
            "bin_start": 8.311055097520542,
            "bin_end": 9.222911026085153,
            "count": 1
           }
          ]
         }
        },
        {
         "name": "_deepnote_index_column",
         "dtype": "int64"
        }
       ],
       "rows_top": [
        {
         "TV": 230.1,
         "Radio": 37.8,
         "Newspaper": 69.2,
         "Sales": 22.1,
         "Sales Pred": 17.9708577,
         "RSE": 17.049816133649305,
         "Sales Pred_2": 19.6268229,
         "RSE2": 6.116604967964414,
         "Sales Pred_3": 20.5543482,
         "RSE3": 2.389039486843245,
         "_deepnote_index_column": 0
        },
        {
         "TV": 44.5,
         "Radio": 39.3,
         "Newspaper": 45.1,
         "Sales": 10.4,
         "Sales Pred": 9.147990499999999,
         "RSE": 1.5675277880902538,
         "Sales Pred_2": 9.8563194,
         "RSE2": 0.2955885948163601,
         "Sales Pred_3": 12.345139199999998,
         "RSE3": 3.7835665073766327,
         "_deepnote_index_column": 1
        },
        {
         "TV": 17.2,
         "Radio": 45.9,
         "Newspaper": 69.3,
         "Sales": 9.3,
         "Sales Pred": 7.850230399999999,
         "RSE": 2.1018318930841646,
         "Sales Pred_2": 9.646021900000001,
         "RSE2": 0.11973115527961015,
         "Sales Pred_3": 12.3369246,
         "RSE3": 9.222911026085153,
         "_deepnote_index_column": 2
        },
        {
         "TV": 151.5,
         "Radio": 41.3,
         "Newspaper": 58.5,
         "Sales": 18.5,
         "Sales Pred": 14.2344495,
         "RSE": 18.19492106805025,
         "Sales Pred_2": 15.467261,
         "RSE2": 9.197505842120997,
         "Sales Pred_3": 17.6163772,
         "RSE3": 0.7807892526798422,
         "_deepnote_index_column": 3
        },
        {
         "TV": 180.8,
         "Radio": 10.8,
         "Newspaper": 58.4,
         "Sales": 12.9,
         "Sales Pred": 15.6272836,
         "RSE": 7.438075834828959,
         "Sales Pred_2": 16.8370384,
         "RSE2": 15.500271363074564,
         "Sales Pred_3": 13.223035200000002,
         "RSE3": 0.10435174043904091,
         "_deepnote_index_column": 4
        }
       ],
       "rows_bottom": null
      },
      "text/plain": "      TV  Radio  Newspaper  Sales  Sales Pred        RSE  Sales Pred_2  \\\n0  230.1   37.8       69.2   22.1   17.970858  17.049816     19.626823   \n1   44.5   39.3       45.1   10.4    9.147990   1.567528      9.856319   \n2   17.2   45.9       69.3    9.3    7.850230   2.101832      9.646022   \n3  151.5   41.3       58.5   18.5   14.234450  18.194921     15.467261   \n4  180.8   10.8       58.4   12.9   15.627284   7.438076     16.837038   \n\n        RSE2  Sales Pred_3      RSE3  \n0   6.116605     20.554348  2.389039  \n1   0.295589     12.345139  3.783567  \n2   0.119731     12.336925  9.222911  \n3   9.197506     17.616377  0.780789  \n4  15.500271     13.223035  0.104352  ",
      "text/html": "<div>\n<style scoped>\n    .dataframe tbody tr th:only-of-type {\n        vertical-align: middle;\n    }\n\n    .dataframe tbody tr th {\n        vertical-align: top;\n    }\n\n    .dataframe thead th {\n        text-align: right;\n    }\n</style>\n<table border=\"1\" class=\"dataframe\">\n  <thead>\n    <tr style=\"text-align: right;\">\n      <th></th>\n      <th>TV</th>\n      <th>Radio</th>\n      <th>Newspaper</th>\n      <th>Sales</th>\n      <th>Sales Pred</th>\n      <th>RSE</th>\n      <th>Sales Pred_2</th>\n      <th>RSE2</th>\n      <th>Sales Pred_3</th>\n      <th>RSE3</th>\n    </tr>\n  </thead>\n  <tbody>\n    <tr>\n      <th>0</th>\n      <td>230.1</td>\n      <td>37.8</td>\n      <td>69.2</td>\n      <td>22.1</td>\n      <td>17.970858</td>\n      <td>17.049816</td>\n      <td>19.626823</td>\n      <td>6.116605</td>\n      <td>20.554348</td>\n      <td>2.389039</td>\n    </tr>\n    <tr>\n      <th>1</th>\n      <td>44.5</td>\n      <td>39.3</td>\n      <td>45.1</td>\n      <td>10.4</td>\n      <td>9.147990</td>\n      <td>1.567528</td>\n      <td>9.856319</td>\n      <td>0.295589</td>\n      <td>12.345139</td>\n      <td>3.783567</td>\n    </tr>\n    <tr>\n      <th>2</th>\n      <td>17.2</td>\n      <td>45.9</td>\n      <td>69.3</td>\n      <td>9.3</td>\n      <td>7.850230</td>\n      <td>2.101832</td>\n      <td>9.646022</td>\n      <td>0.119731</td>\n      <td>12.336925</td>\n      <td>9.222911</td>\n    </tr>\n    <tr>\n      <th>3</th>\n      <td>151.5</td>\n      <td>41.3</td>\n      <td>58.5</td>\n      <td>18.5</td>\n      <td>14.234450</td>\n      <td>18.194921</td>\n      <td>15.467261</td>\n      <td>9.197506</td>\n      <td>17.616377</td>\n      <td>0.780789</td>\n    </tr>\n    <tr>\n      <th>4</th>\n      <td>180.8</td>\n      <td>10.8</td>\n      <td>58.4</td>\n      <td>12.9</td>\n      <td>15.627284</td>\n      <td>7.438076</td>\n      <td>16.837038</td>\n      <td>15.500271</td>\n      <td>13.223035</td>\n      <td>0.104352</td>\n    </tr>\n  </tbody>\n</table>\n</div>"
     },
     "metadata": {}
    }
   ]
  },
  {
   "cell_type": "markdown",
   "source": "## Multicolinealidad",
   "metadata": {
    "tags": [],
    "is_collapsed": false,
    "cell_id": "00056-573bbc33-f160-4cf6-af5f-3a2cfbd5ed56",
    "deepnote_cell_type": "text-cell-h2"
   }
  },
  {
   "cell_type": "markdown",
   "source": "Se refiere a una situación en la que dos o más **variables predictoras** se parecen mucho y, por tanto, resulta difícil medir sus efectos individuales sobre la **variable explicada**\n\n**Factor Inflación de la Varianza**\n\n- **VIF** = 1 ➡ Las variables no están correlacionadas\n- **VIF** < 5 ➡ Las variables tienen una correlación moderada y se pueden quedar en el modelo\n- **VIF** > 5 ➡ Las variables están altamente correlacionadas y deben desaparecer del modelo\n",
   "metadata": {
    "tags": [],
    "cell_id": "00056-76c464c9-2652-49c2-b0c3-4d16d5edbbaa",
    "deepnote_cell_type": "markdown"
   }
  },
  {
   "cell_type": "code",
   "metadata": {
    "tags": [],
    "cell_id": "00056-4aecf13f-45c3-4346-a52f-75bd69355f98",
    "deepnote_to_be_reexecuted": false,
    "source_hash": "35f2ebc1",
    "execution_start": 1636587336072,
    "execution_millis": 4,
    "deepnote_output_heights": [
     21.199996948242188
    ],
    "deepnote_cell_type": "code"
   },
   "source": "# Newspaper ~ TV + Radio\n\nlinear_model_n = smf.ols(formula='Newspaper~TV+Radio', data=data).fit()\nR2_n = linear_model_n.rsquared\nVIF_n = 1/(1-R2_n)\ndisplay(VIF_n)",
   "execution_count": null,
   "outputs": [
    {
     "data": {
      "text/plain": "1.1451873787239288"
     },
     "metadata": {},
     "output_type": "display_data"
    }
   ]
  },
  {
   "cell_type": "code",
   "metadata": {
    "tags": [],
    "cell_id": "00063-527ff8e0-3c8a-4f41-b8b3-28fea7b3bf57",
    "deepnote_to_be_reexecuted": false,
    "source_hash": "717910f0",
    "execution_start": 1636587336073,
    "execution_millis": 3,
    "deepnote_output_heights": [
     21.199996948242188
    ],
    "deepnote_cell_type": "code"
   },
   "source": "# TV ~ Newspaper + Radio\n\nlinear_model_tv = smf.ols(formula='TV~Newspaper+Radio', data=data).fit()\nR2_tv = linear_model_tv.rsquared\nVIF_tv = 1/(1-R2_tv)\ndisplay(VIF_tv)",
   "execution_count": null,
   "outputs": [
    {
     "data": {
      "text/plain": "1.00461078493965"
     },
     "metadata": {},
     "output_type": "display_data"
    }
   ]
  },
  {
   "cell_type": "code",
   "metadata": {
    "tags": [],
    "cell_id": "00064-5d0eeb2a-fd92-4fbd-b789-2f2955928cd2",
    "deepnote_to_be_reexecuted": false,
    "source_hash": "aa91d7db",
    "execution_start": 1636587336116,
    "execution_millis": 3,
    "deepnote_output_heights": [
     21.199996948242188
    ],
    "deepnote_cell_type": "code"
   },
   "source": "# Radio ~ TV + Newspaper\n\nlinear_model_r = smf.ols(formula='Radio~TV+Newspaper', data=data).fit()\nR2_r = linear_model_r.rsquared\nVIF_r = 1/(1-R2_r)\ndisplay(VIF_r)",
   "execution_count": null,
   "outputs": [
    {
     "data": {
      "text/plain": "1.1449519171055353"
     },
     "metadata": {},
     "output_type": "display_data"
    }
   ]
  },
  {
   "cell_type": "markdown",
   "source": "# 5. Conclusiones 📋🖊",
   "metadata": {
    "tags": [],
    "is_collapsed": false,
    "cell_id": "00079-d22f93c2-f19f-466e-97ab-1bd914fdb327",
    "deepnote_cell_type": "text-cell-h1"
   }
  },
  {
   "cell_type": "markdown",
   "source": "- El **periódico** y la **radio** tienen casi el mismo **VIF**, esto significa que ambas **variables** están absolutamente **correlacionadas** la una con la otra, pero no lo están con **TV**\n- Debido a sus resultados en **VIF**, esto significa que el **modelo** con las 3 **variables** como **predictoras** o **explicativas** no mejoran los resultados\n- Entre quedarnos con el **periódico** o con la **radio**, decidimos evidentemente quedarnos con la **radio**, porque nos da una mejor **precisión** en nuestro **modelo**",
   "metadata": {
    "tags": [],
    "cell_id": "00065-10da2e5a-3ee9-4714-aa42-d5f9ce8f8cfb",
    "deepnote_cell_type": "markdown"
   }
  },
  {
   "cell_type": "code",
   "metadata": {
    "tags": [],
    "cell_id": "00067-5d5932e2-a125-4b1d-b527-18d4ae95b2ed",
    "deepnote_to_be_reexecuted": false,
    "source_hash": "813eee0d",
    "execution_start": 1636587336117,
    "execution_millis": 42,
    "deepnote_output_heights": [
     437.6000061035156
    ],
    "deepnote_cell_type": "code"
   },
   "source": "# Modelo elegido\n\nlinear_model_3.summary2()",
   "execution_count": null,
   "outputs": [
    {
     "output_type": "execute_result",
     "execution_count": 44,
     "data": {
      "text/plain": "<class 'statsmodels.iolib.summary2.Summary'>\n\"\"\"\n                 Results: Ordinary least squares\n=================================================================\nModel:              OLS              Adj. R-squared:     0.896   \nDependent Variable: Sales            AIC:                778.3941\nDate:               2021-11-10 23:35 BIC:                788.2891\nNo. Observations:   200              Log-Likelihood:     -386.20 \nDf Model:           2                F-statistic:        859.6   \nDf Residuals:       197              Prob (F-statistic): 4.83e-98\nR-squared:          0.897            Scale:              2.8270  \n-------------------------------------------------------------------\n             Coef.    Std.Err.      t      P>|t|    [0.025   0.975]\n-------------------------------------------------------------------\nIntercept    2.9211     0.2945    9.9192   0.0000   2.3403   3.5019\nTV           0.0458     0.0014   32.9087   0.0000   0.0430   0.0485\nRadio        0.1880     0.0080   23.3824   0.0000   0.1721   0.2038\n-----------------------------------------------------------------\nOmnibus:             60.022       Durbin-Watson:          2.081  \nProb(Omnibus):       0.000        Jarque-Bera (JB):       148.679\nSkew:                -1.323       Prob(JB):               0.000  \nKurtosis:            6.292        Condition No.:          425    \n=================================================================\n\n\"\"\"",
      "text/html": "<table class=\"simpletable\">\n<tr>\n        <td>Model:</td>               <td>OLS</td>         <td>Adj. R-squared:</td>     <td>0.896</td> \n</tr>\n<tr>\n  <td>Dependent Variable:</td>       <td>Sales</td>             <td>AIC:</td>         <td>778.3941</td>\n</tr>\n<tr>\n         <td>Date:</td>        <td>2021-11-10 23:35</td>        <td>BIC:</td>         <td>788.2891</td>\n</tr>\n<tr>\n   <td>No. Observations:</td>         <td>200</td>         <td>Log-Likelihood:</td>    <td>-386.20</td>\n</tr>\n<tr>\n       <td>Df Model:</td>              <td>2</td>           <td>F-statistic:</td>       <td>859.6</td> \n</tr>\n<tr>\n     <td>Df Residuals:</td>           <td>197</td>       <td>Prob (F-statistic):</td> <td>4.83e-98</td>\n</tr>\n<tr>\n      <td>R-squared:</td>            <td>0.897</td>            <td>Scale:</td>         <td>2.8270</td> \n</tr>\n</table>\n<table class=\"simpletable\">\n<tr>\n      <td></td>       <th>Coef.</th> <th>Std.Err.</th>    <th>t</th>     <th>P>|t|</th> <th>[0.025</th> <th>0.975]</th>\n</tr>\n<tr>\n  <th>Intercept</th> <td>2.9211</td>  <td>0.2945</td>  <td>9.9192</td>  <td>0.0000</td> <td>2.3403</td> <td>3.5019</td>\n</tr>\n<tr>\n  <th>TV</th>        <td>0.0458</td>  <td>0.0014</td>  <td>32.9087</td> <td>0.0000</td> <td>0.0430</td> <td>0.0485</td>\n</tr>\n<tr>\n  <th>Radio</th>     <td>0.1880</td>  <td>0.0080</td>  <td>23.3824</td> <td>0.0000</td> <td>0.1721</td> <td>0.2038</td>\n</tr>\n</table>\n<table class=\"simpletable\">\n<tr>\n     <td>Omnibus:</td>    <td>60.022</td>  <td>Durbin-Watson:</td>    <td>2.081</td> \n</tr>\n<tr>\n  <td>Prob(Omnibus):</td>  <td>0.000</td> <td>Jarque-Bera (JB):</td> <td>148.679</td>\n</tr>\n<tr>\n       <td>Skew:</td>     <td>-1.323</td>     <td>Prob(JB):</td>      <td>0.000</td> \n</tr>\n<tr>\n     <td>Kurtosis:</td>    <td>6.292</td>  <td>Condition No.:</td>     <td>425</td>  \n</tr>\n</table>"
     },
     "metadata": {}
    }
   ]
  },
  {
   "cell_type": "markdown",
   "source": "# 6. Trabajo finalizado",
   "metadata": {
    "tags": [],
    "is_collapsed": false,
    "cell_id": "00082-d9437e3d-09ff-419e-8b60-9dc1657e4f2c",
    "deepnote_cell_type": "text-cell-h1"
   }
  },
  {
   "cell_type": "markdown",
   "source": "![link text](https://media.giphy.com/media/fDzM81OYrNjJC/source.gif?cid=ecf05e471mkgebs0ci5cquqshmfeg7fbpcbmws5rspjgh31e&rid=source.gif&ct=g)",
   "metadata": {
    "tags": [],
    "cell_id": "00083-75b25384-07fd-4552-a9b3-683b4dc809d3",
    "deepnote_cell_type": "markdown"
   }
  },
  {
   "cell_type": "markdown",
   "source": "<a style='text-decoration:none;line-height:16px;display:flex;color:#5B5B62;padding:10px;justify-content:end;' href='https://deepnote.com?utm_source=created-in-deepnote-cell&projectId=4ec84517-f553-446b-9032-1da3132bd62a' target=\"_blank\">\n<img alt='Created in deepnote.com' style='display:inline;max-height:16px;margin:0px;margin-right:7.5px;' src='data:image/svg+xml;base64,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' > </img>\nCreated in <span style='font-weight:600;margin-left:4px;'>Deepnote</span></a>",
   "metadata": {
    "tags": [],
    "created_in_deepnote_cell": true,
    "deepnote_cell_type": "markdown"
   }
  }
 ],
 "nbformat": 4,
 "nbformat_minor": 2,
 "metadata": {
  "orig_nbformat": 2,
  "deepnote": {
   "is_reactive": false
  },
  "deepnote_notebook_id": "b779983c-25d6-42c6-83f3-8ed4a56146e3",
  "deepnote_execution_queue": []
 }
}