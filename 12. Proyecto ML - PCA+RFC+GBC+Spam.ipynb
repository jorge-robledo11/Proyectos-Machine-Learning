{
 "cells": [
  {
   "cell_type": "markdown",
   "metadata": {},
   "source": [
    "## **Proyecto de Clasificación con Machine Learning**"
   ]
  },
  {
   "cell_type": "code",
   "execution_count": 1,
   "metadata": {},
   "outputs": [],
   "source": [
    "# Librerías y dependencias\n",
    "import numpy as np\n",
    "import pandas as pd\n",
    "import matplotlib.pyplot as plt\n",
    "import seaborn as sns\n",
    "import warnings"
   ]
  },
  {
   "cell_type": "code",
   "execution_count": 2,
   "metadata": {},
   "outputs": [],
   "source": [
    "# Ignorar warnings\n",
    "warnings.filterwarnings('ignore')\n",
    "\n",
    "# Evitamos la notación científica y rendondeamos los valores a 2 dígitos después de la coma\n",
    "pd.options.display.float_format = '{:,.2f}'.format"
   ]
  },
  {
   "cell_type": "code",
   "execution_count": 3,
   "metadata": {},
   "outputs": [
    {
     "data": {
      "text/html": [
       "<div>\n",
       "<style scoped>\n",
       "    .dataframe tbody tr th:only-of-type {\n",
       "        vertical-align: middle;\n",
       "    }\n",
       "\n",
       "    .dataframe tbody tr th {\n",
       "        vertical-align: top;\n",
       "    }\n",
       "\n",
       "    .dataframe thead th {\n",
       "        text-align: right;\n",
       "    }\n",
       "</style>\n",
       "<table border=\"1\" class=\"dataframe\">\n",
       "  <thead>\n",
       "    <tr style=\"text-align: right;\">\n",
       "      <th></th>\n",
       "      <th>duration</th>\n",
       "      <th>total_fpackets</th>\n",
       "      <th>total_bpackets</th>\n",
       "      <th>total_fpktl</th>\n",
       "      <th>total_bpktl</th>\n",
       "      <th>min_fpktl</th>\n",
       "      <th>min_bpktl</th>\n",
       "      <th>max_fpktl</th>\n",
       "      <th>max_bpktl</th>\n",
       "      <th>mean_fpktl</th>\n",
       "      <th>...</th>\n",
       "      <th>mean_idle</th>\n",
       "      <th>max_idle</th>\n",
       "      <th>std_idle</th>\n",
       "      <th>FFNEPD</th>\n",
       "      <th>Init_Win_bytes_forward</th>\n",
       "      <th>Init_Win_bytes_backward</th>\n",
       "      <th>RRT_samples_clnt</th>\n",
       "      <th>Act_data_pkt_forward</th>\n",
       "      <th>min_seg_size_forward</th>\n",
       "      <th>calss</th>\n",
       "    </tr>\n",
       "  </thead>\n",
       "  <tbody>\n",
       "    <tr>\n",
       "      <th>0</th>\n",
       "      <td>1020586</td>\n",
       "      <td>668</td>\n",
       "      <td>1641</td>\n",
       "      <td>35692</td>\n",
       "      <td>2276876</td>\n",
       "      <td>52</td>\n",
       "      <td>52</td>\n",
       "      <td>679</td>\n",
       "      <td>1390</td>\n",
       "      <td>53.43</td>\n",
       "      <td>...</td>\n",
       "      <td>0.00</td>\n",
       "      <td>-1</td>\n",
       "      <td>0.00</td>\n",
       "      <td>2</td>\n",
       "      <td>4194240</td>\n",
       "      <td>1853440</td>\n",
       "      <td>1640</td>\n",
       "      <td>668</td>\n",
       "      <td>32</td>\n",
       "      <td>benign</td>\n",
       "    </tr>\n",
       "    <tr>\n",
       "      <th>1</th>\n",
       "      <td>80794</td>\n",
       "      <td>1</td>\n",
       "      <td>1</td>\n",
       "      <td>75</td>\n",
       "      <td>124</td>\n",
       "      <td>75</td>\n",
       "      <td>124</td>\n",
       "      <td>75</td>\n",
       "      <td>124</td>\n",
       "      <td>75.00</td>\n",
       "      <td>...</td>\n",
       "      <td>0.00</td>\n",
       "      <td>-1</td>\n",
       "      <td>0.00</td>\n",
       "      <td>2</td>\n",
       "      <td>0</td>\n",
       "      <td>0</td>\n",
       "      <td>0</td>\n",
       "      <td>1</td>\n",
       "      <td>0</td>\n",
       "      <td>benign</td>\n",
       "    </tr>\n",
       "    <tr>\n",
       "      <th>2</th>\n",
       "      <td>998</td>\n",
       "      <td>3</td>\n",
       "      <td>0</td>\n",
       "      <td>187</td>\n",
       "      <td>0</td>\n",
       "      <td>52</td>\n",
       "      <td>-1</td>\n",
       "      <td>83</td>\n",
       "      <td>-1</td>\n",
       "      <td>62.33</td>\n",
       "      <td>...</td>\n",
       "      <td>0.00</td>\n",
       "      <td>-1</td>\n",
       "      <td>0.00</td>\n",
       "      <td>4</td>\n",
       "      <td>101888</td>\n",
       "      <td>-1</td>\n",
       "      <td>0</td>\n",
       "      <td>3</td>\n",
       "      <td>32</td>\n",
       "      <td>benign</td>\n",
       "    </tr>\n",
       "    <tr>\n",
       "      <th>3</th>\n",
       "      <td>189868</td>\n",
       "      <td>9</td>\n",
       "      <td>9</td>\n",
       "      <td>1448</td>\n",
       "      <td>6200</td>\n",
       "      <td>52</td>\n",
       "      <td>52</td>\n",
       "      <td>706</td>\n",
       "      <td>1390</td>\n",
       "      <td>160.89</td>\n",
       "      <td>...</td>\n",
       "      <td>0.00</td>\n",
       "      <td>-1</td>\n",
       "      <td>0.00</td>\n",
       "      <td>2</td>\n",
       "      <td>4194240</td>\n",
       "      <td>2722560</td>\n",
       "      <td>8</td>\n",
       "      <td>9</td>\n",
       "      <td>32</td>\n",
       "      <td>benign</td>\n",
       "    </tr>\n",
       "    <tr>\n",
       "      <th>4</th>\n",
       "      <td>110577</td>\n",
       "      <td>4</td>\n",
       "      <td>6</td>\n",
       "      <td>528</td>\n",
       "      <td>1422</td>\n",
       "      <td>52</td>\n",
       "      <td>52</td>\n",
       "      <td>331</td>\n",
       "      <td>1005</td>\n",
       "      <td>132.00</td>\n",
       "      <td>...</td>\n",
       "      <td>0.00</td>\n",
       "      <td>-1</td>\n",
       "      <td>0.00</td>\n",
       "      <td>2</td>\n",
       "      <td>155136</td>\n",
       "      <td>31232</td>\n",
       "      <td>5</td>\n",
       "      <td>4</td>\n",
       "      <td>32</td>\n",
       "      <td>benign</td>\n",
       "    </tr>\n",
       "  </tbody>\n",
       "</table>\n",
       "<p>5 rows × 80 columns</p>\n",
       "</div>"
      ],
      "text/plain": [
       "   duration  total_fpackets  total_bpackets  total_fpktl  total_bpktl  \\\n",
       "0   1020586             668            1641        35692      2276876   \n",
       "1     80794               1               1           75          124   \n",
       "2       998               3               0          187            0   \n",
       "3    189868               9               9         1448         6200   \n",
       "4    110577               4               6          528         1422   \n",
       "\n",
       "   min_fpktl  min_bpktl  max_fpktl  max_bpktl  mean_fpktl  ...  mean_idle  \\\n",
       "0         52         52        679       1390       53.43  ...       0.00   \n",
       "1         75        124         75        124       75.00  ...       0.00   \n",
       "2         52         -1         83         -1       62.33  ...       0.00   \n",
       "3         52         52        706       1390      160.89  ...       0.00   \n",
       "4         52         52        331       1005      132.00  ...       0.00   \n",
       "\n",
       "   max_idle  std_idle  FFNEPD  Init_Win_bytes_forward  \\\n",
       "0        -1      0.00       2                 4194240   \n",
       "1        -1      0.00       2                       0   \n",
       "2        -1      0.00       4                  101888   \n",
       "3        -1      0.00       2                 4194240   \n",
       "4        -1      0.00       2                  155136   \n",
       "\n",
       "   Init_Win_bytes_backward  RRT_samples_clnt  Act_data_pkt_forward  \\\n",
       "0                  1853440              1640                   668   \n",
       "1                        0                 0                     1   \n",
       "2                       -1                 0                     3   \n",
       "3                  2722560                 8                     9   \n",
       "4                    31232                 5                     4   \n",
       "\n",
       "   min_seg_size_forward   calss  \n",
       "0                    32  benign  \n",
       "1                     0  benign  \n",
       "2                    32  benign  \n",
       "3                    32  benign  \n",
       "4                    32  benign  \n",
       "\n",
       "[5 rows x 80 columns]"
      ]
     },
     "execution_count": 3,
     "metadata": {},
     "output_type": "execute_result"
    }
   ],
   "source": [
    "data = pd.read_parquet('https://github.com/jorge-robledo11/Datasets/blob/main/Datasets/TotalFeatures-ISCXFlowMeter.parquet?raw=true')\n",
    "data.head()"
   ]
  },
  {
   "cell_type": "code",
   "execution_count": 4,
   "metadata": {},
   "outputs": [
    {
     "data": {
      "text/plain": [
       "(631955, 80)"
      ]
     },
     "execution_count": 4,
     "metadata": {},
     "output_type": "execute_result"
    }
   ],
   "source": [
    "data.shape"
   ]
  },
  {
   "cell_type": "code",
   "execution_count": 5,
   "metadata": {},
   "outputs": [
    {
     "data": {
      "text/plain": [
       "duration                   0\n",
       "total_fpackets             0\n",
       "total_bpackets             0\n",
       "total_fpktl                0\n",
       "total_bpktl                0\n",
       "                          ..\n",
       "Init_Win_bytes_backward    0\n",
       "RRT_samples_clnt           0\n",
       "Act_data_pkt_forward       0\n",
       "min_seg_size_forward       0\n",
       "calss                      0\n",
       "Length: 80, dtype: int64"
      ]
     },
     "execution_count": 5,
     "metadata": {},
     "output_type": "execute_result"
    }
   ],
   "source": [
    "data.isnull().sum()"
   ]
  },
  {
   "cell_type": "code",
   "execution_count": 6,
   "metadata": {},
   "outputs": [
    {
     "data": {
      "text/plain": [
       "duration                    int64\n",
       "total_fpackets              int64\n",
       "total_bpackets              int64\n",
       "total_fpktl                 int64\n",
       "total_bpktl                 int64\n",
       "                            ...  \n",
       "Init_Win_bytes_backward     int64\n",
       "RRT_samples_clnt            int64\n",
       "Act_data_pkt_forward        int64\n",
       "min_seg_size_forward        int64\n",
       "calss                      object\n",
       "Length: 80, dtype: object"
      ]
     },
     "execution_count": 6,
     "metadata": {},
     "output_type": "execute_result"
    }
   ],
   "source": [
    "data.dtypes"
   ]
  },
  {
   "cell_type": "markdown",
   "metadata": {},
   "source": [
    "### **Renombrar**"
   ]
  },
  {
   "cell_type": "code",
   "execution_count": 7,
   "metadata": {},
   "outputs": [],
   "source": [
    "# Renombramos\n",
    "data = data.rename(columns = {\n",
    "    'calss': 'class'\n",
    "})"
   ]
  },
  {
   "cell_type": "code",
   "execution_count": 8,
   "metadata": {},
   "outputs": [
    {
     "data": {
      "text/html": [
       "<div>\n",
       "<style scoped>\n",
       "    .dataframe tbody tr th:only-of-type {\n",
       "        vertical-align: middle;\n",
       "    }\n",
       "\n",
       "    .dataframe tbody tr th {\n",
       "        vertical-align: top;\n",
       "    }\n",
       "\n",
       "    .dataframe thead th {\n",
       "        text-align: right;\n",
       "    }\n",
       "</style>\n",
       "<table border=\"1\" class=\"dataframe\">\n",
       "  <thead>\n",
       "    <tr style=\"text-align: right;\">\n",
       "      <th></th>\n",
       "      <th>duration</th>\n",
       "      <th>total_fpackets</th>\n",
       "      <th>total_bpackets</th>\n",
       "      <th>total_fpktl</th>\n",
       "      <th>total_bpktl</th>\n",
       "      <th>min_fpktl</th>\n",
       "      <th>min_bpktl</th>\n",
       "      <th>max_fpktl</th>\n",
       "      <th>max_bpktl</th>\n",
       "      <th>mean_fpktl</th>\n",
       "      <th>...</th>\n",
       "      <th>min_idle</th>\n",
       "      <th>mean_idle</th>\n",
       "      <th>max_idle</th>\n",
       "      <th>std_idle</th>\n",
       "      <th>FFNEPD</th>\n",
       "      <th>Init_Win_bytes_forward</th>\n",
       "      <th>Init_Win_bytes_backward</th>\n",
       "      <th>RRT_samples_clnt</th>\n",
       "      <th>Act_data_pkt_forward</th>\n",
       "      <th>min_seg_size_forward</th>\n",
       "    </tr>\n",
       "  </thead>\n",
       "  <tbody>\n",
       "    <tr>\n",
       "      <th>count</th>\n",
       "      <td>631,955.00</td>\n",
       "      <td>631,955.00</td>\n",
       "      <td>631,955.00</td>\n",
       "      <td>631,955.00</td>\n",
       "      <td>631,955.00</td>\n",
       "      <td>631,955.00</td>\n",
       "      <td>631,955.00</td>\n",
       "      <td>631,955.00</td>\n",
       "      <td>631,955.00</td>\n",
       "      <td>631,955.00</td>\n",
       "      <td>...</td>\n",
       "      <td>631,955.00</td>\n",
       "      <td>631,955.00</td>\n",
       "      <td>631,955.00</td>\n",
       "      <td>631,955.00</td>\n",
       "      <td>631,955.00</td>\n",
       "      <td>631,955.00</td>\n",
       "      <td>631,955.00</td>\n",
       "      <td>631,955.00</td>\n",
       "      <td>631,955.00</td>\n",
       "      <td>631,955.00</td>\n",
       "    </tr>\n",
       "    <tr>\n",
       "      <th>mean</th>\n",
       "      <td>21,952,447.25</td>\n",
       "      <td>6.73</td>\n",
       "      <td>10.43</td>\n",
       "      <td>954.02</td>\n",
       "      <td>12,060.42</td>\n",
       "      <td>141.48</td>\n",
       "      <td>44.36</td>\n",
       "      <td>263.68</td>\n",
       "      <td>183.25</td>\n",
       "      <td>174.96</td>\n",
       "      <td>...</td>\n",
       "      <td>19,973,267.78</td>\n",
       "      <td>20,312,275.63</td>\n",
       "      <td>20,752,376.06</td>\n",
       "      <td>466,387.49</td>\n",
       "      <td>2.36</td>\n",
       "      <td>962,079.57</td>\n",
       "      <td>310,451.90</td>\n",
       "      <td>9.73</td>\n",
       "      <td>6.72</td>\n",
       "      <td>19.97</td>\n",
       "    </tr>\n",
       "    <tr>\n",
       "      <th>std</th>\n",
       "      <td>190,057,828.67</td>\n",
       "      <td>174.16</td>\n",
       "      <td>349.42</td>\n",
       "      <td>82,350.40</td>\n",
       "      <td>482,471.61</td>\n",
       "      <td>157.68</td>\n",
       "      <td>89.10</td>\n",
       "      <td>289.64</td>\n",
       "      <td>371.86</td>\n",
       "      <td>162.02</td>\n",
       "      <td>...</td>\n",
       "      <td>189,798,628.15</td>\n",
       "      <td>189,790,187.10</td>\n",
       "      <td>189,972,060.00</td>\n",
       "      <td>6,199,704.33</td>\n",
       "      <td>3.04</td>\n",
       "      <td>1,705,655.08</td>\n",
       "      <td>664,795.64</td>\n",
       "      <td>347.88</td>\n",
       "      <td>174.14</td>\n",
       "      <td>14.91</td>\n",
       "    </tr>\n",
       "    <tr>\n",
       "      <th>min</th>\n",
       "      <td>-18.00</td>\n",
       "      <td>0.00</td>\n",
       "      <td>0.00</td>\n",
       "      <td>0.00</td>\n",
       "      <td>0.00</td>\n",
       "      <td>-1.00</td>\n",
       "      <td>-1.00</td>\n",
       "      <td>-1.00</td>\n",
       "      <td>-1.00</td>\n",
       "      <td>0.00</td>\n",
       "      <td>...</td>\n",
       "      <td>-1.00</td>\n",
       "      <td>0.00</td>\n",
       "      <td>-1.00</td>\n",
       "      <td>0.00</td>\n",
       "      <td>2.00</td>\n",
       "      <td>-1.00</td>\n",
       "      <td>-1.00</td>\n",
       "      <td>0.00</td>\n",
       "      <td>0.00</td>\n",
       "      <td>0.00</td>\n",
       "    </tr>\n",
       "    <tr>\n",
       "      <th>25%</th>\n",
       "      <td>0.00</td>\n",
       "      <td>1.00</td>\n",
       "      <td>0.00</td>\n",
       "      <td>69.00</td>\n",
       "      <td>0.00</td>\n",
       "      <td>52.00</td>\n",
       "      <td>-1.00</td>\n",
       "      <td>52.00</td>\n",
       "      <td>-1.00</td>\n",
       "      <td>52.00</td>\n",
       "      <td>...</td>\n",
       "      <td>-1.00</td>\n",
       "      <td>0.00</td>\n",
       "      <td>-1.00</td>\n",
       "      <td>0.00</td>\n",
       "      <td>2.00</td>\n",
       "      <td>0.00</td>\n",
       "      <td>-1.00</td>\n",
       "      <td>0.00</td>\n",
       "      <td>1.00</td>\n",
       "      <td>0.00</td>\n",
       "    </tr>\n",
       "    <tr>\n",
       "      <th>50%</th>\n",
       "      <td>24,450.00</td>\n",
       "      <td>1.00</td>\n",
       "      <td>0.00</td>\n",
       "      <td>184.00</td>\n",
       "      <td>0.00</td>\n",
       "      <td>52.00</td>\n",
       "      <td>-1.00</td>\n",
       "      <td>83.00</td>\n",
       "      <td>-1.00</td>\n",
       "      <td>83.00</td>\n",
       "      <td>...</td>\n",
       "      <td>-1.00</td>\n",
       "      <td>0.00</td>\n",
       "      <td>-1.00</td>\n",
       "      <td>0.00</td>\n",
       "      <td>2.00</td>\n",
       "      <td>87,616.00</td>\n",
       "      <td>-1.00</td>\n",
       "      <td>0.00</td>\n",
       "      <td>1.00</td>\n",
       "      <td>32.00</td>\n",
       "    </tr>\n",
       "    <tr>\n",
       "      <th>75%</th>\n",
       "      <td>1,759,751.00</td>\n",
       "      <td>3.00</td>\n",
       "      <td>1.00</td>\n",
       "      <td>427.00</td>\n",
       "      <td>167.00</td>\n",
       "      <td>108.00</td>\n",
       "      <td>52.00</td>\n",
       "      <td>421.00</td>\n",
       "      <td>115.00</td>\n",
       "      <td>356.00</td>\n",
       "      <td>...</td>\n",
       "      <td>1,013,498.00</td>\n",
       "      <td>1,291,379.00</td>\n",
       "      <td>1,306,116.00</td>\n",
       "      <td>0.00</td>\n",
       "      <td>2.00</td>\n",
       "      <td>304,640.00</td>\n",
       "      <td>90,496.00</td>\n",
       "      <td>1.00</td>\n",
       "      <td>3.00</td>\n",
       "      <td>32.00</td>\n",
       "    </tr>\n",
       "    <tr>\n",
       "      <th>max</th>\n",
       "      <td>44,310,755,494.00</td>\n",
       "      <td>48,255.00</td>\n",
       "      <td>74,768.00</td>\n",
       "      <td>40,496,443.00</td>\n",
       "      <td>103,922,175.00</td>\n",
       "      <td>1,390.00</td>\n",
       "      <td>1,390.00</td>\n",
       "      <td>1,500.00</td>\n",
       "      <td>1,390.00</td>\n",
       "      <td>1,390.00</td>\n",
       "      <td>...</td>\n",
       "      <td>44,310,722,867.00</td>\n",
       "      <td>44,300,000,000.00</td>\n",
       "      <td>44,310,722,867.00</td>\n",
       "      <td>847,000,000.00</td>\n",
       "      <td>2,269.00</td>\n",
       "      <td>4,194,240.00</td>\n",
       "      <td>4,194,240.00</td>\n",
       "      <td>74,524.00</td>\n",
       "      <td>48,255.00</td>\n",
       "      <td>44.00</td>\n",
       "    </tr>\n",
       "  </tbody>\n",
       "</table>\n",
       "<p>8 rows × 79 columns</p>\n",
       "</div>"
      ],
      "text/plain": [
       "               duration  total_fpackets  total_bpackets   total_fpktl  \\\n",
       "count        631,955.00      631,955.00      631,955.00    631,955.00   \n",
       "mean      21,952,447.25            6.73           10.43        954.02   \n",
       "std      190,057,828.67          174.16          349.42     82,350.40   \n",
       "min              -18.00            0.00            0.00          0.00   \n",
       "25%                0.00            1.00            0.00         69.00   \n",
       "50%           24,450.00            1.00            0.00        184.00   \n",
       "75%        1,759,751.00            3.00            1.00        427.00   \n",
       "max   44,310,755,494.00       48,255.00       74,768.00 40,496,443.00   \n",
       "\n",
       "         total_bpktl  min_fpktl  min_bpktl  max_fpktl  max_bpktl  mean_fpktl  \\\n",
       "count     631,955.00 631,955.00 631,955.00 631,955.00 631,955.00  631,955.00   \n",
       "mean       12,060.42     141.48      44.36     263.68     183.25      174.96   \n",
       "std       482,471.61     157.68      89.10     289.64     371.86      162.02   \n",
       "min             0.00      -1.00      -1.00      -1.00      -1.00        0.00   \n",
       "25%             0.00      52.00      -1.00      52.00      -1.00       52.00   \n",
       "50%             0.00      52.00      -1.00      83.00      -1.00       83.00   \n",
       "75%           167.00     108.00      52.00     421.00     115.00      356.00   \n",
       "max   103,922,175.00   1,390.00   1,390.00   1,500.00   1,390.00    1,390.00   \n",
       "\n",
       "       ...          min_idle         mean_idle          max_idle  \\\n",
       "count  ...        631,955.00        631,955.00        631,955.00   \n",
       "mean   ...     19,973,267.78     20,312,275.63     20,752,376.06   \n",
       "std    ...    189,798,628.15    189,790,187.10    189,972,060.00   \n",
       "min    ...             -1.00              0.00             -1.00   \n",
       "25%    ...             -1.00              0.00             -1.00   \n",
       "50%    ...             -1.00              0.00             -1.00   \n",
       "75%    ...      1,013,498.00      1,291,379.00      1,306,116.00   \n",
       "max    ... 44,310,722,867.00 44,300,000,000.00 44,310,722,867.00   \n",
       "\n",
       "            std_idle     FFNEPD  Init_Win_bytes_forward  \\\n",
       "count     631,955.00 631,955.00              631,955.00   \n",
       "mean      466,387.49       2.36              962,079.57   \n",
       "std     6,199,704.33       3.04            1,705,655.08   \n",
       "min             0.00       2.00                   -1.00   \n",
       "25%             0.00       2.00                    0.00   \n",
       "50%             0.00       2.00               87,616.00   \n",
       "75%             0.00       2.00              304,640.00   \n",
       "max   847,000,000.00   2,269.00            4,194,240.00   \n",
       "\n",
       "       Init_Win_bytes_backward  RRT_samples_clnt  Act_data_pkt_forward  \\\n",
       "count               631,955.00        631,955.00            631,955.00   \n",
       "mean                310,451.90              9.73                  6.72   \n",
       "std                 664,795.64            347.88                174.14   \n",
       "min                      -1.00              0.00                  0.00   \n",
       "25%                      -1.00              0.00                  1.00   \n",
       "50%                      -1.00              0.00                  1.00   \n",
       "75%                  90,496.00              1.00                  3.00   \n",
       "max               4,194,240.00         74,524.00             48,255.00   \n",
       "\n",
       "       min_seg_size_forward  \n",
       "count            631,955.00  \n",
       "mean                  19.97  \n",
       "std                   14.91  \n",
       "min                    0.00  \n",
       "25%                    0.00  \n",
       "50%                   32.00  \n",
       "75%                   32.00  \n",
       "max                   44.00  \n",
       "\n",
       "[8 rows x 79 columns]"
      ]
     },
     "execution_count": 8,
     "metadata": {},
     "output_type": "execute_result"
    }
   ],
   "source": [
    "data.describe()"
   ]
  },
  {
   "cell_type": "code",
   "execution_count": 9,
   "metadata": {},
   "outputs": [
    {
     "data": {
      "text/plain": [
       "benign            471597\n",
       "asware            155613\n",
       "GeneralMalware      4745\n",
       "Name: class, dtype: int64"
      ]
     },
     "execution_count": 9,
     "metadata": {},
     "output_type": "execute_result"
    }
   ],
   "source": [
    "data['class'].value_counts()"
   ]
  },
  {
   "cell_type": "code",
   "execution_count": 10,
   "metadata": {},
   "outputs": [],
   "source": [
    "# Seleccionamos features\n",
    "X = data.drop(['class'], axis=1)\n",
    "y = data[['class']]"
   ]
  },
  {
   "cell_type": "code",
   "execution_count": 11,
   "metadata": {},
   "outputs": [
    {
     "data": {
      "text/plain": [
       "((631955, 79), (631955, 1))"
      ]
     },
     "execution_count": 11,
     "metadata": {},
     "output_type": "execute_result"
    }
   ],
   "source": [
    "# Dimensionamos\n",
    "X.shape, y.shape"
   ]
  },
  {
   "cell_type": "markdown",
   "metadata": {},
   "source": [
    "### **Etiquetar**"
   ]
  },
  {
   "cell_type": "code",
   "execution_count": 12,
   "metadata": {},
   "outputs": [],
   "source": [
    "# Etiquetamos\n",
    "from sklearn.preprocessing import LabelEncoder\n",
    "\n",
    "le = LabelEncoder()\n",
    "y['class'] = le.fit_transform(y['class'])"
   ]
  },
  {
   "cell_type": "code",
   "execution_count": 13,
   "metadata": {},
   "outputs": [
    {
     "data": {
      "text/plain": [
       "class\n",
       "2        471597\n",
       "1        155613\n",
       "0          4745\n",
       "dtype: int64"
      ]
     },
     "execution_count": 13,
     "metadata": {},
     "output_type": "execute_result"
    }
   ],
   "source": [
    "# Resultados\n",
    "y.value_counts()"
   ]
  },
  {
   "cell_type": "markdown",
   "metadata": {},
   "source": [
    "### **Escalar**"
   ]
  },
  {
   "cell_type": "code",
   "execution_count": 14,
   "metadata": {},
   "outputs": [],
   "source": [
    "from sklearn.preprocessing import RobustScaler\n",
    "\n",
    "# Instanciamos\n",
    "robust = RobustScaler()\n",
    "\n",
    "# Atributos a escalar\n",
    "atr = X\n",
    "\n",
    "# Transformación\n",
    "X_esc = robust.fit_transform(atr)"
   ]
  },
  {
   "cell_type": "code",
   "execution_count": 15,
   "metadata": {},
   "outputs": [
    {
     "data": {
      "text/html": [
       "<div>\n",
       "<style scoped>\n",
       "    .dataframe tbody tr th:only-of-type {\n",
       "        vertical-align: middle;\n",
       "    }\n",
       "\n",
       "    .dataframe tbody tr th {\n",
       "        vertical-align: top;\n",
       "    }\n",
       "\n",
       "    .dataframe thead th {\n",
       "        text-align: right;\n",
       "    }\n",
       "</style>\n",
       "<table border=\"1\" class=\"dataframe\">\n",
       "  <thead>\n",
       "    <tr style=\"text-align: right;\">\n",
       "      <th></th>\n",
       "      <th>duration</th>\n",
       "      <th>total_fpackets</th>\n",
       "      <th>total_bpackets</th>\n",
       "      <th>total_fpktl</th>\n",
       "      <th>total_bpktl</th>\n",
       "      <th>min_fpktl</th>\n",
       "      <th>min_bpktl</th>\n",
       "      <th>max_fpktl</th>\n",
       "      <th>max_bpktl</th>\n",
       "      <th>mean_fpktl</th>\n",
       "      <th>...</th>\n",
       "      <th>min_idle</th>\n",
       "      <th>mean_idle</th>\n",
       "      <th>max_idle</th>\n",
       "      <th>std_idle</th>\n",
       "      <th>FFNEPD</th>\n",
       "      <th>Init_Win_bytes_forward</th>\n",
       "      <th>Init_Win_bytes_backward</th>\n",
       "      <th>RRT_samples_clnt</th>\n",
       "      <th>Act_data_pkt_forward</th>\n",
       "      <th>min_seg_size_forward</th>\n",
       "    </tr>\n",
       "  </thead>\n",
       "  <tbody>\n",
       "    <tr>\n",
       "      <th>0</th>\n",
       "      <td>0.57</td>\n",
       "      <td>333.50</td>\n",
       "      <td>1,641.00</td>\n",
       "      <td>99.18</td>\n",
       "      <td>13,633.99</td>\n",
       "      <td>0.00</td>\n",
       "      <td>1.00</td>\n",
       "      <td>1.62</td>\n",
       "      <td>11.99</td>\n",
       "      <td>-0.10</td>\n",
       "      <td>...</td>\n",
       "      <td>0.00</td>\n",
       "      <td>0.00</td>\n",
       "      <td>0.00</td>\n",
       "      <td>0.00</td>\n",
       "      <td>0.00</td>\n",
       "      <td>13.48</td>\n",
       "      <td>20.48</td>\n",
       "      <td>1,640.00</td>\n",
       "      <td>333.50</td>\n",
       "      <td>0.00</td>\n",
       "    </tr>\n",
       "    <tr>\n",
       "      <th>1</th>\n",
       "      <td>0.03</td>\n",
       "      <td>0.00</td>\n",
       "      <td>1.00</td>\n",
       "      <td>-0.30</td>\n",
       "      <td>0.74</td>\n",
       "      <td>0.41</td>\n",
       "      <td>2.36</td>\n",
       "      <td>-0.02</td>\n",
       "      <td>1.08</td>\n",
       "      <td>-0.03</td>\n",
       "      <td>...</td>\n",
       "      <td>0.00</td>\n",
       "      <td>0.00</td>\n",
       "      <td>0.00</td>\n",
       "      <td>0.00</td>\n",
       "      <td>0.00</td>\n",
       "      <td>-0.29</td>\n",
       "      <td>0.00</td>\n",
       "      <td>0.00</td>\n",
       "      <td>0.00</td>\n",
       "      <td>-1.00</td>\n",
       "    </tr>\n",
       "    <tr>\n",
       "      <th>2</th>\n",
       "      <td>-0.01</td>\n",
       "      <td>1.00</td>\n",
       "      <td>0.00</td>\n",
       "      <td>0.01</td>\n",
       "      <td>0.00</td>\n",
       "      <td>0.00</td>\n",
       "      <td>0.00</td>\n",
       "      <td>0.00</td>\n",
       "      <td>0.00</td>\n",
       "      <td>-0.07</td>\n",
       "      <td>...</td>\n",
       "      <td>0.00</td>\n",
       "      <td>0.00</td>\n",
       "      <td>0.00</td>\n",
       "      <td>0.00</td>\n",
       "      <td>2.00</td>\n",
       "      <td>0.05</td>\n",
       "      <td>0.00</td>\n",
       "      <td>0.00</td>\n",
       "      <td>1.00</td>\n",
       "      <td>0.00</td>\n",
       "    </tr>\n",
       "    <tr>\n",
       "      <th>3</th>\n",
       "      <td>0.09</td>\n",
       "      <td>4.00</td>\n",
       "      <td>9.00</td>\n",
       "      <td>3.53</td>\n",
       "      <td>37.13</td>\n",
       "      <td>0.00</td>\n",
       "      <td>1.00</td>\n",
       "      <td>1.69</td>\n",
       "      <td>11.99</td>\n",
       "      <td>0.26</td>\n",
       "      <td>...</td>\n",
       "      <td>0.00</td>\n",
       "      <td>0.00</td>\n",
       "      <td>0.00</td>\n",
       "      <td>0.00</td>\n",
       "      <td>0.00</td>\n",
       "      <td>13.48</td>\n",
       "      <td>30.08</td>\n",
       "      <td>8.00</td>\n",
       "      <td>4.00</td>\n",
       "      <td>0.00</td>\n",
       "    </tr>\n",
       "    <tr>\n",
       "      <th>4</th>\n",
       "      <td>0.05</td>\n",
       "      <td>1.50</td>\n",
       "      <td>6.00</td>\n",
       "      <td>0.96</td>\n",
       "      <td>8.51</td>\n",
       "      <td>0.00</td>\n",
       "      <td>1.00</td>\n",
       "      <td>0.67</td>\n",
       "      <td>8.67</td>\n",
       "      <td>0.16</td>\n",
       "      <td>...</td>\n",
       "      <td>0.00</td>\n",
       "      <td>0.00</td>\n",
       "      <td>0.00</td>\n",
       "      <td>0.00</td>\n",
       "      <td>0.00</td>\n",
       "      <td>0.22</td>\n",
       "      <td>0.35</td>\n",
       "      <td>5.00</td>\n",
       "      <td>1.50</td>\n",
       "      <td>0.00</td>\n",
       "    </tr>\n",
       "  </tbody>\n",
       "</table>\n",
       "<p>5 rows × 79 columns</p>\n",
       "</div>"
      ],
      "text/plain": [
       "   duration  total_fpackets  total_bpackets  total_fpktl  total_bpktl  \\\n",
       "0      0.57          333.50        1,641.00        99.18    13,633.99   \n",
       "1      0.03            0.00            1.00        -0.30         0.74   \n",
       "2     -0.01            1.00            0.00         0.01         0.00   \n",
       "3      0.09            4.00            9.00         3.53        37.13   \n",
       "4      0.05            1.50            6.00         0.96         8.51   \n",
       "\n",
       "   min_fpktl  min_bpktl  max_fpktl  max_bpktl  mean_fpktl  ...  min_idle  \\\n",
       "0       0.00       1.00       1.62      11.99       -0.10  ...      0.00   \n",
       "1       0.41       2.36      -0.02       1.08       -0.03  ...      0.00   \n",
       "2       0.00       0.00       0.00       0.00       -0.07  ...      0.00   \n",
       "3       0.00       1.00       1.69      11.99        0.26  ...      0.00   \n",
       "4       0.00       1.00       0.67       8.67        0.16  ...      0.00   \n",
       "\n",
       "   mean_idle  max_idle  std_idle  FFNEPD  Init_Win_bytes_forward  \\\n",
       "0       0.00      0.00      0.00    0.00                   13.48   \n",
       "1       0.00      0.00      0.00    0.00                   -0.29   \n",
       "2       0.00      0.00      0.00    2.00                    0.05   \n",
       "3       0.00      0.00      0.00    0.00                   13.48   \n",
       "4       0.00      0.00      0.00    0.00                    0.22   \n",
       "\n",
       "   Init_Win_bytes_backward  RRT_samples_clnt  Act_data_pkt_forward  \\\n",
       "0                    20.48          1,640.00                333.50   \n",
       "1                     0.00              0.00                  0.00   \n",
       "2                     0.00              0.00                  1.00   \n",
       "3                    30.08              8.00                  4.00   \n",
       "4                     0.35              5.00                  1.50   \n",
       "\n",
       "   min_seg_size_forward  \n",
       "0                  0.00  \n",
       "1                 -1.00  \n",
       "2                  0.00  \n",
       "3                  0.00  \n",
       "4                  0.00  \n",
       "\n",
       "[5 rows x 79 columns]"
      ]
     },
     "execution_count": 15,
     "metadata": {},
     "output_type": "execute_result"
    }
   ],
   "source": [
    "header = ['duration', 'total_fpackets', 'total_bpackets', 'total_fpktl',\n",
    "       'total_bpktl', 'min_fpktl', 'min_bpktl', 'max_fpktl', 'max_bpktl',\n",
    "       'mean_fpktl', 'mean_bpktl', 'std_fpktl', 'std_bpktl', 'total_fiat',\n",
    "       'total_biat', 'min_fiat', 'min_biat', 'max_fiat', 'max_biat',\n",
    "       'mean_fiat', 'mean_biat', 'std_fiat', 'std_biat', 'fpsh_cnt',\n",
    "       'bpsh_cnt', 'furg_cnt', 'burg_cnt', 'total_fhlen', 'total_bhlen',\n",
    "       'fPktsPerSecond', 'bPktsPerSecond', 'flowPktsPerSecond',\n",
    "       'flowBytesPerSecond', 'min_flowpktl', 'max_flowpktl', 'mean_flowpktl',\n",
    "       'std_flowpktl', 'min_flowiat', 'max_flowiat', 'mean_flowiat',\n",
    "       'std_flowiat', 'flow_fin', 'flow_syn', 'flow_rst', 'flow_psh',\n",
    "       'flow_ack', 'flow_urg', 'flow_cwr', 'flow_ece', 'downUpRatio',\n",
    "       'avgPacketSize', 'fAvgSegmentSize', 'fHeaderBytes', 'fAvgBytesPerBulk',\n",
    "       'fAvgPacketsPerBulk', 'fAvgBulkRate', 'bVarianceDataBytes',\n",
    "       'bAvgSegmentSize', 'bAvgBytesPerBulk', 'bAvgPacketsPerBulk',\n",
    "       'bAvgBulkRate', 'sflow_fpacket', 'sflow_fbytes', 'sflow_bpacket',\n",
    "       'sflow_bbytes', 'min_active', 'mean_active', 'max_active', 'std_active',\n",
    "       'min_idle', 'mean_idle', 'max_idle', 'std_idle', 'FFNEPD',\n",
    "       'Init_Win_bytes_forward', 'Init_Win_bytes_backward', 'RRT_samples_clnt',\n",
    "       'Act_data_pkt_forward', 'min_seg_size_forward']\n",
    "\n",
    "\n",
    "X = pd.DataFrame(X_esc, columns=header)\n",
    "X.head()"
   ]
  },
  {
   "cell_type": "code",
   "execution_count": 16,
   "metadata": {},
   "outputs": [
    {
     "data": {
      "text/plain": [
       "((631955, 79), (631955, 1))"
      ]
     },
     "execution_count": 16,
     "metadata": {},
     "output_type": "execute_result"
    }
   ],
   "source": [
    "X.shape, y.shape"
   ]
  },
  {
   "cell_type": "markdown",
   "metadata": {},
   "source": [
    "### **Modelar**"
   ]
  },
  {
   "cell_type": "code",
   "execution_count": 17,
   "metadata": {},
   "outputs": [],
   "source": [
    "# Reducir dimensionalidad\n",
    "from sklearn.decomposition import PCA\n",
    "\n",
    "# Número de componentes a 99.9% de la varianza haremos predicciones más eficientes\n",
    "pca = PCA(n_components=0.999, random_state=0)\n",
    "modelo = pca.fit_transform(X)"
   ]
  },
  {
   "cell_type": "code",
   "execution_count": 18,
   "metadata": {},
   "outputs": [
    {
     "name": "stdout",
     "output_type": "stream",
     "text": [
      "Número de componentes 8\n"
     ]
    }
   ],
   "source": [
    "# Número de dimensiones del nuevo conjunto\n",
    "print('Número de componentes', pca.n_components_)"
   ]
  },
  {
   "cell_type": "code",
   "execution_count": 19,
   "metadata": {},
   "outputs": [
    {
     "name": "stdout",
     "output_type": "stream",
     "text": [
      "Varianza por cada componente es 0.8497\n",
      "Varianza por cada componente es 0.1217\n",
      "Varianza por cada componente es 0.0105\n",
      "Varianza por cada componente es 0.0076\n",
      "Varianza por cada componente es 0.0048\n",
      "Varianza por cada componente es 0.0034\n",
      "Varianza por cada componente es 0.0012\n",
      "Varianza por cada componente es 0.001\n"
     ]
    }
   ],
   "source": [
    "# Calculamos la proporción de la varianza que se ha preservado\n",
    "varianza = pca.explained_variance_ratio_\n",
    "\n",
    "for i in varianza:\n",
    "    print('Varianza por cada componente es {}'.format(round(i,4)))"
   ]
  },
  {
   "cell_type": "markdown",
   "metadata": {},
   "source": [
    "### **Datos de entrenamiento, prueba y validación**"
   ]
  },
  {
   "cell_type": "code",
   "execution_count": 20,
   "metadata": {},
   "outputs": [
    {
     "name": "stdout",
     "output_type": "stream",
     "text": [
      "Datos de train: (442368, 8) (442368, 1)\n",
      "Datos de test: (94794, 8) (94794, 1)\n",
      "Datos de validation: (94793, 8) (94793, 1)\n"
     ]
    }
   ],
   "source": [
    "from sklearn.model_selection import train_test_split\n",
    "\n",
    "# Train y Test\n",
    "X_train, X_test, y_train, y_test = train_test_split(modelo, y, test_size = 0.3, random_state = 0, shuffle=True)\n",
    "\n",
    "# Test y Validación\n",
    "X_val, X_test, y_val, y_test = train_test_split(X_test, y_test, test_size=0.5, random_state=0, shuffle=True)\n",
    "\n",
    "print('Datos de train:', X_train.shape, y_train.shape)\n",
    "print('Datos de test:', X_test.shape, y_test.shape)\n",
    "print('Datos de validation:', X_val.shape, y_val.shape)\n",
    "\n",
    "# Casting\n",
    "X_train = np.array(X_train)\n",
    "X_test = np.array(X_test)\n",
    "y_train = np.array(y_train)\n",
    "y_test = np.array(y_test)\n",
    "X_val = np.array(X_val)\n",
    "y_val = np.array(y_val)"
   ]
  },
  {
   "cell_type": "markdown",
   "metadata": {},
   "source": [
    "### **Entrenar**"
   ]
  },
  {
   "cell_type": "code",
   "execution_count": 21,
   "metadata": {},
   "outputs": [
    {
     "data": {
      "text/plain": [
       "RandomForestClassifier(max_depth=30, n_estimators=200, n_jobs=-1,\n",
       "                       random_state=0)"
      ]
     },
     "execution_count": 21,
     "metadata": {},
     "output_type": "execute_result"
    }
   ],
   "source": [
    "from sklearn.ensemble import RandomForestClassifier\n",
    "\n",
    "clf_rfc = RandomForestClassifier(n_estimators=200, max_depth=30, random_state=0, n_jobs=-1)\n",
    "clf_rfc.fit(X_train, y_train)"
   ]
  },
  {
   "cell_type": "markdown",
   "metadata": {},
   "source": [
    "### **Predecir**"
   ]
  },
  {
   "cell_type": "code",
   "execution_count": 22,
   "metadata": {},
   "outputs": [
    {
     "data": {
      "text/plain": [
       "array([2, 2, 2, ..., 2, 2, 2])"
      ]
     },
     "execution_count": 22,
     "metadata": {},
     "output_type": "execute_result"
    }
   ],
   "source": [
    "# Predicción\n",
    "y_pred_rfc = clf_rfc.predict(X_val)\n",
    "y_pred_rfc"
   ]
  },
  {
   "cell_type": "code",
   "execution_count": 23,
   "metadata": {},
   "outputs": [
    {
     "data": {
      "text/plain": [
       "((94793, 1), (94793,))"
      ]
     },
     "execution_count": 23,
     "metadata": {},
     "output_type": "execute_result"
    }
   ],
   "source": [
    "# Dimensionamos\n",
    "y_val.shape, y_pred_rfc.shape"
   ]
  },
  {
   "cell_type": "code",
   "execution_count": 24,
   "metadata": {},
   "outputs": [],
   "source": [
    "# Redimensionamos\n",
    "y_pred = y_pred_rfc.reshape((94793, 1))\n",
    "y_val = y_val.reshape((94793, 1))"
   ]
  },
  {
   "cell_type": "markdown",
   "metadata": {},
   "source": [
    "### **Evaluar**"
   ]
  },
  {
   "cell_type": "code",
   "execution_count": 25,
   "metadata": {},
   "outputs": [
    {
     "name": "stdout",
     "output_type": "stream",
     "text": [
      "              precision    recall  f1-score   support\n",
      "\n",
      "           0       0.70      0.35      0.47       724\n",
      "           1       0.78      0.44      0.56     23359\n",
      "           2       0.84      0.96      0.89     70710\n",
      "\n",
      "    accuracy                           0.83     94793\n",
      "   macro avg       0.77      0.58      0.64     94793\n",
      "weighted avg       0.82      0.83      0.81     94793\n",
      "\n"
     ]
    }
   ],
   "source": [
    "from sklearn.metrics import classification_report\n",
    "\n",
    "# Métricas de evaluación\n",
    "print(classification_report(y_val, y_pred_rfc))"
   ]
  },
  {
   "cell_type": "code",
   "execution_count": 26,
   "metadata": {},
   "outputs": [
    {
     "name": "stdout",
     "output_type": "stream",
     "text": [
      "F1 Score validation set: 84.6 %\n"
     ]
    }
   ],
   "source": [
    "from sklearn.metrics import f1_score\n",
    "\n",
    "# F1 Score validation set\n",
    "# f1_score_test = f1_score(y_pred, y_test, average='weighted')\n",
    "# f1_score_test = round(f1_score_test, 4)\n",
    "# print('F1 Score validation set:',f1_score_test*100, '%')\n",
    "\n",
    "# F1 Score validation set\n",
    "f1_score_val = f1_score(y_pred_rfc, y_val, average='weighted')\n",
    "f1_score_val = round(f1_score_val, 4)\n",
    "print('F1 Score validation set:',f1_score_val*100, '%')"
   ]
  },
  {
   "cell_type": "code",
   "execution_count": 27,
   "metadata": {},
   "outputs": [
    {
     "name": "stdout",
     "output_type": "stream",
     "text": [
      "Accuracy del 82.75 %\n"
     ]
    }
   ],
   "source": [
    "# Accuracy de los resultados\n",
    "from sklearn.metrics import accuracy_score\n",
    "\n",
    "acc = accuracy_score(y_val, y_pred_rfc)\n",
    "acc = round(acc, 4)\n",
    "print('Accuracy del', acc*100, '%')"
   ]
  },
  {
   "cell_type": "markdown",
   "metadata": {},
   "source": [
    "### **Entrenar**"
   ]
  },
  {
   "cell_type": "code",
   "execution_count": 28,
   "metadata": {},
   "outputs": [
    {
     "data": {
      "text/plain": [
       "GradientBoostingClassifier(learning_rate=0.01, random_state=0,\n",
       "                           validation_fraction=0.15)"
      ]
     },
     "execution_count": 28,
     "metadata": {},
     "output_type": "execute_result"
    }
   ],
   "source": [
    "from sklearn.ensemble import GradientBoostingClassifier\n",
    "\n",
    "clf_gbc = GradientBoostingClassifier(learning_rate=0.01, validation_fraction=0.15, random_state=0)\n",
    "clf_gbc.fit(X_train, y_train)"
   ]
  },
  {
   "cell_type": "markdown",
   "metadata": {},
   "source": [
    "### **Predecir**"
   ]
  },
  {
   "cell_type": "code",
   "execution_count": 29,
   "metadata": {},
   "outputs": [
    {
     "data": {
      "text/plain": [
       "array([2, 2, 2, ..., 2, 2, 2])"
      ]
     },
     "execution_count": 29,
     "metadata": {},
     "output_type": "execute_result"
    }
   ],
   "source": [
    "# Predicción\n",
    "y_pred_gbc = clf_gbc.predict(X_val)\n",
    "y_pred_gbc"
   ]
  },
  {
   "cell_type": "code",
   "execution_count": 30,
   "metadata": {},
   "outputs": [
    {
     "data": {
      "text/plain": [
       "((94793, 1), (94793,))"
      ]
     },
     "execution_count": 30,
     "metadata": {},
     "output_type": "execute_result"
    }
   ],
   "source": [
    "# Dimensionamos\n",
    "y_val.shape, y_pred_gbc.shape"
   ]
  },
  {
   "cell_type": "code",
   "execution_count": 31,
   "metadata": {},
   "outputs": [],
   "source": [
    "# Redimensionamos\n",
    "y_pred_gbc = y_pred_gbc.reshape((94793, 1))\n",
    "y_val = y_val.reshape((94793, 1))"
   ]
  },
  {
   "cell_type": "markdown",
   "metadata": {},
   "source": [
    "### **Evaluar**"
   ]
  },
  {
   "cell_type": "code",
   "execution_count": 32,
   "metadata": {},
   "outputs": [
    {
     "name": "stdout",
     "output_type": "stream",
     "text": [
      "              precision    recall  f1-score   support\n",
      "\n",
      "           0       0.98      0.09      0.16       724\n",
      "           1       0.81      0.15      0.25     23359\n",
      "           2       0.77      0.99      0.87     70710\n",
      "\n",
      "    accuracy                           0.77     94793\n",
      "   macro avg       0.86      0.41      0.43     94793\n",
      "weighted avg       0.78      0.77      0.71     94793\n",
      "\n"
     ]
    }
   ],
   "source": [
    "# Métricas de evaluación\n",
    "print(classification_report(y_val, y_pred_gbc))"
   ]
  },
  {
   "cell_type": "code",
   "execution_count": 33,
   "metadata": {},
   "outputs": [
    {
     "name": "stdout",
     "output_type": "stream",
     "text": [
      "F1 Score validation set: 84.0 %\n"
     ]
    }
   ],
   "source": [
    "# F1 Score validation set\n",
    "f1_score_val2 = f1_score(y_pred_gbc, y_val, average='weighted')\n",
    "f1_score_val2 = round(f1_score_val2, 3)\n",
    "print('F1 Score validation set:',f1_score_val2*100, '%')"
   ]
  },
  {
   "cell_type": "code",
   "execution_count": 34,
   "metadata": {},
   "outputs": [],
   "source": [
    "# Casteamos a Dataframes\n",
    "y_val = pd.DataFrame(y_val, columns=['Datos de Validación'])\n",
    "y_pred_rfc = pd.DataFrame(y_pred_rfc, columns=['Predicciones RFC'])\n",
    "y_pred_gbp = pd.DataFrame(y_pred_gbc, columns=['Predicciones GBC'])"
   ]
  },
  {
   "cell_type": "markdown",
   "metadata": {},
   "source": [
    "### **Comparar**"
   ]
  },
  {
   "cell_type": "code",
   "execution_count": 35,
   "metadata": {},
   "outputs": [
    {
     "data": {
      "text/html": [
       "<div>\n",
       "<style scoped>\n",
       "    .dataframe tbody tr th:only-of-type {\n",
       "        vertical-align: middle;\n",
       "    }\n",
       "\n",
       "    .dataframe tbody tr th {\n",
       "        vertical-align: top;\n",
       "    }\n",
       "\n",
       "    .dataframe thead th {\n",
       "        text-align: right;\n",
       "    }\n",
       "</style>\n",
       "<table border=\"1\" class=\"dataframe\">\n",
       "  <thead>\n",
       "    <tr style=\"text-align: right;\">\n",
       "      <th></th>\n",
       "      <th>Datos de validación</th>\n",
       "      <th>Predicciones RFC</th>\n",
       "      <th>Predicciones GBC</th>\n",
       "    </tr>\n",
       "  </thead>\n",
       "  <tbody>\n",
       "    <tr>\n",
       "      <th>0</th>\n",
       "      <td>2</td>\n",
       "      <td>2</td>\n",
       "      <td>2</td>\n",
       "    </tr>\n",
       "    <tr>\n",
       "      <th>1</th>\n",
       "      <td>2</td>\n",
       "      <td>2</td>\n",
       "      <td>2</td>\n",
       "    </tr>\n",
       "    <tr>\n",
       "      <th>2</th>\n",
       "      <td>1</td>\n",
       "      <td>2</td>\n",
       "      <td>2</td>\n",
       "    </tr>\n",
       "    <tr>\n",
       "      <th>3</th>\n",
       "      <td>2</td>\n",
       "      <td>2</td>\n",
       "      <td>2</td>\n",
       "    </tr>\n",
       "    <tr>\n",
       "      <th>4</th>\n",
       "      <td>2</td>\n",
       "      <td>2</td>\n",
       "      <td>2</td>\n",
       "    </tr>\n",
       "    <tr>\n",
       "      <th>5</th>\n",
       "      <td>1</td>\n",
       "      <td>2</td>\n",
       "      <td>2</td>\n",
       "    </tr>\n",
       "    <tr>\n",
       "      <th>6</th>\n",
       "      <td>2</td>\n",
       "      <td>2</td>\n",
       "      <td>2</td>\n",
       "    </tr>\n",
       "    <tr>\n",
       "      <th>7</th>\n",
       "      <td>2</td>\n",
       "      <td>2</td>\n",
       "      <td>2</td>\n",
       "    </tr>\n",
       "    <tr>\n",
       "      <th>8</th>\n",
       "      <td>2</td>\n",
       "      <td>2</td>\n",
       "      <td>2</td>\n",
       "    </tr>\n",
       "    <tr>\n",
       "      <th>9</th>\n",
       "      <td>2</td>\n",
       "      <td>2</td>\n",
       "      <td>2</td>\n",
       "    </tr>\n",
       "    <tr>\n",
       "      <th>10</th>\n",
       "      <td>2</td>\n",
       "      <td>2</td>\n",
       "      <td>2</td>\n",
       "    </tr>\n",
       "    <tr>\n",
       "      <th>11</th>\n",
       "      <td>2</td>\n",
       "      <td>2</td>\n",
       "      <td>2</td>\n",
       "    </tr>\n",
       "    <tr>\n",
       "      <th>12</th>\n",
       "      <td>2</td>\n",
       "      <td>2</td>\n",
       "      <td>2</td>\n",
       "    </tr>\n",
       "    <tr>\n",
       "      <th>13</th>\n",
       "      <td>2</td>\n",
       "      <td>2</td>\n",
       "      <td>2</td>\n",
       "    </tr>\n",
       "    <tr>\n",
       "      <th>14</th>\n",
       "      <td>2</td>\n",
       "      <td>2</td>\n",
       "      <td>2</td>\n",
       "    </tr>\n",
       "    <tr>\n",
       "      <th>15</th>\n",
       "      <td>1</td>\n",
       "      <td>2</td>\n",
       "      <td>2</td>\n",
       "    </tr>\n",
       "    <tr>\n",
       "      <th>16</th>\n",
       "      <td>2</td>\n",
       "      <td>2</td>\n",
       "      <td>2</td>\n",
       "    </tr>\n",
       "    <tr>\n",
       "      <th>17</th>\n",
       "      <td>2</td>\n",
       "      <td>2</td>\n",
       "      <td>2</td>\n",
       "    </tr>\n",
       "    <tr>\n",
       "      <th>18</th>\n",
       "      <td>2</td>\n",
       "      <td>1</td>\n",
       "      <td>2</td>\n",
       "    </tr>\n",
       "    <tr>\n",
       "      <th>19</th>\n",
       "      <td>2</td>\n",
       "      <td>2</td>\n",
       "      <td>2</td>\n",
       "    </tr>\n",
       "  </tbody>\n",
       "</table>\n",
       "</div>"
      ],
      "text/plain": [
       "    Datos de validación  Predicciones RFC  Predicciones GBC\n",
       "0                     2                 2                 2\n",
       "1                     2                 2                 2\n",
       "2                     1                 2                 2\n",
       "3                     2                 2                 2\n",
       "4                     2                 2                 2\n",
       "5                     1                 2                 2\n",
       "6                     2                 2                 2\n",
       "7                     2                 2                 2\n",
       "8                     2                 2                 2\n",
       "9                     2                 2                 2\n",
       "10                    2                 2                 2\n",
       "11                    2                 2                 2\n",
       "12                    2                 2                 2\n",
       "13                    2                 2                 2\n",
       "14                    2                 2                 2\n",
       "15                    1                 2                 2\n",
       "16                    2                 2                 2\n",
       "17                    2                 2                 2\n",
       "18                    2                 1                 2\n",
       "19                    2                 2                 2"
      ]
     },
     "execution_count": 35,
     "metadata": {},
     "output_type": "execute_result"
    }
   ],
   "source": [
    "# Comparando los datos de validación y las predicciones\n",
    "comparacion = pd.concat([y_val, y_pred_rfc, y_pred_gbp], axis=1)\n",
    "comparacion.head(20)"
   ]
  },
  {
   "cell_type": "markdown",
   "metadata": {},
   "source": [
    "### **Exportar**"
   ]
  },
  {
   "cell_type": "code",
   "execution_count": 36,
   "metadata": {},
   "outputs": [],
   "source": [
    "# CSV de exportación\n",
    "comparacion.to_csv(r'D:\\Python Scripts & Notebooks\\Jupyter Notebooks\\Artificial Intelligence\\Machine Learning\\Proyectos de Machine Learning\\resultados.csv', index=False, encode='utf-8')"
   ]
  }
 ],
 "metadata": {
  "interpreter": {
   "hash": "9d87e49ceef7f3fe445c2a4b489614ae2f809739e3f4fb61e305c0a97aa0517c"
  },
  "kernelspec": {
   "display_name": "Python 3.9.7 64-bit ('venv': conda)",
   "language": "python",
   "name": "python3"
  },
  "language_info": {
   "codemirror_mode": {
    "name": "ipython",
    "version": 3
   },
   "file_extension": ".py",
   "mimetype": "text/x-python",
   "name": "python",
   "nbconvert_exporter": "python",
   "pygments_lexer": "ipython3",
   "version": "3.9.7"
  },
  "orig_nbformat": 4
 },
 "nbformat": 4,
 "nbformat_minor": 2
}
