{
 "cells": [
  {
   "cell_type": "markdown",
   "source": "# Decision Tree Classifier",
   "metadata": {
    "tags": [],
    "is_collapsed": false,
    "cell_id": "00000-7fed7898-dc5c-4077-8378-243933415e33",
    "deepnote_cell_type": "text-cell-h1"
   }
  },
  {
   "cell_type": "code",
   "metadata": {
    "tags": [],
    "deepnote_to_be_reexecuted": false,
    "source_hash": "872e5246",
    "execution_start": 1637280918315,
    "execution_millis": 2586,
    "cell_id": "00001-06532647-02ef-4ddf-bcde-82d1bfa0a407",
    "deepnote_cell_type": "code"
   },
   "source": "# Core\nimport pandas as pd\nimport numpy as np\nimport matplotlib.pyplot as plt\nimport seaborn as sns",
   "execution_count": null,
   "outputs": []
  },
  {
   "cell_type": "code",
   "metadata": {
    "tags": [],
    "deepnote_to_be_reexecuted": false,
    "source_hash": "96b7119d",
    "execution_start": 1637280920919,
    "execution_millis": 722287,
    "cell_id": "00002-9f1b4095-a846-48b0-b700-b36d5caadff2",
    "deepnote_cell_type": "code"
   },
   "source": "# Evitamos la notación científica y rendondeamos los valores a 2 dígitos después de la coma\npd.options.display.float_format = '{:,.2f}'.format\n\n# Ignore Warnings\nwarnings.filterwarnings('ignore')",
   "execution_count": null,
   "outputs": []
  },
  {
   "cell_type": "code",
   "metadata": {
    "tags": [],
    "deepnote_to_be_reexecuted": false,
    "source_hash": "f437af68",
    "execution_start": 1637280920961,
    "execution_millis": 209,
    "cell_id": "00003-900c244c-6bae-421b-9789-22633ce4f1b1",
    "deepnote_cell_type": "code"
   },
   "source": "# Cargamos nuestro dataset\ndata = pd.read_csv('https://raw.githubusercontent.com/jorge-robledo11/Datasets/main/Datasets/iris/iris.csv')\ndata.head()",
   "execution_count": null,
   "outputs": [
    {
     "output_type": "execute_result",
     "execution_count": 3,
     "data": {
      "application/vnd.deepnote.dataframe.v2+json": {
       "row_count": 5,
       "column_count": 5,
       "columns": [
        {
         "name": "Sepal.Length",
         "dtype": "float64",
         "stats": {
          "unique_count": 5,
          "nan_count": 0,
          "min": "4.6",
          "max": "5.1",
          "histogram": [
           {
            "bin_start": 4.6,
            "bin_end": 4.6499999999999995,
            "count": 1
           },
           {
            "bin_start": 4.6499999999999995,
            "bin_end": 4.699999999999999,
            "count": 0
           },
           {
            "bin_start": 4.699999999999999,
            "bin_end": 4.75,
            "count": 1
           },
           {
            "bin_start": 4.75,
            "bin_end": 4.8,
            "count": 0
           },
           {
            "bin_start": 4.8,
            "bin_end": 4.85,
            "count": 0
           },
           {
            "bin_start": 4.85,
            "bin_end": 4.8999999999999995,
            "count": 0
           },
           {
            "bin_start": 4.8999999999999995,
            "bin_end": 4.949999999999999,
            "count": 1
           },
           {
            "bin_start": 4.949999999999999,
            "bin_end": 5,
            "count": 0
           },
           {
            "bin_start": 5,
            "bin_end": 5.05,
            "count": 1
           },
           {
            "bin_start": 5.05,
            "bin_end": 5.1,
            "count": 1
           }
          ]
         }
        },
        {
         "name": "Sepal.Width",
         "dtype": "float64",
         "stats": {
          "unique_count": 5,
          "nan_count": 0,
          "min": "3.0",
          "max": "3.6",
          "histogram": [
           {
            "bin_start": 3,
            "bin_end": 3.06,
            "count": 1
           },
           {
            "bin_start": 3.06,
            "bin_end": 3.12,
            "count": 1
           },
           {
            "bin_start": 3.12,
            "bin_end": 3.18,
            "count": 0
           },
           {
            "bin_start": 3.18,
            "bin_end": 3.24,
            "count": 1
           },
           {
            "bin_start": 3.24,
            "bin_end": 3.3,
            "count": 0
           },
           {
            "bin_start": 3.3,
            "bin_end": 3.3600000000000003,
            "count": 0
           },
           {
            "bin_start": 3.3600000000000003,
            "bin_end": 3.42,
            "count": 0
           },
           {
            "bin_start": 3.42,
            "bin_end": 3.48,
            "count": 0
           },
           {
            "bin_start": 3.48,
            "bin_end": 3.54,
            "count": 1
           },
           {
            "bin_start": 3.54,
            "bin_end": 3.6,
            "count": 1
           }
          ]
         }
        },
        {
         "name": "Petal.Length",
         "dtype": "float64",
         "stats": {
          "unique_count": 3,
          "nan_count": 0,
          "min": "1.3",
          "max": "1.5",
          "histogram": [
           {
            "bin_start": 1.3,
            "bin_end": 1.32,
            "count": 1
           },
           {
            "bin_start": 1.32,
            "bin_end": 1.34,
            "count": 0
           },
           {
            "bin_start": 1.34,
            "bin_end": 1.36,
            "count": 0
           },
           {
            "bin_start": 1.36,
            "bin_end": 1.3800000000000001,
            "count": 0
           },
           {
            "bin_start": 1.3800000000000001,
            "bin_end": 1.4,
            "count": 0
           },
           {
            "bin_start": 1.4,
            "bin_end": 1.42,
            "count": 3
           },
           {
            "bin_start": 1.42,
            "bin_end": 1.44,
            "count": 0
           },
           {
            "bin_start": 1.44,
            "bin_end": 1.46,
            "count": 0
           },
           {
            "bin_start": 1.46,
            "bin_end": 1.48,
            "count": 0
           },
           {
            "bin_start": 1.48,
            "bin_end": 1.5,
            "count": 1
           }
          ]
         }
        },
        {
         "name": "Petal.Width",
         "dtype": "float64",
         "stats": {
          "unique_count": 1,
          "nan_count": 0,
          "min": "0.2",
          "max": "0.2",
          "histogram": [
           {
            "bin_start": -0.3,
            "bin_end": -0.19999999999999998,
            "count": 0
           },
           {
            "bin_start": -0.19999999999999998,
            "bin_end": -0.09999999999999998,
            "count": 0
           },
           {
            "bin_start": -0.09999999999999998,
            "bin_end": 5.551115123125783e-17,
            "count": 0
           },
           {
            "bin_start": 5.551115123125783e-17,
            "bin_end": 0.10000000000000003,
            "count": 0
           },
           {
            "bin_start": 0.10000000000000003,
            "bin_end": 0.2,
            "count": 0
           },
           {
            "bin_start": 0.2,
            "bin_end": 0.3000000000000001,
            "count": 5
           },
           {
            "bin_start": 0.3000000000000001,
            "bin_end": 0.4000000000000001,
            "count": 0
           },
           {
            "bin_start": 0.4000000000000001,
            "bin_end": 0.5,
            "count": 0
           },
           {
            "bin_start": 0.5,
            "bin_end": 0.6000000000000001,
            "count": 0
           },
           {
            "bin_start": 0.6000000000000001,
            "bin_end": 0.7,
            "count": 0
           }
          ]
         }
        },
        {
         "name": "Species",
         "dtype": "object",
         "stats": {
          "unique_count": 1,
          "nan_count": 0,
          "categories": [
           {
            "name": "setosa",
            "count": 5
           }
          ]
         }
        },
        {
         "name": "_deepnote_index_column",
         "dtype": "int64"
        }
       ],
       "rows_top": [
        {
         "Sepal.Length": 5.1,
         "Sepal.Width": 3.5,
         "Petal.Length": 1.4,
         "Petal.Width": 0.2,
         "Species": "setosa",
         "_deepnote_index_column": 0
        },
        {
         "Sepal.Length": 4.9,
         "Sepal.Width": 3,
         "Petal.Length": 1.4,
         "Petal.Width": 0.2,
         "Species": "setosa",
         "_deepnote_index_column": 1
        },
        {
         "Sepal.Length": 4.7,
         "Sepal.Width": 3.2,
         "Petal.Length": 1.3,
         "Petal.Width": 0.2,
         "Species": "setosa",
         "_deepnote_index_column": 2
        },
        {
         "Sepal.Length": 4.6,
         "Sepal.Width": 3.1,
         "Petal.Length": 1.5,
         "Petal.Width": 0.2,
         "Species": "setosa",
         "_deepnote_index_column": 3
        },
        {
         "Sepal.Length": 5,
         "Sepal.Width": 3.6,
         "Petal.Length": 1.4,
         "Petal.Width": 0.2,
         "Species": "setosa",
         "_deepnote_index_column": 4
        }
       ],
       "rows_bottom": null
      },
      "text/plain": "   Sepal.Length  Sepal.Width  Petal.Length  Petal.Width Species\n0          5.10         3.50          1.40         0.20  setosa\n1          4.90         3.00          1.40         0.20  setosa\n2          4.70         3.20          1.30         0.20  setosa\n3          4.60         3.10          1.50         0.20  setosa\n4          5.00         3.60          1.40         0.20  setosa",
      "text/html": "<div>\n<style scoped>\n    .dataframe tbody tr th:only-of-type {\n        vertical-align: middle;\n    }\n\n    .dataframe tbody tr th {\n        vertical-align: top;\n    }\n\n    .dataframe thead th {\n        text-align: right;\n    }\n</style>\n<table border=\"1\" class=\"dataframe\">\n  <thead>\n    <tr style=\"text-align: right;\">\n      <th></th>\n      <th>Sepal.Length</th>\n      <th>Sepal.Width</th>\n      <th>Petal.Length</th>\n      <th>Petal.Width</th>\n      <th>Species</th>\n    </tr>\n  </thead>\n  <tbody>\n    <tr>\n      <th>0</th>\n      <td>5.10</td>\n      <td>3.50</td>\n      <td>1.40</td>\n      <td>0.20</td>\n      <td>setosa</td>\n    </tr>\n    <tr>\n      <th>1</th>\n      <td>4.90</td>\n      <td>3.00</td>\n      <td>1.40</td>\n      <td>0.20</td>\n      <td>setosa</td>\n    </tr>\n    <tr>\n      <th>2</th>\n      <td>4.70</td>\n      <td>3.20</td>\n      <td>1.30</td>\n      <td>0.20</td>\n      <td>setosa</td>\n    </tr>\n    <tr>\n      <th>3</th>\n      <td>4.60</td>\n      <td>3.10</td>\n      <td>1.50</td>\n      <td>0.20</td>\n      <td>setosa</td>\n    </tr>\n    <tr>\n      <th>4</th>\n      <td>5.00</td>\n      <td>3.60</td>\n      <td>1.40</td>\n      <td>0.20</td>\n      <td>setosa</td>\n    </tr>\n  </tbody>\n</table>\n</div>"
     },
     "metadata": {}
    }
   ]
  },
  {
   "cell_type": "code",
   "metadata": {
    "tags": [],
    "deepnote_to_be_reexecuted": false,
    "source_hash": "a68a16d1",
    "execution_start": 1637280921184,
    "execution_millis": 722275,
    "deepnote_output_heights": [
     21.199996948242188
    ],
    "cell_id": "00004-8312637d-dae1-4cd7-8e5a-7564b3b7a1c5",
    "deepnote_cell_type": "code"
   },
   "source": "# Dimensiones\ndisplay(data.shape)",
   "execution_count": null,
   "outputs": [
    {
     "data": {
      "text/plain": "(150, 5)"
     },
     "metadata": {},
     "output_type": "display_data"
    }
   ]
  },
  {
   "cell_type": "code",
   "metadata": {
    "tags": [],
    "deepnote_to_be_reexecuted": false,
    "source_hash": "d196566c",
    "execution_start": 1637280921225,
    "execution_millis": 722226,
    "deepnote_output_heights": [
     117.19999694824219
    ],
    "cell_id": "00005-c2314fe4-f4d1-4006-882c-6084e8981139",
    "deepnote_cell_type": "code"
   },
   "source": "# Datos faltantes\ndisplay(data.isnull().sum())",
   "execution_count": null,
   "outputs": [
    {
     "data": {
      "text/plain": "Sepal.Length    0\nSepal.Width     0\nPetal.Length    0\nPetal.Width     0\nSpecies         0\ndtype: int64"
     },
     "metadata": {},
     "output_type": "display_data"
    }
   ]
  },
  {
   "cell_type": "code",
   "metadata": {
    "tags": [],
    "deepnote_to_be_reexecuted": false,
    "source_hash": "2b3dad9",
    "execution_start": 1637280921290,
    "execution_millis": 722250,
    "deepnote_output_heights": [
     117.19999694824219
    ],
    "cell_id": "00006-f88c0db8-7076-4557-95e2-6436dda4bdb5",
    "deepnote_cell_type": "code"
   },
   "source": "# Tipos de variables del dataset\ndisplay(data.dtypes)",
   "execution_count": null,
   "outputs": [
    {
     "data": {
      "text/plain": "Sepal.Length    float64\nSepal.Width     float64\nPetal.Length    float64\nPetal.Width     float64\nSpecies          object\ndtype: object"
     },
     "metadata": {},
     "output_type": "display_data"
    }
   ]
  },
  {
   "cell_type": "code",
   "metadata": {
    "tags": [],
    "deepnote_to_be_reexecuted": false,
    "source_hash": "2cb52ae",
    "execution_start": 1637280921291,
    "execution_millis": 95,
    "cell_id": "00007-76f9fb7b-a5b4-404d-8474-10b6dd736028",
    "deepnote_cell_type": "code"
   },
   "source": "# Resumen de nuestro dataset\ndata.describe()",
   "execution_count": null,
   "outputs": [
    {
     "output_type": "execute_result",
     "execution_count": 7,
     "data": {
      "application/vnd.deepnote.dataframe.v2+json": {
       "row_count": 8,
       "column_count": 4,
       "columns": [
        {
         "name": "Sepal.Length",
         "dtype": "float64",
         "stats": {
          "unique_count": 8,
          "nan_count": 0,
          "min": "0.828066127977863",
          "max": "150.0",
          "histogram": [
           {
            "bin_start": 0.828066127977863,
            "bin_end": 15.745259515180075,
            "count": 7
           },
           {
            "bin_start": 15.745259515180075,
            "bin_end": 30.662452902382288,
            "count": 0
           },
           {
            "bin_start": 30.662452902382288,
            "bin_end": 45.5796462895845,
            "count": 0
           },
           {
            "bin_start": 45.5796462895845,
            "bin_end": 60.49683967678671,
            "count": 0
           },
           {
            "bin_start": 60.49683967678671,
            "bin_end": 75.41403306398892,
            "count": 0
           },
           {
            "bin_start": 75.41403306398892,
            "bin_end": 90.33122645119114,
            "count": 0
           },
           {
            "bin_start": 90.33122645119114,
            "bin_end": 105.24841983839335,
            "count": 0
           },
           {
            "bin_start": 105.24841983839335,
            "bin_end": 120.16561322559556,
            "count": 0
           },
           {
            "bin_start": 120.16561322559556,
            "bin_end": 135.08280661279778,
            "count": 0
           },
           {
            "bin_start": 135.08280661279778,
            "bin_end": 150,
            "count": 1
           }
          ]
         }
        },
        {
         "name": "Sepal.Width",
         "dtype": "float64",
         "stats": {
          "unique_count": 8,
          "nan_count": 0,
          "min": "0.4358662849366982",
          "max": "150.0",
          "histogram": [
           {
            "bin_start": 0.4358662849366982,
            "bin_end": 15.392279656443028,
            "count": 7
           },
           {
            "bin_start": 15.392279656443028,
            "bin_end": 30.348693027949356,
            "count": 0
           },
           {
            "bin_start": 30.348693027949356,
            "bin_end": 45.30510639945569,
            "count": 0
           },
           {
            "bin_start": 45.30510639945569,
            "bin_end": 60.26151977096202,
            "count": 0
           },
           {
            "bin_start": 60.26151977096202,
            "bin_end": 75.21793314246834,
            "count": 0
           },
           {
            "bin_start": 75.21793314246834,
            "bin_end": 90.17434651397467,
            "count": 0
           },
           {
            "bin_start": 90.17434651397467,
            "bin_end": 105.130759885481,
            "count": 0
           },
           {
            "bin_start": 105.130759885481,
            "bin_end": 120.08717325698733,
            "count": 0
           },
           {
            "bin_start": 120.08717325698733,
            "bin_end": 135.04358662849367,
            "count": 0
           },
           {
            "bin_start": 135.04358662849367,
            "bin_end": 150,
            "count": 1
           }
          ]
         }
        },
        {
         "name": "Petal.Length",
         "dtype": "float64",
         "stats": {
          "unique_count": 8,
          "nan_count": 0,
          "min": "1.0",
          "max": "150.0",
          "histogram": [
           {
            "bin_start": 1,
            "bin_end": 15.9,
            "count": 7
           },
           {
            "bin_start": 15.9,
            "bin_end": 30.8,
            "count": 0
           },
           {
            "bin_start": 30.8,
            "bin_end": 45.7,
            "count": 0
           },
           {
            "bin_start": 45.7,
            "bin_end": 60.6,
            "count": 0
           },
           {
            "bin_start": 60.6,
            "bin_end": 75.5,
            "count": 0
           },
           {
            "bin_start": 75.5,
            "bin_end": 90.4,
            "count": 0
           },
           {
            "bin_start": 90.4,
            "bin_end": 105.3,
            "count": 0
           },
           {
            "bin_start": 105.3,
            "bin_end": 120.2,
            "count": 0
           },
           {
            "bin_start": 120.2,
            "bin_end": 135.1,
            "count": 0
           },
           {
            "bin_start": 135.1,
            "bin_end": 150,
            "count": 1
           }
          ]
         }
        },
        {
         "name": "Petal.Width",
         "dtype": "float64",
         "stats": {
          "unique_count": 8,
          "nan_count": 0,
          "min": "0.1",
          "max": "150.0",
          "histogram": [
           {
            "bin_start": 0.1,
            "bin_end": 15.09,
            "count": 7
           },
           {
            "bin_start": 15.09,
            "bin_end": 30.080000000000002,
            "count": 0
           },
           {
            "bin_start": 30.080000000000002,
            "bin_end": 45.07,
            "count": 0
           },
           {
            "bin_start": 45.07,
            "bin_end": 60.06,
            "count": 0
           },
           {
            "bin_start": 60.06,
            "bin_end": 75.05,
            "count": 0
           },
           {
            "bin_start": 75.05,
            "bin_end": 90.03999999999999,
            "count": 0
           },
           {
            "bin_start": 90.03999999999999,
            "bin_end": 105.03,
            "count": 0
           },
           {
            "bin_start": 105.03,
            "bin_end": 120.02,
            "count": 0
           },
           {
            "bin_start": 120.02,
            "bin_end": 135.01,
            "count": 0
           },
           {
            "bin_start": 135.01,
            "bin_end": 150,
            "count": 1
           }
          ]
         }
        },
        {
         "name": "_deepnote_index_column",
         "dtype": "object"
        }
       ],
       "rows_top": [
        {
         "Sepal.Length": 150,
         "Sepal.Width": 150,
         "Petal.Length": 150,
         "Petal.Width": 150,
         "_deepnote_index_column": "count"
        },
        {
         "Sepal.Length": 5.843333333333334,
         "Sepal.Width": 3.0573333333333337,
         "Petal.Length": 3.7580000000000005,
         "Petal.Width": 1.1993333333333336,
         "_deepnote_index_column": "mean"
        },
        {
         "Sepal.Length": 0.828066127977863,
         "Sepal.Width": 0.4358662849366982,
         "Petal.Length": 1.7652982332594662,
         "Petal.Width": 0.7622376689603465,
         "_deepnote_index_column": "std"
        },
        {
         "Sepal.Length": 4.3,
         "Sepal.Width": 2,
         "Petal.Length": 1,
         "Petal.Width": 0.1,
         "_deepnote_index_column": "min"
        },
        {
         "Sepal.Length": 5.1,
         "Sepal.Width": 2.8,
         "Petal.Length": 1.6,
         "Petal.Width": 0.3,
         "_deepnote_index_column": "25%"
        },
        {
         "Sepal.Length": 5.8,
         "Sepal.Width": 3,
         "Petal.Length": 4.35,
         "Petal.Width": 1.3,
         "_deepnote_index_column": "50%"
        },
        {
         "Sepal.Length": 6.4,
         "Sepal.Width": 3.3,
         "Petal.Length": 5.1,
         "Petal.Width": 1.8,
         "_deepnote_index_column": "75%"
        },
        {
         "Sepal.Length": 7.9,
         "Sepal.Width": 4.4,
         "Petal.Length": 6.9,
         "Petal.Width": 2.5,
         "_deepnote_index_column": "max"
        }
       ],
       "rows_bottom": null
      },
      "text/plain": "       Sepal.Length  Sepal.Width  Petal.Length  Petal.Width\ncount        150.00       150.00        150.00       150.00\nmean           5.84         3.06          3.76         1.20\nstd            0.83         0.44          1.77         0.76\nmin            4.30         2.00          1.00         0.10\n25%            5.10         2.80          1.60         0.30\n50%            5.80         3.00          4.35         1.30\n75%            6.40         3.30          5.10         1.80\nmax            7.90         4.40          6.90         2.50",
      "text/html": "<div>\n<style scoped>\n    .dataframe tbody tr th:only-of-type {\n        vertical-align: middle;\n    }\n\n    .dataframe tbody tr th {\n        vertical-align: top;\n    }\n\n    .dataframe thead th {\n        text-align: right;\n    }\n</style>\n<table border=\"1\" class=\"dataframe\">\n  <thead>\n    <tr style=\"text-align: right;\">\n      <th></th>\n      <th>Sepal.Length</th>\n      <th>Sepal.Width</th>\n      <th>Petal.Length</th>\n      <th>Petal.Width</th>\n    </tr>\n  </thead>\n  <tbody>\n    <tr>\n      <th>count</th>\n      <td>150.00</td>\n      <td>150.00</td>\n      <td>150.00</td>\n      <td>150.00</td>\n    </tr>\n    <tr>\n      <th>mean</th>\n      <td>5.84</td>\n      <td>3.06</td>\n      <td>3.76</td>\n      <td>1.20</td>\n    </tr>\n    <tr>\n      <th>std</th>\n      <td>0.83</td>\n      <td>0.44</td>\n      <td>1.77</td>\n      <td>0.76</td>\n    </tr>\n    <tr>\n      <th>min</th>\n      <td>4.30</td>\n      <td>2.00</td>\n      <td>1.00</td>\n      <td>0.10</td>\n    </tr>\n    <tr>\n      <th>25%</th>\n      <td>5.10</td>\n      <td>2.80</td>\n      <td>1.60</td>\n      <td>0.30</td>\n    </tr>\n    <tr>\n      <th>50%</th>\n      <td>5.80</td>\n      <td>3.00</td>\n      <td>4.35</td>\n      <td>1.30</td>\n    </tr>\n    <tr>\n      <th>75%</th>\n      <td>6.40</td>\n      <td>3.30</td>\n      <td>5.10</td>\n      <td>1.80</td>\n    </tr>\n    <tr>\n      <th>max</th>\n      <td>7.90</td>\n      <td>4.40</td>\n      <td>6.90</td>\n      <td>2.50</td>\n    </tr>\n  </tbody>\n</table>\n</div>"
     },
     "metadata": {}
    }
   ]
  },
  {
   "cell_type": "code",
   "metadata": {
    "tags": [],
    "deepnote_to_be_reexecuted": false,
    "source_hash": "69e47929",
    "execution_start": 1637280921384,
    "execution_millis": 1758,
    "deepnote_output_heights": [
     278
    ],
    "cell_id": "00008-217e2151-eb09-47f3-9721-c6b404e51156",
    "deepnote_cell_type": "code"
   },
   "source": "# Distribución de las especies\nsns.set_theme(style='darkgrid')\nsns.histplot(data=data, edgecolor='black', linewidth=0.75)\nplt.tight_layout();",
   "execution_count": null,
   "outputs": [
    {
     "data": {
      "text/plain": "<Figure size 432x288 with 1 Axes>",
      "image/png": "[encoded data removed]"
     },
     "metadata": {
      "image/png": {
       "width": 420,
       "height": 276
      }
     },
     "output_type": "display_data"
    }
   ]
  },
  {
   "cell_type": "code",
   "metadata": {
    "tags": [],
    "deepnote_to_be_reexecuted": false,
    "source_hash": "884fd442",
    "execution_start": 1637280923146,
    "execution_millis": 24,
    "deepnote_output_heights": [
     78.80000305175781
    ],
    "cell_id": "00009-42be4e78-b172-42c3-8d40-2844b78e67f1",
    "deepnote_cell_type": "code"
   },
   "source": "# Cantidades por especies\ndata['Species'].value_counts().sort_values()",
   "execution_count": null,
   "outputs": [
    {
     "output_type": "execute_result",
     "execution_count": 9,
     "data": {
      "text/plain": "versicolor    50\nsetosa        50\nvirginica     50\nName: Species, dtype: int64"
     },
     "metadata": {}
    }
   ]
  },
  {
   "cell_type": "code",
   "metadata": {
    "tags": [],
    "deepnote_to_be_reexecuted": false,
    "source_hash": "865bb354",
    "execution_start": 1637280923179,
    "execution_millis": 16,
    "cell_id": "00010-ae3a929f-0b1b-4bb8-9ace-cb40f2111080",
    "deepnote_cell_type": "code"
   },
   "source": "# Definimos nuestros features y target\nX = data.drop(['Species'], axis=1)\ny = data['Species']",
   "execution_count": null,
   "outputs": []
  },
  {
   "cell_type": "code",
   "metadata": {
    "tags": [],
    "deepnote_to_be_reexecuted": false,
    "source_hash": "dfa8e6d",
    "execution_start": 1637280923246,
    "execution_millis": 216,
    "cell_id": "00011-90cbf1f9-ed40-4021-90ee-702637af4070",
    "deepnote_cell_type": "code"
   },
   "source": "# Importamos nuestro método para separar los datos de entrenamiento y test\nfrom sklearn.model_selection import train_test_split\n\n# Separando y entrenado los subsets\nX_train, X_test, y_train, y_test = train_test_split(X, y, test_size=0.1, random_state=0)",
   "execution_count": null,
   "outputs": []
  },
  {
   "cell_type": "code",
   "metadata": {
    "tags": [],
    "deepnote_to_be_reexecuted": false,
    "source_hash": "794bb4e5",
    "execution_start": 1637280923462,
    "execution_millis": 145,
    "deepnote_output_heights": [
     40.399993896484375
    ],
    "cell_id": "00012-ebfc1376-d768-4773-83b9-bbdb05f3cc12",
    "deepnote_cell_type": "code"
   },
   "source": "# Importamos nuestro clasificador\nfrom sklearn.tree import DecisionTreeClassifier\n\n# Definimos y entrenamos nuestro clasificador\nclf = DecisionTreeClassifier(criterion='entropy', min_samples_split=20, random_state=0)\nclf.fit(X_train, y_train)",
   "execution_count": null,
   "outputs": [
    {
     "output_type": "execute_result",
     "execution_count": 12,
     "data": {
      "text/plain": "DecisionTreeClassifier(criterion='entropy', min_samples_split=20,\n                       random_state=0)"
     },
     "metadata": {}
    }
   ]
  },
  {
   "cell_type": "markdown",
   "source": "## Predicción",
   "metadata": {
    "tags": [],
    "is_collapsed": false,
    "cell_id": "00013-522a757d-7b67-425b-baf5-a5c56f4798d0",
    "deepnote_cell_type": "text-cell-h2"
   }
  },
  {
   "cell_type": "code",
   "metadata": {
    "tags": [],
    "deepnote_to_be_reexecuted": false,
    "source_hash": "b7be51ac",
    "execution_start": 1637280923613,
    "execution_millis": 21,
    "deepnote_output_heights": [
     78.80000305175781
    ],
    "cell_id": "00014-82a763a1-78e7-456a-b66a-ee77718b3a1c",
    "deepnote_cell_type": "code"
   },
   "source": "# Predicción\ny_pred = clf.predict(X_test)\ny_pred",
   "execution_count": null,
   "outputs": [
    {
     "output_type": "execute_result",
     "execution_count": 13,
     "data": {
      "text/plain": "array(['virginica', 'versicolor', 'setosa', 'virginica', 'setosa',\n       'virginica', 'setosa', 'versicolor', 'versicolor', 'versicolor',\n       'virginica', 'versicolor', 'versicolor', 'versicolor',\n       'versicolor'], dtype=object)"
     },
     "metadata": {}
    }
   ]
  },
  {
   "cell_type": "code",
   "metadata": {
    "tags": [],
    "deepnote_to_be_reexecuted": false,
    "source_hash": "b36ece58",
    "execution_start": 1637280923645,
    "execution_millis": 37,
    "cell_id": "00015-b4977348-78c9-4852-bd15-217a29a95831",
    "deepnote_cell_type": "code"
   },
   "source": "# Métricas\nfrom sklearn.metrics import classification_report\n\n# Reporte de Clasificación\nprint(classification_report(y_test, y_pred))",
   "execution_count": null,
   "outputs": [
    {
     "name": "stdout",
     "text": "              precision    recall  f1-score   support\n\n      setosa       1.00      1.00      1.00         3\n  versicolor       1.00      1.00      1.00         8\n   virginica       1.00      1.00      1.00         4\n\n    accuracy                           1.00        15\n   macro avg       1.00      1.00      1.00        15\nweighted avg       1.00      1.00      1.00        15\n\n",
     "output_type": "stream"
    }
   ]
  },
  {
   "cell_type": "code",
   "metadata": {
    "tags": [],
    "deepnote_to_be_reexecuted": false,
    "source_hash": "59df84a6",
    "execution_start": 1637280923687,
    "execution_millis": 37,
    "deepnote_output_heights": [
     21.199996948242188,
     21.199996948242188
    ],
    "cell_id": "00016-4da20282-24b2-473b-9ae7-ed74f55b147d",
    "deepnote_cell_type": "code"
   },
   "source": "# Score\ndisplay(clf.score(X_train, y_train))\ndisplay(clf.score(X_test, y_test))",
   "execution_count": null,
   "outputs": [
    {
     "data": {
      "text/plain": "0.9777777777777777"
     },
     "metadata": {},
     "output_type": "display_data"
    },
    {
     "data": {
      "text/plain": "1.0"
     },
     "metadata": {},
     "output_type": "display_data"
    }
   ]
  },
  {
   "cell_type": "code",
   "metadata": {
    "tags": [],
    "deepnote_to_be_reexecuted": false,
    "source_hash": "ce91bca1",
    "execution_start": 1637280923730,
    "execution_millis": 172,
    "cell_id": "00017-90a6ac7e-dabf-47bb-8df7-34a3748ef2cc",
    "deepnote_cell_type": "code"
   },
   "source": "# Cruzamos las predicciones\npd.crosstab(y_test, y_pred, rownames=['Especie'], colnames=['Predicciones'])",
   "execution_count": null,
   "outputs": [
    {
     "output_type": "execute_result",
     "execution_count": 16,
     "data": {
      "application/vnd.deepnote.dataframe.v2+json": {
       "row_count": 3,
       "column_count": 3,
       "columns": [
        {
         "name": "setosa",
         "dtype": "int64",
         "stats": {
          "unique_count": 2,
          "nan_count": 0,
          "min": "0",
          "max": "3",
          "histogram": [
           {
            "bin_start": 0,
            "bin_end": 0.3,
            "count": 2
           },
           {
            "bin_start": 0.3,
            "bin_end": 0.6,
            "count": 0
           },
           {
            "bin_start": 0.6,
            "bin_end": 0.8999999999999999,
            "count": 0
           },
           {
            "bin_start": 0.8999999999999999,
            "bin_end": 1.2,
            "count": 0
           },
           {
            "bin_start": 1.2,
            "bin_end": 1.5,
            "count": 0
           },
           {
            "bin_start": 1.5,
            "bin_end": 1.7999999999999998,
            "count": 0
           },
           {
            "bin_start": 1.7999999999999998,
            "bin_end": 2.1,
            "count": 0
           },
           {
            "bin_start": 2.1,
            "bin_end": 2.4,
            "count": 0
           },
           {
            "bin_start": 2.4,
            "bin_end": 2.6999999999999997,
            "count": 0
           },
           {
            "bin_start": 2.6999999999999997,
            "bin_end": 3,
            "count": 1
           }
          ]
         }
        },
        {
         "name": "versicolor",
         "dtype": "int64",
         "stats": {
          "unique_count": 2,
          "nan_count": 0,
          "min": "0",
          "max": "8",
          "histogram": [
           {
            "bin_start": 0,
            "bin_end": 0.8,
            "count": 2
           },
           {
            "bin_start": 0.8,
            "bin_end": 1.6,
            "count": 0
           },
           {
            "bin_start": 1.6,
            "bin_end": 2.4000000000000004,
            "count": 0
           },
           {
            "bin_start": 2.4000000000000004,
            "bin_end": 3.2,
            "count": 0
           },
           {
            "bin_start": 3.2,
            "bin_end": 4,
            "count": 0
           },
           {
            "bin_start": 4,
            "bin_end": 4.800000000000001,
            "count": 0
           },
           {
            "bin_start": 4.800000000000001,
            "bin_end": 5.6000000000000005,
            "count": 0
           },
           {
            "bin_start": 5.6000000000000005,
            "bin_end": 6.4,
            "count": 0
           },
           {
            "bin_start": 6.4,
            "bin_end": 7.2,
            "count": 0
           },
           {
            "bin_start": 7.2,
            "bin_end": 8,
            "count": 1
           }
          ]
         }
        },
        {
         "name": "virginica",
         "dtype": "int64",
         "stats": {
          "unique_count": 2,
          "nan_count": 0,
          "min": "0",
          "max": "4",
          "histogram": [
           {
            "bin_start": 0,
            "bin_end": 0.4,
            "count": 2
           },
           {
            "bin_start": 0.4,
            "bin_end": 0.8,
            "count": 0
           },
           {
            "bin_start": 0.8,
            "bin_end": 1.2000000000000002,
            "count": 0
           },
           {
            "bin_start": 1.2000000000000002,
            "bin_end": 1.6,
            "count": 0
           },
           {
            "bin_start": 1.6,
            "bin_end": 2,
            "count": 0
           },
           {
            "bin_start": 2,
            "bin_end": 2.4000000000000004,
            "count": 0
           },
           {
            "bin_start": 2.4000000000000004,
            "bin_end": 2.8000000000000003,
            "count": 0
           },
           {
            "bin_start": 2.8000000000000003,
            "bin_end": 3.2,
            "count": 0
           },
           {
            "bin_start": 3.2,
            "bin_end": 3.6,
            "count": 0
           },
           {
            "bin_start": 3.6,
            "bin_end": 4,
            "count": 1
           }
          ]
         }
        },
        {
         "name": "_deepnote_index_column",
         "dtype": "object"
        }
       ],
       "rows_top": [
        {
         "setosa": 3,
         "versicolor": 0,
         "virginica": 0,
         "_deepnote_index_column": "setosa"
        },
        {
         "setosa": 0,
         "versicolor": 8,
         "virginica": 0,
         "_deepnote_index_column": "versicolor"
        },
        {
         "setosa": 0,
         "versicolor": 0,
         "virginica": 4,
         "_deepnote_index_column": "virginica"
        }
       ],
       "rows_bottom": null
      },
      "text/plain": "Predicciones  setosa  versicolor  virginica\nEspecie                                    \nsetosa             3           0          0\nversicolor         0           8          0\nvirginica          0           0          4",
      "text/html": "<div>\n<style scoped>\n    .dataframe tbody tr th:only-of-type {\n        vertical-align: middle;\n    }\n\n    .dataframe tbody tr th {\n        vertical-align: top;\n    }\n\n    .dataframe thead th {\n        text-align: right;\n    }\n</style>\n<table border=\"1\" class=\"dataframe\">\n  <thead>\n    <tr style=\"text-align: right;\">\n      <th>Predicciones</th>\n      <th>setosa</th>\n      <th>versicolor</th>\n      <th>virginica</th>\n    </tr>\n    <tr>\n      <th>Especie</th>\n      <th></th>\n      <th></th>\n      <th></th>\n    </tr>\n  </thead>\n  <tbody>\n    <tr>\n      <th>setosa</th>\n      <td>3</td>\n      <td>0</td>\n      <td>0</td>\n    </tr>\n    <tr>\n      <th>versicolor</th>\n      <td>0</td>\n      <td>8</td>\n      <td>0</td>\n    </tr>\n    <tr>\n      <th>virginica</th>\n      <td>0</td>\n      <td>0</td>\n      <td>4</td>\n    </tr>\n  </tbody>\n</table>\n</div>"
     },
     "metadata": {}
    }
   ]
  },
  {
   "cell_type": "code",
   "metadata": {
    "tags": [],
    "deepnote_to_be_reexecuted": false,
    "source_hash": "5ab60fa2",
    "execution_start": 1637280923898,
    "execution_millis": 112,
    "deepnote_output_heights": [
     611
    ],
    "cell_id": "00018-ea02e1ec-8e92-49ee-89dc-536f18e8f072",
    "deepnote_cell_type": "code"
   },
   "source": "\"\"\"\n1. Importamos las dependencias\n2. Creamos nuestro fichero\n3. Graficamos nuestro árbol\n\"\"\"\n\nfrom sklearn.tree import export_graphviz\nimport os\nfrom graphviz import Source\n\nwith open(\"/work/Machine Learning Data Science en Python/Algoritmos de Machine Learning/Decision Tree & Random Forest/iris_dtree.dot\", \"w\") as dotfile:\n    export_graphviz(clf, out_file=dotfile, feature_names=list(X))\n    dotfile.close()\n\nfile = open(\"/work/Machine Learning Data Science en Python/Algoritmos de Machine Learning/Decision Tree & Random Forest/iris_dtree.dot\", \"r\")\ntext = file.read()\nSource(text)",
   "execution_count": null,
   "outputs": [
    {
     "output_type": "execute_result",
     "execution_count": 17,
     "data": {
      "text/plain": "<graphviz.sources.Source at 0x7f13f8554190>",
      "image/svg+xml": "<?xml version=\"1.0\" encoding=\"UTF-8\" standalone=\"no\"?>\n<!DOCTYPE svg PUBLIC \"-//W3C//DTD SVG 1.1//EN\"\n \"http://www.w3.org/Graphics/SVG/1.1/DTD/svg11.dtd\">\n<!-- Generated by graphviz version 2.40.1 (20161225.0304)\n -->\n<!-- Title: Tree Pages: 1 -->\n<svg width=\"718pt\" height=\"477pt\"\n viewBox=\"0.00 0.00 718.00 477.00\" xmlns=\"http://www.w3.org/2000/svg\" xmlns:xlink=\"http://www.w3.org/1999/xlink\">\n<g id=\"graph0\" class=\"graph\" transform=\"scale(1 1) rotate(0) translate(4 473)\">\n<title>Tree</title>\n<polygon fill=\"#ffffff\" stroke=\"transparent\" points=\"-4,4 -4,-473 714,-473 714,4 -4,4\"/>\n<!-- 0 -->\n<g id=\"node1\" class=\"node\">\n<title>0</title>\n<polygon fill=\"none\" stroke=\"#000000\" points=\"393,-469 234,-469 234,-401 393,-401 393,-469\"/>\n<text text-anchor=\"middle\" x=\"313.5\" y=\"-453.8\" font-family=\"Helvetica,sans-Serif\" font-size=\"14.00\" fill=\"#000000\">Petal.Width &lt;= 0.8</text>\n<text text-anchor=\"middle\" x=\"313.5\" y=\"-438.8\" font-family=\"Helvetica,sans-Serif\" font-size=\"14.00\" fill=\"#000000\">entropy = 1.583</text>\n<text text-anchor=\"middle\" x=\"313.5\" y=\"-423.8\" font-family=\"Helvetica,sans-Serif\" font-size=\"14.00\" fill=\"#000000\">samples = 135</text>\n<text text-anchor=\"middle\" x=\"313.5\" y=\"-408.8\" font-family=\"Helvetica,sans-Serif\" font-size=\"14.00\" fill=\"#000000\">value = [47, 42, 46]</text>\n</g>\n<!-- 1 -->\n<g id=\"node2\" class=\"node\">\n<title>1</title>\n<polygon fill=\"none\" stroke=\"#000000\" points=\"300,-357.5 159,-357.5 159,-304.5 300,-304.5 300,-357.5\"/>\n<text text-anchor=\"middle\" x=\"229.5\" y=\"-342.3\" font-family=\"Helvetica,sans-Serif\" font-size=\"14.00\" fill=\"#000000\">entropy = 0.0</text>\n<text text-anchor=\"middle\" x=\"229.5\" y=\"-327.3\" font-family=\"Helvetica,sans-Serif\" font-size=\"14.00\" fill=\"#000000\">samples = 47</text>\n<text text-anchor=\"middle\" x=\"229.5\" y=\"-312.3\" font-family=\"Helvetica,sans-Serif\" font-size=\"14.00\" fill=\"#000000\">value = [47, 0, 0]</text>\n</g>\n<!-- 0&#45;&gt;1 -->\n<g id=\"edge1\" class=\"edge\">\n<title>0&#45;&gt;1</title>\n<path fill=\"none\" stroke=\"#000000\" d=\"M285.9953,-400.9465C276.8317,-389.6012 266.6189,-376.9567 257.4239,-365.5724\"/>\n<polygon fill=\"#000000\" stroke=\"#000000\" points=\"259.9441,-363.1224 250.9379,-357.5422 254.4985,-367.5208 259.9441,-363.1224\"/>\n<text text-anchor=\"middle\" x=\"248.2933\" y=\"-378.7019\" font-family=\"Helvetica,sans-Serif\" font-size=\"14.00\" fill=\"#000000\">True</text>\n</g>\n<!-- 2 -->\n<g id=\"node3\" class=\"node\">\n<title>2</title>\n<polygon fill=\"none\" stroke=\"#000000\" points=\"479,-365 318,-365 318,-297 479,-297 479,-365\"/>\n<text text-anchor=\"middle\" x=\"398.5\" y=\"-349.8\" font-family=\"Helvetica,sans-Serif\" font-size=\"14.00\" fill=\"#000000\">Petal.Width &lt;= 1.75</text>\n<text text-anchor=\"middle\" x=\"398.5\" y=\"-334.8\" font-family=\"Helvetica,sans-Serif\" font-size=\"14.00\" fill=\"#000000\">entropy = 0.999</text>\n<text text-anchor=\"middle\" x=\"398.5\" y=\"-319.8\" font-family=\"Helvetica,sans-Serif\" font-size=\"14.00\" fill=\"#000000\">samples = 88</text>\n<text text-anchor=\"middle\" x=\"398.5\" y=\"-304.8\" font-family=\"Helvetica,sans-Serif\" font-size=\"14.00\" fill=\"#000000\">value = [0, 42, 46]</text>\n</g>\n<!-- 0&#45;&gt;2 -->\n<g id=\"edge2\" class=\"edge\">\n<title>0&#45;&gt;2</title>\n<path fill=\"none\" stroke=\"#000000\" d=\"M341.3322,-400.9465C348.597,-392.0578 356.5136,-382.3716 364.076,-373.1188\"/>\n<polygon fill=\"#000000\" stroke=\"#000000\" points=\"366.987,-375.0878 370.6053,-365.13 361.5669,-370.658 366.987,-375.0878\"/>\n<text text-anchor=\"middle\" x=\"373.1059\" y=\"-386.3046\" font-family=\"Helvetica,sans-Serif\" font-size=\"14.00\" fill=\"#000000\">False</text>\n</g>\n<!-- 3 -->\n<g id=\"node4\" class=\"node\">\n<title>3</title>\n<polygon fill=\"none\" stroke=\"#000000\" points=\"389.5,-261 219.5,-261 219.5,-193 389.5,-193 389.5,-261\"/>\n<text text-anchor=\"middle\" x=\"304.5\" y=\"-245.8\" font-family=\"Helvetica,sans-Serif\" font-size=\"14.00\" fill=\"#000000\">Petal.Length &lt;= 4.95</text>\n<text text-anchor=\"middle\" x=\"304.5\" y=\"-230.8\" font-family=\"Helvetica,sans-Serif\" font-size=\"14.00\" fill=\"#000000\">entropy = 0.433</text>\n<text text-anchor=\"middle\" x=\"304.5\" y=\"-215.8\" font-family=\"Helvetica,sans-Serif\" font-size=\"14.00\" fill=\"#000000\">samples = 45</text>\n<text text-anchor=\"middle\" x=\"304.5\" y=\"-200.8\" font-family=\"Helvetica,sans-Serif\" font-size=\"14.00\" fill=\"#000000\">value = [0, 41, 4]</text>\n</g>\n<!-- 2&#45;&gt;3 -->\n<g id=\"edge3\" class=\"edge\">\n<title>2&#45;&gt;3</title>\n<path fill=\"none\" stroke=\"#000000\" d=\"M367.7209,-296.9465C359.5245,-287.8782 350.578,-277.9799 342.0625,-268.5585\"/>\n<polygon fill=\"#000000\" stroke=\"#000000\" points=\"344.6503,-266.2019 335.3483,-261.13 339.4571,-270.8957 344.6503,-266.2019\"/>\n</g>\n<!-- 8 -->\n<g id=\"node9\" class=\"node\">\n<title>8</title>\n<polygon fill=\"none\" stroke=\"#000000\" points=\"577.5,-261 407.5,-261 407.5,-193 577.5,-193 577.5,-261\"/>\n<text text-anchor=\"middle\" x=\"492.5\" y=\"-245.8\" font-family=\"Helvetica,sans-Serif\" font-size=\"14.00\" fill=\"#000000\">Petal.Length &lt;= 4.85</text>\n<text text-anchor=\"middle\" x=\"492.5\" y=\"-230.8\" font-family=\"Helvetica,sans-Serif\" font-size=\"14.00\" fill=\"#000000\">entropy = 0.159</text>\n<text text-anchor=\"middle\" x=\"492.5\" y=\"-215.8\" font-family=\"Helvetica,sans-Serif\" font-size=\"14.00\" fill=\"#000000\">samples = 43</text>\n<text text-anchor=\"middle\" x=\"492.5\" y=\"-200.8\" font-family=\"Helvetica,sans-Serif\" font-size=\"14.00\" fill=\"#000000\">value = [0, 1, 42]</text>\n</g>\n<!-- 2&#45;&gt;8 -->\n<g id=\"edge8\" class=\"edge\">\n<title>2&#45;&gt;8</title>\n<path fill=\"none\" stroke=\"#000000\" d=\"M429.2791,-296.9465C437.4755,-287.8782 446.422,-277.9799 454.9375,-268.5585\"/>\n<polygon fill=\"#000000\" stroke=\"#000000\" points=\"457.5429,-270.8957 461.6517,-261.13 452.3497,-266.2019 457.5429,-270.8957\"/>\n</g>\n<!-- 4 -->\n<g id=\"node5\" class=\"node\">\n<title>4</title>\n<polygon fill=\"none\" stroke=\"#000000\" points=\"228,-157 67,-157 67,-89 228,-89 228,-157\"/>\n<text text-anchor=\"middle\" x=\"147.5\" y=\"-141.8\" font-family=\"Helvetica,sans-Serif\" font-size=\"14.00\" fill=\"#000000\">Petal.Width &lt;= 1.65</text>\n<text text-anchor=\"middle\" x=\"147.5\" y=\"-126.8\" font-family=\"Helvetica,sans-Serif\" font-size=\"14.00\" fill=\"#000000\">entropy = 0.169</text>\n<text text-anchor=\"middle\" x=\"147.5\" y=\"-111.8\" font-family=\"Helvetica,sans-Serif\" font-size=\"14.00\" fill=\"#000000\">samples = 40</text>\n<text text-anchor=\"middle\" x=\"147.5\" y=\"-96.8\" font-family=\"Helvetica,sans-Serif\" font-size=\"14.00\" fill=\"#000000\">value = [0, 39, 1]</text>\n</g>\n<!-- 3&#45;&gt;4 -->\n<g id=\"edge4\" class=\"edge\">\n<title>3&#45;&gt;4</title>\n<path fill=\"none\" stroke=\"#000000\" d=\"M253.0923,-192.9465C238.5894,-183.3395 222.6802,-172.8009 207.7107,-162.8848\"/>\n<polygon fill=\"#000000\" stroke=\"#000000\" points=\"209.2929,-159.7346 199.0232,-157.13 205.4271,-165.5704 209.2929,-159.7346\"/>\n</g>\n<!-- 7 -->\n<g id=\"node8\" class=\"node\">\n<title>7</title>\n<polygon fill=\"none\" stroke=\"#000000\" points=\"380.5,-149.5 246.5,-149.5 246.5,-96.5 380.5,-96.5 380.5,-149.5\"/>\n<text text-anchor=\"middle\" x=\"313.5\" y=\"-134.3\" font-family=\"Helvetica,sans-Serif\" font-size=\"14.00\" fill=\"#000000\">entropy = 0.971</text>\n<text text-anchor=\"middle\" x=\"313.5\" y=\"-119.3\" font-family=\"Helvetica,sans-Serif\" font-size=\"14.00\" fill=\"#000000\">samples = 5</text>\n<text text-anchor=\"middle\" x=\"313.5\" y=\"-104.3\" font-family=\"Helvetica,sans-Serif\" font-size=\"14.00\" fill=\"#000000\">value = [0, 2, 3]</text>\n</g>\n<!-- 3&#45;&gt;7 -->\n<g id=\"edge7\" class=\"edge\">\n<title>3&#45;&gt;7</title>\n<path fill=\"none\" stroke=\"#000000\" d=\"M307.4469,-192.9465C308.3716,-182.2621 309.3959,-170.4254 310.3349,-159.5742\"/>\n<polygon fill=\"#000000\" stroke=\"#000000\" points=\"313.8278,-159.8067 311.2031,-149.5422 306.8539,-159.2031 313.8278,-159.8067\"/>\n</g>\n<!-- 5 -->\n<g id=\"node6\" class=\"node\">\n<title>5</title>\n<polygon fill=\"none\" stroke=\"#000000\" points=\"141,-53 0,-53 0,0 141,0 141,-53\"/>\n<text text-anchor=\"middle\" x=\"70.5\" y=\"-37.8\" font-family=\"Helvetica,sans-Serif\" font-size=\"14.00\" fill=\"#000000\">entropy = 0.0</text>\n<text text-anchor=\"middle\" x=\"70.5\" y=\"-22.8\" font-family=\"Helvetica,sans-Serif\" font-size=\"14.00\" fill=\"#000000\">samples = 39</text>\n<text text-anchor=\"middle\" x=\"70.5\" y=\"-7.8\" font-family=\"Helvetica,sans-Serif\" font-size=\"14.00\" fill=\"#000000\">value = [0, 39, 0]</text>\n</g>\n<!-- 4&#45;&gt;5 -->\n<g id=\"edge5\" class=\"edge\">\n<title>4&#45;&gt;5</title>\n<path fill=\"none\" stroke=\"#000000\" d=\"M120.3527,-88.9777C113.1922,-80.0039 105.4564,-70.3089 98.2639,-61.295\"/>\n<polygon fill=\"#000000\" stroke=\"#000000\" points=\"100.8163,-58.8821 91.8433,-53.2485 95.3446,-63.2481 100.8163,-58.8821\"/>\n</g>\n<!-- 6 -->\n<g id=\"node7\" class=\"node\">\n<title>6</title>\n<polygon fill=\"none\" stroke=\"#000000\" points=\"291.5,-53 159.5,-53 159.5,0 291.5,0 291.5,-53\"/>\n<text text-anchor=\"middle\" x=\"225.5\" y=\"-37.8\" font-family=\"Helvetica,sans-Serif\" font-size=\"14.00\" fill=\"#000000\">entropy = 0.0</text>\n<text text-anchor=\"middle\" x=\"225.5\" y=\"-22.8\" font-family=\"Helvetica,sans-Serif\" font-size=\"14.00\" fill=\"#000000\">samples = 1</text>\n<text text-anchor=\"middle\" x=\"225.5\" y=\"-7.8\" font-family=\"Helvetica,sans-Serif\" font-size=\"14.00\" fill=\"#000000\">value = [0, 0, 1]</text>\n</g>\n<!-- 4&#45;&gt;6 -->\n<g id=\"edge6\" class=\"edge\">\n<title>4&#45;&gt;6</title>\n<path fill=\"none\" stroke=\"#000000\" d=\"M174.9999,-88.9777C182.2533,-80.0039 190.0897,-70.3089 197.3756,-61.295\"/>\n<polygon fill=\"#000000\" stroke=\"#000000\" points=\"200.3153,-63.2258 203.8795,-53.2485 194.8712,-58.8255 200.3153,-63.2258\"/>\n</g>\n<!-- 9 -->\n<g id=\"node10\" class=\"node\">\n<title>9</title>\n<polygon fill=\"none\" stroke=\"#000000\" points=\"550.5,-149.5 416.5,-149.5 416.5,-96.5 550.5,-96.5 550.5,-149.5\"/>\n<text text-anchor=\"middle\" x=\"483.5\" y=\"-134.3\" font-family=\"Helvetica,sans-Serif\" font-size=\"14.00\" fill=\"#000000\">entropy = 0.918</text>\n<text text-anchor=\"middle\" x=\"483.5\" y=\"-119.3\" font-family=\"Helvetica,sans-Serif\" font-size=\"14.00\" fill=\"#000000\">samples = 3</text>\n<text text-anchor=\"middle\" x=\"483.5\" y=\"-104.3\" font-family=\"Helvetica,sans-Serif\" font-size=\"14.00\" fill=\"#000000\">value = [0, 1, 2]</text>\n</g>\n<!-- 8&#45;&gt;9 -->\n<g id=\"edge9\" class=\"edge\">\n<title>8&#45;&gt;9</title>\n<path fill=\"none\" stroke=\"#000000\" d=\"M489.5531,-192.9465C488.6284,-182.2621 487.6041,-170.4254 486.6651,-159.5742\"/>\n<polygon fill=\"#000000\" stroke=\"#000000\" points=\"490.1461,-159.2031 485.7969,-149.5422 483.1722,-159.8067 490.1461,-159.2031\"/>\n</g>\n<!-- 10 -->\n<g id=\"node11\" class=\"node\">\n<title>10</title>\n<polygon fill=\"none\" stroke=\"#000000\" points=\"710,-149.5 569,-149.5 569,-96.5 710,-96.5 710,-149.5\"/>\n<text text-anchor=\"middle\" x=\"639.5\" y=\"-134.3\" font-family=\"Helvetica,sans-Serif\" font-size=\"14.00\" fill=\"#000000\">entropy = 0.0</text>\n<text text-anchor=\"middle\" x=\"639.5\" y=\"-119.3\" font-family=\"Helvetica,sans-Serif\" font-size=\"14.00\" fill=\"#000000\">samples = 40</text>\n<text text-anchor=\"middle\" x=\"639.5\" y=\"-104.3\" font-family=\"Helvetica,sans-Serif\" font-size=\"14.00\" fill=\"#000000\">value = [0, 0, 40]</text>\n</g>\n<!-- 8&#45;&gt;10 -->\n<g id=\"edge10\" class=\"edge\">\n<title>8&#45;&gt;10</title>\n<path fill=\"none\" stroke=\"#000000\" d=\"M540.6333,-192.9465C557.6037,-180.9403 576.6304,-167.4791 593.4265,-155.5962\"/>\n<polygon fill=\"#000000\" stroke=\"#000000\" points=\"595.8416,-158.175 601.9837,-149.5422 591.7987,-152.4605 595.8416,-158.175\"/>\n</g>\n</g>\n</svg>\n"
     },
     "metadata": {}
    }
   ]
  },
  {
   "cell_type": "markdown",
   "source": "## Cross Validation",
   "metadata": {
    "tags": [],
    "is_collapsed": false,
    "cell_id": "00019-4b9f60a4-0ab3-4eeb-96c0-4c52793fee07",
    "deepnote_cell_type": "text-cell-h2"
   }
  },
  {
   "cell_type": "code",
   "metadata": {
    "tags": [],
    "deepnote_to_be_reexecuted": false,
    "source_hash": "39f88e12",
    "execution_start": 1637280924024,
    "execution_millis": 40,
    "deepnote_output_heights": [
     40.399993896484375
    ],
    "cell_id": "00020-2852cffe-bad6-4cbe-ab8e-40393f4e3976",
    "deepnote_cell_type": "code"
   },
   "source": "# Instanciamos nuestro modelo con otros parámetros\nclf = DecisionTreeClassifier(criterion=\"entropy\", max_depth=3, min_samples_split=20, random_state=0)\nclf.fit(X,y)",
   "execution_count": null,
   "outputs": [
    {
     "output_type": "execute_result",
     "execution_count": 18,
     "data": {
      "text/plain": "DecisionTreeClassifier(criterion='entropy', max_depth=3, min_samples_split=20,\n                       random_state=0)"
     },
     "metadata": {}
    }
   ]
  },
  {
   "cell_type": "code",
   "metadata": {
    "tags": [],
    "deepnote_to_be_reexecuted": false,
    "source_hash": "3975c02",
    "execution_start": 1637280924078,
    "execution_millis": 36,
    "cell_id": "00021-c18a530c-cd3e-4364-90ce-cfa12e712f9b",
    "deepnote_cell_type": "code"
   },
   "source": "# Importamos K-Fold Estraficado y el Score de Cross Validation\nfrom sklearn.model_selection import StratifiedKFold\nfrom sklearn.model_selection import cross_val_score\n\n# Instanciamos y dividimos los datos de entrenamiento y test\nskf = StratifiedKFold(n_splits=10, shuffle=True, random_state=0)\n\nfor train, test in skf.split(X,y):\n\n    X_train = X.iloc[train]\n    y_train = y.iloc[train]\n    X_test = X.iloc[test]\n    y_test = y.iloc[test]",
   "execution_count": null,
   "outputs": []
  },
  {
   "cell_type": "code",
   "metadata": {
    "tags": [],
    "deepnote_to_be_reexecuted": false,
    "source_hash": "e39bd6a0",
    "execution_start": 1637280924162,
    "execution_millis": 5384,
    "deepnote_output_heights": [
     21.199996948242188
    ],
    "cell_id": "00022-142e443a-7c01-4f6f-a7ee-666bb3b5d7eb",
    "deepnote_cell_type": "code"
   },
   "source": "# Score Cross Validation\nscore = cross_val_score(clf, X, y, scoring='accuracy', cv=skf, n_jobs=-1).mean()\ndisplay(f'Score Cross Validation: {round(score,2)}')",
   "execution_count": null,
   "outputs": [
    {
     "data": {
      "text/plain": "'Score Cross Validation: 0.93'"
     },
     "metadata": {},
     "output_type": "display_data"
    }
   ]
  },
  {
   "cell_type": "code",
   "metadata": {
    "tags": [],
    "deepnote_to_be_reexecuted": false,
    "source_hash": "b7be51ac",
    "execution_start": 1637280929555,
    "execution_millis": 35,
    "deepnote_output_heights": [
     59.600006103515625
    ],
    "cell_id": "00023-a7e2aaf1-1dae-4115-8284-c182a41178ed",
    "deepnote_cell_type": "code"
   },
   "source": "# Predicción\ny_pred = clf.predict(X_test)\ny_pred",
   "execution_count": null,
   "outputs": [
    {
     "output_type": "execute_result",
     "execution_count": 21,
     "data": {
      "text/plain": "array(['setosa', 'setosa', 'setosa', 'setosa', 'setosa', 'versicolor',\n       'versicolor', 'versicolor', 'virginica', 'versicolor', 'virginica',\n       'virginica', 'virginica', 'virginica', 'virginica'], dtype=object)"
     },
     "metadata": {}
    }
   ]
  },
  {
   "cell_type": "code",
   "metadata": {
    "tags": [],
    "deepnote_to_be_reexecuted": false,
    "source_hash": "9d9df042",
    "execution_start": 1637280929601,
    "execution_millis": 22,
    "cell_id": "00024-d43a69e1-8dfa-45d9-8f29-d6e701a7c059",
    "deepnote_cell_type": "code"
   },
   "source": "# Métricas\nfrom sklearn.metrics import classification_report, cluster\n\n# Reporte de Clasificación\nprint(classification_report(y_test, y_pred))",
   "execution_count": null,
   "outputs": [
    {
     "name": "stdout",
     "text": "              precision    recall  f1-score   support\n\n      setosa       1.00      1.00      1.00         5\n  versicolor       1.00      0.80      0.89         5\n   virginica       0.83      1.00      0.91         5\n\n    accuracy                           0.93        15\n   macro avg       0.94      0.93      0.93        15\nweighted avg       0.94      0.93      0.93        15\n\n",
     "output_type": "stream"
    }
   ]
  },
  {
   "cell_type": "code",
   "metadata": {
    "tags": [],
    "deepnote_to_be_reexecuted": false,
    "source_hash": "ce91bca1",
    "execution_start": 1637280929629,
    "execution_millis": 338,
    "deepnote_output_heights": [
     147.1999969482422
    ],
    "cell_id": "00025-aee4d8f0-1ce4-4175-bc71-64216756ce63",
    "deepnote_cell_type": "code"
   },
   "source": "# Cruzamos las predicciones\npd.crosstab(y_test, y_pred, rownames=['Especie'], colnames=['Predicciones'])",
   "execution_count": null,
   "outputs": [
    {
     "output_type": "execute_result",
     "execution_count": 23,
     "data": {
      "application/vnd.deepnote.dataframe.v2+json": {
       "row_count": 3,
       "column_count": 3,
       "columns": [
        {
         "name": "setosa",
         "dtype": "int64",
         "stats": {
          "unique_count": 2,
          "nan_count": 0,
          "min": "0",
          "max": "5",
          "histogram": [
           {
            "bin_start": 0,
            "bin_end": 0.5,
            "count": 2
           },
           {
            "bin_start": 0.5,
            "bin_end": 1,
            "count": 0
           },
           {
            "bin_start": 1,
            "bin_end": 1.5,
            "count": 0
           },
           {
            "bin_start": 1.5,
            "bin_end": 2,
            "count": 0
           },
           {
            "bin_start": 2,
            "bin_end": 2.5,
            "count": 0
           },
           {
            "bin_start": 2.5,
            "bin_end": 3,
            "count": 0
           },
           {
            "bin_start": 3,
            "bin_end": 3.5,
            "count": 0
           },
           {
            "bin_start": 3.5,
            "bin_end": 4,
            "count": 0
           },
           {
            "bin_start": 4,
            "bin_end": 4.5,
            "count": 0
           },
           {
            "bin_start": 4.5,
            "bin_end": 5,
            "count": 1
           }
          ]
         }
        },
        {
         "name": "versicolor",
         "dtype": "int64",
         "stats": {
          "unique_count": 2,
          "nan_count": 0,
          "min": "0",
          "max": "4",
          "histogram": [
           {
            "bin_start": 0,
            "bin_end": 0.4,
            "count": 2
           },
           {
            "bin_start": 0.4,
            "bin_end": 0.8,
            "count": 0
           },
           {
            "bin_start": 0.8,
            "bin_end": 1.2000000000000002,
            "count": 0
           },
           {
            "bin_start": 1.2000000000000002,
            "bin_end": 1.6,
            "count": 0
           },
           {
            "bin_start": 1.6,
            "bin_end": 2,
            "count": 0
           },
           {
            "bin_start": 2,
            "bin_end": 2.4000000000000004,
            "count": 0
           },
           {
            "bin_start": 2.4000000000000004,
            "bin_end": 2.8000000000000003,
            "count": 0
           },
           {
            "bin_start": 2.8000000000000003,
            "bin_end": 3.2,
            "count": 0
           },
           {
            "bin_start": 3.2,
            "bin_end": 3.6,
            "count": 0
           },
           {
            "bin_start": 3.6,
            "bin_end": 4,
            "count": 1
           }
          ]
         }
        },
        {
         "name": "virginica",
         "dtype": "int64",
         "stats": {
          "unique_count": 3,
          "nan_count": 0,
          "min": "0",
          "max": "5",
          "histogram": [
           {
            "bin_start": 0,
            "bin_end": 0.5,
            "count": 1
           },
           {
            "bin_start": 0.5,
            "bin_end": 1,
            "count": 0
           },
           {
            "bin_start": 1,
            "bin_end": 1.5,
            "count": 1
           },
           {
            "bin_start": 1.5,
            "bin_end": 2,
            "count": 0
           },
           {
            "bin_start": 2,
            "bin_end": 2.5,
            "count": 0
           },
           {
            "bin_start": 2.5,
            "bin_end": 3,
            "count": 0
           },
           {
            "bin_start": 3,
            "bin_end": 3.5,
            "count": 0
           },
           {
            "bin_start": 3.5,
            "bin_end": 4,
            "count": 0
           },
           {
            "bin_start": 4,
            "bin_end": 4.5,
            "count": 0
           },
           {
            "bin_start": 4.5,
            "bin_end": 5,
            "count": 1
           }
          ]
         }
        },
        {
         "name": "_deepnote_index_column",
         "dtype": "object"
        }
       ],
       "rows_top": [
        {
         "setosa": 5,
         "versicolor": 0,
         "virginica": 0,
         "_deepnote_index_column": "setosa"
        },
        {
         "setosa": 0,
         "versicolor": 4,
         "virginica": 1,
         "_deepnote_index_column": "versicolor"
        },
        {
         "setosa": 0,
         "versicolor": 0,
         "virginica": 5,
         "_deepnote_index_column": "virginica"
        }
       ],
       "rows_bottom": null
      },
      "text/plain": "Predicciones  setosa  versicolor  virginica\nEspecie                                    \nsetosa             5           0          0\nversicolor         0           4          1\nvirginica          0           0          5",
      "text/html": "<div>\n<style scoped>\n    .dataframe tbody tr th:only-of-type {\n        vertical-align: middle;\n    }\n\n    .dataframe tbody tr th {\n        vertical-align: top;\n    }\n\n    .dataframe thead th {\n        text-align: right;\n    }\n</style>\n<table border=\"1\" class=\"dataframe\">\n  <thead>\n    <tr style=\"text-align: right;\">\n      <th>Predicciones</th>\n      <th>setosa</th>\n      <th>versicolor</th>\n      <th>virginica</th>\n    </tr>\n    <tr>\n      <th>Especie</th>\n      <th></th>\n      <th></th>\n      <th></th>\n    </tr>\n  </thead>\n  <tbody>\n    <tr>\n      <th>setosa</th>\n      <td>5</td>\n      <td>0</td>\n      <td>0</td>\n    </tr>\n    <tr>\n      <th>versicolor</th>\n      <td>0</td>\n      <td>4</td>\n      <td>1</td>\n    </tr>\n    <tr>\n      <th>virginica</th>\n      <td>0</td>\n      <td>0</td>\n      <td>5</td>\n    </tr>\n  </tbody>\n</table>\n</div>"
     },
     "metadata": {}
    }
   ]
  },
  {
   "cell_type": "code",
   "metadata": {
    "tags": [],
    "deepnote_to_be_reexecuted": false,
    "source_hash": "f8affd4b",
    "execution_start": 1637280929815,
    "execution_millis": 1766,
    "cell_id": "00026-a6d91c9d-0054-47ec-be63-e06791887c65",
    "deepnote_cell_type": "code"
   },
   "source": "# Mejores features\nfor i in range(1,11):\n\n    clf = DecisionTreeClassifier(criterion=\"entropy\", max_depth=i, min_samples_split=20, random_state=0)\n    clf.fit(X,y)\n\n    skf = StratifiedKFold(n_splits=10, shuffle=True, random_state=0)\n    resultados = cross_val_score(clf, X, y, scoring=\"accuracy\", cv = skf, n_jobs=1).mean()\n    \n    print(\"Score para i = \",i,\" es de \", score)\n    print(\"   \",clf.feature_importances_)",
   "execution_count": null,
   "outputs": [
    {
     "name": "stdout",
     "text": "Score para i =  1  es de  0.9266666666666667\n    [0. 0. 0. 1.]\nScore para i =  2  es de  0.9266666666666667\n    [0. 0. 0. 1.]\nScore para i =  3  es de  0.9266666666666667\n    [0.         0.         0.07060267 0.92939733]\nScore para i =  4  es de  0.9266666666666667\n    [0.         0.         0.06844516 0.93155484]\nScore para i =  5  es de  0.9266666666666667\n    [0.         0.         0.06844516 0.93155484]\nScore para i =  6  es de  0.9266666666666667\n    [0.         0.         0.06844516 0.93155484]\nScore para i =  7  es de  0.9266666666666667\n    [0.         0.         0.06844516 0.93155484]\nScore para i =  8  es de  0.9266666666666667\n    [0.         0.         0.06844516 0.93155484]\nScore para i =  9  es de  0.9266666666666667\n    [0.         0.         0.06844516 0.93155484]\nScore para i =  10  es de  0.9266666666666667\n    [0.         0.         0.06844516 0.93155484]\n",
     "output_type": "stream"
    }
   ]
  },
  {
   "cell_type": "markdown",
   "source": "# Random Forest Classifier",
   "metadata": {
    "tags": [],
    "is_collapsed": false,
    "cell_id": "00027-d26b35f0-9d23-4c7e-aaab-faa06de08943",
    "deepnote_cell_type": "text-cell-h1"
   }
  },
  {
   "cell_type": "code",
   "metadata": {
    "tags": [],
    "deepnote_to_be_reexecuted": false,
    "source_hash": "58476042",
    "execution_start": 1637280931583,
    "execution_millis": 58,
    "cell_id": "00028-8171844a-71d8-4873-9a26-33096a89f3da",
    "deepnote_cell_type": "code"
   },
   "source": "# Importamos nuestro clasificador\nfrom sklearn.ensemble import RandomForestClassifier",
   "execution_count": null,
   "outputs": []
  },
  {
   "cell_type": "code",
   "metadata": {
    "tags": [],
    "deepnote_to_be_reexecuted": false,
    "source_hash": "d3aef819",
    "execution_start": 1637280931646,
    "execution_millis": 6508,
    "deepnote_output_heights": [
     40.399993896484375
    ],
    "cell_id": "00029-ccde08ab-356a-48b5-b6c6-963e5800a068",
    "deepnote_cell_type": "code"
   },
   "source": "# Instanciamos y entrenamos\nforest = RandomForestClassifier(n_jobs=-1, oob_score=True, n_estimators=1000, max_depth=50)\nforest.fit(X_train, y_train)",
   "execution_count": null,
   "outputs": [
    {
     "output_type": "execute_result",
     "execution_count": 26,
     "data": {
      "text/plain": "RandomForestClassifier(max_depth=50, n_estimators=1000, n_jobs=-1,\n                       oob_score=True)"
     },
     "metadata": {}
    }
   ]
  },
  {
   "cell_type": "code",
   "metadata": {
    "tags": [],
    "deepnote_to_be_reexecuted": false,
    "source_hash": "6e04d4ba",
    "execution_start": 1637280938170,
    "execution_millis": 561,
    "deepnote_output_heights": [
     59.600006103515625
    ],
    "cell_id": "00030-112b9437-c5f3-4b7b-90b7-77f812edf59b",
    "deepnote_cell_type": "code"
   },
   "source": "# Predicción\ny_pred2 = forest.predict(X_test)\ny_pred2",
   "execution_count": null,
   "outputs": [
    {
     "output_type": "execute_result",
     "execution_count": 27,
     "data": {
      "text/plain": "array(['setosa', 'setosa', 'setosa', 'setosa', 'setosa', 'versicolor',\n       'versicolor', 'versicolor', 'virginica', 'versicolor', 'virginica',\n       'virginica', 'virginica', 'virginica', 'virginica'], dtype=object)"
     },
     "metadata": {}
    }
   ]
  },
  {
   "cell_type": "code",
   "metadata": {
    "tags": [],
    "deepnote_to_be_reexecuted": false,
    "source_hash": "f11ed1fc",
    "execution_start": 1637280938742,
    "execution_millis": 39,
    "cell_id": "00031-19102f3a-a850-413c-8029-a79d3d0f6eb8",
    "deepnote_cell_type": "code"
   },
   "source": "# Reporte de Clasificación\nprint(classification_report(y_test, y_pred2))",
   "execution_count": null,
   "outputs": [
    {
     "name": "stdout",
     "text": "              precision    recall  f1-score   support\n\n      setosa       1.00      1.00      1.00         5\n  versicolor       1.00      0.80      0.89         5\n   virginica       0.83      1.00      0.91         5\n\n    accuracy                           0.93        15\n   macro avg       0.94      0.93      0.93        15\nweighted avg       0.94      0.93      0.93        15\n\n",
     "output_type": "stream"
    }
   ]
  },
  {
   "cell_type": "code",
   "metadata": {
    "tags": [],
    "deepnote_to_be_reexecuted": false,
    "source_hash": "d9c8c558",
    "execution_start": 1637280938783,
    "execution_millis": 15,
    "deepnote_output_heights": [
     21.199996948242188
    ],
    "cell_id": "00032-c270344b-554a-4be9-a25b-2b22e7315e5e",
    "deepnote_cell_type": "code"
   },
   "source": "# Score\ndisplay(f'Score: {round(forest.oob_score_,2)}')",
   "execution_count": null,
   "outputs": [
    {
     "data": {
      "text/plain": "'Score: 0.96'"
     },
     "metadata": {},
     "output_type": "display_data"
    }
   ]
  },
  {
   "cell_type": "markdown",
   "source": "<a style='text-decoration:none;line-height:16px;display:flex;color:#5B5B62;padding:10px;justify-content:end;' href='https://deepnote.com?utm_source=created-in-deepnote-cell&projectId=4ec84517-f553-446b-9032-1da3132bd62a' target=\"_blank\">\n<img alt='Created in deepnote.com' style='display:inline;max-height:16px;margin:0px;margin-right:7.5px;' src='data:image/svg+xml;base64,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' > </img>\nCreated in <span style='font-weight:600;margin-left:4px;'>Deepnote</span></a>",
   "metadata": {
    "tags": [],
    "created_in_deepnote_cell": true,
    "deepnote_cell_type": "markdown"
   }
  }
 ],
 "nbformat": 4,
 "nbformat_minor": 2,
 "metadata": {
  "orig_nbformat": 2,
  "deepnote": {
   "is_reactive": false
  },
  "deepnote_notebook_id": "d6644068-0fb7-45b8-806e-af9ba7c029ce",
  "deepnote_execution_queue": []
 }
}