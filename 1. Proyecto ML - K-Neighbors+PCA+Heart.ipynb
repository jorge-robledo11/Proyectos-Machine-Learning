{
 "cells": [
  {
   "cell_type": "markdown",
   "metadata": {
    "cell_id": "00000-cd4d62bf-f147-40e1-a8f6-f02b28c294fb",
    "deepnote_cell_type": "text-cell-h1",
    "is_collapsed": false,
    "tags": []
   },
   "source": [
    "# 1. Descargamos el dataset 📥💻 "
   ]
  },
  {
   "cell_type": "markdown",
   "metadata": {
    "cell_id": "00001-915c16f7-805d-43c6-a76f-2fa837ae81fc",
    "deepnote_cell_type": "markdown",
    "tags": []
   },
   "source": [
    "El **dataset** que utilizaremos es de **Kaggle**, un gran lugar para conseguir datasets para tus estudios en **Ciencia de Datos** e **Inteligencia Artificial**.\n",
    "\n",
    "El dataset es sobre una insuficiencia cardíaca. Puedes descargarlo [aquí](https://www.kaggle.com/ronitf/heart-disease-uci) en **Kaggle**. El objetivo de este **dataset** es predecir, dada otra información médica 👨‍⚕️, si alguien tiene la insuficiencia cardíaca 🫀."
   ]
  },
  {
   "cell_type": "markdown",
   "metadata": {
    "cell_id": "00002-ad1e1ba6-2115-40f2-8572-5b7f572e68ee",
    "deepnote_cell_type": "text-cell-h1",
    "is_collapsed": false,
    "tags": []
   },
   "source": [
    "# 2. Instalación de librerías y configuración inicial 👨🏻‍💻"
   ]
  },
  {
   "cell_type": "code",
   "execution_count": null,
   "metadata": {
    "cell_id": "00000-1cb40f5c-e922-4d0a-a576-50f3e0c71252",
    "deepnote_cell_type": "code",
    "deepnote_to_be_reexecuted": false,
    "execution_millis": 1549,
    "execution_start": 1636581928008,
    "source_hash": "76c390ec",
    "tags": []
   },
   "outputs": [],
   "source": [
    "# Librerías y Dependencias\n",
    "\n",
    "# Core\n",
    "import pandas as pd\n",
    "import numpy as np\n",
    "import matplotlib.pyplot as plt\n",
    "import seaborn as sns\n",
    "import warnings\n",
    "\n",
    "# Modelos\n",
    "from sklearn.decomposition import PCA\n",
    "from sklearn.neighbors import KNeighborsClassifier\n",
    "\n",
    "# Normalización y Entrenamiento\n",
    "from sklearn.preprocessing import StandardScaler\n",
    "from sklearn.model_selection import train_test_split\n",
    "\n",
    "# Métricas\n",
    "from sklearn.metrics import accuracy_score\n",
    "from sklearn import metrics"
   ]
  },
  {
   "cell_type": "code",
   "execution_count": null,
   "metadata": {
    "cell_id": "00001-ab85c71e-35f2-4fd2-941a-4a71dc437279",
    "deepnote_cell_type": "code",
    "deepnote_to_be_reexecuted": false,
    "execution_millis": 695722110,
    "execution_start": 1636581929590,
    "source_hash": "4f6bcc6d",
    "tags": []
   },
   "outputs": [],
   "source": [
    "# Evitamos la notación científica y rendondeamos los valores a 2 dígitos después de la coma\n",
    "pd.options.display.float_format = '{:,.2f}'.format\n",
    "\n",
    "# Evitamos los molestos warnings\n",
    "warnings.simplefilter(\"ignore\")"
   ]
  },
  {
   "cell_type": "markdown",
   "metadata": {
    "cell_id": "00001-0f256671-fe2c-4ad2-8e45-de10daa1c09f",
    "deepnote_cell_type": "text-cell-h1",
    "is_collapsed": false,
    "tags": []
   },
   "source": [
    "# 3. Cargamos los datos 💿💻"
   ]
  },
  {
   "cell_type": "code",
   "execution_count": null,
   "metadata": {
    "cell_id": "00001-eb4d2405-f89e-4b19-951e-7af821455290",
    "deepnote_cell_type": "code",
    "deepnote_to_be_reexecuted": false,
    "execution_millis": 206,
    "execution_start": 1636581929590,
    "source_hash": "21e1e145",
    "tags": []
   },
   "outputs": [
    {
     "data": {
      "application/vnd.deepnote.dataframe.v2+json": {
       "column_count": 14,
       "columns": [
        {
         "dtype": "int64",
         "name": "age",
         "stats": {
          "histogram": [
           {
            "bin_end": 33.8,
            "bin_start": 29,
            "count": 4
           },
           {
            "bin_end": 38.6,
            "bin_start": 33.8,
            "count": 39
           },
           {
            "bin_end": 43.4,
            "bin_start": 38.6,
            "count": 109
           },
           {
            "bin_end": 48.2,
            "bin_start": 43.4,
            "count": 125
           },
           {
            "bin_end": 53,
            "bin_start": 48.2,
            "count": 120
           },
           {
            "bin_end": 57.8,
            "bin_start": 53,
            "count": 205
           },
           {
            "bin_end": 62.6,
            "bin_start": 57.8,
            "count": 219
           },
           {
            "bin_end": 67.4,
            "bin_start": 62.6,
            "count": 149
           },
           {
            "bin_end": 72.19999999999999,
            "bin_start": 67.4,
            "count": 46
           },
           {
            "bin_end": 77,
            "bin_start": 72.19999999999999,
            "count": 9
           }
          ],
          "max": "77",
          "min": "29",
          "nan_count": 0,
          "unique_count": 41
         }
        },
        {
         "dtype": "int64",
         "name": "sex",
         "stats": {
          "histogram": [
           {
            "bin_end": 0.1,
            "bin_start": 0,
            "count": 312
           },
           {
            "bin_end": 0.2,
            "bin_start": 0.1,
            "count": 0
           },
           {
            "bin_end": 0.30000000000000004,
            "bin_start": 0.2,
            "count": 0
           },
           {
            "bin_end": 0.4,
            "bin_start": 0.30000000000000004,
            "count": 0
           },
           {
            "bin_end": 0.5,
            "bin_start": 0.4,
            "count": 0
           },
           {
            "bin_end": 0.6000000000000001,
            "bin_start": 0.5,
            "count": 0
           },
           {
            "bin_end": 0.7000000000000001,
            "bin_start": 0.6000000000000001,
            "count": 0
           },
           {
            "bin_end": 0.8,
            "bin_start": 0.7000000000000001,
            "count": 0
           },
           {
            "bin_end": 0.9,
            "bin_start": 0.8,
            "count": 0
           },
           {
            "bin_end": 1,
            "bin_start": 0.9,
            "count": 713
           }
          ],
          "max": "1",
          "min": "0",
          "nan_count": 0,
          "unique_count": 2
         }
        },
        {
         "dtype": "int64",
         "name": "cp",
         "stats": {
          "histogram": [
           {
            "bin_end": 0.3,
            "bin_start": 0,
            "count": 497
           },
           {
            "bin_end": 0.6,
            "bin_start": 0.3,
            "count": 0
           },
           {
            "bin_end": 0.8999999999999999,
            "bin_start": 0.6,
            "count": 0
           },
           {
            "bin_end": 1.2,
            "bin_start": 0.8999999999999999,
            "count": 167
           },
           {
            "bin_end": 1.5,
            "bin_start": 1.2,
            "count": 0
           },
           {
            "bin_end": 1.7999999999999998,
            "bin_start": 1.5,
            "count": 0
           },
           {
            "bin_end": 2.1,
            "bin_start": 1.7999999999999998,
            "count": 284
           },
           {
            "bin_end": 2.4,
            "bin_start": 2.1,
            "count": 0
           },
           {
            "bin_end": 2.6999999999999997,
            "bin_start": 2.4,
            "count": 0
           },
           {
            "bin_end": 3,
            "bin_start": 2.6999999999999997,
            "count": 77
           }
          ],
          "max": "3",
          "min": "0",
          "nan_count": 0,
          "unique_count": 4
         }
        },
        {
         "dtype": "int64",
         "name": "trestbps",
         "stats": {
          "histogram": [
           {
            "bin_end": 104.6,
            "bin_start": 94,
            "count": 33
           },
           {
            "bin_end": 115.2,
            "bin_start": 104.6,
            "count": 140
           },
           {
            "bin_end": 125.8,
            "bin_start": 115.2,
            "count": 232
           },
           {
            "bin_end": 136.4,
            "bin_start": 125.8,
            "count": 251
           },
           {
            "bin_end": 147,
            "bin_start": 136.4,
            "count": 192
           },
           {
            "bin_end": 157.6,
            "bin_start": 147,
            "count": 89
           },
           {
            "bin_end": 168.2,
            "bin_start": 157.6,
            "count": 43
           },
           {
            "bin_end": 178.8,
            "bin_start": 168.2,
            "count": 28
           },
           {
            "bin_end": 189.39999999999998,
            "bin_start": 178.8,
            "count": 10
           },
           {
            "bin_end": 200,
            "bin_start": 189.39999999999998,
            "count": 7
           }
          ],
          "max": "200",
          "min": "94",
          "nan_count": 0,
          "unique_count": 49
         }
        },
        {
         "dtype": "int64",
         "name": "chol",
         "stats": {
          "histogram": [
           {
            "bin_end": 169.8,
            "bin_start": 126,
            "count": 42
           },
           {
            "bin_end": 213.6,
            "bin_start": 169.8,
            "count": 247
           },
           {
            "bin_end": 257.4,
            "bin_start": 213.6,
            "count": 359
           },
           {
            "bin_end": 301.2,
            "bin_start": 257.4,
            "count": 231
           },
           {
            "bin_end": 345,
            "bin_start": 301.2,
            "count": 120
           },
           {
            "bin_end": 388.79999999999995,
            "bin_start": 345,
            "count": 10
           },
           {
            "bin_end": 432.59999999999997,
            "bin_start": 388.79999999999995,
            "count": 13
           },
           {
            "bin_end": 476.4,
            "bin_start": 432.59999999999997,
            "count": 0
           },
           {
            "bin_end": 520.2,
            "bin_start": 476.4,
            "count": 0
           },
           {
            "bin_end": 564,
            "bin_start": 520.2,
            "count": 3
           }
          ],
          "max": "564",
          "min": "126",
          "nan_count": 0,
          "unique_count": 152
         }
        },
        {
         "dtype": "int64",
         "name": "fbs",
         "stats": {
          "histogram": [
           {
            "bin_end": 0.1,
            "bin_start": 0,
            "count": 872
           },
           {
            "bin_end": 0.2,
            "bin_start": 0.1,
            "count": 0
           },
           {
            "bin_end": 0.30000000000000004,
            "bin_start": 0.2,
            "count": 0
           },
           {
            "bin_end": 0.4,
            "bin_start": 0.30000000000000004,
            "count": 0
           },
           {
            "bin_end": 0.5,
            "bin_start": 0.4,
            "count": 0
           },
           {
            "bin_end": 0.6000000000000001,
            "bin_start": 0.5,
            "count": 0
           },
           {
            "bin_end": 0.7000000000000001,
            "bin_start": 0.6000000000000001,
            "count": 0
           },
           {
            "bin_end": 0.8,
            "bin_start": 0.7000000000000001,
            "count": 0
           },
           {
            "bin_end": 0.9,
            "bin_start": 0.8,
            "count": 0
           },
           {
            "bin_end": 1,
            "bin_start": 0.9,
            "count": 153
           }
          ],
          "max": "1",
          "min": "0",
          "nan_count": 0,
          "unique_count": 2
         }
        },
        {
         "dtype": "int64",
         "name": "restecg",
         "stats": {
          "histogram": [
           {
            "bin_end": 0.2,
            "bin_start": 0,
            "count": 497
           },
           {
            "bin_end": 0.4,
            "bin_start": 0.2,
            "count": 0
           },
           {
            "bin_end": 0.6000000000000001,
            "bin_start": 0.4,
            "count": 0
           },
           {
            "bin_end": 0.8,
            "bin_start": 0.6000000000000001,
            "count": 0
           },
           {
            "bin_end": 1,
            "bin_start": 0.8,
            "count": 0
           },
           {
            "bin_end": 1.2000000000000002,
            "bin_start": 1,
            "count": 513
           },
           {
            "bin_end": 1.4000000000000001,
            "bin_start": 1.2000000000000002,
            "count": 0
           },
           {
            "bin_end": 1.6,
            "bin_start": 1.4000000000000001,
            "count": 0
           },
           {
            "bin_end": 1.8,
            "bin_start": 1.6,
            "count": 0
           },
           {
            "bin_end": 2,
            "bin_start": 1.8,
            "count": 15
           }
          ],
          "max": "2",
          "min": "0",
          "nan_count": 0,
          "unique_count": 3
         }
        },
        {
         "dtype": "int64",
         "name": "thalach",
         "stats": {
          "histogram": [
           {
            "bin_end": 84.1,
            "bin_start": 71,
            "count": 4
           },
           {
            "bin_end": 97.2,
            "bin_start": 84.1,
            "count": 21
           },
           {
            "bin_end": 110.3,
            "bin_start": 97.2,
            "count": 39
           },
           {
            "bin_end": 123.4,
            "bin_start": 110.3,
            "count": 87
           },
           {
            "bin_end": 136.5,
            "bin_start": 123.4,
            "count": 127
           },
           {
            "bin_end": 149.6,
            "bin_start": 136.5,
            "count": 180
           },
           {
            "bin_end": 162.7,
            "bin_start": 149.6,
            "count": 255
           },
           {
            "bin_end": 175.8,
            "bin_start": 162.7,
            "count": 212
           },
           {
            "bin_end": 188.89999999999998,
            "bin_start": 175.8,
            "count": 83
           },
           {
            "bin_end": 202,
            "bin_start": 188.89999999999998,
            "count": 17
           }
          ],
          "max": "202",
          "min": "71",
          "nan_count": 0,
          "unique_count": 91
         }
        },
        {
         "dtype": "int64",
         "name": "exang",
         "stats": {
          "histogram": [
           {
            "bin_end": 0.1,
            "bin_start": 0,
            "count": 680
           },
           {
            "bin_end": 0.2,
            "bin_start": 0.1,
            "count": 0
           },
           {
            "bin_end": 0.30000000000000004,
            "bin_start": 0.2,
            "count": 0
           },
           {
            "bin_end": 0.4,
            "bin_start": 0.30000000000000004,
            "count": 0
           },
           {
            "bin_end": 0.5,
            "bin_start": 0.4,
            "count": 0
           },
           {
            "bin_end": 0.6000000000000001,
            "bin_start": 0.5,
            "count": 0
           },
           {
            "bin_end": 0.7000000000000001,
            "bin_start": 0.6000000000000001,
            "count": 0
           },
           {
            "bin_end": 0.8,
            "bin_start": 0.7000000000000001,
            "count": 0
           },
           {
            "bin_end": 0.9,
            "bin_start": 0.8,
            "count": 0
           },
           {
            "bin_end": 1,
            "bin_start": 0.9,
            "count": 345
           }
          ],
          "max": "1",
          "min": "0",
          "nan_count": 0,
          "unique_count": 2
         }
        },
        {
         "dtype": "float64",
         "name": "oldpeak",
         "stats": {
          "histogram": [
           {
            "bin_end": 0.62,
            "bin_start": 0,
            "count": 491
           },
           {
            "bin_end": 1.24,
            "bin_start": 0.62,
            "count": 172
           },
           {
            "bin_end": 1.8599999999999999,
            "bin_start": 1.24,
            "count": 136
           },
           {
            "bin_end": 2.48,
            "bin_start": 1.8599999999999999,
            "count": 83
           },
           {
            "bin_end": 3.1,
            "bin_start": 2.48,
            "count": 70
           },
           {
            "bin_end": 3.7199999999999998,
            "bin_start": 3.1,
            "count": 40
           },
           {
            "bin_end": 4.34,
            "bin_start": 3.7199999999999998,
            "count": 22
           },
           {
            "bin_end": 4.96,
            "bin_start": 4.34,
            "count": 4
           },
           {
            "bin_end": 5.58,
            "bin_start": 4.96,
            "count": 0
           },
           {
            "bin_end": 6.2,
            "bin_start": 5.58,
            "count": 7
           }
          ],
          "max": "6.2",
          "min": "0.0",
          "nan_count": 0,
          "unique_count": 40
         }
        },
        {
         "dtype": "int64",
         "name": "slope",
         "stats": {
          "histogram": [
           {
            "bin_end": 0.2,
            "bin_start": 0,
            "count": 74
           },
           {
            "bin_end": 0.4,
            "bin_start": 0.2,
            "count": 0
           },
           {
            "bin_end": 0.6000000000000001,
            "bin_start": 0.4,
            "count": 0
           },
           {
            "bin_end": 0.8,
            "bin_start": 0.6000000000000001,
            "count": 0
           },
           {
            "bin_end": 1,
            "bin_start": 0.8,
            "count": 0
           },
           {
            "bin_end": 1.2000000000000002,
            "bin_start": 1,
            "count": 482
           },
           {
            "bin_end": 1.4000000000000001,
            "bin_start": 1.2000000000000002,
            "count": 0
           },
           {
            "bin_end": 1.6,
            "bin_start": 1.4000000000000001,
            "count": 0
           },
           {
            "bin_end": 1.8,
            "bin_start": 1.6,
            "count": 0
           },
           {
            "bin_end": 2,
            "bin_start": 1.8,
            "count": 469
           }
          ],
          "max": "2",
          "min": "0",
          "nan_count": 0,
          "unique_count": 3
         }
        },
        {
         "dtype": "int64",
         "name": "ca",
         "stats": {
          "histogram": [
           {
            "bin_end": 0.4,
            "bin_start": 0,
            "count": 578
           },
           {
            "bin_end": 0.8,
            "bin_start": 0.4,
            "count": 0
           },
           {
            "bin_end": 1.2000000000000002,
            "bin_start": 0.8,
            "count": 226
           },
           {
            "bin_end": 1.6,
            "bin_start": 1.2000000000000002,
            "count": 0
           },
           {
            "bin_end": 2,
            "bin_start": 1.6,
            "count": 0
           },
           {
            "bin_end": 2.4000000000000004,
            "bin_start": 2,
            "count": 134
           },
           {
            "bin_end": 2.8000000000000003,
            "bin_start": 2.4000000000000004,
            "count": 0
           },
           {
            "bin_end": 3.2,
            "bin_start": 2.8000000000000003,
            "count": 69
           },
           {
            "bin_end": 3.6,
            "bin_start": 3.2,
            "count": 0
           },
           {
            "bin_end": 4,
            "bin_start": 3.6,
            "count": 18
           }
          ],
          "max": "4",
          "min": "0",
          "nan_count": 0,
          "unique_count": 5
         }
        },
        {
         "dtype": "int64",
         "name": "thal",
         "stats": {
          "histogram": [
           {
            "bin_end": 0.3,
            "bin_start": 0,
            "count": 7
           },
           {
            "bin_end": 0.6,
            "bin_start": 0.3,
            "count": 0
           },
           {
            "bin_end": 0.8999999999999999,
            "bin_start": 0.6,
            "count": 0
           },
           {
            "bin_end": 1.2,
            "bin_start": 0.8999999999999999,
            "count": 64
           },
           {
            "bin_end": 1.5,
            "bin_start": 1.2,
            "count": 0
           },
           {
            "bin_end": 1.7999999999999998,
            "bin_start": 1.5,
            "count": 0
           },
           {
            "bin_end": 2.1,
            "bin_start": 1.7999999999999998,
            "count": 544
           },
           {
            "bin_end": 2.4,
            "bin_start": 2.1,
            "count": 0
           },
           {
            "bin_end": 2.6999999999999997,
            "bin_start": 2.4,
            "count": 0
           },
           {
            "bin_end": 3,
            "bin_start": 2.6999999999999997,
            "count": 410
           }
          ],
          "max": "3",
          "min": "0",
          "nan_count": 0,
          "unique_count": 4
         }
        },
        {
         "dtype": "int64",
         "name": "target",
         "stats": {
          "histogram": [
           {
            "bin_end": 0.1,
            "bin_start": 0,
            "count": 499
           },
           {
            "bin_end": 0.2,
            "bin_start": 0.1,
            "count": 0
           },
           {
            "bin_end": 0.30000000000000004,
            "bin_start": 0.2,
            "count": 0
           },
           {
            "bin_end": 0.4,
            "bin_start": 0.30000000000000004,
            "count": 0
           },
           {
            "bin_end": 0.5,
            "bin_start": 0.4,
            "count": 0
           },
           {
            "bin_end": 0.6000000000000001,
            "bin_start": 0.5,
            "count": 0
           },
           {
            "bin_end": 0.7000000000000001,
            "bin_start": 0.6000000000000001,
            "count": 0
           },
           {
            "bin_end": 0.8,
            "bin_start": 0.7000000000000001,
            "count": 0
           },
           {
            "bin_end": 0.9,
            "bin_start": 0.8,
            "count": 0
           },
           {
            "bin_end": 1,
            "bin_start": 0.9,
            "count": 526
           }
          ],
          "max": "1",
          "min": "0",
          "nan_count": 0,
          "unique_count": 2
         }
        },
        {
         "dtype": "int64",
         "name": "_deepnote_index_column"
        }
       ],
       "row_count": 1025,
       "rows_bottom": [
        {
         "_deepnote_index_column": 989,
         "age": 71,
         "ca": 2,
         "chol": 302,
         "cp": 1,
         "exang": 0,
         "fbs": 0,
         "oldpeak": 0.4,
         "restecg": 1,
         "sex": 0,
         "slope": 2,
         "target": 1,
         "thal": 2,
         "thalach": 162,
         "trestbps": 160
        },
        {
         "_deepnote_index_column": 990,
         "age": 56,
         "ca": 0,
         "chol": 236,
         "cp": 1,
         "exang": 0,
         "fbs": 0,
         "oldpeak": 0.8,
         "restecg": 1,
         "sex": 1,
         "slope": 2,
         "target": 1,
         "thal": 2,
         "thalach": 178,
         "trestbps": 120
        },
        {
         "_deepnote_index_column": 991,
         "age": 60,
         "ca": 2,
         "chol": 230,
         "cp": 0,
         "exang": 1,
         "fbs": 1,
         "oldpeak": 1.4,
         "restecg": 1,
         "sex": 1,
         "slope": 2,
         "target": 0,
         "thal": 3,
         "thalach": 160,
         "trestbps": 117
        },
        {
         "_deepnote_index_column": 992,
         "age": 50,
         "ca": 0,
         "chol": 254,
         "cp": 0,
         "exang": 0,
         "fbs": 0,
         "oldpeak": 0,
         "restecg": 0,
         "sex": 0,
         "slope": 2,
         "target": 1,
         "thal": 2,
         "thalach": 159,
         "trestbps": 110
        },
        {
         "_deepnote_index_column": 993,
         "age": 43,
         "ca": 4,
         "chol": 247,
         "cp": 0,
         "exang": 1,
         "fbs": 1,
         "oldpeak": 0.1,
         "restecg": 0,
         "sex": 1,
         "slope": 1,
         "target": 0,
         "thal": 3,
         "thalach": 143,
         "trestbps": 132
        },
        {
         "_deepnote_index_column": 994,
         "age": 59,
         "ca": 1,
         "chol": 239,
         "cp": 0,
         "exang": 1,
         "fbs": 0,
         "oldpeak": 1.2,
         "restecg": 0,
         "sex": 1,
         "slope": 1,
         "target": 0,
         "thal": 3,
         "thalach": 142,
         "trestbps": 110
        },
        {
         "_deepnote_index_column": 995,
         "age": 44,
         "ca": 0,
         "chol": 263,
         "cp": 1,
         "exang": 0,
         "fbs": 0,
         "oldpeak": 0,
         "restecg": 1,
         "sex": 1,
         "slope": 2,
         "target": 1,
         "thal": 3,
         "thalach": 173,
         "trestbps": 120
        },
        {
         "_deepnote_index_column": 996,
         "age": 56,
         "ca": 2,
         "chol": 409,
         "cp": 0,
         "exang": 1,
         "fbs": 0,
         "oldpeak": 1.9,
         "restecg": 0,
         "sex": 0,
         "slope": 1,
         "target": 0,
         "thal": 3,
         "thalach": 150,
         "trestbps": 134
        },
        {
         "_deepnote_index_column": 997,
         "age": 54,
         "ca": 1,
         "chol": 188,
         "cp": 0,
         "exang": 0,
         "fbs": 0,
         "oldpeak": 1.4,
         "restecg": 1,
         "sex": 1,
         "slope": 1,
         "target": 0,
         "thal": 3,
         "thalach": 113,
         "trestbps": 120
        },
        {
         "_deepnote_index_column": 998,
         "age": 42,
         "ca": 0,
         "chol": 315,
         "cp": 0,
         "exang": 1,
         "fbs": 0,
         "oldpeak": 1.8,
         "restecg": 1,
         "sex": 1,
         "slope": 1,
         "target": 0,
         "thal": 1,
         "thalach": 125,
         "trestbps": 136
        },
        {
         "_deepnote_index_column": 999,
         "age": 67,
         "ca": 2,
         "chol": 254,
         "cp": 0,
         "exang": 0,
         "fbs": 1,
         "oldpeak": 0.2,
         "restecg": 1,
         "sex": 1,
         "slope": 1,
         "target": 0,
         "thal": 3,
         "thalach": 163,
         "trestbps": 125
        },
        {
         "_deepnote_index_column": 1000,
         "age": 64,
         "ca": 2,
         "chol": 212,
         "cp": 0,
         "exang": 0,
         "fbs": 0,
         "oldpeak": 2,
         "restecg": 0,
         "sex": 1,
         "slope": 1,
         "target": 0,
         "thal": 1,
         "thalach": 132,
         "trestbps": 145
        },
        {
         "_deepnote_index_column": 1001,
         "age": 42,
         "ca": 0,
         "chol": 226,
         "cp": 0,
         "exang": 0,
         "fbs": 0,
         "oldpeak": 0,
         "restecg": 1,
         "sex": 1,
         "slope": 2,
         "target": 1,
         "thal": 2,
         "thalach": 178,
         "trestbps": 140
        },
        {
         "_deepnote_index_column": 1002,
         "age": 66,
         "ca": 1,
         "chol": 212,
         "cp": 0,
         "exang": 1,
         "fbs": 0,
         "oldpeak": 0.1,
         "restecg": 0,
         "sex": 1,
         "slope": 2,
         "target": 0,
         "thal": 2,
         "thalach": 132,
         "trestbps": 112
        },
        {
         "_deepnote_index_column": 1003,
         "age": 52,
         "ca": 3,
         "chol": 233,
         "cp": 0,
         "exang": 0,
         "fbs": 1,
         "oldpeak": 0.1,
         "restecg": 1,
         "sex": 1,
         "slope": 2,
         "target": 1,
         "thal": 3,
         "thalach": 147,
         "trestbps": 108
        },
        {
         "_deepnote_index_column": 1004,
         "age": 51,
         "ca": 1,
         "chol": 308,
         "cp": 2,
         "exang": 0,
         "fbs": 0,
         "oldpeak": 1.5,
         "restecg": 0,
         "sex": 0,
         "slope": 2,
         "target": 1,
         "thal": 2,
         "thalach": 142,
         "trestbps": 140
        },
        {
         "_deepnote_index_column": 1005,
         "age": 55,
         "ca": 1,
         "chol": 205,
         "cp": 0,
         "exang": 1,
         "fbs": 0,
         "oldpeak": 2,
         "restecg": 2,
         "sex": 0,
         "slope": 1,
         "target": 0,
         "thal": 3,
         "thalach": 130,
         "trestbps": 128
        },
        {
         "_deepnote_index_column": 1006,
         "age": 58,
         "ca": 0,
         "chol": 211,
         "cp": 2,
         "exang": 0,
         "fbs": 1,
         "oldpeak": 0,
         "restecg": 0,
         "sex": 1,
         "slope": 2,
         "target": 1,
         "thal": 2,
         "thalach": 165,
         "trestbps": 140
        },
        {
         "_deepnote_index_column": 1007,
         "age": 56,
         "ca": 0,
         "chol": 193,
         "cp": 3,
         "exang": 0,
         "fbs": 0,
         "oldpeak": 1.9,
         "restecg": 0,
         "sex": 1,
         "slope": 1,
         "target": 1,
         "thal": 3,
         "thalach": 162,
         "trestbps": 120
        },
        {
         "_deepnote_index_column": 1008,
         "age": 42,
         "ca": 0,
         "chol": 295,
         "cp": 1,
         "exang": 0,
         "fbs": 0,
         "oldpeak": 0,
         "restecg": 1,
         "sex": 1,
         "slope": 2,
         "target": 1,
         "thal": 2,
         "thalach": 162,
         "trestbps": 120
        },
        {
         "_deepnote_index_column": 1009,
         "age": 40,
         "ca": 0,
         "chol": 223,
         "cp": 0,
         "exang": 0,
         "fbs": 0,
         "oldpeak": 0,
         "restecg": 1,
         "sex": 1,
         "slope": 2,
         "target": 0,
         "thal": 3,
         "thalach": 181,
         "trestbps": 152
        },
        {
         "_deepnote_index_column": 1010,
         "age": 51,
         "ca": 0,
         "chol": 299,
         "cp": 0,
         "exang": 1,
         "fbs": 0,
         "oldpeak": 1.6,
         "restecg": 1,
         "sex": 1,
         "slope": 2,
         "target": 0,
         "thal": 3,
         "thalach": 173,
         "trestbps": 140
        },
        {
         "_deepnote_index_column": 1011,
         "age": 45,
         "ca": 0,
         "chol": 308,
         "cp": 1,
         "exang": 0,
         "fbs": 0,
         "oldpeak": 0,
         "restecg": 0,
         "sex": 1,
         "slope": 2,
         "target": 1,
         "thal": 2,
         "thalach": 170,
         "trestbps": 128
        },
        {
         "_deepnote_index_column": 1012,
         "age": 48,
         "ca": 0,
         "chol": 229,
         "cp": 1,
         "exang": 0,
         "fbs": 0,
         "oldpeak": 1,
         "restecg": 1,
         "sex": 1,
         "slope": 0,
         "target": 0,
         "thal": 3,
         "thalach": 168,
         "trestbps": 110
        },
        {
         "_deepnote_index_column": 1013,
         "age": 58,
         "ca": 3,
         "chol": 318,
         "cp": 0,
         "exang": 0,
         "fbs": 0,
         "oldpeak": 4.4,
         "restecg": 2,
         "sex": 1,
         "slope": 0,
         "target": 0,
         "thal": 1,
         "thalach": 140,
         "trestbps": 114
        },
        {
         "_deepnote_index_column": 1014,
         "age": 44,
         "ca": 0,
         "chol": 141,
         "cp": 2,
         "exang": 0,
         "fbs": 0,
         "oldpeak": 0.6,
         "restecg": 1,
         "sex": 0,
         "slope": 1,
         "target": 1,
         "thal": 2,
         "thalach": 175,
         "trestbps": 108
        },
        {
         "_deepnote_index_column": 1015,
         "age": 58,
         "ca": 3,
         "chol": 216,
         "cp": 0,
         "exang": 1,
         "fbs": 0,
         "oldpeak": 2.2,
         "restecg": 0,
         "sex": 1,
         "slope": 1,
         "target": 0,
         "thal": 3,
         "thalach": 131,
         "trestbps": 128
        },
        {
         "_deepnote_index_column": 1016,
         "age": 65,
         "ca": 1,
         "chol": 282,
         "cp": 3,
         "exang": 0,
         "fbs": 1,
         "oldpeak": 1.4,
         "restecg": 0,
         "sex": 1,
         "slope": 1,
         "target": 0,
         "thal": 2,
         "thalach": 174,
         "trestbps": 138
        },
        {
         "_deepnote_index_column": 1017,
         "age": 53,
         "ca": 2,
         "chol": 282,
         "cp": 0,
         "exang": 1,
         "fbs": 0,
         "oldpeak": 2,
         "restecg": 1,
         "sex": 1,
         "slope": 1,
         "target": 0,
         "thal": 3,
         "thalach": 95,
         "trestbps": 123
        },
        {
         "_deepnote_index_column": 1018,
         "age": 41,
         "ca": 0,
         "chol": 172,
         "cp": 0,
         "exang": 0,
         "fbs": 0,
         "oldpeak": 0,
         "restecg": 0,
         "sex": 1,
         "slope": 2,
         "target": 0,
         "thal": 3,
         "thalach": 158,
         "trestbps": 110
        },
        {
         "_deepnote_index_column": 1019,
         "age": 47,
         "ca": 0,
         "chol": 204,
         "cp": 0,
         "exang": 0,
         "fbs": 0,
         "oldpeak": 0.1,
         "restecg": 1,
         "sex": 1,
         "slope": 2,
         "target": 1,
         "thal": 2,
         "thalach": 143,
         "trestbps": 112
        },
        {
         "_deepnote_index_column": 1020,
         "age": 59,
         "ca": 0,
         "chol": 221,
         "cp": 1,
         "exang": 1,
         "fbs": 0,
         "oldpeak": 0,
         "restecg": 1,
         "sex": 1,
         "slope": 2,
         "target": 1,
         "thal": 2,
         "thalach": 164,
         "trestbps": 140
        },
        {
         "_deepnote_index_column": 1021,
         "age": 60,
         "ca": 1,
         "chol": 258,
         "cp": 0,
         "exang": 1,
         "fbs": 0,
         "oldpeak": 2.8,
         "restecg": 0,
         "sex": 1,
         "slope": 1,
         "target": 0,
         "thal": 3,
         "thalach": 141,
         "trestbps": 125
        },
        {
         "_deepnote_index_column": 1022,
         "age": 47,
         "ca": 1,
         "chol": 275,
         "cp": 0,
         "exang": 1,
         "fbs": 0,
         "oldpeak": 1,
         "restecg": 0,
         "sex": 1,
         "slope": 1,
         "target": 0,
         "thal": 2,
         "thalach": 118,
         "trestbps": 110
        },
        {
         "_deepnote_index_column": 1023,
         "age": 50,
         "ca": 0,
         "chol": 254,
         "cp": 0,
         "exang": 0,
         "fbs": 0,
         "oldpeak": 0,
         "restecg": 0,
         "sex": 0,
         "slope": 2,
         "target": 1,
         "thal": 2,
         "thalach": 159,
         "trestbps": 110
        },
        {
         "_deepnote_index_column": 1024,
         "age": 54,
         "ca": 1,
         "chol": 188,
         "cp": 0,
         "exang": 0,
         "fbs": 0,
         "oldpeak": 1.4,
         "restecg": 1,
         "sex": 1,
         "slope": 1,
         "target": 0,
         "thal": 3,
         "thalach": 113,
         "trestbps": 120
        }
       ],
       "rows_top": [
        {
         "_deepnote_index_column": 0,
         "age": 52,
         "ca": 2,
         "chol": 212,
         "cp": 0,
         "exang": 0,
         "fbs": 0,
         "oldpeak": 1,
         "restecg": 1,
         "sex": 1,
         "slope": 2,
         "target": 0,
         "thal": 3,
         "thalach": 168,
         "trestbps": 125
        },
        {
         "_deepnote_index_column": 1,
         "age": 53,
         "ca": 0,
         "chol": 203,
         "cp": 0,
         "exang": 1,
         "fbs": 1,
         "oldpeak": 3.1,
         "restecg": 0,
         "sex": 1,
         "slope": 0,
         "target": 0,
         "thal": 3,
         "thalach": 155,
         "trestbps": 140
        },
        {
         "_deepnote_index_column": 2,
         "age": 70,
         "ca": 0,
         "chol": 174,
         "cp": 0,
         "exang": 1,
         "fbs": 0,
         "oldpeak": 2.6,
         "restecg": 1,
         "sex": 1,
         "slope": 0,
         "target": 0,
         "thal": 3,
         "thalach": 125,
         "trestbps": 145
        },
        {
         "_deepnote_index_column": 3,
         "age": 61,
         "ca": 1,
         "chol": 203,
         "cp": 0,
         "exang": 0,
         "fbs": 0,
         "oldpeak": 0,
         "restecg": 1,
         "sex": 1,
         "slope": 2,
         "target": 0,
         "thal": 3,
         "thalach": 161,
         "trestbps": 148
        },
        {
         "_deepnote_index_column": 4,
         "age": 62,
         "ca": 3,
         "chol": 294,
         "cp": 0,
         "exang": 0,
         "fbs": 1,
         "oldpeak": 1.9,
         "restecg": 1,
         "sex": 0,
         "slope": 1,
         "target": 0,
         "thal": 2,
         "thalach": 106,
         "trestbps": 138
        },
        {
         "_deepnote_index_column": 5,
         "age": 58,
         "ca": 0,
         "chol": 248,
         "cp": 0,
         "exang": 0,
         "fbs": 0,
         "oldpeak": 1,
         "restecg": 0,
         "sex": 0,
         "slope": 1,
         "target": 1,
         "thal": 2,
         "thalach": 122,
         "trestbps": 100
        },
        {
         "_deepnote_index_column": 6,
         "age": 58,
         "ca": 3,
         "chol": 318,
         "cp": 0,
         "exang": 0,
         "fbs": 0,
         "oldpeak": 4.4,
         "restecg": 2,
         "sex": 1,
         "slope": 0,
         "target": 0,
         "thal": 1,
         "thalach": 140,
         "trestbps": 114
        },
        {
         "_deepnote_index_column": 7,
         "age": 55,
         "ca": 1,
         "chol": 289,
         "cp": 0,
         "exang": 1,
         "fbs": 0,
         "oldpeak": 0.8,
         "restecg": 0,
         "sex": 1,
         "slope": 1,
         "target": 0,
         "thal": 3,
         "thalach": 145,
         "trestbps": 160
        },
        {
         "_deepnote_index_column": 8,
         "age": 46,
         "ca": 0,
         "chol": 249,
         "cp": 0,
         "exang": 0,
         "fbs": 0,
         "oldpeak": 0.8,
         "restecg": 0,
         "sex": 1,
         "slope": 2,
         "target": 0,
         "thal": 3,
         "thalach": 144,
         "trestbps": 120
        },
        {
         "_deepnote_index_column": 9,
         "age": 54,
         "ca": 2,
         "chol": 286,
         "cp": 0,
         "exang": 1,
         "fbs": 0,
         "oldpeak": 3.2,
         "restecg": 0,
         "sex": 1,
         "slope": 1,
         "target": 0,
         "thal": 2,
         "thalach": 116,
         "trestbps": 122
        },
        {
         "_deepnote_index_column": 10,
         "age": 71,
         "ca": 0,
         "chol": 149,
         "cp": 0,
         "exang": 0,
         "fbs": 0,
         "oldpeak": 1.6,
         "restecg": 1,
         "sex": 0,
         "slope": 1,
         "target": 1,
         "thal": 2,
         "thalach": 125,
         "trestbps": 112
        },
        {
         "_deepnote_index_column": 11,
         "age": 43,
         "ca": 0,
         "chol": 341,
         "cp": 0,
         "exang": 1,
         "fbs": 1,
         "oldpeak": 3,
         "restecg": 0,
         "sex": 0,
         "slope": 1,
         "target": 0,
         "thal": 3,
         "thalach": 136,
         "trestbps": 132
        },
        {
         "_deepnote_index_column": 12,
         "age": 34,
         "ca": 0,
         "chol": 210,
         "cp": 1,
         "exang": 0,
         "fbs": 0,
         "oldpeak": 0.7,
         "restecg": 1,
         "sex": 0,
         "slope": 2,
         "target": 1,
         "thal": 2,
         "thalach": 192,
         "trestbps": 118
        },
        {
         "_deepnote_index_column": 13,
         "age": 51,
         "ca": 3,
         "chol": 298,
         "cp": 0,
         "exang": 1,
         "fbs": 0,
         "oldpeak": 4.2,
         "restecg": 1,
         "sex": 1,
         "slope": 1,
         "target": 0,
         "thal": 3,
         "thalach": 122,
         "trestbps": 140
        },
        {
         "_deepnote_index_column": 14,
         "age": 52,
         "ca": 0,
         "chol": 204,
         "cp": 0,
         "exang": 1,
         "fbs": 1,
         "oldpeak": 1,
         "restecg": 1,
         "sex": 1,
         "slope": 1,
         "target": 0,
         "thal": 0,
         "thalach": 156,
         "trestbps": 128
        },
        {
         "_deepnote_index_column": 15,
         "age": 34,
         "ca": 0,
         "chol": 210,
         "cp": 1,
         "exang": 0,
         "fbs": 0,
         "oldpeak": 0.7,
         "restecg": 1,
         "sex": 0,
         "slope": 2,
         "target": 1,
         "thal": 2,
         "thalach": 192,
         "trestbps": 118
        },
        {
         "_deepnote_index_column": 16,
         "age": 51,
         "ca": 1,
         "chol": 308,
         "cp": 2,
         "exang": 0,
         "fbs": 0,
         "oldpeak": 1.5,
         "restecg": 0,
         "sex": 0,
         "slope": 2,
         "target": 1,
         "thal": 2,
         "thalach": 142,
         "trestbps": 140
        },
        {
         "_deepnote_index_column": 17,
         "age": 54,
         "ca": 1,
         "chol": 266,
         "cp": 0,
         "exang": 1,
         "fbs": 0,
         "oldpeak": 2.2,
         "restecg": 0,
         "sex": 1,
         "slope": 1,
         "target": 0,
         "thal": 3,
         "thalach": 109,
         "trestbps": 124
        },
        {
         "_deepnote_index_column": 18,
         "age": 50,
         "ca": 0,
         "chol": 244,
         "cp": 1,
         "exang": 0,
         "fbs": 0,
         "oldpeak": 1.1,
         "restecg": 1,
         "sex": 0,
         "slope": 2,
         "target": 1,
         "thal": 2,
         "thalach": 162,
         "trestbps": 120
        },
        {
         "_deepnote_index_column": 19,
         "age": 58,
         "ca": 0,
         "chol": 211,
         "cp": 2,
         "exang": 0,
         "fbs": 1,
         "oldpeak": 0,
         "restecg": 0,
         "sex": 1,
         "slope": 2,
         "target": 1,
         "thal": 2,
         "thalach": 165,
         "trestbps": 140
        },
        {
         "_deepnote_index_column": 20,
         "age": 60,
         "ca": 0,
         "chol": 185,
         "cp": 2,
         "exang": 0,
         "fbs": 0,
         "oldpeak": 3,
         "restecg": 0,
         "sex": 1,
         "slope": 1,
         "target": 0,
         "thal": 2,
         "thalach": 155,
         "trestbps": 140
        },
        {
         "_deepnote_index_column": 21,
         "age": 67,
         "ca": 2,
         "chol": 223,
         "cp": 0,
         "exang": 0,
         "fbs": 0,
         "oldpeak": 0.3,
         "restecg": 1,
         "sex": 0,
         "slope": 2,
         "target": 1,
         "thal": 2,
         "thalach": 142,
         "trestbps": 106
        },
        {
         "_deepnote_index_column": 22,
         "age": 45,
         "ca": 0,
         "chol": 208,
         "cp": 0,
         "exang": 1,
         "fbs": 0,
         "oldpeak": 3,
         "restecg": 0,
         "sex": 1,
         "slope": 1,
         "target": 1,
         "thal": 2,
         "thalach": 148,
         "trestbps": 104
        },
        {
         "_deepnote_index_column": 23,
         "age": 63,
         "ca": 0,
         "chol": 252,
         "cp": 2,
         "exang": 0,
         "fbs": 0,
         "oldpeak": 0,
         "restecg": 0,
         "sex": 0,
         "slope": 2,
         "target": 1,
         "thal": 2,
         "thalach": 172,
         "trestbps": 135
        },
        {
         "_deepnote_index_column": 24,
         "age": 42,
         "ca": 0,
         "chol": 209,
         "cp": 2,
         "exang": 0,
         "fbs": 0,
         "oldpeak": 0,
         "restecg": 1,
         "sex": 0,
         "slope": 1,
         "target": 1,
         "thal": 2,
         "thalach": 173,
         "trestbps": 120
        },
        {
         "_deepnote_index_column": 25,
         "age": 61,
         "ca": 0,
         "chol": 307,
         "cp": 0,
         "exang": 1,
         "fbs": 0,
         "oldpeak": 1,
         "restecg": 0,
         "sex": 0,
         "slope": 1,
         "target": 0,
         "thal": 3,
         "thalach": 146,
         "trestbps": 145
        },
        {
         "_deepnote_index_column": 26,
         "age": 44,
         "ca": 0,
         "chol": 233,
         "cp": 2,
         "exang": 1,
         "fbs": 0,
         "oldpeak": 0.4,
         "restecg": 1,
         "sex": 1,
         "slope": 2,
         "target": 1,
         "thal": 2,
         "thalach": 179,
         "trestbps": 130
        },
        {
         "_deepnote_index_column": 27,
         "age": 58,
         "ca": 2,
         "chol": 319,
         "cp": 1,
         "exang": 0,
         "fbs": 1,
         "oldpeak": 0,
         "restecg": 0,
         "sex": 0,
         "slope": 2,
         "target": 0,
         "thal": 2,
         "thalach": 152,
         "trestbps": 136
        },
        {
         "_deepnote_index_column": 28,
         "age": 56,
         "ca": 1,
         "chol": 256,
         "cp": 2,
         "exang": 1,
         "fbs": 1,
         "oldpeak": 0.6,
         "restecg": 0,
         "sex": 1,
         "slope": 1,
         "target": 0,
         "thal": 1,
         "thalach": 142,
         "trestbps": 130
        },
        {
         "_deepnote_index_column": 29,
         "age": 55,
         "ca": 0,
         "chol": 327,
         "cp": 0,
         "exang": 1,
         "fbs": 0,
         "oldpeak": 3.4,
         "restecg": 2,
         "sex": 0,
         "slope": 1,
         "target": 0,
         "thal": 2,
         "thalach": 117,
         "trestbps": 180
        },
        {
         "_deepnote_index_column": 30,
         "age": 44,
         "ca": 0,
         "chol": 169,
         "cp": 0,
         "exang": 1,
         "fbs": 0,
         "oldpeak": 2.8,
         "restecg": 1,
         "sex": 1,
         "slope": 0,
         "target": 0,
         "thal": 1,
         "thalach": 144,
         "trestbps": 120
        },
        {
         "_deepnote_index_column": 31,
         "age": 50,
         "ca": 0,
         "chol": 244,
         "cp": 1,
         "exang": 0,
         "fbs": 0,
         "oldpeak": 1.1,
         "restecg": 1,
         "sex": 0,
         "slope": 2,
         "target": 1,
         "thal": 2,
         "thalach": 162,
         "trestbps": 120
        },
        {
         "_deepnote_index_column": 32,
         "age": 57,
         "ca": 1,
         "chol": 131,
         "cp": 0,
         "exang": 1,
         "fbs": 0,
         "oldpeak": 1.2,
         "restecg": 1,
         "sex": 1,
         "slope": 1,
         "target": 0,
         "thal": 3,
         "thalach": 115,
         "trestbps": 130
        },
        {
         "_deepnote_index_column": 33,
         "age": 70,
         "ca": 1,
         "chol": 269,
         "cp": 2,
         "exang": 1,
         "fbs": 0,
         "oldpeak": 2.9,
         "restecg": 1,
         "sex": 1,
         "slope": 1,
         "target": 0,
         "thal": 3,
         "thalach": 112,
         "trestbps": 160
        },
        {
         "_deepnote_index_column": 34,
         "age": 50,
         "ca": 0,
         "chol": 196,
         "cp": 2,
         "exang": 0,
         "fbs": 0,
         "oldpeak": 0,
         "restecg": 1,
         "sex": 1,
         "slope": 2,
         "target": 1,
         "thal": 2,
         "thalach": 163,
         "trestbps": 129
        }
       ]
      },
      "text/html": [
       "<div>\n",
       "<style scoped>\n",
       "    .dataframe tbody tr th:only-of-type {\n",
       "        vertical-align: middle;\n",
       "    }\n",
       "\n",
       "    .dataframe tbody tr th {\n",
       "        vertical-align: top;\n",
       "    }\n",
       "\n",
       "    .dataframe thead th {\n",
       "        text-align: right;\n",
       "    }\n",
       "</style>\n",
       "<table border=\"1\" class=\"dataframe\">\n",
       "  <thead>\n",
       "    <tr style=\"text-align: right;\">\n",
       "      <th></th>\n",
       "      <th>age</th>\n",
       "      <th>sex</th>\n",
       "      <th>cp</th>\n",
       "      <th>trestbps</th>\n",
       "      <th>chol</th>\n",
       "      <th>fbs</th>\n",
       "      <th>restecg</th>\n",
       "      <th>thalach</th>\n",
       "      <th>exang</th>\n",
       "      <th>oldpeak</th>\n",
       "      <th>slope</th>\n",
       "      <th>ca</th>\n",
       "      <th>thal</th>\n",
       "      <th>target</th>\n",
       "    </tr>\n",
       "  </thead>\n",
       "  <tbody>\n",
       "    <tr>\n",
       "      <th>0</th>\n",
       "      <td>52</td>\n",
       "      <td>1</td>\n",
       "      <td>0</td>\n",
       "      <td>125</td>\n",
       "      <td>212</td>\n",
       "      <td>0</td>\n",
       "      <td>1</td>\n",
       "      <td>168</td>\n",
       "      <td>0</td>\n",
       "      <td>1.00</td>\n",
       "      <td>2</td>\n",
       "      <td>2</td>\n",
       "      <td>3</td>\n",
       "      <td>0</td>\n",
       "    </tr>\n",
       "    <tr>\n",
       "      <th>1</th>\n",
       "      <td>53</td>\n",
       "      <td>1</td>\n",
       "      <td>0</td>\n",
       "      <td>140</td>\n",
       "      <td>203</td>\n",
       "      <td>1</td>\n",
       "      <td>0</td>\n",
       "      <td>155</td>\n",
       "      <td>1</td>\n",
       "      <td>3.10</td>\n",
       "      <td>0</td>\n",
       "      <td>0</td>\n",
       "      <td>3</td>\n",
       "      <td>0</td>\n",
       "    </tr>\n",
       "    <tr>\n",
       "      <th>2</th>\n",
       "      <td>70</td>\n",
       "      <td>1</td>\n",
       "      <td>0</td>\n",
       "      <td>145</td>\n",
       "      <td>174</td>\n",
       "      <td>0</td>\n",
       "      <td>1</td>\n",
       "      <td>125</td>\n",
       "      <td>1</td>\n",
       "      <td>2.60</td>\n",
       "      <td>0</td>\n",
       "      <td>0</td>\n",
       "      <td>3</td>\n",
       "      <td>0</td>\n",
       "    </tr>\n",
       "    <tr>\n",
       "      <th>3</th>\n",
       "      <td>61</td>\n",
       "      <td>1</td>\n",
       "      <td>0</td>\n",
       "      <td>148</td>\n",
       "      <td>203</td>\n",
       "      <td>0</td>\n",
       "      <td>1</td>\n",
       "      <td>161</td>\n",
       "      <td>0</td>\n",
       "      <td>0.00</td>\n",
       "      <td>2</td>\n",
       "      <td>1</td>\n",
       "      <td>3</td>\n",
       "      <td>0</td>\n",
       "    </tr>\n",
       "    <tr>\n",
       "      <th>4</th>\n",
       "      <td>62</td>\n",
       "      <td>0</td>\n",
       "      <td>0</td>\n",
       "      <td>138</td>\n",
       "      <td>294</td>\n",
       "      <td>1</td>\n",
       "      <td>1</td>\n",
       "      <td>106</td>\n",
       "      <td>0</td>\n",
       "      <td>1.90</td>\n",
       "      <td>1</td>\n",
       "      <td>3</td>\n",
       "      <td>2</td>\n",
       "      <td>0</td>\n",
       "    </tr>\n",
       "    <tr>\n",
       "      <th>...</th>\n",
       "      <td>...</td>\n",
       "      <td>...</td>\n",
       "      <td>...</td>\n",
       "      <td>...</td>\n",
       "      <td>...</td>\n",
       "      <td>...</td>\n",
       "      <td>...</td>\n",
       "      <td>...</td>\n",
       "      <td>...</td>\n",
       "      <td>...</td>\n",
       "      <td>...</td>\n",
       "      <td>...</td>\n",
       "      <td>...</td>\n",
       "      <td>...</td>\n",
       "    </tr>\n",
       "    <tr>\n",
       "      <th>1020</th>\n",
       "      <td>59</td>\n",
       "      <td>1</td>\n",
       "      <td>1</td>\n",
       "      <td>140</td>\n",
       "      <td>221</td>\n",
       "      <td>0</td>\n",
       "      <td>1</td>\n",
       "      <td>164</td>\n",
       "      <td>1</td>\n",
       "      <td>0.00</td>\n",
       "      <td>2</td>\n",
       "      <td>0</td>\n",
       "      <td>2</td>\n",
       "      <td>1</td>\n",
       "    </tr>\n",
       "    <tr>\n",
       "      <th>1021</th>\n",
       "      <td>60</td>\n",
       "      <td>1</td>\n",
       "      <td>0</td>\n",
       "      <td>125</td>\n",
       "      <td>258</td>\n",
       "      <td>0</td>\n",
       "      <td>0</td>\n",
       "      <td>141</td>\n",
       "      <td>1</td>\n",
       "      <td>2.80</td>\n",
       "      <td>1</td>\n",
       "      <td>1</td>\n",
       "      <td>3</td>\n",
       "      <td>0</td>\n",
       "    </tr>\n",
       "    <tr>\n",
       "      <th>1022</th>\n",
       "      <td>47</td>\n",
       "      <td>1</td>\n",
       "      <td>0</td>\n",
       "      <td>110</td>\n",
       "      <td>275</td>\n",
       "      <td>0</td>\n",
       "      <td>0</td>\n",
       "      <td>118</td>\n",
       "      <td>1</td>\n",
       "      <td>1.00</td>\n",
       "      <td>1</td>\n",
       "      <td>1</td>\n",
       "      <td>2</td>\n",
       "      <td>0</td>\n",
       "    </tr>\n",
       "    <tr>\n",
       "      <th>1023</th>\n",
       "      <td>50</td>\n",
       "      <td>0</td>\n",
       "      <td>0</td>\n",
       "      <td>110</td>\n",
       "      <td>254</td>\n",
       "      <td>0</td>\n",
       "      <td>0</td>\n",
       "      <td>159</td>\n",
       "      <td>0</td>\n",
       "      <td>0.00</td>\n",
       "      <td>2</td>\n",
       "      <td>0</td>\n",
       "      <td>2</td>\n",
       "      <td>1</td>\n",
       "    </tr>\n",
       "    <tr>\n",
       "      <th>1024</th>\n",
       "      <td>54</td>\n",
       "      <td>1</td>\n",
       "      <td>0</td>\n",
       "      <td>120</td>\n",
       "      <td>188</td>\n",
       "      <td>0</td>\n",
       "      <td>1</td>\n",
       "      <td>113</td>\n",
       "      <td>0</td>\n",
       "      <td>1.40</td>\n",
       "      <td>1</td>\n",
       "      <td>1</td>\n",
       "      <td>3</td>\n",
       "      <td>0</td>\n",
       "    </tr>\n",
       "  </tbody>\n",
       "</table>\n",
       "<p>1025 rows × 14 columns</p>\n",
       "</div>"
      ],
      "text/plain": [
       "      age  sex  cp  trestbps  chol  fbs  restecg  thalach  exang  oldpeak  \\\n",
       "0      52    1   0       125   212    0        1      168      0     1.00   \n",
       "1      53    1   0       140   203    1        0      155      1     3.10   \n",
       "2      70    1   0       145   174    0        1      125      1     2.60   \n",
       "3      61    1   0       148   203    0        1      161      0     0.00   \n",
       "4      62    0   0       138   294    1        1      106      0     1.90   \n",
       "...   ...  ...  ..       ...   ...  ...      ...      ...    ...      ...   \n",
       "1020   59    1   1       140   221    0        1      164      1     0.00   \n",
       "1021   60    1   0       125   258    0        0      141      1     2.80   \n",
       "1022   47    1   0       110   275    0        0      118      1     1.00   \n",
       "1023   50    0   0       110   254    0        0      159      0     0.00   \n",
       "1024   54    1   0       120   188    0        1      113      0     1.40   \n",
       "\n",
       "      slope  ca  thal  target  \n",
       "0         2   2     3       0  \n",
       "1         0   0     3       0  \n",
       "2         0   0     3       0  \n",
       "3         2   1     3       0  \n",
       "4         1   3     2       0  \n",
       "...     ...  ..   ...     ...  \n",
       "1020      2   0     2       1  \n",
       "1021      1   1     3       0  \n",
       "1022      1   1     2       0  \n",
       "1023      2   0     2       1  \n",
       "1024      1   1     3       0  \n",
       "\n",
       "[1025 rows x 14 columns]"
      ]
     },
     "execution_count": 3,
     "metadata": {},
     "output_type": "execute_result"
    }
   ],
   "source": [
    "# Cargamos nuestro dataset\n",
    "data = pd.read_csv('https://raw.githubusercontent.com/jorge-robledo11/Datasets/main/Datasets/heart.csv')\n",
    "data"
   ]
  },
  {
   "cell_type": "markdown",
   "metadata": {
    "cell_id": "00007-547c276c-659e-4dd2-bc1d-b9ebd0f65846",
    "deepnote_cell_type": "markdown",
    "tags": []
   },
   "source": [
    "#### Información de atributos\n",
    "\n",
    "1. Edad\n",
    "2. Sexo\n",
    "3. Tipo de dolor de pecho (4 valores)\n",
    "4. Presión arterial en reposo\n",
    "5. Colesterol sérico en mg/dl\n",
    "6. Glucemia en ayunas > 120 mg/dl\n",
    "7. Resultados electrocardiográficos en reposo (valores 0,1,2)\n",
    "8. Frecuencia cardíaca máxima alcanzada\n",
    "9. Angina inducida por el ejercicio\n",
    "10. Depresión del ST inducida por el ejercicio en relación con el reposo\n",
    "11. La pendiente del segmento ST máximo del ejercicio\n",
    "12. Número de vasos mayores (0-3) coloreados por la fluroscopia\n",
    "13. Thal: 3 = normal; 6 = defecto fijo; 7 = defecto reversible\n",
    "14. La etiqueta que fue otorgada al paciente, donde 1 = si ; 0 = no"
   ]
  },
  {
   "cell_type": "code",
   "execution_count": null,
   "metadata": {
    "cell_id": "00002-1c4fd877-b0dc-49a2-9c4e-c6829ceacff9",
    "deepnote_cell_type": "code",
    "deepnote_output_heights": [
     290
    ],
    "deepnote_to_be_reexecuted": false,
    "execution_millis": 16,
    "execution_start": 1636581929794,
    "source_hash": "76ab6a3f",
    "tags": []
   },
   "outputs": [
    {
     "data": {
      "text/plain": [
       "age           Int64\n",
       "sex           Int64\n",
       "cp            Int64\n",
       "trestbps      Int64\n",
       "chol          Int64\n",
       "fbs           Int64\n",
       "restecg       Int64\n",
       "thalach       Int64\n",
       "exang         Int64\n",
       "oldpeak     Float64\n",
       "slope         Int64\n",
       "ca            Int64\n",
       "thal          Int64\n",
       "target        Int64\n",
       "dtype: object"
      ]
     },
     "execution_count": 4,
     "metadata": {},
     "output_type": "execute_result"
    }
   ],
   "source": [
    "# Transformamos los datos a lo que mejor convenga y analizaremos los features del dataset\n",
    "data.convert_dtypes().dtypes"
   ]
  },
  {
   "cell_type": "code",
   "execution_count": null,
   "metadata": {
    "cell_id": "00002-8ff35e34-408a-4ccc-8ece-0ad5e766b94e",
    "deepnote_cell_type": "code",
    "deepnote_output_heights": [
     21.199996948242188
    ],
    "deepnote_to_be_reexecuted": false,
    "execution_millis": 14,
    "execution_start": 1636581929817,
    "source_hash": "dff444a3",
    "tags": []
   },
   "outputs": [
    {
     "data": {
      "text/plain": [
       "(1025, 14)"
      ]
     },
     "execution_count": 5,
     "metadata": {},
     "output_type": "execute_result"
    }
   ],
   "source": [
    "# Dimensionamos nuestro dataset\n",
    "data.shape"
   ]
  },
  {
   "cell_type": "code",
   "execution_count": null,
   "metadata": {
    "cell_id": "00003-de6bbf3b-b1d6-4138-a5a3-a20a79bb935c",
    "deepnote_cell_type": "code",
    "deepnote_output_heights": [
     290
    ],
    "deepnote_to_be_reexecuted": false,
    "execution_millis": 695721957,
    "execution_start": 1636581929883,
    "source_hash": "ac6cbae8",
    "tags": []
   },
   "outputs": [
    {
     "data": {
      "text/plain": [
       "age         0\n",
       "sex         0\n",
       "cp          0\n",
       "trestbps    0\n",
       "chol        0\n",
       "fbs         0\n",
       "restecg     0\n",
       "thalach     0\n",
       "exang       0\n",
       "oldpeak     0\n",
       "slope       0\n",
       "ca          0\n",
       "thal        0\n",
       "target      0\n",
       "dtype: int64"
      ]
     },
     "execution_count": 6,
     "metadata": {},
     "output_type": "execute_result"
    }
   ],
   "source": [
    "# Observamos si hay datos nulos en alguno de nuestros features\n",
    "data.isnull().sum()"
   ]
  },
  {
   "cell_type": "code",
   "execution_count": null,
   "metadata": {
    "cell_id": "00006-fdb30ebc-8e56-4470-8687-2bef8dcbcb87",
    "deepnote_cell_type": "code",
    "deepnote_to_be_reexecuted": false,
    "execution_millis": 67,
    "execution_start": 1636581929884,
    "source_hash": "2cb52ae",
    "tags": []
   },
   "outputs": [
    {
     "data": {
      "application/vnd.deepnote.dataframe.v2+json": {
       "column_count": 14,
       "columns": [
        {
         "dtype": "float64",
         "name": "age",
         "stats": {
          "histogram": [
           {
            "bin_end": 110.66506120991984,
            "bin_start": 9.072290233244278,
            "count": 7
           },
           {
            "bin_end": 212.2578321865954,
            "bin_start": 110.66506120991984,
            "count": 0
           },
           {
            "bin_end": 313.850603163271,
            "bin_start": 212.2578321865954,
            "count": 0
           },
           {
            "bin_end": 415.44337413994657,
            "bin_start": 313.850603163271,
            "count": 0
           },
           {
            "bin_end": 517.0361451166222,
            "bin_start": 415.44337413994657,
            "count": 0
           },
           {
            "bin_end": 618.6289160932977,
            "bin_start": 517.0361451166222,
            "count": 0
           },
           {
            "bin_end": 720.2216870699733,
            "bin_start": 618.6289160932977,
            "count": 0
           },
           {
            "bin_end": 821.8144580466488,
            "bin_start": 720.2216870699733,
            "count": 0
           },
           {
            "bin_end": 923.4072290233244,
            "bin_start": 821.8144580466488,
            "count": 0
           },
           {
            "bin_end": 1025,
            "bin_start": 923.4072290233244,
            "count": 1
           }
          ],
          "max": "1025.0",
          "min": "9.072290233244278",
          "nan_count": 0,
          "unique_count": 8
         }
        },
        {
         "dtype": "float64",
         "name": "sex",
         "stats": {
          "histogram": [
           {
            "bin_end": 102.5,
            "bin_start": 0,
            "count": 7
           },
           {
            "bin_end": 205,
            "bin_start": 102.5,
            "count": 0
           },
           {
            "bin_end": 307.5,
            "bin_start": 205,
            "count": 0
           },
           {
            "bin_end": 410,
            "bin_start": 307.5,
            "count": 0
           },
           {
            "bin_end": 512.5,
            "bin_start": 410,
            "count": 0
           },
           {
            "bin_end": 615,
            "bin_start": 512.5,
            "count": 0
           },
           {
            "bin_end": 717.5,
            "bin_start": 615,
            "count": 0
           },
           {
            "bin_end": 820,
            "bin_start": 717.5,
            "count": 0
           },
           {
            "bin_end": 922.5,
            "bin_start": 820,
            "count": 0
           },
           {
            "bin_end": 1025,
            "bin_start": 922.5,
            "count": 1
           }
          ],
          "max": "1025.0",
          "min": "0.0",
          "nan_count": 0,
          "unique_count": 5
         }
        },
        {
         "dtype": "float64",
         "name": "cp",
         "stats": {
          "histogram": [
           {
            "bin_end": 102.5,
            "bin_start": 0,
            "count": 7
           },
           {
            "bin_end": 205,
            "bin_start": 102.5,
            "count": 0
           },
           {
            "bin_end": 307.5,
            "bin_start": 205,
            "count": 0
           },
           {
            "bin_end": 410,
            "bin_start": 307.5,
            "count": 0
           },
           {
            "bin_end": 512.5,
            "bin_start": 410,
            "count": 0
           },
           {
            "bin_end": 615,
            "bin_start": 512.5,
            "count": 0
           },
           {
            "bin_end": 717.5,
            "bin_start": 615,
            "count": 0
           },
           {
            "bin_end": 820,
            "bin_start": 717.5,
            "count": 0
           },
           {
            "bin_end": 922.5,
            "bin_start": 820,
            "count": 0
           },
           {
            "bin_end": 1025,
            "bin_start": 922.5,
            "count": 1
           }
          ],
          "max": "1025.0",
          "min": "0.0",
          "nan_count": 0,
          "unique_count": 7
         }
        },
        {
         "dtype": "float64",
         "name": "trestbps",
         "stats": {
          "histogram": [
           {
            "bin_end": 118.26504620483875,
            "bin_start": 17.516718005376408,
            "count": 2
           },
           {
            "bin_end": 219.01337440430112,
            "bin_start": 118.26504620483875,
            "count": 5
           },
           {
            "bin_end": 319.76170260376347,
            "bin_start": 219.01337440430112,
            "count": 0
           },
           {
            "bin_end": 420.5100308032258,
            "bin_start": 319.76170260376347,
            "count": 0
           },
           {
            "bin_end": 521.2583590026882,
            "bin_start": 420.5100308032258,
            "count": 0
           },
           {
            "bin_end": 622.0066872021506,
            "bin_start": 521.2583590026882,
            "count": 0
           },
           {
            "bin_end": 722.7550154016129,
            "bin_start": 622.0066872021506,
            "count": 0
           },
           {
            "bin_end": 823.5033436010752,
            "bin_start": 722.7550154016129,
            "count": 0
           },
           {
            "bin_end": 924.2516718005376,
            "bin_start": 823.5033436010752,
            "count": 0
           },
           {
            "bin_end": 1025,
            "bin_start": 924.2516718005376,
            "count": 1
           }
          ],
          "max": "1025.0",
          "min": "17.516718005376408",
          "nan_count": 0,
          "unique_count": 8
         }
        },
        {
         "dtype": "float64",
         "name": "chol",
         "stats": {
          "histogram": [
           {
            "bin_end": 148.93325918556386,
            "bin_start": 51.59251020618206,
            "count": 2
           },
           {
            "bin_end": 246.27400816494566,
            "bin_start": 148.93325918556386,
            "count": 3
           },
           {
            "bin_end": 343.6147571443274,
            "bin_start": 246.27400816494566,
            "count": 1
           },
           {
            "bin_end": 440.95550612370926,
            "bin_start": 343.6147571443274,
            "count": 0
           },
           {
            "bin_end": 538.2962551030911,
            "bin_start": 440.95550612370926,
            "count": 0
           },
           {
            "bin_end": 635.6370040824728,
            "bin_start": 538.2962551030911,
            "count": 1
           },
           {
            "bin_end": 732.9777530618546,
            "bin_start": 635.6370040824728,
            "count": 0
           },
           {
            "bin_end": 830.3185020412365,
            "bin_start": 732.9777530618546,
            "count": 0
           },
           {
            "bin_end": 927.6592510206183,
            "bin_start": 830.3185020412365,
            "count": 0
           },
           {
            "bin_end": 1025,
            "bin_start": 927.6592510206183,
            "count": 1
           }
          ],
          "max": "1025.0",
          "min": "51.59251020618206",
          "nan_count": 0,
          "unique_count": 8
         }
        },
        {
         "dtype": "float64",
         "name": "fbs",
         "stats": {
          "histogram": [
           {
            "bin_end": 102.5,
            "bin_start": 0,
            "count": 7
           },
           {
            "bin_end": 205,
            "bin_start": 102.5,
            "count": 0
           },
           {
            "bin_end": 307.5,
            "bin_start": 205,
            "count": 0
           },
           {
            "bin_end": 410,
            "bin_start": 307.5,
            "count": 0
           },
           {
            "bin_end": 512.5,
            "bin_start": 410,
            "count": 0
           },
           {
            "bin_end": 615,
            "bin_start": 512.5,
            "count": 0
           },
           {
            "bin_end": 717.5,
            "bin_start": 615,
            "count": 0
           },
           {
            "bin_end": 820,
            "bin_start": 717.5,
            "count": 0
           },
           {
            "bin_end": 922.5,
            "bin_start": 820,
            "count": 0
           },
           {
            "bin_end": 1025,
            "bin_start": 922.5,
            "count": 1
           }
          ],
          "max": "1025.0",
          "min": "0.0",
          "nan_count": 0,
          "unique_count": 5
         }
        },
        {
         "dtype": "float64",
         "name": "restecg",
         "stats": {
          "histogram": [
           {
            "bin_end": 102.5,
            "bin_start": 0,
            "count": 7
           },
           {
            "bin_end": 205,
            "bin_start": 102.5,
            "count": 0
           },
           {
            "bin_end": 307.5,
            "bin_start": 205,
            "count": 0
           },
           {
            "bin_end": 410,
            "bin_start": 307.5,
            "count": 0
           },
           {
            "bin_end": 512.5,
            "bin_start": 410,
            "count": 0
           },
           {
            "bin_end": 615,
            "bin_start": 512.5,
            "count": 0
           },
           {
            "bin_end": 717.5,
            "bin_start": 615,
            "count": 0
           },
           {
            "bin_end": 820,
            "bin_start": 717.5,
            "count": 0
           },
           {
            "bin_end": 922.5,
            "bin_start": 820,
            "count": 0
           },
           {
            "bin_end": 1025,
            "bin_start": 922.5,
            "count": 1
           }
          ],
          "max": "1025.0",
          "min": "0.0",
          "nan_count": 0,
          "unique_count": 6
         }
        },
        {
         "dtype": "float64",
         "name": "thalach",
         "stats": {
          "histogram": [
           {
            "bin_end": 123.20515137137949,
            "bin_start": 23.005723745977207,
            "count": 2
           },
           {
            "bin_end": 223.40457899678177,
            "bin_start": 123.20515137137949,
            "count": 5
           },
           {
            "bin_end": 323.60400662218404,
            "bin_start": 223.40457899678177,
            "count": 0
           },
           {
            "bin_end": 423.8034342475863,
            "bin_start": 323.60400662218404,
            "count": 0
           },
           {
            "bin_end": 524.0028618729887,
            "bin_start": 423.8034342475863,
            "count": 0
           },
           {
            "bin_end": 624.2022894983909,
            "bin_start": 524.0028618729887,
            "count": 0
           },
           {
            "bin_end": 724.4017171237932,
            "bin_start": 624.2022894983909,
            "count": 0
           },
           {
            "bin_end": 824.6011447491954,
            "bin_start": 724.4017171237932,
            "count": 0
           },
           {
            "bin_end": 924.8005723745977,
            "bin_start": 824.6011447491954,
            "count": 0
           },
           {
            "bin_end": 1025,
            "bin_start": 924.8005723745977,
            "count": 1
           }
          ],
          "max": "1025.0",
          "min": "23.005723745977207",
          "nan_count": 0,
          "unique_count": 8
         }
        },
        {
         "dtype": "float64",
         "name": "exang",
         "stats": {
          "histogram": [
           {
            "bin_end": 102.5,
            "bin_start": 0,
            "count": 7
           },
           {
            "bin_end": 205,
            "bin_start": 102.5,
            "count": 0
           },
           {
            "bin_end": 307.5,
            "bin_start": 205,
            "count": 0
           },
           {
            "bin_end": 410,
            "bin_start": 307.5,
            "count": 0
           },
           {
            "bin_end": 512.5,
            "bin_start": 410,
            "count": 0
           },
           {
            "bin_end": 615,
            "bin_start": 512.5,
            "count": 0
           },
           {
            "bin_end": 717.5,
            "bin_start": 615,
            "count": 0
           },
           {
            "bin_end": 820,
            "bin_start": 717.5,
            "count": 0
           },
           {
            "bin_end": 922.5,
            "bin_start": 820,
            "count": 0
           },
           {
            "bin_end": 1025,
            "bin_start": 922.5,
            "count": 1
           }
          ],
          "max": "1025.0",
          "min": "0.0",
          "nan_count": 0,
          "unique_count": 5
         }
        },
        {
         "dtype": "float64",
         "name": "oldpeak",
         "stats": {
          "histogram": [
           {
            "bin_end": 102.5,
            "bin_start": 0,
            "count": 7
           },
           {
            "bin_end": 205,
            "bin_start": 102.5,
            "count": 0
           },
           {
            "bin_end": 307.5,
            "bin_start": 205,
            "count": 0
           },
           {
            "bin_end": 410,
            "bin_start": 307.5,
            "count": 0
           },
           {
            "bin_end": 512.5,
            "bin_start": 410,
            "count": 0
           },
           {
            "bin_end": 615,
            "bin_start": 512.5,
            "count": 0
           },
           {
            "bin_end": 717.5,
            "bin_start": 615,
            "count": 0
           },
           {
            "bin_end": 820,
            "bin_start": 717.5,
            "count": 0
           },
           {
            "bin_end": 922.5,
            "bin_start": 820,
            "count": 0
           },
           {
            "bin_end": 1025,
            "bin_start": 922.5,
            "count": 1
           }
          ],
          "max": "1025.0",
          "min": "0.0",
          "nan_count": 0,
          "unique_count": 7
         }
        },
        {
         "dtype": "float64",
         "name": "slope",
         "stats": {
          "histogram": [
           {
            "bin_end": 102.5,
            "bin_start": 0,
            "count": 7
           },
           {
            "bin_end": 205,
            "bin_start": 102.5,
            "count": 0
           },
           {
            "bin_end": 307.5,
            "bin_start": 205,
            "count": 0
           },
           {
            "bin_end": 410,
            "bin_start": 307.5,
            "count": 0
           },
           {
            "bin_end": 512.5,
            "bin_start": 410,
            "count": 0
           },
           {
            "bin_end": 615,
            "bin_start": 512.5,
            "count": 0
           },
           {
            "bin_end": 717.5,
            "bin_start": 615,
            "count": 0
           },
           {
            "bin_end": 820,
            "bin_start": 717.5,
            "count": 0
           },
           {
            "bin_end": 922.5,
            "bin_start": 820,
            "count": 0
           },
           {
            "bin_end": 1025,
            "bin_start": 922.5,
            "count": 1
           }
          ],
          "max": "1025.0",
          "min": "0.0",
          "nan_count": 0,
          "unique_count": 6
         }
        },
        {
         "dtype": "float64",
         "name": "ca",
         "stats": {
          "histogram": [
           {
            "bin_end": 102.5,
            "bin_start": 0,
            "count": 7
           },
           {
            "bin_end": 205,
            "bin_start": 102.5,
            "count": 0
           },
           {
            "bin_end": 307.5,
            "bin_start": 205,
            "count": 0
           },
           {
            "bin_end": 410,
            "bin_start": 307.5,
            "count": 0
           },
           {
            "bin_end": 512.5,
            "bin_start": 410,
            "count": 0
           },
           {
            "bin_end": 615,
            "bin_start": 512.5,
            "count": 0
           },
           {
            "bin_end": 717.5,
            "bin_start": 615,
            "count": 0
           },
           {
            "bin_end": 820,
            "bin_start": 717.5,
            "count": 0
           },
           {
            "bin_end": 922.5,
            "bin_start": 820,
            "count": 0
           },
           {
            "bin_end": 1025,
            "bin_start": 922.5,
            "count": 1
           }
          ],
          "max": "1025.0",
          "min": "0.0",
          "nan_count": 0,
          "unique_count": 6
         }
        },
        {
         "dtype": "float64",
         "name": "thal",
         "stats": {
          "histogram": [
           {
            "bin_end": 102.5,
            "bin_start": 0,
            "count": 7
           },
           {
            "bin_end": 205,
            "bin_start": 102.5,
            "count": 0
           },
           {
            "bin_end": 307.5,
            "bin_start": 205,
            "count": 0
           },
           {
            "bin_end": 410,
            "bin_start": 307.5,
            "count": 0
           },
           {
            "bin_end": 512.5,
            "bin_start": 410,
            "count": 0
           },
           {
            "bin_end": 615,
            "bin_start": 512.5,
            "count": 0
           },
           {
            "bin_end": 717.5,
            "bin_start": 615,
            "count": 0
           },
           {
            "bin_end": 820,
            "bin_start": 717.5,
            "count": 0
           },
           {
            "bin_end": 922.5,
            "bin_start": 820,
            "count": 0
           },
           {
            "bin_end": 1025,
            "bin_start": 922.5,
            "count": 1
           }
          ],
          "max": "1025.0",
          "min": "0.0",
          "nan_count": 0,
          "unique_count": 6
         }
        },
        {
         "dtype": "float64",
         "name": "target",
         "stats": {
          "histogram": [
           {
            "bin_end": 102.5,
            "bin_start": 0,
            "count": 7
           },
           {
            "bin_end": 205,
            "bin_start": 102.5,
            "count": 0
           },
           {
            "bin_end": 307.5,
            "bin_start": 205,
            "count": 0
           },
           {
            "bin_end": 410,
            "bin_start": 307.5,
            "count": 0
           },
           {
            "bin_end": 512.5,
            "bin_start": 410,
            "count": 0
           },
           {
            "bin_end": 615,
            "bin_start": 512.5,
            "count": 0
           },
           {
            "bin_end": 717.5,
            "bin_start": 615,
            "count": 0
           },
           {
            "bin_end": 820,
            "bin_start": 717.5,
            "count": 0
           },
           {
            "bin_end": 922.5,
            "bin_start": 820,
            "count": 0
           },
           {
            "bin_end": 1025,
            "bin_start": 922.5,
            "count": 1
           }
          ],
          "max": "1025.0",
          "min": "0.0",
          "nan_count": 0,
          "unique_count": 5
         }
        },
        {
         "dtype": "object",
         "name": "_deepnote_index_column"
        }
       ],
       "row_count": 8,
       "rows_bottom": null,
       "rows_top": [
        {
         "_deepnote_index_column": "count",
         "age": 1025,
         "ca": 1025,
         "chol": 1025,
         "cp": 1025,
         "exang": 1025,
         "fbs": 1025,
         "oldpeak": 1025,
         "restecg": 1025,
         "sex": 1025,
         "slope": 1025,
         "target": 1025,
         "thal": 1025,
         "thalach": 1025,
         "trestbps": 1025
        },
        {
         "_deepnote_index_column": "mean",
         "age": 54.43414634146342,
         "ca": 0.7541463414634146,
         "chol": 246,
         "cp": 0.9424390243902439,
         "exang": 0.33658536585365856,
         "fbs": 0.14926829268292682,
         "oldpeak": 1.0715121951219515,
         "restecg": 0.5297560975609756,
         "sex": 0.6956097560975609,
         "slope": 1.3853658536585365,
         "target": 0.5131707317073171,
         "thal": 2.32390243902439,
         "thalach": 149.11414634146342,
         "trestbps": 131.61170731707318
        },
        {
         "_deepnote_index_column": "std",
         "age": 9.072290233244278,
         "ca": 1.0307976650242823,
         "chol": 51.59251020618206,
         "cp": 1.029640743645865,
         "exang": 0.47277237600371186,
         "fbs": 0.3565266897271575,
         "oldpeak": 1.175053255150176,
         "restecg": 0.5278775668748921,
         "sex": 0.4603733241196493,
         "slope": 0.6177552671745918,
         "target": 0.5000704980788014,
         "thal": 0.6206602380510298,
         "thalach": 23.005723745977207,
         "trestbps": 17.516718005376408
        },
        {
         "_deepnote_index_column": "min",
         "age": 29,
         "ca": 0,
         "chol": 126,
         "cp": 0,
         "exang": 0,
         "fbs": 0,
         "oldpeak": 0,
         "restecg": 0,
         "sex": 0,
         "slope": 0,
         "target": 0,
         "thal": 0,
         "thalach": 71,
         "trestbps": 94
        },
        {
         "_deepnote_index_column": "25%",
         "age": 48,
         "ca": 0,
         "chol": 211,
         "cp": 0,
         "exang": 0,
         "fbs": 0,
         "oldpeak": 0,
         "restecg": 0,
         "sex": 0,
         "slope": 1,
         "target": 0,
         "thal": 2,
         "thalach": 132,
         "trestbps": 120
        },
        {
         "_deepnote_index_column": "50%",
         "age": 56,
         "ca": 0,
         "chol": 240,
         "cp": 1,
         "exang": 0,
         "fbs": 0,
         "oldpeak": 0.8,
         "restecg": 1,
         "sex": 1,
         "slope": 1,
         "target": 1,
         "thal": 2,
         "thalach": 152,
         "trestbps": 130
        },
        {
         "_deepnote_index_column": "75%",
         "age": 61,
         "ca": 1,
         "chol": 275,
         "cp": 2,
         "exang": 1,
         "fbs": 0,
         "oldpeak": 1.8,
         "restecg": 1,
         "sex": 1,
         "slope": 2,
         "target": 1,
         "thal": 3,
         "thalach": 166,
         "trestbps": 140
        },
        {
         "_deepnote_index_column": "max",
         "age": 77,
         "ca": 4,
         "chol": 564,
         "cp": 3,
         "exang": 1,
         "fbs": 1,
         "oldpeak": 6.2,
         "restecg": 2,
         "sex": 1,
         "slope": 2,
         "target": 1,
         "thal": 3,
         "thalach": 202,
         "trestbps": 200
        }
       ]
      },
      "text/html": [
       "<div>\n",
       "<style scoped>\n",
       "    .dataframe tbody tr th:only-of-type {\n",
       "        vertical-align: middle;\n",
       "    }\n",
       "\n",
       "    .dataframe tbody tr th {\n",
       "        vertical-align: top;\n",
       "    }\n",
       "\n",
       "    .dataframe thead th {\n",
       "        text-align: right;\n",
       "    }\n",
       "</style>\n",
       "<table border=\"1\" class=\"dataframe\">\n",
       "  <thead>\n",
       "    <tr style=\"text-align: right;\">\n",
       "      <th></th>\n",
       "      <th>age</th>\n",
       "      <th>sex</th>\n",
       "      <th>cp</th>\n",
       "      <th>trestbps</th>\n",
       "      <th>chol</th>\n",
       "      <th>fbs</th>\n",
       "      <th>restecg</th>\n",
       "      <th>thalach</th>\n",
       "      <th>exang</th>\n",
       "      <th>oldpeak</th>\n",
       "      <th>slope</th>\n",
       "      <th>ca</th>\n",
       "      <th>thal</th>\n",
       "      <th>target</th>\n",
       "    </tr>\n",
       "  </thead>\n",
       "  <tbody>\n",
       "    <tr>\n",
       "      <th>count</th>\n",
       "      <td>1,025.00</td>\n",
       "      <td>1,025.00</td>\n",
       "      <td>1,025.00</td>\n",
       "      <td>1,025.00</td>\n",
       "      <td>1,025.00</td>\n",
       "      <td>1,025.00</td>\n",
       "      <td>1,025.00</td>\n",
       "      <td>1,025.00</td>\n",
       "      <td>1,025.00</td>\n",
       "      <td>1,025.00</td>\n",
       "      <td>1,025.00</td>\n",
       "      <td>1,025.00</td>\n",
       "      <td>1,025.00</td>\n",
       "      <td>1,025.00</td>\n",
       "    </tr>\n",
       "    <tr>\n",
       "      <th>mean</th>\n",
       "      <td>54.43</td>\n",
       "      <td>0.70</td>\n",
       "      <td>0.94</td>\n",
       "      <td>131.61</td>\n",
       "      <td>246.00</td>\n",
       "      <td>0.15</td>\n",
       "      <td>0.53</td>\n",
       "      <td>149.11</td>\n",
       "      <td>0.34</td>\n",
       "      <td>1.07</td>\n",
       "      <td>1.39</td>\n",
       "      <td>0.75</td>\n",
       "      <td>2.32</td>\n",
       "      <td>0.51</td>\n",
       "    </tr>\n",
       "    <tr>\n",
       "      <th>std</th>\n",
       "      <td>9.07</td>\n",
       "      <td>0.46</td>\n",
       "      <td>1.03</td>\n",
       "      <td>17.52</td>\n",
       "      <td>51.59</td>\n",
       "      <td>0.36</td>\n",
       "      <td>0.53</td>\n",
       "      <td>23.01</td>\n",
       "      <td>0.47</td>\n",
       "      <td>1.18</td>\n",
       "      <td>0.62</td>\n",
       "      <td>1.03</td>\n",
       "      <td>0.62</td>\n",
       "      <td>0.50</td>\n",
       "    </tr>\n",
       "    <tr>\n",
       "      <th>min</th>\n",
       "      <td>29.00</td>\n",
       "      <td>0.00</td>\n",
       "      <td>0.00</td>\n",
       "      <td>94.00</td>\n",
       "      <td>126.00</td>\n",
       "      <td>0.00</td>\n",
       "      <td>0.00</td>\n",
       "      <td>71.00</td>\n",
       "      <td>0.00</td>\n",
       "      <td>0.00</td>\n",
       "      <td>0.00</td>\n",
       "      <td>0.00</td>\n",
       "      <td>0.00</td>\n",
       "      <td>0.00</td>\n",
       "    </tr>\n",
       "    <tr>\n",
       "      <th>25%</th>\n",
       "      <td>48.00</td>\n",
       "      <td>0.00</td>\n",
       "      <td>0.00</td>\n",
       "      <td>120.00</td>\n",
       "      <td>211.00</td>\n",
       "      <td>0.00</td>\n",
       "      <td>0.00</td>\n",
       "      <td>132.00</td>\n",
       "      <td>0.00</td>\n",
       "      <td>0.00</td>\n",
       "      <td>1.00</td>\n",
       "      <td>0.00</td>\n",
       "      <td>2.00</td>\n",
       "      <td>0.00</td>\n",
       "    </tr>\n",
       "    <tr>\n",
       "      <th>50%</th>\n",
       "      <td>56.00</td>\n",
       "      <td>1.00</td>\n",
       "      <td>1.00</td>\n",
       "      <td>130.00</td>\n",
       "      <td>240.00</td>\n",
       "      <td>0.00</td>\n",
       "      <td>1.00</td>\n",
       "      <td>152.00</td>\n",
       "      <td>0.00</td>\n",
       "      <td>0.80</td>\n",
       "      <td>1.00</td>\n",
       "      <td>0.00</td>\n",
       "      <td>2.00</td>\n",
       "      <td>1.00</td>\n",
       "    </tr>\n",
       "    <tr>\n",
       "      <th>75%</th>\n",
       "      <td>61.00</td>\n",
       "      <td>1.00</td>\n",
       "      <td>2.00</td>\n",
       "      <td>140.00</td>\n",
       "      <td>275.00</td>\n",
       "      <td>0.00</td>\n",
       "      <td>1.00</td>\n",
       "      <td>166.00</td>\n",
       "      <td>1.00</td>\n",
       "      <td>1.80</td>\n",
       "      <td>2.00</td>\n",
       "      <td>1.00</td>\n",
       "      <td>3.00</td>\n",
       "      <td>1.00</td>\n",
       "    </tr>\n",
       "    <tr>\n",
       "      <th>max</th>\n",
       "      <td>77.00</td>\n",
       "      <td>1.00</td>\n",
       "      <td>3.00</td>\n",
       "      <td>200.00</td>\n",
       "      <td>564.00</td>\n",
       "      <td>1.00</td>\n",
       "      <td>2.00</td>\n",
       "      <td>202.00</td>\n",
       "      <td>1.00</td>\n",
       "      <td>6.20</td>\n",
       "      <td>2.00</td>\n",
       "      <td>4.00</td>\n",
       "      <td>3.00</td>\n",
       "      <td>1.00</td>\n",
       "    </tr>\n",
       "  </tbody>\n",
       "</table>\n",
       "</div>"
      ],
      "text/plain": [
       "           age      sex       cp  trestbps     chol      fbs  restecg  \\\n",
       "count 1,025.00 1,025.00 1,025.00  1,025.00 1,025.00 1,025.00 1,025.00   \n",
       "mean     54.43     0.70     0.94    131.61   246.00     0.15     0.53   \n",
       "std       9.07     0.46     1.03     17.52    51.59     0.36     0.53   \n",
       "min      29.00     0.00     0.00     94.00   126.00     0.00     0.00   \n",
       "25%      48.00     0.00     0.00    120.00   211.00     0.00     0.00   \n",
       "50%      56.00     1.00     1.00    130.00   240.00     0.00     1.00   \n",
       "75%      61.00     1.00     2.00    140.00   275.00     0.00     1.00   \n",
       "max      77.00     1.00     3.00    200.00   564.00     1.00     2.00   \n",
       "\n",
       "       thalach    exang  oldpeak    slope       ca     thal   target  \n",
       "count 1,025.00 1,025.00 1,025.00 1,025.00 1,025.00 1,025.00 1,025.00  \n",
       "mean    149.11     0.34     1.07     1.39     0.75     2.32     0.51  \n",
       "std      23.01     0.47     1.18     0.62     1.03     0.62     0.50  \n",
       "min      71.00     0.00     0.00     0.00     0.00     0.00     0.00  \n",
       "25%     132.00     0.00     0.00     1.00     0.00     2.00     0.00  \n",
       "50%     152.00     0.00     0.80     1.00     0.00     2.00     1.00  \n",
       "75%     166.00     1.00     1.80     2.00     1.00     3.00     1.00  \n",
       "max     202.00     1.00     6.20     2.00     4.00     3.00     1.00  "
      ]
     },
     "execution_count": 7,
     "metadata": {},
     "output_type": "execute_result"
    }
   ],
   "source": [
    "# Resumen de nuestro dataset\n",
    "data.describe()"
   ]
  },
  {
   "cell_type": "markdown",
   "metadata": {
    "cell_id": "00012-3897850f-962e-4088-bacd-fe03f2f5cec4",
    "deepnote_cell_type": "markdown",
    "tags": []
   },
   "source": [
    "### Análisis del Resumen\n",
    "\n",
    "- **count** ➜ **cantidades** de registros/observaciones de cada una de las columnas.\n",
    "- **mean** ➜ la **media aritmética** total de cada una de las columnas.\n",
    "- **std** ➜ la **desviación estándar** de cada una de las columnas.\n",
    "- **min** ➜ el **valor mínimo** encontrado de cada una de las columnas.\n",
    "- **max** ➜ el **valor máximo** encontrado de cada una de las columnas.\n",
    "- Y los porcentajes corresponden a cada uno de los **quintiles** del total de cada una de las columnas."
   ]
  },
  {
   "cell_type": "markdown",
   "metadata": {
    "cell_id": "00011-ee059b38-359c-463a-905a-310fec5f9924",
    "deepnote_cell_type": "text-cell-h1",
    "is_collapsed": false,
    "tags": []
   },
   "source": [
    "# 4. Patrones en los datos 🔎👾"
   ]
  },
  {
   "cell_type": "code",
   "execution_count": null,
   "metadata": {
    "cell_id": "00007-fdc2f3b3-98dc-448e-ab45-e3a461af7cc5",
    "deepnote_cell_type": "code",
    "deepnote_output_heights": [
     278
    ],
    "deepnote_to_be_reexecuted": false,
    "execution_millis": 403,
    "execution_start": 1636581930003,
    "source_hash": "3223982d",
    "tags": []
   },
   "outputs": [
    {
     "data": {
      "image/png": "[encoded data removed]",
      "text/plain": [
       "<Figure size 432x288 with 1 Axes>"
      ]
     },
     "metadata": {
      "image/png": {
       "height": 276,
       "width": 420
      }
     },
     "output_type": "display_data"
    }
   ],
   "source": [
    "# Hisplot\n",
    "sns.set_theme(style=\"whitegrid\")\n",
    "sns.histplot(data=data, x='age', palette='pastel', edgecolor='black', linewidth=1, kde=True, bins=10)\n",
    "plt.subplot(1,1,1)\n",
    "plt.title('Age vs Count\\n', fontsize=14)\n",
    "plt.xlabel('Age',fontsize=12)\n",
    "plt.ylabel('Count',fontsize=12)\n",
    "plt.tight_layout()"
   ]
  },
  {
   "cell_type": "markdown",
   "metadata": {
    "cell_id": "00008-93988769-d51f-422a-a14e-01bfc51570b5",
    "deepnote_cell_type": "markdown",
    "tags": []
   },
   "source": [
    "### Análisis del Histplot 🔎📊\n",
    "\n",
    "Podemos observar que existe una mayor **frecuencia** en las personas entre edades de $55$ a $60$ años aproximádamente, pero aunque puede ser interesante analizar este **patrón** no nos da mucha información debemos ser más minuciosos con lo que buscamos."
   ]
  },
  {
   "cell_type": "markdown",
   "metadata": {
    "cell_id": "00015-cd139b65-9039-4f5f-af46-443912404626",
    "deepnote_cell_type": "markdown",
    "tags": []
   },
   "source": [
    "Como nuestro propósito es encontrar relación en nuestros **features** para seguir hayando **patrones** en los datos, optaremos por una **Matriz de correlación** para saber qué tan correlacionados se encuentran nuestros **features**"
   ]
  },
  {
   "cell_type": "code",
   "execution_count": null,
   "metadata": {
    "cell_id": "00015-89cb9f73-57c2-4c27-99c8-a9455445bfa5",
    "deepnote_cell_type": "code",
    "deepnote_to_be_reexecuted": false,
    "execution_millis": 1,
    "execution_start": 1636581930473,
    "source_hash": "fc934a90",
    "tags": []
   },
   "outputs": [],
   "source": [
    "# Correlation Matrix\n",
    "matriz_corr = data.corr(method='spearman')"
   ]
  },
  {
   "cell_type": "code",
   "execution_count": null,
   "metadata": {
    "cell_id": "00016-d6014482-23a0-4f75-a703-cd27562f1272",
    "deepnote_cell_type": "code",
    "deepnote_output_heights": [
     21.199996948242188,
     510
    ],
    "deepnote_to_be_reexecuted": false,
    "execution_millis": 1982,
    "execution_start": 1636581930575,
    "source_hash": "9fb92080",
    "tags": []
   },
   "outputs": [
    {
     "data": {
      "text/plain": [
       "<AxesSubplot:>"
      ]
     },
     "execution_count": 10,
     "metadata": {},
     "output_type": "execute_result"
    },
    {
     "data": {
      "image/png": "[encoded data removed]",
      "text/plain": [
       "<Figure size 864x576 with 2 Axes>"
      ]
     },
     "metadata": {
      "image/png": {
       "height": 508,
       "width": 696
      }
     },
     "output_type": "display_data"
    }
   ],
   "source": [
    "# Heatmap\n",
    "plt.subplots(figsize=(12,8))\n",
    "sns.heatmap(matriz_corr, annot=True, linewidths=0.5, cmap=sns.color_palette(\"ch:start=.2,rot=-.3\", as_cmap=True));"
   ]
  },
  {
   "cell_type": "markdown",
   "metadata": {
    "cell_id": "00018-a3ac5117-64b3-4411-b01d-5d95823c7651",
    "deepnote_cell_type": "markdown",
    "tags": []
   },
   "source": [
    "### Análisis de la Matriz de Correlación 🔢😳\n",
    "\n",
    "Como pudimos notar no era lo que \"esperábamos\" en nuestros **features** hay **correlaciones** muy bajas por debajo del 50% de relevancia entre ellas, lo cuál hace más complejo a la hora de encontrar resultados, sin embargo podemos utilizar `thalach` con respecto a `age`, para ver cómo se comportan entre sí"
   ]
  },
  {
   "cell_type": "code",
   "execution_count": null,
   "metadata": {
    "cell_id": "00010-d8f33dfd-8843-4a1f-9a49-c4d5b21b1c66",
    "deepnote_cell_type": "code",
    "deepnote_to_be_reexecuted": false,
    "execution_millis": 513,
    "execution_start": 1636581932606,
    "source_hash": "21e183a0",
    "tags": []
   },
   "outputs": [
    {
     "data": {
      "image/png": "[encoded data removed]",
      "text/plain": [
       "<Figure size 432x288 with 1 Axes>"
      ]
     },
     "metadata": {
      "image/png": {
       "height": 276,
       "width": 420
      }
     },
     "output_type": "display_data"
    }
   ],
   "source": [
    "# Scatterplot\n",
    "sns.set_theme(style=\"darkgrid\")\n",
    "plt.subplot(1,1,1)\n",
    "sns.scatterplot(data=data, x = 'age', y = 'thalach', color='red', alpha=0.3, hue='target')\n",
    "plt.title('Age vs Thalach\\n', fontsize=14)\n",
    "plt.xlabel('Age',fontsize=10)\n",
    "plt.ylabel('Thalach',fontsize=10)\n",
    "plt.tight_layout()"
   ]
  },
  {
   "cell_type": "markdown",
   "metadata": {
    "cell_id": "00020-390db5f9-9815-47bf-9ce3-99a24c530ca6",
    "deepnote_cell_type": "markdown",
    "tags": []
   },
   "source": [
    "### Análisis del Scatterplot 📈🔍\n",
    "\n",
    "Podemos notar pocos **valores atípicos** dentro de lo que cabe, por ejemplo una persona en edad menor a $30$ años y con una frecuencia cardíaca máxima alcanzada por encima de $200$, eso desde el punto de vista médico no es muy normal."
   ]
  },
  {
   "cell_type": "code",
   "execution_count": null,
   "metadata": {
    "cell_id": "00020-e574528e-3f3e-4b67-969b-0ca57b1168bc",
    "deepnote_cell_type": "code",
    "deepnote_to_be_reexecuted": false,
    "execution_millis": 657,
    "execution_start": 1636581933183,
    "source_hash": "5b1cd427",
    "tags": []
   },
   "outputs": [
    {
     "data": {
      "image/png": "[encoded data removed]",
      "text/plain": [
       "<Figure size 720x432 with 1 Axes>"
      ]
     },
     "metadata": {
      "image/png": {
       "height": 420,
       "width": 708
      }
     },
     "output_type": "display_data"
    }
   ],
   "source": [
    "# Boxplot\n",
    "plt.subplots(figsize=(10,6))\n",
    "sns.set_theme(style=\"whitegrid\")\n",
    "sns.boxplot(data=data, palette='pastel', linewidth=2)\n",
    "plt.tight_layout();"
   ]
  },
  {
   "cell_type": "markdown",
   "metadata": {
    "cell_id": "00022-1047eadc-7ac7-432f-8545-93da2fcd4d30",
    "deepnote_cell_type": "markdown",
    "tags": []
   },
   "source": [
    "### Análisis del Boxplot\n",
    "\n",
    "Muy poca **información significativa** hay realmente pocos **valores atípicos** y solo se concentran principalmente en dos **features** `trestbps` y `chol`. Para este punto, concluimos que para llegar a **resultados más profundos**, tendremos que utilizar un **método** más **efectivo**, para eso usaremos un modelo de **Machine Learning**, ya que de ese modo podremos saber si la **computadora** puede encontrar **comportamientos** en nuestros **datos** más considerables."
   ]
  },
  {
   "cell_type": "markdown",
   "metadata": {
    "cell_id": "00024-48df0702-3114-4d49-8b07-35a0f82ae8b3",
    "deepnote_cell_type": "text-cell-h1",
    "is_collapsed": false,
    "tags": []
   },
   "source": [
    "# 5. Procesamiento de los datos 🧑‍💻"
   ]
  },
  {
   "cell_type": "code",
   "execution_count": null,
   "metadata": {
    "cell_id": "00023-b8613f69-d313-4385-84aa-ee0eb88c8450",
    "deepnote_cell_type": "code",
    "deepnote_to_be_reexecuted": false,
    "execution_millis": 3,
    "execution_start": 1636581933837,
    "source_hash": "f1894bf1",
    "tags": []
   },
   "outputs": [],
   "source": [
    "# Definamos nuestros features y nuestro target para el modelo\n",
    "x = data.drop(['target'], axis=1)\n",
    "y = data['target']"
   ]
  },
  {
   "cell_type": "markdown",
   "metadata": {
    "cell_id": "00025-5b17d822-d643-41c7-8d28-67492082eec5",
    "deepnote_cell_type": "markdown",
    "tags": []
   },
   "source": [
    "En nuestros **features** estaremos usando todas aquellas variables que están en el **dataset** distintas a `target` que es nuestra **etiqueta** por excelencia."
   ]
  },
  {
   "cell_type": "code",
   "execution_count": null,
   "metadata": {
    "cell_id": "00023-403fb6d5-2001-405a-9091-5246d8b97e5d",
    "deepnote_cell_type": "code",
    "deepnote_to_be_reexecuted": false,
    "execution_millis": 29,
    "execution_start": 1636581933845,
    "source_hash": "e3858243",
    "tags": []
   },
   "outputs": [],
   "source": [
    "# Normalizamos nuestros datos para evitar posibles ruidos en ellos\n",
    "x = StandardScaler().fit_transform(x)"
   ]
  },
  {
   "cell_type": "markdown",
   "metadata": {
    "cell_id": "00027-20474452-15f3-4b37-a59b-936f2def9168",
    "deepnote_cell_type": "markdown",
    "tags": []
   },
   "source": [
    "**Normalizamos** nuestros datos para evitar **ruido** en ellos y para que el **modelo** sea más **robusto** y **preciso** en sus **predicciones**."
   ]
  },
  {
   "cell_type": "code",
   "execution_count": null,
   "metadata": {
    "cell_id": "00026-2617401d-3d1d-40de-b462-8532902fd12f",
    "deepnote_cell_type": "code",
    "deepnote_to_be_reexecuted": false,
    "execution_millis": 695718532,
    "execution_start": 1636581933885,
    "source_hash": "9309a59e",
    "tags": []
   },
   "outputs": [],
   "source": [
    "# Separamos nuestros datos de entrenamiento y prueba\n",
    "x_train, x_test, y_train, y_test = train_test_split(x, y, test_size=0.2, random_state=0)"
   ]
  },
  {
   "cell_type": "markdown",
   "metadata": {
    "cell_id": "00027-97f5560a-8ec1-48e6-acb7-53b9e782b50c",
    "deepnote_cell_type": "markdown",
    "tags": []
   },
   "source": [
    "Partiremos nuestros **datos** en **entrenamiento** y **prueba** en un $80$% - $20$% respectivamente."
   ]
  },
  {
   "cell_type": "code",
   "execution_count": null,
   "metadata": {
    "cell_id": "00028-a3605a55-bb43-49d4-87de-0166f185488d",
    "deepnote_cell_type": "code",
    "deepnote_to_be_reexecuted": false,
    "execution_millis": 179,
    "execution_start": 1636581933904,
    "source_hash": "10c9c6f4",
    "tags": []
   },
   "outputs": [
    {
     "data": {
      "text/plain": [
       "PCA(n_components=3)"
      ]
     },
     "execution_count": 16,
     "metadata": {},
     "output_type": "execute_result"
    }
   ],
   "source": [
    "# Definimos a nuestro PCA y lo entrenamos con los features de entrenamiento\n",
    "pca = PCA(n_components=3)\n",
    "pca.fit(x_train)"
   ]
  },
  {
   "cell_type": "markdown",
   "metadata": {
    "cell_id": "00031-d475f34b-1062-4fd8-b537-f82d903ad542",
    "deepnote_cell_type": "markdown",
    "tags": []
   },
   "source": [
    "Definimos que nuestro **PCA** solo tomará $3$ componentes de los $13$ **features** disponibles, los que él considere más relevantes, porque queremos encontrar resultados y minimizar **costo computacional**."
   ]
  },
  {
   "cell_type": "code",
   "execution_count": null,
   "metadata": {
    "cell_id": "00030-a520aa06-5d9c-4320-880f-9b589b45f2fb",
    "deepnote_cell_type": "code",
    "deepnote_to_be_reexecuted": false,
    "execution_millis": 695718482,
    "execution_start": 1636581933918,
    "source_hash": "b3a3648d",
    "tags": []
   },
   "outputs": [],
   "source": [
    "# Transformamos los datos de entrenamiento con PCA\n",
    "data_train = pca.transform(x_train)\n",
    "data_test = pca.transform(x_test)"
   ]
  },
  {
   "cell_type": "markdown",
   "metadata": {
    "cell_id": "00033-9e078dab-bf3a-412e-a620-e4e59455e5b3",
    "deepnote_cell_type": "markdown",
    "tags": []
   },
   "source": [
    "**Transformamos** los **datos** que teníamos previamente de **entrenamiento** en nuevo subconjunto que posteriormente utilizará nuestro **algortimo**"
   ]
  },
  {
   "cell_type": "code",
   "execution_count": null,
   "metadata": {
    "cell_id": "00027-1129f6f8-fec2-49a5-8566-381587d69657",
    "deepnote_cell_type": "code",
    "deepnote_to_be_reexecuted": false,
    "execution_millis": 156,
    "execution_start": 1636581933932,
    "source_hash": "975917d4",
    "tags": []
   },
   "outputs": [
    {
     "name": "stdout",
     "output_type": "stream",
     "text": [
      "(820, 13)\n",
      "(820,)\n"
     ]
    }
   ],
   "source": [
    "# Dimensionamos para saber si todo va bien antes de realizar el modelo\n",
    "print(x_train.shape)\n",
    "print(y_train.shape)"
   ]
  },
  {
   "cell_type": "markdown",
   "metadata": {
    "cell_id": "00035-1dff2f9b-1057-4c77-b512-7f78750ba893",
    "deepnote_cell_type": "markdown",
    "tags": []
   },
   "source": [
    "Cómo podemos observar debe haber una concordancia entre las **dimensiones** de nuestras variables, para que no ocurran problemas más adelante, donde tenemos ahora $820$ **registros/observaciones** y $13$ **features** en nuestro **subconjunto de entrenamiento** `x_train` y solo $820$ registros en nuestra `y_train`."
   ]
  },
  {
   "cell_type": "code",
   "execution_count": null,
   "metadata": {
    "cell_id": "00030-71eee686-1487-4275-b086-d07af2fca70f",
    "deepnote_cell_type": "code",
    "deepnote_to_be_reexecuted": false,
    "execution_millis": 146,
    "execution_start": 1636581933943,
    "source_hash": "81808fcb",
    "tags": []
   },
   "outputs": [
    {
     "name": "stdout",
     "output_type": "stream",
     "text": [
      "(820, 3)\n",
      "(820,)\n"
     ]
    }
   ],
   "source": [
    "# Dimensionamos para saber si todo va bien antes de realizar el modelo con PCA\n",
    "print(data_train.shape)\n",
    "print(y_train.shape)"
   ]
  },
  {
   "cell_type": "markdown",
   "metadata": {
    "cell_id": "00036-0618025f-2221-4074-85a8-8ab3d656ea16",
    "deepnote_cell_type": "markdown",
    "tags": []
   },
   "source": [
    "Aquí tenemos ahora $820$ **registros/observaciones** y $3$ **features** en nuestro **nuevo subconjunto de entrenamiento** `data_train` y solo $820$ **registros** en nuestra `y_train`."
   ]
  },
  {
   "cell_type": "markdown",
   "metadata": {
    "cell_id": "00028-78d6cc8e-dfd9-477d-adec-3dc6fef709a0",
    "deepnote_cell_type": "text-cell-h1",
    "is_collapsed": false,
    "tags": []
   },
   "source": [
    "# 6. Creamos nuestros modelos 🧠🤖"
   ]
  },
  {
   "cell_type": "markdown",
   "metadata": {
    "cell_id": "00034-03757c64-1be8-41b6-8bed-bf803a5c6d30",
    "deepnote_cell_type": "markdown",
    "tags": []
   },
   "source": [
    "Utilizaremos un **clasificador** por la naturaleza de nuestro **dataset**, ya que previamente tenemos nuestros datos **etiquetados**"
   ]
  },
  {
   "cell_type": "code",
   "execution_count": null,
   "metadata": {
    "cell_id": "00034-2a9b1c86-dbe0-4b2e-98cc-51a9df6645be",
    "deepnote_cell_type": "code",
    "deepnote_to_be_reexecuted": false,
    "execution_millis": 10,
    "execution_start": 1636581933953,
    "source_hash": "6fca55f7",
    "tags": []
   },
   "outputs": [],
   "source": [
    "# Definimos nuestro clasificador y lo entrenamos con el set de datos sin recudir\n",
    "knn_classifier = KNeighborsClassifier().fit(x_train, y_train)"
   ]
  },
  {
   "cell_type": "code",
   "execution_count": null,
   "metadata": {
    "cell_id": "00028-97345344-f06e-46d7-b7ad-1bcd511a9a04",
    "deepnote_cell_type": "code",
    "deepnote_to_be_reexecuted": false,
    "execution_millis": 12,
    "execution_start": 1636581933972,
    "source_hash": "f9cf472d",
    "tags": []
   },
   "outputs": [],
   "source": [
    "# Definimos nuestro clasificador y lo entrenamos con el último set de datos reducido por PCA\n",
    "knn_classifier_pca = KNeighborsClassifier().fit(data_train, y_train)"
   ]
  },
  {
   "cell_type": "code",
   "execution_count": null,
   "metadata": {
    "cell_id": "00030-14bcb9aa-3d6f-42e3-b724-c1672af17253",
    "deepnote_cell_type": "code",
    "deepnote_to_be_reexecuted": false,
    "execution_millis": 356,
    "execution_start": 1636581933989,
    "source_hash": "64ce8433",
    "tags": []
   },
   "outputs": [
    {
     "data": {
      "image/png": "[encoded data removed]",
      "text/plain": [
       "<Figure size 432x288 with 1 Axes>"
      ]
     },
     "metadata": {
      "image/png": {
       "height": 251,
       "width": 383
      }
     },
     "output_type": "display_data"
    }
   ],
   "source": [
    "# Graficamos los ratio de varianza\n",
    "plt.plot(range(len(pca.explained_variance_)), pca.explained_variance_ratio_)\n",
    "plt.show()"
   ]
  },
  {
   "cell_type": "markdown",
   "metadata": {
    "cell_id": "00039-e8141a70-7523-4fd7-87ff-9ac6f5bc79fe",
    "deepnote_cell_type": "markdown",
    "tags": []
   },
   "source": [
    "### Análisis de PCA\n",
    "\n",
    "Reducimos los **features** de nuestro estudio a solo las $3$ que considere más importante **PCA**, lo cual **optimizamos en gran medida** tanto en **espacio en memoria** como en **minimización de cómputo** 🤓."
   ]
  },
  {
   "cell_type": "markdown",
   "metadata": {
    "cell_id": "00034-21bea365-f188-42f9-94aa-100a35975cfb",
    "deepnote_cell_type": "text-cell-h1",
    "is_collapsed": false,
    "tags": []
   },
   "source": [
    "# 7. Predicciones 📈📉"
   ]
  },
  {
   "cell_type": "code",
   "execution_count": null,
   "metadata": {
    "cell_id": "00035-74cd39cd-a20b-4943-baa3-ccb88dd10950",
    "deepnote_cell_type": "code",
    "deepnote_to_be_reexecuted": false,
    "execution_millis": 51,
    "execution_start": 1636581934348,
    "source_hash": "25efd5be",
    "tags": []
   },
   "outputs": [
    {
     "name": "stdout",
     "output_type": "stream",
     "text": [
      "Matriz de Predicciones\n",
      "\n",
      "[1 1 0 1 0 0 0 0 0 0 0 0 1 1 1 1 1 0 1 0 1 1 1 1 1 1 1 0 1 1 1 0 0 1 0 0 0\n",
      " 0 0 1 0 1 1 1 1 1 1 1 0 1 0 0 0 0 0 0 0 1 0 1 0 0 1 1 0 0 0 1 1 1 0 1 1 0\n",
      " 1 0 0 0 0 0 0 0 0 1 1 0 1 0 1 0 0 0 1 1 1 0 1 0 1 1 1 1 1 1 0 1 0 1 0 1 1\n",
      " 0 1 1 1 0 1 0 0 1 0 0 1 0 0 1 1 1 1 0 0 0 1 1 1 0 0 1 0 1 1 0 1 0 0 1 0 0\n",
      " 0 0 1 1 1 0 0 0 1 0 0 0 0 1 1 0 1 1 1 1 1 1 1 1 1 1 1 1 0 1 1 0 0 0 0 0 1\n",
      " 0 1 0 1 0 0 1 1 1 0 1 1 1 1 1 1 1 1 0 1]\n"
     ]
    }
   ],
   "source": [
    "# Creamos la predicción de nuestro classifier\n",
    "print('Matriz de Predicciones\\n')\n",
    "y_pred = knn_classifier.predict(x_test)\n",
    "print(y_pred)"
   ]
  },
  {
   "cell_type": "code",
   "execution_count": null,
   "metadata": {
    "cell_id": "00040-27223a6d-2111-4067-9b7c-08262f66bbe3",
    "deepnote_cell_type": "code",
    "deepnote_to_be_reexecuted": false,
    "execution_millis": 16,
    "execution_start": 1636581934413,
    "source_hash": "9dd24665",
    "tags": []
   },
   "outputs": [
    {
     "name": "stdout",
     "output_type": "stream",
     "text": [
      "Matriz de Predicciones con PCA\n",
      "\n",
      "[1 1 0 1 0 0 0 0 0 0 0 0 0 1 1 1 1 0 1 0 1 1 1 1 1 1 1 0 1 1 1 0 0 1 0 0 0\n",
      " 0 0 1 0 0 1 1 1 1 1 1 0 1 0 0 1 0 0 0 0 1 0 1 0 0 1 0 0 0 0 1 1 1 1 1 1 0\n",
      " 1 0 1 0 0 0 0 0 1 0 1 0 1 0 1 0 0 0 1 0 1 0 0 0 1 1 1 0 1 0 0 1 0 1 0 1 1\n",
      " 0 1 0 0 0 1 0 0 0 0 0 1 0 0 1 1 1 1 0 0 0 1 1 1 0 0 1 0 1 0 0 0 0 0 1 1 0\n",
      " 1 0 1 1 1 0 0 0 1 0 0 0 0 1 1 0 1 1 1 1 1 1 1 1 1 1 1 1 1 1 1 0 0 1 0 0 1\n",
      " 0 1 0 1 0 0 1 1 1 0 1 1 1 1 0 1 1 1 0 1]\n"
     ]
    }
   ],
   "source": [
    "# Creamos la predicción de nuestro classifier con PCA\n",
    "print('Matriz de Predicciones con PCA\\n')\n",
    "y_pred_pca = knn_classifier_pca.predict(data_test)\n",
    "print(y_pred_pca)"
   ]
  },
  {
   "cell_type": "markdown",
   "metadata": {
    "cell_id": "00035-04fe696d-544a-4dce-996c-996d087d67b3",
    "deepnote_cell_type": "markdown",
    "tags": []
   },
   "source": [
    "### Análisis de las predicciones\n",
    "\n",
    "Como podemos observar nuestros `y_pred` y `y_pred_pca` nos retornan unos **arrays** con la **predicciones** de las personas que pueden padecer o no de los **problemas cardíacos**, donde $1$ es Sí y $0$ es No 😯😯"
   ]
  },
  {
   "cell_type": "code",
   "execution_count": null,
   "metadata": {
    "cell_id": "00036-88c17ab8-13b1-4c33-874f-fa82930d3d14",
    "deepnote_cell_type": "code",
    "deepnote_to_be_reexecuted": false,
    "execution_millis": 5,
    "execution_start": 1636581934438,
    "source_hash": "74760a29",
    "tags": []
   },
   "outputs": [
    {
     "data": {
      "text/plain": [
       "array([[84, 14],\n",
       "       [11, 96]])"
      ]
     },
     "execution_count": 25,
     "metadata": {},
     "output_type": "execute_result"
    }
   ],
   "source": [
    "# Matriz de confusión\n",
    "cnf_matrix = metrics.confusion_matrix(y_test,y_pred)\n",
    "cnf_matrix"
   ]
  },
  {
   "cell_type": "code",
   "execution_count": null,
   "metadata": {
    "cell_id": "00044-3c3bc130-b05f-4eab-aee1-a082033c4fda",
    "deepnote_cell_type": "code",
    "deepnote_to_be_reexecuted": false,
    "execution_millis": 9,
    "execution_start": 1636581934447,
    "source_hash": "1f2fb9a8",
    "tags": []
   },
   "outputs": [
    {
     "data": {
      "text/plain": [
       "array([[88, 10],\n",
       "       [13, 94]])"
      ]
     },
     "execution_count": 26,
     "metadata": {},
     "output_type": "execute_result"
    }
   ],
   "source": [
    "# Matriz de confusión con PCA\n",
    "cnf_matrix_pca = metrics.confusion_matrix(y_test,y_pred_pca)\n",
    "cnf_matrix_pca"
   ]
  },
  {
   "cell_type": "markdown",
   "metadata": {
    "cell_id": "00037-d6954988-79bc-43aa-9814-dc15a8ac528b",
    "deepnote_cell_type": "markdown",
    "tags": []
   },
   "source": [
    "Podemos observar los **resultados** en estos pequeños **arrays** de 2x2, sin embargo no se ve muy estético que digamos... 🤔"
   ]
  },
  {
   "cell_type": "markdown",
   "metadata": {
    "cell_id": "00046-9b2d71eb-11d9-4b8d-9d21-413eb480cb05",
    "deepnote_cell_type": "markdown",
    "tags": []
   },
   "source": [
    "Una herramienta muy útil para valorar cómo de bueno es nuestro modelo **clasificación** es una **Matriz de Confusión**, ya que nos permite mostrar de forma explícita cuándo una clase es confundida con otra, lo cual nos permite trabajar de forma separada con distintos **tipos de error**. "
   ]
  },
  {
   "cell_type": "code",
   "execution_count": null,
   "metadata": {
    "cell_id": "00037-7886ec65-3d99-402e-8ea2-8b8122842e0f",
    "deepnote_cell_type": "code",
    "deepnote_to_be_reexecuted": false,
    "execution_millis": 313,
    "execution_start": 1636581934537,
    "source_hash": "cd9f5428",
    "tags": []
   },
   "outputs": [
    {
     "data": {
      "image/png": "[encoded data removed]",
      "text/plain": [
       "<Figure size 576x504 with 2 Axes>"
      ]
     },
     "metadata": {
      "image/png": {
       "height": 493,
       "width": 530
      }
     },
     "output_type": "display_data"
    }
   ],
   "source": [
    "# Confusion Matrix\n",
    "\n",
    "# Definimos las etiquetas de nuestra Matriz de confusión\n",
    "class_names = [0,1]\n",
    "fig,ax = plt.subplots(figsize=(8,7)) \n",
    "tick_marks = np.arange(len(class_names))\n",
    "plt.xticks(tick_marks, class_names)\n",
    "plt.yticks(tick_marks, class_names) \n",
    "\n",
    "# Creamos nuestra Matriz de confusión\n",
    "sns.heatmap(pd.DataFrame(cnf_matrix), annot = True, cmap='Oranges_r', fmt='g')\n",
    "ax.xaxis.set_label_position('top')\n",
    "plt.title('Matriz de Confusión\\n', y=1.1, fontsize=14)\n",
    "plt.ylabel('Etiqueta Actual', fontsize=12)\n",
    "plt.xlabel('Etiqueta de Predicción', fontsize=12)\n",
    "plt.tight_layout()"
   ]
  },
  {
   "cell_type": "code",
   "execution_count": null,
   "metadata": {
    "cell_id": "00047-0a0112e2-42b1-4966-b65c-67d6c029b574",
    "deepnote_cell_type": "code",
    "deepnote_to_be_reexecuted": false,
    "execution_millis": 355,
    "execution_start": 1636581934940,
    "source_hash": "d24a3181",
    "tags": []
   },
   "outputs": [
    {
     "data": {
      "image/png": "[encoded data removed]",
      "text/plain": [
       "<Figure size 576x504 with 2 Axes>"
      ]
     },
     "metadata": {
      "image/png": {
       "height": 493,
       "width": 530
      }
     },
     "output_type": "display_data"
    }
   ],
   "source": [
    "# Confusion Matrix\n",
    "\n",
    "# Definimos las etiquetas de nuestra Matriz de confusión\n",
    "class_names = [0,1]\n",
    "fig,ax = plt.subplots(figsize=(8,7)) \n",
    "tick_marks = np.arange(len(class_names))\n",
    "plt.xticks(tick_marks, class_names)\n",
    "plt.yticks(tick_marks, class_names) \n",
    "\n",
    "# Creamos nuestra Matriz de confusión\n",
    "sns.heatmap(pd.DataFrame(cnf_matrix_pca), annot = True, cmap='BuPu_r', fmt='g')\n",
    "ax.xaxis.set_label_position('top')\n",
    "plt.title('Matriz de Confusión\\n', y=1.1, fontsize=14)\n",
    "plt.ylabel('Etiqueta Actual', fontsize=12)\n",
    "plt.xlabel('Etiqueta de Predicción', fontsize=12)\n",
    "plt.tight_layout()"
   ]
  },
  {
   "cell_type": "code",
   "execution_count": null,
   "metadata": {
    "cell_id": "00036-08d758e1-7a4b-436e-a1b8-58c930bb5fb7",
    "deepnote_cell_type": "code",
    "deepnote_to_be_reexecuted": false,
    "execution_millis": 1,
    "execution_start": 1636581935307,
    "source_hash": "1fa15d4b",
    "tags": []
   },
   "outputs": [
    {
     "name": "stdout",
     "output_type": "stream",
     "text": [
      "Sí padecen:  110\n",
      "No padecen:  95\n"
     ]
    }
   ],
   "source": [
    "# Queremos conocer la cantidad de personas que paden y no padecen\n",
    "y_pred = list(y_pred)\n",
    "\n",
    "def funcion(y_pred):\n",
    "\n",
    "    unos = []\n",
    "    ceros = []\n",
    "\n",
    "    for idx in y_pred:\n",
    "\n",
    "        if idx == 1:\n",
    "            unos.append(idx)\n",
    "\n",
    "        else:\n",
    "            ceros.append(idx)\n",
    "\n",
    "    return unos, ceros\n",
    "\n",
    "\n",
    "unos, ceros = funcion(y_pred)\n",
    "unos = len(unos)\n",
    "ceros = len(ceros)\n",
    "print('Sí padecen: ', unos)\n",
    "print('No padecen: ', ceros)"
   ]
  },
  {
   "cell_type": "code",
   "execution_count": null,
   "metadata": {
    "cell_id": "00047-60313cb3-e61e-4fd8-9f72-13f7c5e2b44c",
    "deepnote_cell_type": "code",
    "deepnote_to_be_reexecuted": false,
    "execution_millis": 4,
    "execution_start": 1636581935320,
    "source_hash": "de7fc255",
    "tags": []
   },
   "outputs": [
    {
     "name": "stdout",
     "output_type": "stream",
     "text": [
      "Sí padecen:  104\n",
      "No padecen:  101\n"
     ]
    }
   ],
   "source": [
    "# Queremos conocer la cantidad de personas que paden y no padecen con PCA\n",
    "y_pred_pca = list(y_pred_pca)\n",
    "\n",
    "def funcion(y_pred_pca):\n",
    "\n",
    "    unos = []\n",
    "    ceros = []\n",
    "\n",
    "    for idx in y_pred_pca:\n",
    "\n",
    "        if idx == 1:\n",
    "            unos.append(idx)\n",
    "\n",
    "        else:\n",
    "            ceros.append(idx)\n",
    "\n",
    "    return unos, ceros\n",
    "\n",
    "\n",
    "unos, ceros = funcion(y_pred_pca)\n",
    "unos = len(unos)\n",
    "ceros = len(ceros)\n",
    "print('Sí padecen: ', unos)\n",
    "print('No padecen: ', ceros)"
   ]
  },
  {
   "cell_type": "markdown",
   "metadata": {
    "cell_id": "00041-88b38c59-1203-4eb5-9159-4b4ac776a6c3",
    "deepnote_cell_type": "text-cell-h1",
    "is_collapsed": false,
    "tags": []
   },
   "source": [
    "# 8. Evaluamos nuestros modelos 💻🤖"
   ]
  },
  {
   "cell_type": "code",
   "execution_count": null,
   "metadata": {
    "cell_id": "00032-ffcea33b-987f-45c2-b920-dec49761cff0",
    "deepnote_cell_type": "code",
    "deepnote_to_be_reexecuted": false,
    "execution_millis": 24,
    "execution_start": 1636581935330,
    "source_hash": "7ff528f3",
    "tags": []
   },
   "outputs": [
    {
     "name": "stdout",
     "output_type": "stream",
     "text": [
      "K-Neighbors Classifier sin PCA\n",
      "Acurracy Score: 87.8%\n"
     ]
    }
   ],
   "source": [
    "# Veamos el Accuracy de nuestro modelo\n",
    "acc = round(knn_classifier.score(x_test, y_test),4)\n",
    "print('K-Neighbors Classifier sin PCA')\n",
    "print(f'Acurracy Score: {acc*100}%')"
   ]
  },
  {
   "cell_type": "code",
   "execution_count": null,
   "metadata": {
    "cell_id": "00049-c76a1792-d1e2-4b14-ab22-df5112bf962e",
    "deepnote_cell_type": "code",
    "deepnote_to_be_reexecuted": false,
    "execution_millis": 22,
    "execution_start": 1636581935356,
    "source_hash": "c62d0c4c",
    "tags": []
   },
   "outputs": [
    {
     "name": "stdout",
     "output_type": "stream",
     "text": [
      "K-Neighbors Classifier con PCA\n",
      "Acurracy Score: 88.78%\n"
     ]
    }
   ],
   "source": [
    "# Veamos el Accuracy de nuestro modelo con PCA\n",
    "acc_pca = round(knn_classifier_pca.score(data_test, y_test),4)\n",
    "print('K-Neighbors Classifier con PCA')\n",
    "print(f'Acurracy Score: {acc_pca*100}%')"
   ]
  },
  {
   "cell_type": "markdown",
   "metadata": {
    "cell_id": "00054-0b0299e0-a3eb-4cef-8b55-98cf16d21a4c",
    "deepnote_cell_type": "markdown",
    "tags": []
   },
   "source": [
    "### Análisis de Resultados\n",
    "Como podemos observar para nuestro estudio y comparando el factor de **reducción de dimensionalidad** nuestro clasificador con **PCA** aún con menos features logró llegar a un **Accuracy Score** mayor que con mayor features, lo cuál es muy bueno desde el punto de vista de **performance** y **optimización de recursos**, porque reduce la carga de **cómputo** generando mayor **eficiencia**"
   ]
  },
  {
   "cell_type": "markdown",
   "metadata": {
    "cell_id": "00043-b268ddca-4ed4-46af-a20b-79c857982af2",
    "deepnote_cell_type": "text-cell-h1",
    "is_collapsed": false,
    "tags": []
   },
   "source": [
    "# 9. Conclusiones 📋🖊"
   ]
  },
  {
   "cell_type": "markdown",
   "metadata": {
    "cell_id": "00044-086cc47c-7d9a-4b5c-b972-09b4bec6ade4",
    "deepnote_cell_type": "markdown",
    "tags": []
   },
   "source": [
    "-  Llevamos a cabo un estudio con la **técnica de EDA (Exploratory Data Analysis)**.\n",
    "- **PCA (Principal Component Analysis)** redujo considerablemente nuestros **features de entrada**, pasamos de 13 a solo 3, pero sin **pérdida de información** y generando una **predicción notable** con **Accuracy Score** del **88.78%** como **métrica**.\n",
    "- Comparando ambos **algoritmos** e identifcamos que más **features** no siempre devuelve **mejores resultados**, porque en ocasiones las **variables** no tienen mucha **correlación** entre ellas y por ello no son **explicativas** entre sí, lo pudimos notar en nuestra **Matriz de Correlación**.\n",
    "- **Optimizamos recursos en cómputo y rendimiento**, por medio de **PCA** obteniendo **mayor eficiencia**.\n",
    "- No se observó mucho **ruido** en los **datos**, lo cual fue bueno desde el **punto de vista analítico**.\n",
    "- Nuestro algoritmo de **K-Neighbors** logró **clasificar** a los pacientes de acuerdo a los **datos** suministrados."
   ]
  },
  {
   "cell_type": "markdown",
   "metadata": {
    "cell_id": "00048-bd3891ea-c1e8-44fa-9a69-9af877b083ef",
    "deepnote_cell_type": "text-cell-h1",
    "is_collapsed": false,
    "tags": []
   },
   "source": [
    "# 10. Trabajo finalizado 📄✔"
   ]
  },
  {
   "cell_type": "markdown",
   "metadata": {
    "cell_id": "00048-ac19d064-fac4-4f07-a123-a61191a1a956",
    "deepnote_cell_type": "markdown",
    "tags": []
   },
   "source": [
    "![link text](https://media.giphy.com/media/fDzM81OYrNjJC/source.gif?cid=ecf05e471mkgebs0ci5cquqshmfeg7fbpcbmws5rspjgh31e&rid=source.gif&ct=g)"
   ]
  },
  {
   "cell_type": "markdown",
   "metadata": {
    "created_in_deepnote_cell": true,
    "deepnote_cell_type": "markdown",
    "tags": []
   },
   "source": [
    "<a style='text-decoration:none;line-height:16px;display:flex;color:#5B5B62;padding:10px;justify-content:end;' href='https://deepnote.com?utm_source=created-in-deepnote-cell&projectId=4ec84517-f553-446b-9032-1da3132bd62a' target=\"_blank\">\n",
    "<img alt='Created in deepnote.com' style='display:inline;max-height:16px;margin:0px;margin-right:7.5px;' src='data:image/svg+xml;base64,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' > </img>\n",
    "Created in <span style='font-weight:600;margin-left:4px;'>Deepnote</span></a>"
   ]
  }
 ],
 "metadata": {
  "deepnote": {
   "is_reactive": false
  },
  "deepnote_execution_queue": [],
  "deepnote_notebook_id": "9c1276e0-a7d2-491d-8760-20c8afad4ad8",
  "kernelspec": {
   "display_name": "venv_main",
   "language": "python",
   "name": "python3"
  },
  "language_info": {
   "name": "python",
   "version": "3.11.4"
  },
  "orig_nbformat": 2
 },
 "nbformat": 4,
 "nbformat_minor": 2
}
